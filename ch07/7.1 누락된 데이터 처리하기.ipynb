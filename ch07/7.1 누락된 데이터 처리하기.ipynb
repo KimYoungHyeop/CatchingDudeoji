{
  "nbformat": 4,
  "nbformat_minor": 0,
  "metadata": {
    "kernelspec": {
      "display_name": "Python 3",
      "language": "python",
      "name": "python3"
    },
    "language_info": {
      "codemirror_mode": {
        "name": "ipython",
        "version": 3
      },
      "file_extension": ".py",
      "mimetype": "text/x-python",
      "name": "python",
      "nbconvert_exporter": "python",
      "pygments_lexer": "ipython3",
      "version": "3.6.0"
    },
    "colab": {
      "name": "ch07.ipynb",
      "provenance": [],
      "collapsed_sections": []
    }
  },
  "cells": [
    {
      "cell_type": "markdown",
      "metadata": {
        "deletable": true,
        "editable": true,
        "id": "9B7g0A4lrNtr"
      },
      "source": [
        "# 7. 데이터 정제 및 준비\n",
        "---\n",
        "\n"
      ]
    },
    {
      "cell_type": "code",
      "metadata": {
        "deletable": true,
        "editable": true,
        "id": "8aam5CNwrNtu"
      },
      "source": [
        "from IPython.core.interactiveshell import InteractiveShell\n",
        "InteractiveShell.ast_node_interactivity = \"all\"\n",
        "\n",
        "import numpy as np\n",
        "import pandas as pd\n",
        "PREVIOUS_MAX_ROWS = pd.options.display.max_rows\n",
        "pd.options.display.max_rows = 20\n",
        "np.random.seed(12345)\n",
        "import matplotlib.pyplot as plt\n",
        "plt.rc('figure', figsize=(10, 6))\n",
        "np.set_printoptions(precision=4, suppress=True)\n"
      ],
      "execution_count": null,
      "outputs": []
    },
    {
      "cell_type": "code",
      "metadata": {
        "colab": {
          "base_uri": "https://localhost:8080/",
          "height": 206
        },
        "id": "M64bR33NwMMx",
        "outputId": "c2342706-c1c3-400a-a13b-5688fd0e8da5"
      },
      "source": [
        "data = pd.DataFrame([np.arange(9), np.arange(9)])\n",
        "\n",
        "data\n",
        "data"
      ],
      "execution_count": null,
      "outputs": [
        {
          "output_type": "execute_result",
          "data": {
            "text/html": [
              "<div>\n",
              "<style scoped>\n",
              "    .dataframe tbody tr th:only-of-type {\n",
              "        vertical-align: middle;\n",
              "    }\n",
              "\n",
              "    .dataframe tbody tr th {\n",
              "        vertical-align: top;\n",
              "    }\n",
              "\n",
              "    .dataframe thead th {\n",
              "        text-align: right;\n",
              "    }\n",
              "</style>\n",
              "<table border=\"1\" class=\"dataframe\">\n",
              "  <thead>\n",
              "    <tr style=\"text-align: right;\">\n",
              "      <th></th>\n",
              "      <th>0</th>\n",
              "      <th>1</th>\n",
              "      <th>2</th>\n",
              "      <th>3</th>\n",
              "      <th>4</th>\n",
              "      <th>5</th>\n",
              "      <th>6</th>\n",
              "      <th>7</th>\n",
              "      <th>8</th>\n",
              "    </tr>\n",
              "  </thead>\n",
              "  <tbody>\n",
              "    <tr>\n",
              "      <th>0</th>\n",
              "      <td>0</td>\n",
              "      <td>1</td>\n",
              "      <td>2</td>\n",
              "      <td>3</td>\n",
              "      <td>4</td>\n",
              "      <td>5</td>\n",
              "      <td>6</td>\n",
              "      <td>7</td>\n",
              "      <td>8</td>\n",
              "    </tr>\n",
              "    <tr>\n",
              "      <th>1</th>\n",
              "      <td>0</td>\n",
              "      <td>1</td>\n",
              "      <td>2</td>\n",
              "      <td>3</td>\n",
              "      <td>4</td>\n",
              "      <td>5</td>\n",
              "      <td>6</td>\n",
              "      <td>7</td>\n",
              "      <td>8</td>\n",
              "    </tr>\n",
              "  </tbody>\n",
              "</table>\n",
              "</div>"
            ],
            "text/plain": [
              "   0  1  2  3  4  5  6  7  8\n",
              "0  0  1  2  3  4  5  6  7  8\n",
              "1  0  1  2  3  4  5  6  7  8"
            ]
          },
          "metadata": {
            "tags": []
          },
          "execution_count": 53
        },
        {
          "output_type": "execute_result",
          "data": {
            "text/html": [
              "<div>\n",
              "<style scoped>\n",
              "    .dataframe tbody tr th:only-of-type {\n",
              "        vertical-align: middle;\n",
              "    }\n",
              "\n",
              "    .dataframe tbody tr th {\n",
              "        vertical-align: top;\n",
              "    }\n",
              "\n",
              "    .dataframe thead th {\n",
              "        text-align: right;\n",
              "    }\n",
              "</style>\n",
              "<table border=\"1\" class=\"dataframe\">\n",
              "  <thead>\n",
              "    <tr style=\"text-align: right;\">\n",
              "      <th></th>\n",
              "      <th>0</th>\n",
              "      <th>1</th>\n",
              "      <th>2</th>\n",
              "      <th>3</th>\n",
              "      <th>4</th>\n",
              "      <th>5</th>\n",
              "      <th>6</th>\n",
              "      <th>7</th>\n",
              "      <th>8</th>\n",
              "    </tr>\n",
              "  </thead>\n",
              "  <tbody>\n",
              "    <tr>\n",
              "      <th>0</th>\n",
              "      <td>0</td>\n",
              "      <td>1</td>\n",
              "      <td>2</td>\n",
              "      <td>3</td>\n",
              "      <td>4</td>\n",
              "      <td>5</td>\n",
              "      <td>6</td>\n",
              "      <td>7</td>\n",
              "      <td>8</td>\n",
              "    </tr>\n",
              "    <tr>\n",
              "      <th>1</th>\n",
              "      <td>0</td>\n",
              "      <td>1</td>\n",
              "      <td>2</td>\n",
              "      <td>3</td>\n",
              "      <td>4</td>\n",
              "      <td>5</td>\n",
              "      <td>6</td>\n",
              "      <td>7</td>\n",
              "      <td>8</td>\n",
              "    </tr>\n",
              "  </tbody>\n",
              "</table>\n",
              "</div>"
            ],
            "text/plain": [
              "   0  1  2  3  4  5  6  7  8\n",
              "0  0  1  2  3  4  5  6  7  8\n",
              "1  0  1  2  3  4  5  6  7  8"
            ]
          },
          "metadata": {
            "tags": []
          },
          "execution_count": 53
        }
      ]
    },
    {
      "cell_type": "markdown",
      "metadata": {
        "deletable": true,
        "editable": true,
        "id": "TsmYNzlArNtu"
      },
      "source": [
        "## 7.1 누락된 데이터 처리하기"
      ]
    },
    {
      "cell_type": "markdown",
      "metadata": {
        "id": "LdICsR93w1GV"
      },
      "source": [
        "* pandas 객체의 모든 기술 통계는 누락된 데이터를 배제하고 처리한다.\n",
        "* 산술 데이터에 한해 pandas는 누락된 데이터를 실숫값인 Nan으로 취급한다.\n",
        "* 누락된 데이터 골라 내기, 삭제 하기, 채우기."
      ]
    },
    {
      "cell_type": "code",
      "metadata": {
        "deletable": true,
        "editable": true,
        "colab": {
          "base_uri": "https://localhost:8080/"
        },
        "id": "tQsizUhGrNtv",
        "outputId": "3b3afdbd-10f9-4c08-cd3d-b73aeb52ab3f"
      },
      "source": [
        "string_data = pd.Series(['aardvark', 'artichoke', np.nan, 'avocado'])\n",
        "string_data\n",
        "print('\\n')\n",
        "string_data.isnull()"
      ],
      "execution_count": null,
      "outputs": [
        {
          "output_type": "execute_result",
          "data": {
            "text/plain": [
              "0     aardvark\n",
              "1    artichoke\n",
              "2          NaN\n",
              "3      avocado\n",
              "dtype: object"
            ]
          },
          "metadata": {
            "tags": []
          },
          "execution_count": 4
        },
        {
          "output_type": "stream",
          "text": [
            "\n",
            "\n"
          ],
          "name": "stdout"
        },
        {
          "output_type": "execute_result",
          "data": {
            "text/plain": [
              "0    False\n",
              "1    False\n",
              "2     True\n",
              "3    False\n",
              "dtype: bool"
            ]
          },
          "metadata": {
            "tags": []
          },
          "execution_count": 4
        }
      ]
    },
    {
      "cell_type": "code",
      "metadata": {
        "deletable": true,
        "editable": true,
        "colab": {
          "base_uri": "https://localhost:8080/"
        },
        "id": "loDDCH4srNtv",
        "outputId": "d363fc97-e812-42e9-cd7f-1b7c43a8cb27"
      },
      "source": [
        "string_data[0] = None # 파이썬 내장 None 값 또한 Na 값으로 취급된다.\n",
        "string_data.isnull() # <-> notnull()\n",
        "print('\\n')\n",
        "string_data.notnull()"
      ],
      "execution_count": null,
      "outputs": [
        {
          "output_type": "execute_result",
          "data": {
            "text/plain": [
              "0     True\n",
              "1    False\n",
              "2     True\n",
              "3    False\n",
              "dtype: bool"
            ]
          },
          "metadata": {
            "tags": []
          },
          "execution_count": 20
        },
        {
          "output_type": "stream",
          "text": [
            "\n",
            "\n"
          ],
          "name": "stdout"
        },
        {
          "output_type": "execute_result",
          "data": {
            "text/plain": [
              "0    False\n",
              "1     True\n",
              "2    False\n",
              "3     True\n",
              "dtype: bool"
            ]
          },
          "metadata": {
            "tags": []
          },
          "execution_count": 20
        }
      ]
    },
    {
      "cell_type": "code",
      "metadata": {
        "colab": {
          "base_uri": "https://localhost:8080/",
          "height": 330
        },
        "id": "7W0ZcSqODLrL",
        "outputId": "e27ef67b-5ec2-49e3-ca65-dc2a8555b184"
      },
      "source": [
        "data = pd.DataFrame([[1., 6.5, 3.], [1., NA, NA],\n",
        "                     [NA, NA, NA], [NA, NA, 3.]])\n",
        "\n",
        "data.isnull()\n",
        "\n",
        "data.isna()"
      ],
      "execution_count": null,
      "outputs": [
        {
          "output_type": "execute_result",
          "data": {
            "text/html": [
              "<div>\n",
              "<style scoped>\n",
              "    .dataframe tbody tr th:only-of-type {\n",
              "        vertical-align: middle;\n",
              "    }\n",
              "\n",
              "    .dataframe tbody tr th {\n",
              "        vertical-align: top;\n",
              "    }\n",
              "\n",
              "    .dataframe thead th {\n",
              "        text-align: right;\n",
              "    }\n",
              "</style>\n",
              "<table border=\"1\" class=\"dataframe\">\n",
              "  <thead>\n",
              "    <tr style=\"text-align: right;\">\n",
              "      <th></th>\n",
              "      <th>0</th>\n",
              "      <th>1</th>\n",
              "      <th>2</th>\n",
              "    </tr>\n",
              "  </thead>\n",
              "  <tbody>\n",
              "    <tr>\n",
              "      <th>0</th>\n",
              "      <td>False</td>\n",
              "      <td>False</td>\n",
              "      <td>False</td>\n",
              "    </tr>\n",
              "    <tr>\n",
              "      <th>1</th>\n",
              "      <td>False</td>\n",
              "      <td>True</td>\n",
              "      <td>True</td>\n",
              "    </tr>\n",
              "    <tr>\n",
              "      <th>2</th>\n",
              "      <td>True</td>\n",
              "      <td>True</td>\n",
              "      <td>True</td>\n",
              "    </tr>\n",
              "    <tr>\n",
              "      <th>3</th>\n",
              "      <td>True</td>\n",
              "      <td>True</td>\n",
              "      <td>False</td>\n",
              "    </tr>\n",
              "  </tbody>\n",
              "</table>\n",
              "</div>"
            ],
            "text/plain": [
              "       0      1      2\n",
              "0  False  False  False\n",
              "1  False   True   True\n",
              "2   True   True   True\n",
              "3   True   True  False"
            ]
          },
          "metadata": {
            "tags": []
          },
          "execution_count": 18
        },
        {
          "output_type": "execute_result",
          "data": {
            "text/html": [
              "<div>\n",
              "<style scoped>\n",
              "    .dataframe tbody tr th:only-of-type {\n",
              "        vertical-align: middle;\n",
              "    }\n",
              "\n",
              "    .dataframe tbody tr th {\n",
              "        vertical-align: top;\n",
              "    }\n",
              "\n",
              "    .dataframe thead th {\n",
              "        text-align: right;\n",
              "    }\n",
              "</style>\n",
              "<table border=\"1\" class=\"dataframe\">\n",
              "  <thead>\n",
              "    <tr style=\"text-align: right;\">\n",
              "      <th></th>\n",
              "      <th>0</th>\n",
              "      <th>1</th>\n",
              "      <th>2</th>\n",
              "    </tr>\n",
              "  </thead>\n",
              "  <tbody>\n",
              "    <tr>\n",
              "      <th>0</th>\n",
              "      <td>False</td>\n",
              "      <td>False</td>\n",
              "      <td>False</td>\n",
              "    </tr>\n",
              "    <tr>\n",
              "      <th>1</th>\n",
              "      <td>False</td>\n",
              "      <td>True</td>\n",
              "      <td>True</td>\n",
              "    </tr>\n",
              "    <tr>\n",
              "      <th>2</th>\n",
              "      <td>True</td>\n",
              "      <td>True</td>\n",
              "      <td>True</td>\n",
              "    </tr>\n",
              "    <tr>\n",
              "      <th>3</th>\n",
              "      <td>True</td>\n",
              "      <td>True</td>\n",
              "      <td>False</td>\n",
              "    </tr>\n",
              "  </tbody>\n",
              "</table>\n",
              "</div>"
            ],
            "text/plain": [
              "       0      1      2\n",
              "0  False  False  False\n",
              "1  False   True   True\n",
              "2   True   True   True\n",
              "3   True   True  False"
            ]
          },
          "metadata": {
            "tags": []
          },
          "execution_count": 18
        }
      ]
    },
    {
      "cell_type": "markdown",
      "metadata": {
        "deletable": true,
        "editable": true,
        "id": "Tw966ReXrNtv"
      },
      "source": [
        "### 7.1.1 누락된 데이터 골라내기"
      ]
    },
    {
      "cell_type": "markdown",
      "metadata": {
        "id": "BQMsL0qxymhV"
      },
      "source": [
        "> DataFrame의 경우 기본적으로 NA 값을 하나라도 포함하고 있으면 로우를 제외시킨다.             \n",
        "> [pandas.DataFrame.dropna](https://pandas.pydata.org/docs/reference/api/pandas.DataFrame.dropna.html)\n",
        "\n",
        "![image.png](data:image/png;base64,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)\n"
      ]
    },
    {
      "cell_type": "code",
      "metadata": {
        "deletable": true,
        "editable": true,
        "colab": {
          "base_uri": "https://localhost:8080/"
        },
        "id": "gNBP0pofrNtw",
        "outputId": "b2a8c7e9-0fe4-433a-d2d6-b5261709f3a9"
      },
      "source": [
        "from numpy import nan as NA\n",
        "data = pd.Series([1, NA, 3.5, NA, 7])\n",
        "data\n",
        "print(\"\\n\")\n",
        "data.dropna()"
      ],
      "execution_count": null,
      "outputs": [
        {
          "output_type": "execute_result",
          "data": {
            "text/plain": [
              "0    1.0\n",
              "1    NaN\n",
              "2    3.5\n",
              "3    NaN\n",
              "4    7.0\n",
              "dtype: float64"
            ]
          },
          "metadata": {
            "tags": []
          },
          "execution_count": 7
        },
        {
          "output_type": "stream",
          "text": [
            "\n",
            "\n"
          ],
          "name": "stdout"
        },
        {
          "output_type": "execute_result",
          "data": {
            "text/plain": [
              "0    1.0\n",
              "2    3.5\n",
              "4    7.0\n",
              "dtype: float64"
            ]
          },
          "metadata": {
            "tags": []
          },
          "execution_count": 7
        }
      ]
    },
    {
      "cell_type": "code",
      "metadata": {
        "deletable": true,
        "editable": true,
        "colab": {
          "base_uri": "https://localhost:8080/"
        },
        "id": "JfxMvJoLrNtw",
        "outputId": "20b11578-515f-4755-8da4-2b3c185305c8"
      },
      "source": [
        "data.notnull()\n",
        "print(\"\\n\")\n",
        "data[data.notnull()]"
      ],
      "execution_count": null,
      "outputs": [
        {
          "output_type": "execute_result",
          "data": {
            "text/plain": [
              "0     True\n",
              "1    False\n",
              "2     True\n",
              "3    False\n",
              "4     True\n",
              "dtype: bool"
            ]
          },
          "metadata": {
            "tags": []
          },
          "execution_count": 8
        },
        {
          "output_type": "stream",
          "text": [
            "\n",
            "\n"
          ],
          "name": "stdout"
        },
        {
          "output_type": "execute_result",
          "data": {
            "text/plain": [
              "0    1.0\n",
              "2    3.5\n",
              "4    7.0\n",
              "dtype: float64"
            ]
          },
          "metadata": {
            "tags": []
          },
          "execution_count": 8
        }
      ]
    },
    {
      "cell_type": "code",
      "metadata": {
        "deletable": true,
        "editable": true,
        "colab": {
          "base_uri": "https://localhost:8080/",
          "height": 237
        },
        "id": "K4R5fHgmrNtw",
        "outputId": "4cc3ce4f-7424-4702-af43-3a3eaca49afc"
      },
      "source": [
        "data = pd.DataFrame([[1., 6.5, 3.], [1., NA, NA],\n",
        "                     [NA, NA, NA], [NA, NA, 3.]])\n",
        "cleaned = data.dropna() #defalut는 how=any axis=0\n",
        "data\n",
        "cleaned"
      ],
      "execution_count": null,
      "outputs": [
        {
          "output_type": "execute_result",
          "data": {
            "text/html": [
              "<div>\n",
              "<style scoped>\n",
              "    .dataframe tbody tr th:only-of-type {\n",
              "        vertical-align: middle;\n",
              "    }\n",
              "\n",
              "    .dataframe tbody tr th {\n",
              "        vertical-align: top;\n",
              "    }\n",
              "\n",
              "    .dataframe thead th {\n",
              "        text-align: right;\n",
              "    }\n",
              "</style>\n",
              "<table border=\"1\" class=\"dataframe\">\n",
              "  <thead>\n",
              "    <tr style=\"text-align: right;\">\n",
              "      <th></th>\n",
              "      <th>0</th>\n",
              "      <th>1</th>\n",
              "      <th>2</th>\n",
              "    </tr>\n",
              "  </thead>\n",
              "  <tbody>\n",
              "    <tr>\n",
              "      <th>0</th>\n",
              "      <td>1.0</td>\n",
              "      <td>6.5</td>\n",
              "      <td>3.0</td>\n",
              "    </tr>\n",
              "    <tr>\n",
              "      <th>1</th>\n",
              "      <td>1.0</td>\n",
              "      <td>NaN</td>\n",
              "      <td>NaN</td>\n",
              "    </tr>\n",
              "    <tr>\n",
              "      <th>2</th>\n",
              "      <td>NaN</td>\n",
              "      <td>NaN</td>\n",
              "      <td>NaN</td>\n",
              "    </tr>\n",
              "    <tr>\n",
              "      <th>3</th>\n",
              "      <td>NaN</td>\n",
              "      <td>NaN</td>\n",
              "      <td>3.0</td>\n",
              "    </tr>\n",
              "  </tbody>\n",
              "</table>\n",
              "</div>"
            ],
            "text/plain": [
              "     0    1    2\n",
              "0  1.0  6.5  3.0\n",
              "1  1.0  NaN  NaN\n",
              "2  NaN  NaN  NaN\n",
              "3  NaN  NaN  3.0"
            ]
          },
          "metadata": {
            "tags": []
          },
          "execution_count": 9
        },
        {
          "output_type": "execute_result",
          "data": {
            "text/html": [
              "<div>\n",
              "<style scoped>\n",
              "    .dataframe tbody tr th:only-of-type {\n",
              "        vertical-align: middle;\n",
              "    }\n",
              "\n",
              "    .dataframe tbody tr th {\n",
              "        vertical-align: top;\n",
              "    }\n",
              "\n",
              "    .dataframe thead th {\n",
              "        text-align: right;\n",
              "    }\n",
              "</style>\n",
              "<table border=\"1\" class=\"dataframe\">\n",
              "  <thead>\n",
              "    <tr style=\"text-align: right;\">\n",
              "      <th></th>\n",
              "      <th>0</th>\n",
              "      <th>1</th>\n",
              "      <th>2</th>\n",
              "    </tr>\n",
              "  </thead>\n",
              "  <tbody>\n",
              "    <tr>\n",
              "      <th>0</th>\n",
              "      <td>1.0</td>\n",
              "      <td>6.5</td>\n",
              "      <td>3.0</td>\n",
              "    </tr>\n",
              "  </tbody>\n",
              "</table>\n",
              "</div>"
            ],
            "text/plain": [
              "     0    1    2\n",
              "0  1.0  6.5  3.0"
            ]
          },
          "metadata": {
            "tags": []
          },
          "execution_count": 9
        }
      ]
    },
    {
      "cell_type": "code",
      "metadata": {
        "deletable": true,
        "editable": true,
        "colab": {
          "base_uri": "https://localhost:8080/",
          "height": 143
        },
        "id": "bp738OBUrNtx",
        "outputId": "53eb7cd5-6fa9-42c3-9c7d-7f14c7fb0ef0"
      },
      "source": [
        "data.dropna(how='all') # "
      ],
      "execution_count": null,
      "outputs": [
        {
          "output_type": "execute_result",
          "data": {
            "text/html": [
              "<div>\n",
              "<style scoped>\n",
              "    .dataframe tbody tr th:only-of-type {\n",
              "        vertical-align: middle;\n",
              "    }\n",
              "\n",
              "    .dataframe tbody tr th {\n",
              "        vertical-align: top;\n",
              "    }\n",
              "\n",
              "    .dataframe thead th {\n",
              "        text-align: right;\n",
              "    }\n",
              "</style>\n",
              "<table border=\"1\" class=\"dataframe\">\n",
              "  <thead>\n",
              "    <tr style=\"text-align: right;\">\n",
              "      <th></th>\n",
              "      <th>0</th>\n",
              "      <th>1</th>\n",
              "      <th>2</th>\n",
              "    </tr>\n",
              "  </thead>\n",
              "  <tbody>\n",
              "    <tr>\n",
              "      <th>0</th>\n",
              "      <td>1.0</td>\n",
              "      <td>6.5</td>\n",
              "      <td>3.0</td>\n",
              "    </tr>\n",
              "    <tr>\n",
              "      <th>1</th>\n",
              "      <td>1.0</td>\n",
              "      <td>NaN</td>\n",
              "      <td>NaN</td>\n",
              "    </tr>\n",
              "    <tr>\n",
              "      <th>3</th>\n",
              "      <td>NaN</td>\n",
              "      <td>NaN</td>\n",
              "      <td>3.0</td>\n",
              "    </tr>\n",
              "  </tbody>\n",
              "</table>\n",
              "</div>"
            ],
            "text/plain": [
              "     0    1    2\n",
              "0  1.0  6.5  3.0\n",
              "1  1.0  NaN  NaN\n",
              "3  NaN  NaN  3.0"
            ]
          },
          "metadata": {
            "tags": []
          },
          "execution_count": 10
        }
      ]
    },
    {
      "cell_type": "code",
      "metadata": {
        "deletable": true,
        "editable": true,
        "colab": {
          "base_uri": "https://localhost:8080/",
          "height": 330
        },
        "id": "5vXf0QVsrNtx",
        "outputId": "cf1490d0-2767-48d0-c200-cdb622863327"
      },
      "source": [
        "data[4] = NA\n",
        "data\n",
        "data.dropna(axis=1, how='all')"
      ],
      "execution_count": null,
      "outputs": [
        {
          "output_type": "execute_result",
          "data": {
            "text/html": [
              "<div>\n",
              "<style scoped>\n",
              "    .dataframe tbody tr th:only-of-type {\n",
              "        vertical-align: middle;\n",
              "    }\n",
              "\n",
              "    .dataframe tbody tr th {\n",
              "        vertical-align: top;\n",
              "    }\n",
              "\n",
              "    .dataframe thead th {\n",
              "        text-align: right;\n",
              "    }\n",
              "</style>\n",
              "<table border=\"1\" class=\"dataframe\">\n",
              "  <thead>\n",
              "    <tr style=\"text-align: right;\">\n",
              "      <th></th>\n",
              "      <th>0</th>\n",
              "      <th>1</th>\n",
              "      <th>2</th>\n",
              "      <th>4</th>\n",
              "    </tr>\n",
              "  </thead>\n",
              "  <tbody>\n",
              "    <tr>\n",
              "      <th>0</th>\n",
              "      <td>1.0</td>\n",
              "      <td>6.5</td>\n",
              "      <td>3.0</td>\n",
              "      <td>NaN</td>\n",
              "    </tr>\n",
              "    <tr>\n",
              "      <th>1</th>\n",
              "      <td>1.0</td>\n",
              "      <td>NaN</td>\n",
              "      <td>NaN</td>\n",
              "      <td>NaN</td>\n",
              "    </tr>\n",
              "    <tr>\n",
              "      <th>2</th>\n",
              "      <td>NaN</td>\n",
              "      <td>NaN</td>\n",
              "      <td>NaN</td>\n",
              "      <td>NaN</td>\n",
              "    </tr>\n",
              "    <tr>\n",
              "      <th>3</th>\n",
              "      <td>NaN</td>\n",
              "      <td>NaN</td>\n",
              "      <td>3.0</td>\n",
              "      <td>NaN</td>\n",
              "    </tr>\n",
              "  </tbody>\n",
              "</table>\n",
              "</div>"
            ],
            "text/plain": [
              "     0    1    2   4\n",
              "0  1.0  6.5  3.0 NaN\n",
              "1  1.0  NaN  NaN NaN\n",
              "2  NaN  NaN  NaN NaN\n",
              "3  NaN  NaN  3.0 NaN"
            ]
          },
          "metadata": {
            "tags": []
          },
          "execution_count": 11
        },
        {
          "output_type": "execute_result",
          "data": {
            "text/html": [
              "<div>\n",
              "<style scoped>\n",
              "    .dataframe tbody tr th:only-of-type {\n",
              "        vertical-align: middle;\n",
              "    }\n",
              "\n",
              "    .dataframe tbody tr th {\n",
              "        vertical-align: top;\n",
              "    }\n",
              "\n",
              "    .dataframe thead th {\n",
              "        text-align: right;\n",
              "    }\n",
              "</style>\n",
              "<table border=\"1\" class=\"dataframe\">\n",
              "  <thead>\n",
              "    <tr style=\"text-align: right;\">\n",
              "      <th></th>\n",
              "      <th>0</th>\n",
              "      <th>1</th>\n",
              "      <th>2</th>\n",
              "    </tr>\n",
              "  </thead>\n",
              "  <tbody>\n",
              "    <tr>\n",
              "      <th>0</th>\n",
              "      <td>1.0</td>\n",
              "      <td>6.5</td>\n",
              "      <td>3.0</td>\n",
              "    </tr>\n",
              "    <tr>\n",
              "      <th>1</th>\n",
              "      <td>1.0</td>\n",
              "      <td>NaN</td>\n",
              "      <td>NaN</td>\n",
              "    </tr>\n",
              "    <tr>\n",
              "      <th>2</th>\n",
              "      <td>NaN</td>\n",
              "      <td>NaN</td>\n",
              "      <td>NaN</td>\n",
              "    </tr>\n",
              "    <tr>\n",
              "      <th>3</th>\n",
              "      <td>NaN</td>\n",
              "      <td>NaN</td>\n",
              "      <td>3.0</td>\n",
              "    </tr>\n",
              "  </tbody>\n",
              "</table>\n",
              "</div>"
            ],
            "text/plain": [
              "     0    1    2\n",
              "0  1.0  6.5  3.0\n",
              "1  1.0  NaN  NaN\n",
              "2  NaN  NaN  NaN\n",
              "3  NaN  NaN  3.0"
            ]
          },
          "metadata": {
            "tags": []
          },
          "execution_count": 11
        }
      ]
    },
    {
      "cell_type": "markdown",
      "metadata": {
        "id": "X2nedp342ehQ"
      },
      "source": [
        "> 몇 개 이상의 값이 들어 있는 로우만 살펴보고 싶다면 thresh 인자에 원하는 값을 넘기면 된다."
      ]
    },
    {
      "cell_type": "code",
      "metadata": {
        "deletable": true,
        "editable": true,
        "colab": {
          "base_uri": "https://localhost:8080/",
          "height": 705
        },
        "id": "k9GuYG3JrNtx",
        "outputId": "b82497db-2f67-4ef8-89db-55d088a4633b"
      },
      "source": [
        "df = pd.DataFrame(np.random.randn(7, 3))\n",
        "df.iloc[:4, 1] = NA\n",
        "df.iloc[:2, 2] = NA\n",
        "df\n",
        "df.dropna(thresh=2) # 값이 들어있는(결측치가 아닌) 갯수가 2개 이상\n",
        "df.dropna(subset=[1], axis=1) # subset은 컬럼을 지정해 NA값이 포함되어 있는 로우(또는 컬럼)을 삭제한다. "
      ],
      "execution_count": null,
      "outputs": [
        {
          "output_type": "execute_result",
          "data": {
            "text/html": [
              "<div>\n",
              "<style scoped>\n",
              "    .dataframe tbody tr th:only-of-type {\n",
              "        vertical-align: middle;\n",
              "    }\n",
              "\n",
              "    .dataframe tbody tr th {\n",
              "        vertical-align: top;\n",
              "    }\n",
              "\n",
              "    .dataframe thead th {\n",
              "        text-align: right;\n",
              "    }\n",
              "</style>\n",
              "<table border=\"1\" class=\"dataframe\">\n",
              "  <thead>\n",
              "    <tr style=\"text-align: right;\">\n",
              "      <th></th>\n",
              "      <th>0</th>\n",
              "      <th>1</th>\n",
              "      <th>2</th>\n",
              "    </tr>\n",
              "  </thead>\n",
              "  <tbody>\n",
              "    <tr>\n",
              "      <th>0</th>\n",
              "      <td>-1.409402</td>\n",
              "      <td>NaN</td>\n",
              "      <td>NaN</td>\n",
              "    </tr>\n",
              "    <tr>\n",
              "      <th>1</th>\n",
              "      <td>0.103614</td>\n",
              "      <td>NaN</td>\n",
              "      <td>NaN</td>\n",
              "    </tr>\n",
              "    <tr>\n",
              "      <th>2</th>\n",
              "      <td>2.613999</td>\n",
              "      <td>NaN</td>\n",
              "      <td>-0.751653</td>\n",
              "    </tr>\n",
              "    <tr>\n",
              "      <th>3</th>\n",
              "      <td>0.636281</td>\n",
              "      <td>NaN</td>\n",
              "      <td>0.614680</td>\n",
              "    </tr>\n",
              "    <tr>\n",
              "      <th>4</th>\n",
              "      <td>1.021391</td>\n",
              "      <td>0.668272</td>\n",
              "      <td>-0.809535</td>\n",
              "    </tr>\n",
              "    <tr>\n",
              "      <th>5</th>\n",
              "      <td>-0.908125</td>\n",
              "      <td>1.512289</td>\n",
              "      <td>0.095117</td>\n",
              "    </tr>\n",
              "    <tr>\n",
              "      <th>6</th>\n",
              "      <td>1.184669</td>\n",
              "      <td>0.637033</td>\n",
              "      <td>-0.539275</td>\n",
              "    </tr>\n",
              "  </tbody>\n",
              "</table>\n",
              "</div>"
            ],
            "text/plain": [
              "          0         1         2\n",
              "0 -1.409402       NaN       NaN\n",
              "1  0.103614       NaN       NaN\n",
              "2  2.613999       NaN -0.751653\n",
              "3  0.636281       NaN  0.614680\n",
              "4  1.021391  0.668272 -0.809535\n",
              "5 -0.908125  1.512289  0.095117\n",
              "6  1.184669  0.637033 -0.539275"
            ]
          },
          "metadata": {
            "tags": []
          },
          "execution_count": 56
        },
        {
          "output_type": "execute_result",
          "data": {
            "text/html": [
              "<div>\n",
              "<style scoped>\n",
              "    .dataframe tbody tr th:only-of-type {\n",
              "        vertical-align: middle;\n",
              "    }\n",
              "\n",
              "    .dataframe tbody tr th {\n",
              "        vertical-align: top;\n",
              "    }\n",
              "\n",
              "    .dataframe thead th {\n",
              "        text-align: right;\n",
              "    }\n",
              "</style>\n",
              "<table border=\"1\" class=\"dataframe\">\n",
              "  <thead>\n",
              "    <tr style=\"text-align: right;\">\n",
              "      <th></th>\n",
              "      <th>0</th>\n",
              "      <th>1</th>\n",
              "      <th>2</th>\n",
              "    </tr>\n",
              "  </thead>\n",
              "  <tbody>\n",
              "    <tr>\n",
              "      <th>2</th>\n",
              "      <td>2.613999</td>\n",
              "      <td>NaN</td>\n",
              "      <td>-0.751653</td>\n",
              "    </tr>\n",
              "    <tr>\n",
              "      <th>3</th>\n",
              "      <td>0.636281</td>\n",
              "      <td>NaN</td>\n",
              "      <td>0.614680</td>\n",
              "    </tr>\n",
              "    <tr>\n",
              "      <th>4</th>\n",
              "      <td>1.021391</td>\n",
              "      <td>0.668272</td>\n",
              "      <td>-0.809535</td>\n",
              "    </tr>\n",
              "    <tr>\n",
              "      <th>5</th>\n",
              "      <td>-0.908125</td>\n",
              "      <td>1.512289</td>\n",
              "      <td>0.095117</td>\n",
              "    </tr>\n",
              "    <tr>\n",
              "      <th>6</th>\n",
              "      <td>1.184669</td>\n",
              "      <td>0.637033</td>\n",
              "      <td>-0.539275</td>\n",
              "    </tr>\n",
              "  </tbody>\n",
              "</table>\n",
              "</div>"
            ],
            "text/plain": [
              "          0         1         2\n",
              "2  2.613999       NaN -0.751653\n",
              "3  0.636281       NaN  0.614680\n",
              "4  1.021391  0.668272 -0.809535\n",
              "5 -0.908125  1.512289  0.095117\n",
              "6  1.184669  0.637033 -0.539275"
            ]
          },
          "metadata": {
            "tags": []
          },
          "execution_count": 56
        },
        {
          "output_type": "execute_result",
          "data": {
            "text/html": [
              "<div>\n",
              "<style scoped>\n",
              "    .dataframe tbody tr th:only-of-type {\n",
              "        vertical-align: middle;\n",
              "    }\n",
              "\n",
              "    .dataframe tbody tr th {\n",
              "        vertical-align: top;\n",
              "    }\n",
              "\n",
              "    .dataframe thead th {\n",
              "        text-align: right;\n",
              "    }\n",
              "</style>\n",
              "<table border=\"1\" class=\"dataframe\">\n",
              "  <thead>\n",
              "    <tr style=\"text-align: right;\">\n",
              "      <th></th>\n",
              "      <th>0</th>\n",
              "    </tr>\n",
              "  </thead>\n",
              "  <tbody>\n",
              "    <tr>\n",
              "      <th>0</th>\n",
              "      <td>-1.409402</td>\n",
              "    </tr>\n",
              "    <tr>\n",
              "      <th>1</th>\n",
              "      <td>0.103614</td>\n",
              "    </tr>\n",
              "    <tr>\n",
              "      <th>2</th>\n",
              "      <td>2.613999</td>\n",
              "    </tr>\n",
              "    <tr>\n",
              "      <th>3</th>\n",
              "      <td>0.636281</td>\n",
              "    </tr>\n",
              "    <tr>\n",
              "      <th>4</th>\n",
              "      <td>1.021391</td>\n",
              "    </tr>\n",
              "    <tr>\n",
              "      <th>5</th>\n",
              "      <td>-0.908125</td>\n",
              "    </tr>\n",
              "    <tr>\n",
              "      <th>6</th>\n",
              "      <td>1.184669</td>\n",
              "    </tr>\n",
              "  </tbody>\n",
              "</table>\n",
              "</div>"
            ],
            "text/plain": [
              "          0\n",
              "0 -1.409402\n",
              "1  0.103614\n",
              "2  2.613999\n",
              "3  0.636281\n",
              "4  1.021391\n",
              "5 -0.908125\n",
              "6  1.184669"
            ]
          },
          "metadata": {
            "tags": []
          },
          "execution_count": 56
        }
      ]
    },
    {
      "cell_type": "markdown",
      "metadata": {
        "deletable": true,
        "editable": true,
        "id": "BiceJtsjrNtx"
      },
      "source": [
        "### 7.1.2 결측치 채우기\n",
        "\n",
        "![image.png](data:image/png;base64,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)\n",
        "\n",
        "[padnas.DataFrame.fillna](https://pandas.pydata.org/docs/reference/api/pandas.DataFrame.fillna.html)"
      ]
    },
    {
      "cell_type": "code",
      "metadata": {
        "deletable": true,
        "editable": true,
        "colab": {
          "base_uri": "https://localhost:8080/",
          "height": 517
        },
        "id": "UtCY0ULbrNty",
        "outputId": "fbefcfbd-20ac-4b5b-c6c7-48d1a15883ef"
      },
      "source": [
        "df = pd.DataFrame(np.random.randn(7, 3))\n",
        "df.iloc[:4, 1] = NA\n",
        "df.iloc[:2, 2] = NA\n",
        "df\n",
        "df.fillna(0)"
      ],
      "execution_count": null,
      "outputs": [
        {
          "output_type": "execute_result",
          "data": {
            "text/html": [
              "<div>\n",
              "<style scoped>\n",
              "    .dataframe tbody tr th:only-of-type {\n",
              "        vertical-align: middle;\n",
              "    }\n",
              "\n",
              "    .dataframe tbody tr th {\n",
              "        vertical-align: top;\n",
              "    }\n",
              "\n",
              "    .dataframe thead th {\n",
              "        text-align: right;\n",
              "    }\n",
              "</style>\n",
              "<table border=\"1\" class=\"dataframe\">\n",
              "  <thead>\n",
              "    <tr style=\"text-align: right;\">\n",
              "      <th></th>\n",
              "      <th>0</th>\n",
              "      <th>1</th>\n",
              "      <th>2</th>\n",
              "    </tr>\n",
              "  </thead>\n",
              "  <tbody>\n",
              "    <tr>\n",
              "      <th>0</th>\n",
              "      <td>0.476985</td>\n",
              "      <td>NaN</td>\n",
              "      <td>NaN</td>\n",
              "    </tr>\n",
              "    <tr>\n",
              "      <th>1</th>\n",
              "      <td>-0.577087</td>\n",
              "      <td>NaN</td>\n",
              "      <td>NaN</td>\n",
              "    </tr>\n",
              "    <tr>\n",
              "      <th>2</th>\n",
              "      <td>0.523772</td>\n",
              "      <td>NaN</td>\n",
              "      <td>1.343810</td>\n",
              "    </tr>\n",
              "    <tr>\n",
              "      <th>3</th>\n",
              "      <td>-0.713544</td>\n",
              "      <td>NaN</td>\n",
              "      <td>-2.370232</td>\n",
              "    </tr>\n",
              "    <tr>\n",
              "      <th>4</th>\n",
              "      <td>-1.860761</td>\n",
              "      <td>-0.860757</td>\n",
              "      <td>0.560145</td>\n",
              "    </tr>\n",
              "    <tr>\n",
              "      <th>5</th>\n",
              "      <td>-1.265934</td>\n",
              "      <td>0.119827</td>\n",
              "      <td>-1.063512</td>\n",
              "    </tr>\n",
              "    <tr>\n",
              "      <th>6</th>\n",
              "      <td>0.332883</td>\n",
              "      <td>-2.359419</td>\n",
              "      <td>-0.199543</td>\n",
              "    </tr>\n",
              "  </tbody>\n",
              "</table>\n",
              "</div>"
            ],
            "text/plain": [
              "          0         1         2\n",
              "0  0.476985       NaN       NaN\n",
              "1 -0.577087       NaN       NaN\n",
              "2  0.523772       NaN  1.343810\n",
              "3 -0.713544       NaN -2.370232\n",
              "4 -1.860761 -0.860757  0.560145\n",
              "5 -1.265934  0.119827 -1.063512\n",
              "6  0.332883 -2.359419 -0.199543"
            ]
          },
          "metadata": {
            "tags": []
          },
          "execution_count": 13
        },
        {
          "output_type": "execute_result",
          "data": {
            "text/html": [
              "<div>\n",
              "<style scoped>\n",
              "    .dataframe tbody tr th:only-of-type {\n",
              "        vertical-align: middle;\n",
              "    }\n",
              "\n",
              "    .dataframe tbody tr th {\n",
              "        vertical-align: top;\n",
              "    }\n",
              "\n",
              "    .dataframe thead th {\n",
              "        text-align: right;\n",
              "    }\n",
              "</style>\n",
              "<table border=\"1\" class=\"dataframe\">\n",
              "  <thead>\n",
              "    <tr style=\"text-align: right;\">\n",
              "      <th></th>\n",
              "      <th>0</th>\n",
              "      <th>1</th>\n",
              "      <th>2</th>\n",
              "    </tr>\n",
              "  </thead>\n",
              "  <tbody>\n",
              "    <tr>\n",
              "      <th>0</th>\n",
              "      <td>0.476985</td>\n",
              "      <td>0.000000</td>\n",
              "      <td>0.000000</td>\n",
              "    </tr>\n",
              "    <tr>\n",
              "      <th>1</th>\n",
              "      <td>-0.577087</td>\n",
              "      <td>0.000000</td>\n",
              "      <td>0.000000</td>\n",
              "    </tr>\n",
              "    <tr>\n",
              "      <th>2</th>\n",
              "      <td>0.523772</td>\n",
              "      <td>0.000000</td>\n",
              "      <td>1.343810</td>\n",
              "    </tr>\n",
              "    <tr>\n",
              "      <th>3</th>\n",
              "      <td>-0.713544</td>\n",
              "      <td>0.000000</td>\n",
              "      <td>-2.370232</td>\n",
              "    </tr>\n",
              "    <tr>\n",
              "      <th>4</th>\n",
              "      <td>-1.860761</td>\n",
              "      <td>-0.860757</td>\n",
              "      <td>0.560145</td>\n",
              "    </tr>\n",
              "    <tr>\n",
              "      <th>5</th>\n",
              "      <td>-1.265934</td>\n",
              "      <td>0.119827</td>\n",
              "      <td>-1.063512</td>\n",
              "    </tr>\n",
              "    <tr>\n",
              "      <th>6</th>\n",
              "      <td>0.332883</td>\n",
              "      <td>-2.359419</td>\n",
              "      <td>-0.199543</td>\n",
              "    </tr>\n",
              "  </tbody>\n",
              "</table>\n",
              "</div>"
            ],
            "text/plain": [
              "          0         1         2\n",
              "0  0.476985  0.000000  0.000000\n",
              "1 -0.577087  0.000000  0.000000\n",
              "2  0.523772  0.000000  1.343810\n",
              "3 -0.713544  0.000000 -2.370232\n",
              "4 -1.860761 -0.860757  0.560145\n",
              "5 -1.265934  0.119827 -1.063512\n",
              "6  0.332883 -2.359419 -0.199543"
            ]
          },
          "metadata": {
            "tags": []
          },
          "execution_count": 13
        }
      ]
    },
    {
      "cell_type": "markdown",
      "metadata": {
        "id": "TAetzkbD5tzi"
      },
      "source": [
        "> fillna에 사전값을 넘겨서 각 컬럼마다 다른 값을 채울 수도 있다.\n",
        "\n"
      ]
    },
    {
      "cell_type": "code",
      "metadata": {
        "deletable": true,
        "editable": true,
        "colab": {
          "base_uri": "https://localhost:8080/",
          "height": 267
        },
        "id": "hdW8UvsZrNty",
        "outputId": "2afe3a6e-dc2e-4f21-f349-b2824e04ec9d"
      },
      "source": [
        "df.fillna({1: 0.5, 2: 0})"
      ],
      "execution_count": null,
      "outputs": [
        {
          "output_type": "execute_result",
          "data": {
            "text/html": [
              "<div>\n",
              "<style scoped>\n",
              "    .dataframe tbody tr th:only-of-type {\n",
              "        vertical-align: middle;\n",
              "    }\n",
              "\n",
              "    .dataframe tbody tr th {\n",
              "        vertical-align: top;\n",
              "    }\n",
              "\n",
              "    .dataframe thead th {\n",
              "        text-align: right;\n",
              "    }\n",
              "</style>\n",
              "<table border=\"1\" class=\"dataframe\">\n",
              "  <thead>\n",
              "    <tr style=\"text-align: right;\">\n",
              "      <th></th>\n",
              "      <th>0</th>\n",
              "      <th>1</th>\n",
              "      <th>2</th>\n",
              "    </tr>\n",
              "  </thead>\n",
              "  <tbody>\n",
              "    <tr>\n",
              "      <th>0</th>\n",
              "      <td>0.476985</td>\n",
              "      <td>0.500000</td>\n",
              "      <td>0.000000</td>\n",
              "    </tr>\n",
              "    <tr>\n",
              "      <th>1</th>\n",
              "      <td>-0.577087</td>\n",
              "      <td>0.500000</td>\n",
              "      <td>0.000000</td>\n",
              "    </tr>\n",
              "    <tr>\n",
              "      <th>2</th>\n",
              "      <td>0.523772</td>\n",
              "      <td>0.500000</td>\n",
              "      <td>1.343810</td>\n",
              "    </tr>\n",
              "    <tr>\n",
              "      <th>3</th>\n",
              "      <td>-0.713544</td>\n",
              "      <td>0.500000</td>\n",
              "      <td>-2.370232</td>\n",
              "    </tr>\n",
              "    <tr>\n",
              "      <th>4</th>\n",
              "      <td>-1.860761</td>\n",
              "      <td>-0.860757</td>\n",
              "      <td>0.560145</td>\n",
              "    </tr>\n",
              "    <tr>\n",
              "      <th>5</th>\n",
              "      <td>-1.265934</td>\n",
              "      <td>0.119827</td>\n",
              "      <td>-1.063512</td>\n",
              "    </tr>\n",
              "    <tr>\n",
              "      <th>6</th>\n",
              "      <td>0.332883</td>\n",
              "      <td>-2.359419</td>\n",
              "      <td>-0.199543</td>\n",
              "    </tr>\n",
              "  </tbody>\n",
              "</table>\n",
              "</div>"
            ],
            "text/plain": [
              "          0         1         2\n",
              "0  0.476985  0.500000  0.000000\n",
              "1 -0.577087  0.500000  0.000000\n",
              "2  0.523772  0.500000  1.343810\n",
              "3 -0.713544  0.500000 -2.370232\n",
              "4 -1.860761 -0.860757  0.560145\n",
              "5 -1.265934  0.119827 -1.063512\n",
              "6  0.332883 -2.359419 -0.199543"
            ]
          },
          "metadata": {
            "tags": []
          },
          "execution_count": 14
        }
      ]
    },
    {
      "cell_type": "code",
      "metadata": {
        "deletable": true,
        "editable": true,
        "colab": {
          "base_uri": "https://localhost:8080/",
          "height": 517
        },
        "id": "WIZlEJmErNty",
        "outputId": "295bd02b-bccb-416d-d01d-a16b24e79136"
      },
      "source": [
        "df\n",
        "df.fillna(0, inplace=True) # 기존 객체를 변경할 수도 있다.\n",
        "df"
      ],
      "execution_count": null,
      "outputs": [
        {
          "output_type": "execute_result",
          "data": {
            "text/html": [
              "<div>\n",
              "<style scoped>\n",
              "    .dataframe tbody tr th:only-of-type {\n",
              "        vertical-align: middle;\n",
              "    }\n",
              "\n",
              "    .dataframe tbody tr th {\n",
              "        vertical-align: top;\n",
              "    }\n",
              "\n",
              "    .dataframe thead th {\n",
              "        text-align: right;\n",
              "    }\n",
              "</style>\n",
              "<table border=\"1\" class=\"dataframe\">\n",
              "  <thead>\n",
              "    <tr style=\"text-align: right;\">\n",
              "      <th></th>\n",
              "      <th>0</th>\n",
              "      <th>1</th>\n",
              "      <th>2</th>\n",
              "    </tr>\n",
              "  </thead>\n",
              "  <tbody>\n",
              "    <tr>\n",
              "      <th>0</th>\n",
              "      <td>-1.409402</td>\n",
              "      <td>NaN</td>\n",
              "      <td>NaN</td>\n",
              "    </tr>\n",
              "    <tr>\n",
              "      <th>1</th>\n",
              "      <td>0.103614</td>\n",
              "      <td>NaN</td>\n",
              "      <td>NaN</td>\n",
              "    </tr>\n",
              "    <tr>\n",
              "      <th>2</th>\n",
              "      <td>2.613999</td>\n",
              "      <td>NaN</td>\n",
              "      <td>-0.751653</td>\n",
              "    </tr>\n",
              "    <tr>\n",
              "      <th>3</th>\n",
              "      <td>0.636281</td>\n",
              "      <td>NaN</td>\n",
              "      <td>0.614680</td>\n",
              "    </tr>\n",
              "    <tr>\n",
              "      <th>4</th>\n",
              "      <td>1.021391</td>\n",
              "      <td>0.668272</td>\n",
              "      <td>-0.809535</td>\n",
              "    </tr>\n",
              "    <tr>\n",
              "      <th>5</th>\n",
              "      <td>-0.908125</td>\n",
              "      <td>1.512289</td>\n",
              "      <td>0.095117</td>\n",
              "    </tr>\n",
              "    <tr>\n",
              "      <th>6</th>\n",
              "      <td>1.184669</td>\n",
              "      <td>0.637033</td>\n",
              "      <td>-0.539275</td>\n",
              "    </tr>\n",
              "  </tbody>\n",
              "</table>\n",
              "</div>"
            ],
            "text/plain": [
              "          0         1         2\n",
              "0 -1.409402       NaN       NaN\n",
              "1  0.103614       NaN       NaN\n",
              "2  2.613999       NaN -0.751653\n",
              "3  0.636281       NaN  0.614680\n",
              "4  1.021391  0.668272 -0.809535\n",
              "5 -0.908125  1.512289  0.095117\n",
              "6  1.184669  0.637033 -0.539275"
            ]
          },
          "metadata": {
            "tags": []
          },
          "execution_count": 57
        },
        {
          "output_type": "execute_result",
          "data": {
            "text/html": [
              "<div>\n",
              "<style scoped>\n",
              "    .dataframe tbody tr th:only-of-type {\n",
              "        vertical-align: middle;\n",
              "    }\n",
              "\n",
              "    .dataframe tbody tr th {\n",
              "        vertical-align: top;\n",
              "    }\n",
              "\n",
              "    .dataframe thead th {\n",
              "        text-align: right;\n",
              "    }\n",
              "</style>\n",
              "<table border=\"1\" class=\"dataframe\">\n",
              "  <thead>\n",
              "    <tr style=\"text-align: right;\">\n",
              "      <th></th>\n",
              "      <th>0</th>\n",
              "      <th>1</th>\n",
              "      <th>2</th>\n",
              "    </tr>\n",
              "  </thead>\n",
              "  <tbody>\n",
              "    <tr>\n",
              "      <th>0</th>\n",
              "      <td>-1.409402</td>\n",
              "      <td>0.000000</td>\n",
              "      <td>0.000000</td>\n",
              "    </tr>\n",
              "    <tr>\n",
              "      <th>1</th>\n",
              "      <td>0.103614</td>\n",
              "      <td>0.000000</td>\n",
              "      <td>0.000000</td>\n",
              "    </tr>\n",
              "    <tr>\n",
              "      <th>2</th>\n",
              "      <td>2.613999</td>\n",
              "      <td>0.000000</td>\n",
              "      <td>-0.751653</td>\n",
              "    </tr>\n",
              "    <tr>\n",
              "      <th>3</th>\n",
              "      <td>0.636281</td>\n",
              "      <td>0.000000</td>\n",
              "      <td>0.614680</td>\n",
              "    </tr>\n",
              "    <tr>\n",
              "      <th>4</th>\n",
              "      <td>1.021391</td>\n",
              "      <td>0.668272</td>\n",
              "      <td>-0.809535</td>\n",
              "    </tr>\n",
              "    <tr>\n",
              "      <th>5</th>\n",
              "      <td>-0.908125</td>\n",
              "      <td>1.512289</td>\n",
              "      <td>0.095117</td>\n",
              "    </tr>\n",
              "    <tr>\n",
              "      <th>6</th>\n",
              "      <td>1.184669</td>\n",
              "      <td>0.637033</td>\n",
              "      <td>-0.539275</td>\n",
              "    </tr>\n",
              "  </tbody>\n",
              "</table>\n",
              "</div>"
            ],
            "text/plain": [
              "          0         1         2\n",
              "0 -1.409402  0.000000  0.000000\n",
              "1  0.103614  0.000000  0.000000\n",
              "2  2.613999  0.000000 -0.751653\n",
              "3  0.636281  0.000000  0.614680\n",
              "4  1.021391  0.668272 -0.809535\n",
              "5 -0.908125  1.512289  0.095117\n",
              "6  1.184669  0.637033 -0.539275"
            ]
          },
          "metadata": {
            "tags": []
          },
          "execution_count": 57
        }
      ]
    },
    {
      "cell_type": "code",
      "metadata": {
        "deletable": true,
        "editable": true,
        "colab": {
          "base_uri": "https://localhost:8080/",
          "height": 674
        },
        "id": "kFeKYv03rNty",
        "outputId": "1e3e6f36-5055-4d71-dda3-1baac3ed4502"
      },
      "source": [
        "df = pd.DataFrame(np.random.randn(6, 3))\n",
        "df.iloc[2:, 1] = NA\n",
        "df.iloc[4:, 2] = NA\n",
        "df\n",
        "df.fillna(method='ffill', axis=0)\n",
        "df.fillna(method='ffill', limit=2)"
      ],
      "execution_count": null,
      "outputs": [
        {
          "output_type": "execute_result",
          "data": {
            "text/html": [
              "<div>\n",
              "<style scoped>\n",
              "    .dataframe tbody tr th:only-of-type {\n",
              "        vertical-align: middle;\n",
              "    }\n",
              "\n",
              "    .dataframe tbody tr th {\n",
              "        vertical-align: top;\n",
              "    }\n",
              "\n",
              "    .dataframe thead th {\n",
              "        text-align: right;\n",
              "    }\n",
              "</style>\n",
              "<table border=\"1\" class=\"dataframe\">\n",
              "  <thead>\n",
              "    <tr style=\"text-align: right;\">\n",
              "      <th></th>\n",
              "      <th>0</th>\n",
              "      <th>1</th>\n",
              "      <th>2</th>\n",
              "    </tr>\n",
              "  </thead>\n",
              "  <tbody>\n",
              "    <tr>\n",
              "      <th>0</th>\n",
              "      <td>-1.610841</td>\n",
              "      <td>-1.026621</td>\n",
              "      <td>1.241573</td>\n",
              "    </tr>\n",
              "    <tr>\n",
              "      <th>1</th>\n",
              "      <td>-0.156760</td>\n",
              "      <td>-2.449096</td>\n",
              "      <td>-1.033948</td>\n",
              "    </tr>\n",
              "    <tr>\n",
              "      <th>2</th>\n",
              "      <td>1.599534</td>\n",
              "      <td>NaN</td>\n",
              "      <td>0.151326</td>\n",
              "    </tr>\n",
              "    <tr>\n",
              "      <th>3</th>\n",
              "      <td>-0.542173</td>\n",
              "      <td>NaN</td>\n",
              "      <td>0.106403</td>\n",
              "    </tr>\n",
              "    <tr>\n",
              "      <th>4</th>\n",
              "      <td>-1.308228</td>\n",
              "      <td>NaN</td>\n",
              "      <td>NaN</td>\n",
              "    </tr>\n",
              "    <tr>\n",
              "      <th>5</th>\n",
              "      <td>-0.190481</td>\n",
              "      <td>NaN</td>\n",
              "      <td>NaN</td>\n",
              "    </tr>\n",
              "  </tbody>\n",
              "</table>\n",
              "</div>"
            ],
            "text/plain": [
              "          0         1         2\n",
              "0 -1.610841 -1.026621  1.241573\n",
              "1 -0.156760 -2.449096 -1.033948\n",
              "2  1.599534       NaN  0.151326\n",
              "3 -0.542173       NaN  0.106403\n",
              "4 -1.308228       NaN       NaN\n",
              "5 -0.190481       NaN       NaN"
            ]
          },
          "metadata": {
            "tags": []
          },
          "execution_count": 68
        },
        {
          "output_type": "execute_result",
          "data": {
            "text/html": [
              "<div>\n",
              "<style scoped>\n",
              "    .dataframe tbody tr th:only-of-type {\n",
              "        vertical-align: middle;\n",
              "    }\n",
              "\n",
              "    .dataframe tbody tr th {\n",
              "        vertical-align: top;\n",
              "    }\n",
              "\n",
              "    .dataframe thead th {\n",
              "        text-align: right;\n",
              "    }\n",
              "</style>\n",
              "<table border=\"1\" class=\"dataframe\">\n",
              "  <thead>\n",
              "    <tr style=\"text-align: right;\">\n",
              "      <th></th>\n",
              "      <th>0</th>\n",
              "      <th>1</th>\n",
              "      <th>2</th>\n",
              "    </tr>\n",
              "  </thead>\n",
              "  <tbody>\n",
              "    <tr>\n",
              "      <th>0</th>\n",
              "      <td>-1.610841</td>\n",
              "      <td>-1.026621</td>\n",
              "      <td>1.241573</td>\n",
              "    </tr>\n",
              "    <tr>\n",
              "      <th>1</th>\n",
              "      <td>-0.156760</td>\n",
              "      <td>-2.449096</td>\n",
              "      <td>-1.033948</td>\n",
              "    </tr>\n",
              "    <tr>\n",
              "      <th>2</th>\n",
              "      <td>1.599534</td>\n",
              "      <td>-2.449096</td>\n",
              "      <td>0.151326</td>\n",
              "    </tr>\n",
              "    <tr>\n",
              "      <th>3</th>\n",
              "      <td>-0.542173</td>\n",
              "      <td>-2.449096</td>\n",
              "      <td>0.106403</td>\n",
              "    </tr>\n",
              "    <tr>\n",
              "      <th>4</th>\n",
              "      <td>-1.308228</td>\n",
              "      <td>-2.449096</td>\n",
              "      <td>0.106403</td>\n",
              "    </tr>\n",
              "    <tr>\n",
              "      <th>5</th>\n",
              "      <td>-0.190481</td>\n",
              "      <td>-2.449096</td>\n",
              "      <td>0.106403</td>\n",
              "    </tr>\n",
              "  </tbody>\n",
              "</table>\n",
              "</div>"
            ],
            "text/plain": [
              "          0         1         2\n",
              "0 -1.610841 -1.026621  1.241573\n",
              "1 -0.156760 -2.449096 -1.033948\n",
              "2  1.599534 -2.449096  0.151326\n",
              "3 -0.542173 -2.449096  0.106403\n",
              "4 -1.308228 -2.449096  0.106403\n",
              "5 -0.190481 -2.449096  0.106403"
            ]
          },
          "metadata": {
            "tags": []
          },
          "execution_count": 68
        },
        {
          "output_type": "execute_result",
          "data": {
            "text/html": [
              "<div>\n",
              "<style scoped>\n",
              "    .dataframe tbody tr th:only-of-type {\n",
              "        vertical-align: middle;\n",
              "    }\n",
              "\n",
              "    .dataframe tbody tr th {\n",
              "        vertical-align: top;\n",
              "    }\n",
              "\n",
              "    .dataframe thead th {\n",
              "        text-align: right;\n",
              "    }\n",
              "</style>\n",
              "<table border=\"1\" class=\"dataframe\">\n",
              "  <thead>\n",
              "    <tr style=\"text-align: right;\">\n",
              "      <th></th>\n",
              "      <th>0</th>\n",
              "      <th>1</th>\n",
              "      <th>2</th>\n",
              "    </tr>\n",
              "  </thead>\n",
              "  <tbody>\n",
              "    <tr>\n",
              "      <th>0</th>\n",
              "      <td>-1.610841</td>\n",
              "      <td>-1.026621</td>\n",
              "      <td>1.241573</td>\n",
              "    </tr>\n",
              "    <tr>\n",
              "      <th>1</th>\n",
              "      <td>-0.156760</td>\n",
              "      <td>-2.449096</td>\n",
              "      <td>-1.033948</td>\n",
              "    </tr>\n",
              "    <tr>\n",
              "      <th>2</th>\n",
              "      <td>1.599534</td>\n",
              "      <td>-2.449096</td>\n",
              "      <td>0.151326</td>\n",
              "    </tr>\n",
              "    <tr>\n",
              "      <th>3</th>\n",
              "      <td>-0.542173</td>\n",
              "      <td>-2.449096</td>\n",
              "      <td>0.106403</td>\n",
              "    </tr>\n",
              "    <tr>\n",
              "      <th>4</th>\n",
              "      <td>-1.308228</td>\n",
              "      <td>NaN</td>\n",
              "      <td>0.106403</td>\n",
              "    </tr>\n",
              "    <tr>\n",
              "      <th>5</th>\n",
              "      <td>-0.190481</td>\n",
              "      <td>NaN</td>\n",
              "      <td>0.106403</td>\n",
              "    </tr>\n",
              "  </tbody>\n",
              "</table>\n",
              "</div>"
            ],
            "text/plain": [
              "          0         1         2\n",
              "0 -1.610841 -1.026621  1.241573\n",
              "1 -0.156760 -2.449096 -1.033948\n",
              "2  1.599534 -2.449096  0.151326\n",
              "3 -0.542173 -2.449096  0.106403\n",
              "4 -1.308228       NaN  0.106403\n",
              "5 -0.190481       NaN  0.106403"
            ]
          },
          "metadata": {
            "tags": []
          },
          "execution_count": 68
        }
      ]
    },
    {
      "cell_type": "markdown",
      "metadata": {
        "id": "zJsjxfdo68FR"
      },
      "source": [
        "> fillna를 이용해서 매우 다양한 일을 할 수 있는데 예를 들어 Series의 평균값이나 중간값을 전달할 수도 있다."
      ]
    },
    {
      "cell_type": "code",
      "metadata": {
        "deletable": true,
        "editable": true,
        "colab": {
          "base_uri": "https://localhost:8080/"
        },
        "id": "d-q-SSLtrNtz",
        "outputId": "f6e8e324-b6b7-467e-a60c-6362ddb71e1e"
      },
      "source": [
        "data = pd.Series([1., NA, 3.5, NA, 7])\n",
        "data.fillna(data.mean())"
      ],
      "execution_count": null,
      "outputs": [
        {
          "output_type": "execute_result",
          "data": {
            "text/plain": [
              "0    1.000000\n",
              "1    3.833333\n",
              "2    3.500000\n",
              "3    3.833333\n",
              "4    7.000000\n",
              "dtype: float64"
            ]
          },
          "metadata": {
            "tags": []
          },
          "execution_count": 17
        }
      ]
    },
    {
      "cell_type": "code",
      "metadata": {
        "colab": {
          "base_uri": "https://localhost:8080/",
          "height": 465
        },
        "id": "xkr5vUN2AbeO",
        "outputId": "6d6b9fed-6651-4e65-a650-b95f37cefe7b"
      },
      "source": [
        "df = pd.DataFrame(\n",
        "                {'a' : [4, 5, 6],\n",
        "                 'b' : [7, NA, 9],\n",
        "                 'c' : [10, 11, 12],\n",
        "                 'd' : [13, 14, NA]},\n",
        "                )\n",
        "\n",
        "df\n",
        "df.dtypes\n",
        "print(\"\\n\")\n",
        "df = df.fillna(0.1, downcast='infer')\n",
        "df\n",
        "df.dtypes"
      ],
      "execution_count": null,
      "outputs": [
        {
          "output_type": "execute_result",
          "data": {
            "text/html": [
              "<div>\n",
              "<style scoped>\n",
              "    .dataframe tbody tr th:only-of-type {\n",
              "        vertical-align: middle;\n",
              "    }\n",
              "\n",
              "    .dataframe tbody tr th {\n",
              "        vertical-align: top;\n",
              "    }\n",
              "\n",
              "    .dataframe thead th {\n",
              "        text-align: right;\n",
              "    }\n",
              "</style>\n",
              "<table border=\"1\" class=\"dataframe\">\n",
              "  <thead>\n",
              "    <tr style=\"text-align: right;\">\n",
              "      <th></th>\n",
              "      <th>a</th>\n",
              "      <th>b</th>\n",
              "      <th>c</th>\n",
              "      <th>d</th>\n",
              "    </tr>\n",
              "  </thead>\n",
              "  <tbody>\n",
              "    <tr>\n",
              "      <th>0</th>\n",
              "      <td>4</td>\n",
              "      <td>7.0</td>\n",
              "      <td>10</td>\n",
              "      <td>13.0</td>\n",
              "    </tr>\n",
              "    <tr>\n",
              "      <th>1</th>\n",
              "      <td>5</td>\n",
              "      <td>NaN</td>\n",
              "      <td>11</td>\n",
              "      <td>14.0</td>\n",
              "    </tr>\n",
              "    <tr>\n",
              "      <th>2</th>\n",
              "      <td>6</td>\n",
              "      <td>9.0</td>\n",
              "      <td>12</td>\n",
              "      <td>NaN</td>\n",
              "    </tr>\n",
              "  </tbody>\n",
              "</table>\n",
              "</div>"
            ],
            "text/plain": [
              "   a    b   c     d\n",
              "0  4  7.0  10  13.0\n",
              "1  5  NaN  11  14.0\n",
              "2  6  9.0  12   NaN"
            ]
          },
          "metadata": {
            "tags": []
          },
          "execution_count": 66
        },
        {
          "output_type": "execute_result",
          "data": {
            "text/plain": [
              "a      int64\n",
              "b    float64\n",
              "c      int64\n",
              "d    float64\n",
              "dtype: object"
            ]
          },
          "metadata": {
            "tags": []
          },
          "execution_count": 66
        },
        {
          "output_type": "stream",
          "text": [
            "\n",
            "\n"
          ],
          "name": "stdout"
        },
        {
          "output_type": "execute_result",
          "data": {
            "text/html": [
              "<div>\n",
              "<style scoped>\n",
              "    .dataframe tbody tr th:only-of-type {\n",
              "        vertical-align: middle;\n",
              "    }\n",
              "\n",
              "    .dataframe tbody tr th {\n",
              "        vertical-align: top;\n",
              "    }\n",
              "\n",
              "    .dataframe thead th {\n",
              "        text-align: right;\n",
              "    }\n",
              "</style>\n",
              "<table border=\"1\" class=\"dataframe\">\n",
              "  <thead>\n",
              "    <tr style=\"text-align: right;\">\n",
              "      <th></th>\n",
              "      <th>a</th>\n",
              "      <th>b</th>\n",
              "      <th>c</th>\n",
              "      <th>d</th>\n",
              "    </tr>\n",
              "  </thead>\n",
              "  <tbody>\n",
              "    <tr>\n",
              "      <th>0</th>\n",
              "      <td>4</td>\n",
              "      <td>7.0</td>\n",
              "      <td>10</td>\n",
              "      <td>13.0</td>\n",
              "    </tr>\n",
              "    <tr>\n",
              "      <th>1</th>\n",
              "      <td>5</td>\n",
              "      <td>0.1</td>\n",
              "      <td>11</td>\n",
              "      <td>14.0</td>\n",
              "    </tr>\n",
              "    <tr>\n",
              "      <th>2</th>\n",
              "      <td>6</td>\n",
              "      <td>9.0</td>\n",
              "      <td>12</td>\n",
              "      <td>0.1</td>\n",
              "    </tr>\n",
              "  </tbody>\n",
              "</table>\n",
              "</div>"
            ],
            "text/plain": [
              "   a    b   c     d\n",
              "0  4  7.0  10  13.0\n",
              "1  5  0.1  11  14.0\n",
              "2  6  9.0  12   0.1"
            ]
          },
          "metadata": {
            "tags": []
          },
          "execution_count": 66
        },
        {
          "output_type": "execute_result",
          "data": {
            "text/plain": [
              "a      int64\n",
              "b    float64\n",
              "c      int64\n",
              "d    float64\n",
              "dtype: object"
            ]
          },
          "metadata": {
            "tags": []
          },
          "execution_count": 66
        }
      ]
    },
    {
      "cell_type": "markdown",
      "metadata": {
        "deletable": true,
        "editable": true,
        "id": "5biOH8cbrNuE"
      },
      "source": [
        "## Conclusion"
      ]
    }
  ]
}