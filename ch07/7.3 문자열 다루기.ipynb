{
  "nbformat": 4,
  "nbformat_minor": 0,
  "metadata": {
    "kernelspec": {
      "display_name": "Python 3",
      "language": "python",
      "name": "python3"
    },
    "language_info": {
      "codemirror_mode": {
        "name": "ipython",
        "version": 3
      },
      "file_extension": ".py",
      "mimetype": "text/x-python",
      "name": "python",
      "nbconvert_exporter": "python",
      "pygments_lexer": "ipython3",
      "version": "3.6.0"
    },
    "colab": {
      "name": "7.3 문자열 다루기.ipynb",
      "provenance": [],
      "collapsed_sections": []
    }
  },
  "cells": [
    {
      "cell_type": "code",
      "metadata": {
        "id": "a07okw8Bwv4R"
      },
      "source": [
        "from IPython.core.interactiveshell import InteractiveShell\n",
        "InteractiveShell.ast_node_interactivity = \"all\"\n",
        "import numpy as np\n",
        "import pandas as pd\n"
      ],
      "execution_count": 1,
      "outputs": []
    },
    {
      "cell_type": "markdown",
      "metadata": {
        "deletable": true,
        "editable": true,
        "id": "Gx7g3YyLjwXP"
      },
      "source": [
        "## 7.3 문자열 다루기 \n",
        "- 문자열 객체 메서드\n",
        "- 정규표현식\n",
        "- pandas의 벡터화된 문자열 다루기"
      ]
    },
    {
      "cell_type": "markdown",
      "metadata": {
        "deletable": true,
        "editable": true,
        "id": "fECIND_TjwXP"
      },
      "source": [
        "### 7.3.1 문자열 객체 메서드 (p.298)"
      ]
    },
    {
      "cell_type": "markdown",
      "metadata": {
        "id": "bYwJCbARsqoh"
      },
      "source": [
        "`split` : 문자열을 구분자를 기준으로 부분문자열의 리스트로 분리한다."
      ]
    },
    {
      "cell_type": "code",
      "metadata": {
        "deletable": true,
        "editable": true,
        "colab": {
          "base_uri": "https://localhost:8080/"
        },
        "id": "u6AR_tvKjwXP",
        "outputId": "90f1160a-bc54-4eb6-acbd-f7ee882ab52a"
      },
      "source": [
        "val = 'a,b,  guido' # Guido Van Rossum\n",
        "val.split(',')      # , 를 기준으로 분리"
      ],
      "execution_count": 2,
      "outputs": [
        {
          "output_type": "execute_result",
          "data": {
            "text/plain": [
              "['a', 'b', '  guido']"
            ]
          },
          "metadata": {
            "tags": []
          },
          "execution_count": 2
        }
      ]
    },
    {
      "cell_type": "markdown",
      "metadata": {
        "id": "iUuTDne_s8lK"
      },
      "source": [
        "`strip` : 개행 문자를 포함한 공백 문자를 제거한다.  \n"
      ]
    },
    {
      "cell_type": "code",
      "metadata": {
        "deletable": true,
        "editable": true,
        "colab": {
          "base_uri": "https://localhost:8080/"
        },
        "id": "9ayqFGsWjwXP",
        "outputId": "25aa0c2f-1f1f-4fe7-a38f-06ad12907180"
      },
      "source": [
        "pieces = [x.strip() for x in val.split(',')]    #comprehension\n",
        "pieces"
      ],
      "execution_count": 3,
      "outputs": [
        {
          "output_type": "execute_result",
          "data": {
            "text/plain": [
              "['a', 'b', 'guido']"
            ]
          },
          "metadata": {
            "tags": []
          },
          "execution_count": 3
        }
      ]
    },
    {
      "cell_type": "markdown",
      "metadata": {
        "id": "lxH7403QvCN9"
      },
      "source": [
        "`lstrip` : 시작부분에 있는 공백 문자만 제거 \n",
        "\n",
        "`rstrip` : 마지막 부분에 있는 공백 문자만 제거"
      ]
    },
    {
      "cell_type": "code",
      "metadata": {
        "colab": {
          "base_uri": "https://localhost:8080/"
        },
        "id": "1C-NkS4VtONc",
        "outputId": "200391fb-fed9-45dc-d5db-878e92a057a1"
      },
      "source": [
        "string = \"     안 녕 하 세 요     \"\n",
        "string.strip(),len(string.strip())\n",
        "string.lstrip(),len(string.lstrip())\n",
        "string.rstrip(),len(string.rstrip())\n"
      ],
      "execution_count": 4,
      "outputs": [
        {
          "output_type": "execute_result",
          "data": {
            "text/plain": [
              "('안 녕 하 세 요', 9)"
            ]
          },
          "metadata": {
            "tags": []
          },
          "execution_count": 4
        },
        {
          "output_type": "execute_result",
          "data": {
            "text/plain": [
              "('안 녕 하 세 요     ', 14)"
            ]
          },
          "metadata": {
            "tags": []
          },
          "execution_count": 4
        },
        {
          "output_type": "execute_result",
          "data": {
            "text/plain": [
              "('     안 녕 하 세 요', 14)"
            ]
          },
          "metadata": {
            "tags": []
          },
          "execution_count": 4
        }
      ]
    },
    {
      "cell_type": "markdown",
      "metadata": {
        "id": "_cPoVhEvvs0x"
      },
      "source": [
        "`join` : 문자열을 구분자로 하여 다른 문자열을 순서대로 이어붙인다."
      ]
    },
    {
      "cell_type": "code",
      "metadata": {
        "deletable": true,
        "editable": true,
        "colab": {
          "base_uri": "https://localhost:8080/",
          "height": 35
        },
        "id": "GUA6JvnGjwXP",
        "outputId": "a44d8783-21d1-4bc6-d7a9-01bb0ba9ea83"
      },
      "source": [
        "first, second, third = pieces           # unpacking\n",
        "first + '::' + second + '::' + third    # 더하기 연산"
      ],
      "execution_count": 5,
      "outputs": [
        {
          "output_type": "execute_result",
          "data": {
            "application/vnd.google.colaboratory.intrinsic+json": {
              "type": "string"
            },
            "text/plain": [
              "'a::b::guido'"
            ]
          },
          "metadata": {
            "tags": []
          },
          "execution_count": 5
        }
      ]
    },
    {
      "cell_type": "code",
      "metadata": {
        "deletable": true,
        "editable": true,
        "colab": {
          "base_uri": "https://localhost:8080/",
          "height": 35
        },
        "id": "JROsMQ_RjwXP",
        "outputId": "468b0ce6-d328-4585-d00d-28b4d61ea46c"
      },
      "source": [
        "'::'.join(pieces)          # ::를 구분자로 하여 순서대로 이어 붙인다!"
      ],
      "execution_count": 6,
      "outputs": [
        {
          "output_type": "execute_result",
          "data": {
            "application/vnd.google.colaboratory.intrinsic+json": {
              "type": "string"
            },
            "text/plain": [
              "'a::b::guido'"
            ]
          },
          "metadata": {
            "tags": []
          },
          "execution_count": 6
        }
      ]
    },
    {
      "cell_type": "markdown",
      "metadata": {
        "id": "NO-POZY7y85U"
      },
      "source": [
        "일치하는 부분문자열의 위치 찾는 방법\n",
        "1. `in` : 위치는 찾지 못하지만 있는 지 없는 지 알 수 있다\n",
        "2. `index` : 부분문자열의 첫 번째 글자의 위치를 반환한다. 없을 경우 -> ValueError\n",
        "3. `find` : 첫번째 부분문자열의 첫번째 글자의 위치를 반환한다. 없을 경우 -> return -1\n",
        "4. `rfind` : 마지막 부분문자열의 첫 번째 글자의 위치를 반환한다. 없을 경우 -> return -1\n",
        " "
      ]
    },
    {
      "cell_type": "code",
      "metadata": {
        "deletable": true,
        "editable": true,
        "colab": {
          "base_uri": "https://localhost:8080/"
        },
        "id": "FoGx4CUQjwXP",
        "outputId": "9087e528-4607-4a76-8c29-69cf65555461"
      },
      "source": [
        "# val = 'a,b,  guido'\n",
        "'guido' in val      # True\n",
        "val.index(',')      # 1\n",
        "val.find(',')       # 1\n",
        "val.rfind(',')      # 3"
      ],
      "execution_count": 14,
      "outputs": [
        {
          "output_type": "execute_result",
          "data": {
            "text/plain": [
              "True"
            ]
          },
          "metadata": {
            "tags": []
          },
          "execution_count": 14
        },
        {
          "output_type": "execute_result",
          "data": {
            "text/plain": [
              "1"
            ]
          },
          "metadata": {
            "tags": []
          },
          "execution_count": 14
        },
        {
          "output_type": "execute_result",
          "data": {
            "text/plain": [
              "1"
            ]
          },
          "metadata": {
            "tags": []
          },
          "execution_count": 14
        },
        {
          "output_type": "execute_result",
          "data": {
            "text/plain": [
              "3"
            ]
          },
          "metadata": {
            "tags": []
          },
          "execution_count": 14
        }
      ]
    },
    {
      "cell_type": "code",
      "metadata": {
        "deletable": true,
        "editable": true,
        "colab": {
          "base_uri": "https://localhost:8080/",
          "height": 208
        },
        "id": "shMXOqqFjwXP",
        "outputId": "3c5f66c9-1ca0-494d-fe12-74f8468a6e98"
      },
      "source": [
        "val.find(':')       # return -1\n",
        "val.index(':')      # ValueError  예외 발생"
      ],
      "execution_count": 15,
      "outputs": [
        {
          "output_type": "execute_result",
          "data": {
            "text/plain": [
              "-1"
            ]
          },
          "metadata": {
            "tags": []
          },
          "execution_count": 15
        },
        {
          "output_type": "error",
          "ename": "ValueError",
          "evalue": "ignored",
          "traceback": [
            "\u001b[0;31m---------------------------------------------------------------------------\u001b[0m",
            "\u001b[0;31mValueError\u001b[0m                                Traceback (most recent call last)",
            "\u001b[0;32m<ipython-input-15-6c15ac2ec66b>\u001b[0m in \u001b[0;36m<module>\u001b[0;34m()\u001b[0m\n\u001b[1;32m      1\u001b[0m \u001b[0mval\u001b[0m\u001b[0;34m.\u001b[0m\u001b[0mfind\u001b[0m\u001b[0;34m(\u001b[0m\u001b[0;34m':'\u001b[0m\u001b[0;34m)\u001b[0m       \u001b[0;31m# return -1\u001b[0m\u001b[0;34m\u001b[0m\u001b[0;34m\u001b[0m\u001b[0m\n\u001b[0;32m----> 2\u001b[0;31m \u001b[0mval\u001b[0m\u001b[0;34m.\u001b[0m\u001b[0mindex\u001b[0m\u001b[0;34m(\u001b[0m\u001b[0;34m':'\u001b[0m\u001b[0;34m)\u001b[0m      \u001b[0;31m# ValueError  예외 발생\u001b[0m\u001b[0;34m\u001b[0m\u001b[0;34m\u001b[0m\u001b[0m\n\u001b[0m",
            "\u001b[0;31mValueError\u001b[0m: substring not found"
          ]
        }
      ]
    },
    {
      "cell_type": "markdown",
      "metadata": {
        "id": "4nAJ-UgS0crq"
      },
      "source": [
        "`count` : 특정 부분문자열이 몇 건 발견되었는지 반환한다."
      ]
    },
    {
      "cell_type": "code",
      "metadata": {
        "deletable": true,
        "editable": true,
        "colab": {
          "base_uri": "https://localhost:8080/"
        },
        "id": "jS1PJD-YjwXQ",
        "outputId": "11275aeb-2454-4568-c1b8-066d0c863da6"
      },
      "source": [
        "# val = 'a,b,  guido'\n",
        "val.count(',')"
      ],
      "execution_count": 9,
      "outputs": [
        {
          "output_type": "execute_result",
          "data": {
            "text/plain": [
              "2"
            ]
          },
          "metadata": {
            "tags": []
          },
          "execution_count": 9
        }
      ]
    },
    {
      "cell_type": "markdown",
      "metadata": {
        "id": "Ua_dyRzmB9X0"
      },
      "source": [
        "`replace` : 문자열을 다른 문자열로 치환한다. "
      ]
    },
    {
      "cell_type": "code",
      "metadata": {
        "deletable": true,
        "editable": true,
        "colab": {
          "base_uri": "https://localhost:8080/",
          "height": 35
        },
        "id": "AMEJow8ljwXQ",
        "outputId": "693b6c89-9777-4d98-9428-1ed57717cf10"
      },
      "source": [
        "# val = 'a,b,  guido'\n",
        "val.replace(',', '::')\n",
        "val.replace(',', '')"
      ],
      "execution_count": 10,
      "outputs": [
        {
          "output_type": "execute_result",
          "data": {
            "application/vnd.google.colaboratory.intrinsic+json": {
              "type": "string"
            },
            "text/plain": [
              "'a::b::  guido'"
            ]
          },
          "metadata": {
            "tags": []
          },
          "execution_count": 10
        },
        {
          "output_type": "execute_result",
          "data": {
            "application/vnd.google.colaboratory.intrinsic+json": {
              "type": "string"
            },
            "text/plain": [
              "'ab  guido'"
            ]
          },
          "metadata": {
            "tags": []
          },
          "execution_count": 10
        }
      ]
    },
    {
      "cell_type": "markdown",
      "metadata": {
        "deletable": true,
        "editable": true,
        "id": "o7ZT3TIljwXQ"
      },
      "source": [
        "### 7.3.2 정규표현식"
      ]
    },
    {
      "cell_type": "markdown",
      "metadata": {
        "id": "Pvc5-VhxCzRH"
      },
      "source": [
        "regex : regular expression\n",
        "1. 패턴 매칭\n",
        "2. 치환\n",
        "3. 분리  \n",
        " \n",
        "[정규표현식 정리](https://hamait.tistory.com/342)"
      ]
    },
    {
      "cell_type": "code",
      "metadata": {
        "deletable": true,
        "editable": true,
        "colab": {
          "base_uri": "https://localhost:8080/"
        },
        "id": "XXIE50_rjwXQ",
        "outputId": "0533f6a0-64ea-4c6a-d816-e0dd7033240b"
      },
      "source": [
        "# regex : regular expression \n",
        "import re\n",
        "text = \"foo    bar\\t baz  \\tqux\"\n",
        "re.split('\\s+', text)       # \\s : 공백 문자,   + : 반복을 표현"
      ],
      "execution_count": 11,
      "outputs": [
        {
          "output_type": "execute_result",
          "data": {
            "text/plain": [
              "['foo', 'bar', 'baz', 'qux']"
            ]
          },
          "metadata": {
            "tags": []
          },
          "execution_count": 11
        }
      ]
    },
    {
      "cell_type": "code",
      "metadata": {
        "deletable": true,
        "editable": true,
        "colab": {
          "base_uri": "https://localhost:8080/"
        },
        "id": "0PhXYEfXjwXQ",
        "outputId": "1c394964-b5e0-451c-8137-fe6a602ada36"
      },
      "source": [
        "regex = re.compile('\\s+')   # 정규 표현식 컴파일하여 객체 생성 -> CPU 사용량을 아낄 수 있다!\n",
        "regex.split(text)           # split 실행"
      ],
      "execution_count": 12,
      "outputs": [
        {
          "output_type": "execute_result",
          "data": {
            "text/plain": [
              "['foo', 'bar', 'baz', 'qux']"
            ]
          },
          "metadata": {
            "tags": []
          },
          "execution_count": 12
        }
      ]
    },
    {
      "cell_type": "markdown",
      "metadata": {
        "id": "qL48bSyKEsGQ"
      },
      "source": [
        "`findall` : 문자열에서 겹치지않는 모든 발견된 패턴을 리스트로 반환한다."
      ]
    },
    {
      "cell_type": "code",
      "metadata": {
        "deletable": true,
        "editable": true,
        "colab": {
          "base_uri": "https://localhost:8080/"
        },
        "id": "q4ZDlB44jwXQ",
        "outputId": "c6d05fb2-b08f-4599-f598-4ee55754dd83"
      },
      "source": [
        "regex.findall(text)"
      ],
      "execution_count": 13,
      "outputs": [
        {
          "output_type": "execute_result",
          "data": {
            "text/plain": [
              "['    ', '\\t ', '  \\t']"
            ]
          },
          "metadata": {
            "tags": []
          },
          "execution_count": 13
        }
      ]
    },
    {
      "cell_type": "markdown",
      "metadata": {
        "id": "yGQC8nhzFRgc"
      },
      "source": [
        "`match` : 문자열의 시작점부터 패턴을 찾고 선택적으로 패턴 컴포넌트를 그룹으로 나눈다. 일치하는 경우 -> match 객체, 일치하지 않는 경우 -> None 반환  \n",
        "`serarch` : 문자열에서 패턴과 일치하는 내용을 검색하고 match 객체를 반환한다. `match`와 다른점은 시작부터 일치하는 내용만 찾지 않고 어디든 일치하는 내용이 있다면 반환한다."
      ]
    },
    {
      "cell_type": "code",
      "metadata": {
        "deletable": true,
        "editable": true,
        "id": "IQ28UyvQjwXQ"
      },
      "source": [
        "text = \"\"\"Dave dave@google.com\n",
        "Steve steve@gmail.com\n",
        "Rob rob@gmail.com\n",
        "Ryan ryan@yahoo.com\n",
        "\"\"\"\n",
        " # [] : 문자 선택을 표현, A-Z : A부터 Z까지, 0-9 : 0부터 9까지, ._%+\n",
        "pattern = r'[A-Z0-9._%+-]+@[A-Z0-9.-]+\\.[A-Z]{2,4}'     # r : raw\n",
        "\n",
        "\n",
        "# re.IGNORECASE 는 정규 표현식이 대소문자를 가리지 않도록 한다\n",
        "regex = re.compile(pattern, flags=re.IGNORECASE)"
      ],
      "execution_count": 16,
      "outputs": []
    },
    {
      "cell_type": "code",
      "metadata": {
        "deletable": true,
        "editable": true,
        "colab": {
          "base_uri": "https://localhost:8080/"
        },
        "id": "ZSXHs02NjwXQ",
        "outputId": "c0f02c2c-0131-43be-a2a0-7580c3ca72bd"
      },
      "source": [
        "regex.findall(text)"
      ],
      "execution_count": null,
      "outputs": [
        {
          "output_type": "execute_result",
          "data": {
            "text/plain": [
              "['dave@google.com', 'steve@gmail.com', 'rob@gmail.com', 'ryan@yahoo.com']"
            ]
          },
          "metadata": {
            "tags": []
          },
          "execution_count": 59
        }
      ]
    },
    {
      "cell_type": "code",
      "metadata": {
        "deletable": true,
        "editable": true,
        "colab": {
          "base_uri": "https://localhost:8080/",
          "height": 35
        },
        "id": "sbSaRBTmjwXQ",
        "outputId": "acf47515-4609-449e-a5b3-881178d41485"
      },
      "source": [
        "m = regex.search(text)\n",
        "m   # Match 객체 반환 \n",
        "text[m.start():m.end()]     # Match 객체는 시작점과 끝점만 알려준다."
      ],
      "execution_count": null,
      "outputs": [
        {
          "output_type": "execute_result",
          "data": {
            "text/plain": [
              "<re.Match object; span=(5, 20), match='dave@google.com'>"
            ]
          },
          "metadata": {
            "tags": []
          },
          "execution_count": 60
        },
        {
          "output_type": "execute_result",
          "data": {
            "application/vnd.google.colaboratory.intrinsic+json": {
              "type": "string"
            },
            "text/plain": [
              "'dave@google.com'"
            ]
          },
          "metadata": {
            "tags": []
          },
          "execution_count": 60
        }
      ]
    },
    {
      "cell_type": "code",
      "metadata": {
        "deletable": true,
        "editable": true,
        "colab": {
          "base_uri": "https://localhost:8080/"
        },
        "id": "n-GH8vL8jwXQ",
        "outputId": "58d9b8e4-4eb7-448e-85fb-b1351c0ea8bc"
      },
      "source": [
        "print(regex.match(text))    #match는 문자열의 시작점부터 끝까지 모두 일치해야하기 때문에 None"
      ],
      "execution_count": null,
      "outputs": [
        {
          "output_type": "stream",
          "text": [
            "None\n"
          ],
          "name": "stdout"
        }
      ]
    },
    {
      "cell_type": "code",
      "metadata": {
        "colab": {
          "base_uri": "https://localhost:8080/"
        },
        "id": "dtRIIWF3YmZE",
        "outputId": "4fd9655a-6be1-48dc-ee08-31765a51c2f0"
      },
      "source": [
        "text = \"\"\"dave@google.com\n",
        "steve@gmail.com\n",
        "rob@gmail.com\n",
        "ryan@yahoo.com\n",
        "\"\"\"\n",
        "print(regex.match(text))"
      ],
      "execution_count": null,
      "outputs": [
        {
          "output_type": "stream",
          "text": [
            "<re.Match object; span=(0, 15), match='dave@google.com'>\n"
          ],
          "name": "stdout"
        }
      ]
    },
    {
      "cell_type": "markdown",
      "metadata": {
        "id": "j6YCtsP5Xn44"
      },
      "source": [
        "`sub` : 문자열에서 일치하는 패턴(sub)을 주어진 문자열로 치환한다. "
      ]
    },
    {
      "cell_type": "code",
      "metadata": {
        "deletable": true,
        "editable": true,
        "colab": {
          "base_uri": "https://localhost:8080/"
        },
        "id": "04iv4cXtjwXQ",
        "outputId": "29f24d03-d4c3-4043-ebb1-aa021fe45e98"
      },
      "source": [
        "print(regex.sub('REDACTED', text))  # 이메일 패턴을 전부 REDACTED로 변경"
      ],
      "execution_count": null,
      "outputs": [
        {
          "output_type": "stream",
          "text": [
            "Dave REDACTED\n",
            "Steve REDACTED\n",
            "Rob REDACTED\n",
            "Ryan REDACTED\n",
            "\n"
          ],
          "name": "stdout"
        }
      ]
    },
    {
      "cell_type": "code",
      "metadata": {
        "deletable": true,
        "editable": true,
        "id": "0wyaGBAmjwXQ"
      },
      "source": [
        "# (사용자 이름)@(도메인 이름).(도메인 접미사)\n",
        "pattern = r'([A-Z0-9._%+-]+)@([A-Z0-9.-]+)\\.([A-Z]{2,4})'\n",
        "regex = re.compile(pattern, flags=re.IGNORECASE)"
      ],
      "execution_count": null,
      "outputs": []
    },
    {
      "cell_type": "code",
      "metadata": {
        "deletable": true,
        "editable": true,
        "colab": {
          "base_uri": "https://localhost:8080/"
        },
        "id": "Y9OD074sjwXR",
        "outputId": "212351c2-99a7-4873-ce09-1c490061be12"
      },
      "source": [
        "m = regex.match('wesm@bright.net')\n",
        "m.groups()              # 튜플 반환"
      ],
      "execution_count": null,
      "outputs": [
        {
          "output_type": "execute_result",
          "data": {
            "text/plain": [
              "('wesm', 'bright', 'net')"
            ]
          },
          "metadata": {
            "tags": []
          },
          "execution_count": 69
        }
      ]
    },
    {
      "cell_type": "code",
      "metadata": {
        "deletable": true,
        "editable": true,
        "colab": {
          "base_uri": "https://localhost:8080/"
        },
        "id": "D1sdAXsAjwXR",
        "outputId": "05c25b75-b763-4b02-cdc7-a6c1ee293777"
      },
      "source": [
        "regex.findall(text)     # 튜플 반환"
      ],
      "execution_count": null,
      "outputs": [
        {
          "output_type": "execute_result",
          "data": {
            "text/plain": [
              "[('dave', 'google', 'com'),\n",
              " ('steve', 'gmail', 'com'),\n",
              " ('rob', 'gmail', 'com'),\n",
              " ('ryan', 'yahoo', 'com')]"
            ]
          },
          "metadata": {
            "tags": []
          },
          "execution_count": 70
        }
      ]
    },
    {
      "cell_type": "code",
      "metadata": {
        "deletable": true,
        "editable": true,
        "colab": {
          "base_uri": "https://localhost:8080/"
        },
        "id": "P5Y5W0BMjwXR",
        "outputId": "39383dc5-9a6b-455a-c2c3-30104cac974c"
      },
      "source": [
        "print(regex.sub(r'Username: \\1, Domain: \\2, Suffix: \\3', text)) # \\1 : 첫번째로 찾은 그룹 ..."
      ],
      "execution_count": null,
      "outputs": [
        {
          "output_type": "stream",
          "text": [
            "Username: dave, Domain: google, Suffix: com\n",
            "Username: steve, Domain: gmail, Suffix: com\n",
            "Username: rob, Domain: gmail, Suffix: com\n",
            "Username: ryan, Domain: yahoo, Suffix: com\n",
            "\n"
          ],
          "name": "stdout"
        }
      ]
    },
    {
      "cell_type": "markdown",
      "metadata": {
        "deletable": true,
        "editable": true,
        "id": "Fdr7gFwcjwXR"
      },
      "source": [
        "### 7.3.3pandas의 벡터화된 문자열 함수"
      ]
    },
    {
      "cell_type": "code",
      "metadata": {
        "deletable": true,
        "editable": true,
        "colab": {
          "base_uri": "https://localhost:8080/"
        },
        "id": "N4crnqpgjwXR",
        "outputId": "4fdedf32-ea56-48b1-f82f-49a286a7fa39"
      },
      "source": [
        "data = {'Dave': 'dave@google.com', 'Steve': 'steve@gmail.com',\n",
        "        'Rob': 'rob@gmail.com', 'Wes': np.nan}  # 누락된 데이터\n",
        "data = pd.Series(data)\n",
        "data\n",
        "data.isnull()"
      ],
      "execution_count": 17,
      "outputs": [
        {
          "output_type": "execute_result",
          "data": {
            "text/plain": [
              "Dave     dave@google.com\n",
              "Steve    steve@gmail.com\n",
              "Rob        rob@gmail.com\n",
              "Wes                  NaN\n",
              "dtype: object"
            ]
          },
          "metadata": {
            "tags": []
          },
          "execution_count": 17
        },
        {
          "output_type": "execute_result",
          "data": {
            "text/plain": [
              "Dave     False\n",
              "Steve    False\n",
              "Rob      False\n",
              "Wes       True\n",
              "dtype: bool"
            ]
          },
          "metadata": {
            "tags": []
          },
          "execution_count": 17
        }
      ]
    },
    {
      "cell_type": "markdown",
      "metadata": {
        "id": "DfjHpcejaMy9"
      },
      "source": [
        "data.map을 사용해서 각 값에 적용(lambda 혹은 다른 함수를 넘겨서)할 수 있지만 이렇게 NaN값이 있을 때는 실패한다!!  \n",
        "이럴때 str 속성을 이용한다."
      ]
    },
    {
      "cell_type": "code",
      "metadata": {
        "colab": {
          "base_uri": "https://localhost:8080/"
        },
        "id": "ThAH28IFagpz",
        "outputId": "4c9a1063-4b43-49eb-e162-c2632000d4e2"
      },
      "source": [
        "data.map('My email is {}'.format)       # na_action='ignore'"
      ],
      "execution_count": 18,
      "outputs": [
        {
          "output_type": "execute_result",
          "data": {
            "text/plain": [
              "Dave     My email is dave@google.com\n",
              "Steve    My email is steve@gmail.com\n",
              "Rob        My email is rob@gmail.com\n",
              "Wes                  My email is nan\n",
              "dtype: object"
            ]
          },
          "metadata": {
            "tags": []
          },
          "execution_count": 18
        }
      ]
    },
    {
      "cell_type": "code",
      "metadata": {
        "deletable": true,
        "editable": true,
        "colab": {
          "base_uri": "https://localhost:8080/"
        },
        "id": "c2na_R49jwXR",
        "outputId": "3829be09-6a3b-46a5-b69c-607d9c12d04c"
      },
      "source": [
        "data.str.contains('gmail')"
      ],
      "execution_count": 19,
      "outputs": [
        {
          "output_type": "execute_result",
          "data": {
            "text/plain": [
              "Dave     False\n",
              "Steve     True\n",
              "Rob       True\n",
              "Wes        NaN\n",
              "dtype: object"
            ]
          },
          "metadata": {
            "tags": []
          },
          "execution_count": 19
        }
      ]
    },
    {
      "cell_type": "code",
      "metadata": {
        "deletable": true,
        "editable": true,
        "colab": {
          "base_uri": "https://localhost:8080/",
          "height": 107
        },
        "id": "FoedTMEkjwXR",
        "outputId": "dd7f7584-5a08-49b2-c817-f91b1014cb7c"
      },
      "source": [
        "pattern\n",
        "data.str.findall(pattern, flags=re.IGNORECASE)"
      ],
      "execution_count": 20,
      "outputs": [
        {
          "output_type": "execute_result",
          "data": {
            "application/vnd.google.colaboratory.intrinsic+json": {
              "type": "string"
            },
            "text/plain": [
              "'[A-Z0-9._%+-]+@[A-Z0-9.-]+\\\\.[A-Z]{2,4}'"
            ]
          },
          "metadata": {
            "tags": []
          },
          "execution_count": 20
        },
        {
          "output_type": "execute_result",
          "data": {
            "text/plain": [
              "Dave     [dave@google.com]\n",
              "Steve    [steve@gmail.com]\n",
              "Rob        [rob@gmail.com]\n",
              "Wes                    NaN\n",
              "dtype: object"
            ]
          },
          "metadata": {
            "tags": []
          },
          "execution_count": 20
        }
      ]
    },
    {
      "cell_type": "code",
      "metadata": {
        "deletable": true,
        "editable": true,
        "colab": {
          "base_uri": "https://localhost:8080/"
        },
        "id": "tUXNuBRojwXR",
        "outputId": "912f0ce5-7d85-4a42-d7a8-32213d03d43a"
      },
      "source": [
        "matches = data.str.match(pattern, flags=re.IGNORECASE)\n",
        "matches\n"
      ],
      "execution_count": 30,
      "outputs": [
        {
          "output_type": "execute_result",
          "data": {
            "text/plain": [
              "Dave     True\n",
              "Steve    True\n",
              "Rob      True\n",
              "Wes       NaN\n",
              "dtype: object"
            ]
          },
          "metadata": {
            "tags": []
          },
          "execution_count": 30
        }
      ]
    },
    {
      "cell_type": "code",
      "metadata": {
        "deletable": true,
        "editable": true,
        "colab": {
          "base_uri": "https://localhost:8080/",
          "height": 340
        },
        "id": "XYminXrXjwXR",
        "outputId": "64a034e4-4207-4653-e155-e45ac0c47f4a"
      },
      "source": [
        "matches.str.get(1)\n",
        "matches.str[0]"
      ],
      "execution_count": 31,
      "outputs": [
        {
          "output_type": "error",
          "ename": "AttributeError",
          "evalue": "ignored",
          "traceback": [
            "\u001b[0;31m---------------------------------------------------------------------------\u001b[0m",
            "\u001b[0;31mAttributeError\u001b[0m                            Traceback (most recent call last)",
            "\u001b[0;32m<ipython-input-31-17511b13bef9>\u001b[0m in \u001b[0;36m<module>\u001b[0;34m()\u001b[0m\n\u001b[0;32m----> 1\u001b[0;31m \u001b[0mmatches\u001b[0m\u001b[0;34m.\u001b[0m\u001b[0mstr\u001b[0m\u001b[0;34m.\u001b[0m\u001b[0mget\u001b[0m\u001b[0;34m(\u001b[0m\u001b[0;36m1\u001b[0m\u001b[0;34m)\u001b[0m\u001b[0;34m\u001b[0m\u001b[0;34m\u001b[0m\u001b[0m\n\u001b[0m\u001b[1;32m      2\u001b[0m \u001b[0mmatches\u001b[0m\u001b[0;34m.\u001b[0m\u001b[0mstr\u001b[0m\u001b[0;34m[\u001b[0m\u001b[0;36m0\u001b[0m\u001b[0;34m]\u001b[0m\u001b[0;34m\u001b[0m\u001b[0;34m\u001b[0m\u001b[0m\n",
            "\u001b[0;32m/usr/local/lib/python3.7/dist-packages/pandas/core/generic.py\u001b[0m in \u001b[0;36m__getattr__\u001b[0;34m(self, name)\u001b[0m\n\u001b[1;32m   5135\u001b[0m             \u001b[0;32mor\u001b[0m \u001b[0mname\u001b[0m \u001b[0;32min\u001b[0m \u001b[0mself\u001b[0m\u001b[0;34m.\u001b[0m\u001b[0m_accessors\u001b[0m\u001b[0;34m\u001b[0m\u001b[0;34m\u001b[0m\u001b[0m\n\u001b[1;32m   5136\u001b[0m         ):\n\u001b[0;32m-> 5137\u001b[0;31m             \u001b[0;32mreturn\u001b[0m \u001b[0mobject\u001b[0m\u001b[0;34m.\u001b[0m\u001b[0m__getattribute__\u001b[0m\u001b[0;34m(\u001b[0m\u001b[0mself\u001b[0m\u001b[0;34m,\u001b[0m \u001b[0mname\u001b[0m\u001b[0;34m)\u001b[0m\u001b[0;34m\u001b[0m\u001b[0;34m\u001b[0m\u001b[0m\n\u001b[0m\u001b[1;32m   5138\u001b[0m         \u001b[0;32melse\u001b[0m\u001b[0;34m:\u001b[0m\u001b[0;34m\u001b[0m\u001b[0;34m\u001b[0m\u001b[0m\n\u001b[1;32m   5139\u001b[0m             \u001b[0;32mif\u001b[0m \u001b[0mself\u001b[0m\u001b[0;34m.\u001b[0m\u001b[0m_info_axis\u001b[0m\u001b[0;34m.\u001b[0m\u001b[0m_can_hold_identifiers_and_holds_name\u001b[0m\u001b[0;34m(\u001b[0m\u001b[0mname\u001b[0m\u001b[0;34m)\u001b[0m\u001b[0;34m:\u001b[0m\u001b[0;34m\u001b[0m\u001b[0;34m\u001b[0m\u001b[0m\n",
            "\u001b[0;32m/usr/local/lib/python3.7/dist-packages/pandas/core/accessor.py\u001b[0m in \u001b[0;36m__get__\u001b[0;34m(self, obj, cls)\u001b[0m\n\u001b[1;32m    185\u001b[0m             \u001b[0;31m# we're accessing the attribute of the class, i.e., Dataset.geo\u001b[0m\u001b[0;34m\u001b[0m\u001b[0;34m\u001b[0m\u001b[0;34m\u001b[0m\u001b[0m\n\u001b[1;32m    186\u001b[0m             \u001b[0;32mreturn\u001b[0m \u001b[0mself\u001b[0m\u001b[0;34m.\u001b[0m\u001b[0m_accessor\u001b[0m\u001b[0;34m\u001b[0m\u001b[0;34m\u001b[0m\u001b[0m\n\u001b[0;32m--> 187\u001b[0;31m         \u001b[0maccessor_obj\u001b[0m \u001b[0;34m=\u001b[0m \u001b[0mself\u001b[0m\u001b[0;34m.\u001b[0m\u001b[0m_accessor\u001b[0m\u001b[0;34m(\u001b[0m\u001b[0mobj\u001b[0m\u001b[0;34m)\u001b[0m\u001b[0;34m\u001b[0m\u001b[0;34m\u001b[0m\u001b[0m\n\u001b[0m\u001b[1;32m    188\u001b[0m         \u001b[0;31m# Replace the property with the accessor object. Inspired by:\u001b[0m\u001b[0;34m\u001b[0m\u001b[0;34m\u001b[0m\u001b[0;34m\u001b[0m\u001b[0m\n\u001b[1;32m    189\u001b[0m         \u001b[0;31m# https://www.pydanny.com/cached-property.html\u001b[0m\u001b[0;34m\u001b[0m\u001b[0;34m\u001b[0m\u001b[0;34m\u001b[0m\u001b[0m\n",
            "\u001b[0;32m/usr/local/lib/python3.7/dist-packages/pandas/core/strings.py\u001b[0m in \u001b[0;36m__init__\u001b[0;34m(self, data)\u001b[0m\n\u001b[1;32m   2098\u001b[0m \u001b[0;34m\u001b[0m\u001b[0m\n\u001b[1;32m   2099\u001b[0m     \u001b[0;32mdef\u001b[0m \u001b[0m__init__\u001b[0m\u001b[0;34m(\u001b[0m\u001b[0mself\u001b[0m\u001b[0;34m,\u001b[0m \u001b[0mdata\u001b[0m\u001b[0;34m)\u001b[0m\u001b[0;34m:\u001b[0m\u001b[0;34m\u001b[0m\u001b[0;34m\u001b[0m\u001b[0m\n\u001b[0;32m-> 2100\u001b[0;31m         \u001b[0mself\u001b[0m\u001b[0;34m.\u001b[0m\u001b[0m_inferred_dtype\u001b[0m \u001b[0;34m=\u001b[0m \u001b[0mself\u001b[0m\u001b[0;34m.\u001b[0m\u001b[0m_validate\u001b[0m\u001b[0;34m(\u001b[0m\u001b[0mdata\u001b[0m\u001b[0;34m)\u001b[0m\u001b[0;34m\u001b[0m\u001b[0;34m\u001b[0m\u001b[0m\n\u001b[0m\u001b[1;32m   2101\u001b[0m         \u001b[0mself\u001b[0m\u001b[0;34m.\u001b[0m\u001b[0m_is_categorical\u001b[0m \u001b[0;34m=\u001b[0m \u001b[0mis_categorical_dtype\u001b[0m\u001b[0;34m(\u001b[0m\u001b[0mdata\u001b[0m\u001b[0;34m.\u001b[0m\u001b[0mdtype\u001b[0m\u001b[0;34m)\u001b[0m\u001b[0;34m\u001b[0m\u001b[0;34m\u001b[0m\u001b[0m\n\u001b[1;32m   2102\u001b[0m         \u001b[0mself\u001b[0m\u001b[0;34m.\u001b[0m\u001b[0m_is_string\u001b[0m \u001b[0;34m=\u001b[0m \u001b[0mdata\u001b[0m\u001b[0;34m.\u001b[0m\u001b[0mdtype\u001b[0m\u001b[0;34m.\u001b[0m\u001b[0mname\u001b[0m \u001b[0;34m==\u001b[0m \u001b[0;34m\"string\"\u001b[0m\u001b[0;34m\u001b[0m\u001b[0;34m\u001b[0m\u001b[0m\n",
            "\u001b[0;32m/usr/local/lib/python3.7/dist-packages/pandas/core/strings.py\u001b[0m in \u001b[0;36m_validate\u001b[0;34m(data)\u001b[0m\n\u001b[1;32m   2155\u001b[0m \u001b[0;34m\u001b[0m\u001b[0m\n\u001b[1;32m   2156\u001b[0m         \u001b[0;32mif\u001b[0m \u001b[0minferred_dtype\u001b[0m \u001b[0;32mnot\u001b[0m \u001b[0;32min\u001b[0m \u001b[0mallowed_types\u001b[0m\u001b[0;34m:\u001b[0m\u001b[0;34m\u001b[0m\u001b[0;34m\u001b[0m\u001b[0m\n\u001b[0;32m-> 2157\u001b[0;31m             \u001b[0;32mraise\u001b[0m \u001b[0mAttributeError\u001b[0m\u001b[0;34m(\u001b[0m\u001b[0;34m\"Can only use .str accessor with string values!\"\u001b[0m\u001b[0;34m)\u001b[0m\u001b[0;34m\u001b[0m\u001b[0;34m\u001b[0m\u001b[0m\n\u001b[0m\u001b[1;32m   2158\u001b[0m         \u001b[0;32mreturn\u001b[0m \u001b[0minferred_dtype\u001b[0m\u001b[0;34m\u001b[0m\u001b[0;34m\u001b[0m\u001b[0m\n\u001b[1;32m   2159\u001b[0m \u001b[0;34m\u001b[0m\u001b[0m\n",
            "\u001b[0;31mAttributeError\u001b[0m: Can only use .str accessor with string values!"
          ]
        }
      ]
    },
    {
      "cell_type": "code",
      "metadata": {
        "colab": {
          "base_uri": "https://localhost:8080/"
        },
        "id": "lRxROSehitM4",
        "outputId": "98c3e915-0d63-484f-c1dc-785a9584ca9d"
      },
      "source": [
        "data.str.get(1)\n",
        "data.str[0]"
      ],
      "execution_count": 32,
      "outputs": [
        {
          "output_type": "execute_result",
          "data": {
            "text/plain": [
              "Dave       a\n",
              "Steve      t\n",
              "Rob        o\n",
              "Wes      NaN\n",
              "dtype: object"
            ]
          },
          "metadata": {
            "tags": []
          },
          "execution_count": 32
        },
        {
          "output_type": "execute_result",
          "data": {
            "text/plain": [
              "Dave       d\n",
              "Steve      s\n",
              "Rob        r\n",
              "Wes      NaN\n",
              "dtype: object"
            ]
          },
          "metadata": {
            "tags": []
          },
          "execution_count": 32
        }
      ]
    },
    {
      "cell_type": "code",
      "metadata": {
        "deletable": true,
        "editable": true,
        "colab": {
          "base_uri": "https://localhost:8080/"
        },
        "id": "_VSYnD7JjwXR",
        "outputId": "84e51131-0eec-497f-a3e6-67d7d2ca8526"
      },
      "source": [
        "data.str[:5]"
      ],
      "execution_count": 23,
      "outputs": [
        {
          "output_type": "execute_result",
          "data": {
            "text/plain": [
              "Dave     dave@\n",
              "Steve    steve\n",
              "Rob      rob@g\n",
              "Wes        NaN\n",
              "dtype: object"
            ]
          },
          "metadata": {
            "tags": []
          },
          "execution_count": 23
        }
      ]
    },
    {
      "cell_type": "markdown",
      "metadata": {
        "deletable": true,
        "editable": true,
        "id": "ofNUeW2VjwXS"
      },
      "source": [
        "## 7.4 마치며,,,,"
      ]
    }
  ]
}