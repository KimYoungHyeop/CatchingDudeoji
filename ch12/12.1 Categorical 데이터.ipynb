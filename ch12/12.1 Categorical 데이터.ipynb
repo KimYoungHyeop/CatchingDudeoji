{
 "cells": [
  {
   "cell_type": "markdown",
   "metadata": {},
   "source": [
    "# 12 고급 pandas"
   ]
  },
  {
   "cell_type": "code",
   "execution_count": 2,
   "metadata": {
    "ExecuteTime": {
     "end_time": "2021-08-24T02:08:02.240090Z",
     "start_time": "2021-08-24T02:08:01.321691Z"
    }
   },
   "outputs": [],
   "source": [
    "import numpy as np\n",
    "import pandas as pd\n",
    "np.random.seed(12345)\n",
    "import matplotlib.pyplot as plt\n",
    "plt.rc('figure', figsize=(10, 6))\n",
    "PREVIOUS_MAX_ROWS = pd.options.display.max_rows\n",
    "pd.options.display.max_rows = 20\n",
    "np.set_printoptions(precision=4, suppress=True)\n",
    "\n",
    "from IPython.core.interactiveshell import InteractiveShell\n",
    "InteractiveShell.ast_node_interactivity = \"all\""
   ]
  },
  {
   "cell_type": "markdown",
   "metadata": {},
   "source": [
    "## 12.1 Categorical 데이터"
   ]
  },
  {
   "cell_type": "markdown",
   "metadata": {},
   "source": [
    "pandas의 `Categorical`형을 활용하여 pandas 메모리 사용량을 줄이고 성능을 개선할 수 있는 방법을 소개한다. 통계와 머신러닝에서 범주현 데이터를 활용하기 위한 도구들도 함께 소개!"
   ]
  },
  {
   "cell_type": "markdown",
   "metadata": {},
   "source": [
    "### 12.1.1 개발 배경과 동기"
   ]
  },
  {
   "cell_type": "markdown",
   "metadata": {},
   "source": [
    "하나의 컬럼에서 특정한 값이 반복되어 존재하는 경우는 흔하며 아래의 함수들을 통해 이들에 대한 정보를 확인할 수 있다.\n",
    "- unique : 배열에서 존재하는 값의 목록\n",
    "- value_counts : 배열에서 어떤 값이 몇개 들어있는가"
   ]
  },
  {
   "cell_type": "code",
   "execution_count": 3,
   "metadata": {
    "ExecuteTime": {
     "end_time": "2021-08-24T02:08:03.476097Z",
     "start_time": "2021-08-24T02:08:03.448173Z"
    }
   },
   "outputs": [
    {
     "data": {
      "text/plain": [
       "0     apple\n",
       "1    orange\n",
       "2     apple\n",
       "3     apple\n",
       "4     apple\n",
       "5    orange\n",
       "6     apple\n",
       "7     apple\n",
       "dtype: object"
      ]
     },
     "execution_count": 3,
     "metadata": {},
     "output_type": "execute_result"
    },
    {
     "data": {
      "text/plain": [
       "array(['apple', 'orange'], dtype=object)"
      ]
     },
     "execution_count": 3,
     "metadata": {},
     "output_type": "execute_result"
    },
    {
     "data": {
      "text/plain": [
       "apple     6\n",
       "orange    2\n",
       "dtype: int64"
      ]
     },
     "execution_count": 3,
     "metadata": {},
     "output_type": "execute_result"
    }
   ],
   "source": [
    "import numpy as np; import pandas as pd\n",
    "values = pd.Series(['apple', 'orange', 'apple',\n",
    "                    'apple'] * 2)\n",
    "values\n",
    "pd.unique(values)\n",
    "pd.value_counts(values)"
   ]
  },
  {
   "cell_type": "markdown",
   "metadata": {},
   "source": [
    "많은 데이터 시스템들은 이런 중복 데이터를 효율적으로 저장하고 계산할 수 있는가를 중점으로 개발되었다. 그 중 데이터웨어하우스라는 데이터 시스템에서는 실제 값을 나타내는 **차원 테이블**과 그 테이블을 참고하는 정수키를 사용한다.\n",
    "\n",
    "- 정수로 표현된 값 👉 **범주형, 사전형 표기법** 👉 `values`\n",
    "- 차원 테이블 👉 **범주, 사전, 단계 데이터** 👉 `dim`\n",
    "- 범주형 테이터를 가리키는 정수값 : **범주코드** 👉 `values`의 원소"
   ]
  },
  {
   "cell_type": "code",
   "execution_count": 14,
   "metadata": {
    "ExecuteTime": {
     "end_time": "2021-08-24T02:42:56.670279Z",
     "start_time": "2021-08-24T02:42:56.652328Z"
    }
   },
   "outputs": [
    {
     "data": {
      "text/plain": [
       "0     apple\n",
       "1    orange\n",
       "dtype: object"
      ]
     },
     "execution_count": 14,
     "metadata": {},
     "output_type": "execute_result"
    },
    {
     "data": {
      "text/plain": [
       "0    0\n",
       "1    1\n",
       "2    0\n",
       "3    0\n",
       "4    0\n",
       "5    1\n",
       "6    0\n",
       "7    0\n",
       "dtype: int64"
      ]
     },
     "execution_count": 14,
     "metadata": {},
     "output_type": "execute_result"
    }
   ],
   "source": [
    "dim = pd.Series(['apple', 'orange']) # 차원 테이블\n",
    "values = pd.Series([0, 1, 0, 0] * 2) # 정수키\n",
    "dim\n",
    "values"
   ]
  },
  {
   "cell_type": "code",
   "execution_count": 16,
   "metadata": {
    "ExecuteTime": {
     "end_time": "2021-08-24T03:00:20.505093Z",
     "start_time": "2021-08-24T03:00:20.487961Z"
    }
   },
   "outputs": [
    {
     "data": {
      "text/plain": [
       "0     apple\n",
       "1    orange\n",
       "0     apple\n",
       "0     apple\n",
       "0     apple\n",
       "1    orange\n",
       "0     apple\n",
       "0     apple\n",
       "dtype: object"
      ]
     },
     "execution_count": 16,
     "metadata": {},
     "output_type": "execute_result"
    }
   ],
   "source": [
    "# 키를 활용하여 원래 값 복구\n",
    "dim.take(values)"
   ]
  },
  {
   "cell_type": "markdown",
   "metadata": {},
   "source": [
    "📌 Series.take\n",
    "![image](https://user-images.githubusercontent.com/16831323/130546471-98288d35-e13d-4ee2-b6d1-ce7f1d408947.png)\n"
   ]
  },
  {
   "cell_type": "code",
   "execution_count": 18,
   "metadata": {
    "ExecuteTime": {
     "end_time": "2021-08-24T03:00:31.238806Z",
     "start_time": "2021-08-24T03:00:31.169990Z"
    },
    "scrolled": true
   },
   "outputs": [
    {
     "data": {
      "text/html": [
       "<div>\n",
       "<style scoped>\n",
       "    .dataframe tbody tr th:only-of-type {\n",
       "        vertical-align: middle;\n",
       "    }\n",
       "\n",
       "    .dataframe tbody tr th {\n",
       "        vertical-align: top;\n",
       "    }\n",
       "\n",
       "    .dataframe thead th {\n",
       "        text-align: right;\n",
       "    }\n",
       "</style>\n",
       "<table border=\"1\" class=\"dataframe\">\n",
       "  <thead>\n",
       "    <tr style=\"text-align: right;\">\n",
       "      <th></th>\n",
       "      <th>name</th>\n",
       "      <th>class</th>\n",
       "      <th>max_speed</th>\n",
       "    </tr>\n",
       "  </thead>\n",
       "  <tbody>\n",
       "    <tr>\n",
       "      <th>0</th>\n",
       "      <td>falcon</td>\n",
       "      <td>bird</td>\n",
       "      <td>389.0</td>\n",
       "    </tr>\n",
       "    <tr>\n",
       "      <th>2</th>\n",
       "      <td>parrot</td>\n",
       "      <td>bird</td>\n",
       "      <td>24.0</td>\n",
       "    </tr>\n",
       "    <tr>\n",
       "      <th>3</th>\n",
       "      <td>lion</td>\n",
       "      <td>mammal</td>\n",
       "      <td>80.5</td>\n",
       "    </tr>\n",
       "    <tr>\n",
       "      <th>1</th>\n",
       "      <td>monkey</td>\n",
       "      <td>mammal</td>\n",
       "      <td>NaN</td>\n",
       "    </tr>\n",
       "  </tbody>\n",
       "</table>\n",
       "</div>"
      ],
      "text/plain": [
       "     name   class  max_speed\n",
       "0  falcon    bird      389.0\n",
       "2  parrot    bird       24.0\n",
       "3    lion  mammal       80.5\n",
       "1  monkey  mammal        NaN"
      ]
     },
     "execution_count": 18,
     "metadata": {},
     "output_type": "execute_result"
    },
    {
     "data": {
      "text/html": [
       "<div>\n",
       "<style scoped>\n",
       "    .dataframe tbody tr th:only-of-type {\n",
       "        vertical-align: middle;\n",
       "    }\n",
       "\n",
       "    .dataframe tbody tr th {\n",
       "        vertical-align: top;\n",
       "    }\n",
       "\n",
       "    .dataframe thead th {\n",
       "        text-align: right;\n",
       "    }\n",
       "</style>\n",
       "<table border=\"1\" class=\"dataframe\">\n",
       "  <thead>\n",
       "    <tr style=\"text-align: right;\">\n",
       "      <th></th>\n",
       "      <th>name</th>\n",
       "      <th>class</th>\n",
       "      <th>max_speed</th>\n",
       "    </tr>\n",
       "  </thead>\n",
       "  <tbody>\n",
       "    <tr>\n",
       "      <th>0</th>\n",
       "      <td>falcon</td>\n",
       "      <td>bird</td>\n",
       "      <td>389.0</td>\n",
       "    </tr>\n",
       "    <tr>\n",
       "      <th>3</th>\n",
       "      <td>lion</td>\n",
       "      <td>mammal</td>\n",
       "      <td>80.5</td>\n",
       "    </tr>\n",
       "  </tbody>\n",
       "</table>\n",
       "</div>"
      ],
      "text/plain": [
       "     name   class  max_speed\n",
       "0  falcon    bird      389.0\n",
       "3    lion  mammal       80.5"
      ]
     },
     "execution_count": 18,
     "metadata": {},
     "output_type": "execute_result"
    },
    {
     "data": {
      "text/html": [
       "<div>\n",
       "<style scoped>\n",
       "    .dataframe tbody tr th:only-of-type {\n",
       "        vertical-align: middle;\n",
       "    }\n",
       "\n",
       "    .dataframe tbody tr th {\n",
       "        vertical-align: top;\n",
       "    }\n",
       "\n",
       "    .dataframe thead th {\n",
       "        text-align: right;\n",
       "    }\n",
       "</style>\n",
       "<table border=\"1\" class=\"dataframe\">\n",
       "  <thead>\n",
       "    <tr style=\"text-align: right;\">\n",
       "      <th></th>\n",
       "      <th>name</th>\n",
       "      <th>max_speed</th>\n",
       "    </tr>\n",
       "  </thead>\n",
       "  <tbody>\n",
       "    <tr>\n",
       "      <th>0</th>\n",
       "      <td>falcon</td>\n",
       "      <td>389.0</td>\n",
       "    </tr>\n",
       "    <tr>\n",
       "      <th>2</th>\n",
       "      <td>parrot</td>\n",
       "      <td>24.0</td>\n",
       "    </tr>\n",
       "    <tr>\n",
       "      <th>3</th>\n",
       "      <td>lion</td>\n",
       "      <td>80.5</td>\n",
       "    </tr>\n",
       "    <tr>\n",
       "      <th>1</th>\n",
       "      <td>monkey</td>\n",
       "      <td>NaN</td>\n",
       "    </tr>\n",
       "  </tbody>\n",
       "</table>\n",
       "</div>"
      ],
      "text/plain": [
       "     name  max_speed\n",
       "0  falcon      389.0\n",
       "2  parrot       24.0\n",
       "3    lion       80.5\n",
       "1  monkey        NaN"
      ]
     },
     "execution_count": 18,
     "metadata": {},
     "output_type": "execute_result"
    }
   ],
   "source": [
    "df = pd.DataFrame([('falcon', 'bird', 389.0),\n",
    "                   ('parrot', 'bird', 24.0),\n",
    "                   ('lion', 'mammal', 80.5),\n",
    "                   ('monkey', 'mammal', np.nan)],\n",
    "                  columns=['name', 'class', 'max_speed'],\n",
    "                  index=[0, 2, 3, 1])\n",
    "df\n",
    "df.take([0, 2], axis=0)\n",
    "df.take([0, 2], axis=1)"
   ]
  },
  {
   "cell_type": "markdown",
   "metadata": {},
   "source": [
    "이런한 범주형 표기법을 사용하면 분석 작업에서의 엄청난 성능 향상을 얻을 수 있다.\n",
    "\n",
    "😎 범주 코드를 변경하지 않는채로 범주형 데이터를 변형하는 것도 가능<br>\n",
    "- 범주형 데이터의 이름 변경하기\n",
    "- 기존 범주형 데이터의 순서를 바꾸지 않고 새로운 범주 추가하기"
   ]
  },
  {
   "cell_type": "markdown",
   "metadata": {},
   "source": [
    "### 12.1.2 pandas의 Categorical Type\n",
    "정수 기반의 범주형 데이터를 표현(또는 **인코딩**)할 수 있는 `Categorical`형이라고 하는 특수한 데이터형이 존재한다."
   ]
  },
  {
   "cell_type": "code",
   "execution_count": 19,
   "metadata": {
    "ExecuteTime": {
     "end_time": "2021-08-24T03:09:17.895944Z",
     "start_time": "2021-08-24T03:09:17.814647Z"
    }
   },
   "outputs": [
    {
     "data": {
      "text/html": [
       "<div>\n",
       "<style scoped>\n",
       "    .dataframe tbody tr th:only-of-type {\n",
       "        vertical-align: middle;\n",
       "    }\n",
       "\n",
       "    .dataframe tbody tr th {\n",
       "        vertical-align: top;\n",
       "    }\n",
       "\n",
       "    .dataframe thead th {\n",
       "        text-align: right;\n",
       "    }\n",
       "</style>\n",
       "<table border=\"1\" class=\"dataframe\">\n",
       "  <thead>\n",
       "    <tr style=\"text-align: right;\">\n",
       "      <th></th>\n",
       "      <th>basket_id</th>\n",
       "      <th>fruit</th>\n",
       "      <th>count</th>\n",
       "      <th>weight</th>\n",
       "    </tr>\n",
       "  </thead>\n",
       "  <tbody>\n",
       "    <tr>\n",
       "      <th>0</th>\n",
       "      <td>0</td>\n",
       "      <td>apple</td>\n",
       "      <td>5</td>\n",
       "      <td>3.858058</td>\n",
       "    </tr>\n",
       "    <tr>\n",
       "      <th>1</th>\n",
       "      <td>1</td>\n",
       "      <td>orange</td>\n",
       "      <td>8</td>\n",
       "      <td>2.612708</td>\n",
       "    </tr>\n",
       "    <tr>\n",
       "      <th>2</th>\n",
       "      <td>2</td>\n",
       "      <td>apple</td>\n",
       "      <td>4</td>\n",
       "      <td>2.995627</td>\n",
       "    </tr>\n",
       "    <tr>\n",
       "      <th>3</th>\n",
       "      <td>3</td>\n",
       "      <td>apple</td>\n",
       "      <td>7</td>\n",
       "      <td>2.614279</td>\n",
       "    </tr>\n",
       "    <tr>\n",
       "      <th>4</th>\n",
       "      <td>4</td>\n",
       "      <td>apple</td>\n",
       "      <td>12</td>\n",
       "      <td>2.990859</td>\n",
       "    </tr>\n",
       "    <tr>\n",
       "      <th>5</th>\n",
       "      <td>5</td>\n",
       "      <td>orange</td>\n",
       "      <td>8</td>\n",
       "      <td>3.845227</td>\n",
       "    </tr>\n",
       "    <tr>\n",
       "      <th>6</th>\n",
       "      <td>6</td>\n",
       "      <td>apple</td>\n",
       "      <td>5</td>\n",
       "      <td>0.033553</td>\n",
       "    </tr>\n",
       "    <tr>\n",
       "      <th>7</th>\n",
       "      <td>7</td>\n",
       "      <td>apple</td>\n",
       "      <td>4</td>\n",
       "      <td>0.425778</td>\n",
       "    </tr>\n",
       "  </tbody>\n",
       "</table>\n",
       "</div>"
      ],
      "text/plain": [
       "   basket_id   fruit  count    weight\n",
       "0          0   apple      5  3.858058\n",
       "1          1  orange      8  2.612708\n",
       "2          2   apple      4  2.995627\n",
       "3          3   apple      7  2.614279\n",
       "4          4   apple     12  2.990859\n",
       "5          5  orange      8  3.845227\n",
       "6          6   apple      5  0.033553\n",
       "7          7   apple      4  0.425778"
      ]
     },
     "execution_count": 19,
     "metadata": {},
     "output_type": "execute_result"
    }
   ],
   "source": [
    "fruits = ['apple', 'orange', 'apple', 'apple'] * 2\n",
    "N = len(fruits)\n",
    "df = pd.DataFrame({'fruit': fruits,\n",
    "                   'basket_id': np.arange(N),\n",
    "                   'count': np.random.randint(3, 15, size=N),\n",
    "                   'weight': np.random.uniform(0, 4, size=N)},\n",
    "                  columns=['basket_id', 'fruit', 'count', 'weight'])\n",
    "df"
   ]
  },
  {
   "cell_type": "code",
   "execution_count": 21,
   "metadata": {
    "ExecuteTime": {
     "end_time": "2021-08-24T03:11:19.187913Z",
     "start_time": "2021-08-24T03:11:19.154003Z"
    }
   },
   "outputs": [
    {
     "data": {
      "text/plain": [
       "0     apple\n",
       "1    orange\n",
       "2     apple\n",
       "3     apple\n",
       "4     apple\n",
       "5    orange\n",
       "6     apple\n",
       "7     apple\n",
       "Name: fruit, dtype: category\n",
       "Categories (2, object): ['apple', 'orange']"
      ]
     },
     "execution_count": 21,
     "metadata": {},
     "output_type": "execute_result"
    }
   ],
   "source": [
    "# 문자열 객체 배열 👉 범주형 데이터\n",
    "fruit_cat = df['fruit'].astype('category')\n",
    "fruit_cat"
   ]
  },
  {
   "cell_type": "code",
   "execution_count": 25,
   "metadata": {
    "ExecuteTime": {
     "end_time": "2021-08-24T04:26:51.916518Z",
     "start_time": "2021-08-24T04:26:51.881611Z"
    }
   },
   "outputs": [
    {
     "data": {
      "text/plain": [
       "['apple', 'orange', 'apple', 'apple', 'apple', 'orange', 'apple', 'apple']\n",
       "Categories (2, object): ['apple', 'orange']"
      ]
     },
     "execution_count": 25,
     "metadata": {},
     "output_type": "execute_result"
    },
    {
     "data": {
      "text/plain": [
       "pandas.core.arrays.categorical.Categorical"
      ]
     },
     "execution_count": 25,
     "metadata": {},
     "output_type": "execute_result"
    }
   ],
   "source": [
    "# fruit_cat의 값은 NumPy 배열이 아니라 pandas.Categorical의 인스턴스이다\n",
    "c = fruit_cat.values\n",
    "c\n",
    "type(c)"
   ]
  },
  {
   "cell_type": "markdown",
   "metadata": {},
   "source": [
    "- `Categorical` 객체는 `categories`와 `codes` 속성을 가진다."
   ]
  },
  {
   "cell_type": "code",
   "execution_count": 26,
   "metadata": {
    "ExecuteTime": {
     "end_time": "2021-08-24T04:40:57.611879Z",
     "start_time": "2021-08-24T04:40:57.577117Z"
    }
   },
   "outputs": [
    {
     "data": {
      "text/plain": [
       "Index(['apple', 'orange'], dtype='object')"
      ]
     },
     "execution_count": 26,
     "metadata": {},
     "output_type": "execute_result"
    },
    {
     "data": {
      "text/plain": [
       "array([0, 1, 0, 0, 0, 1, 0, 0], dtype=int8)"
      ]
     },
     "execution_count": 26,
     "metadata": {},
     "output_type": "execute_result"
    },
    {
     "data": {
      "text/plain": [
       "False"
      ]
     },
     "execution_count": 26,
     "metadata": {},
     "output_type": "execute_result"
    }
   ],
   "source": [
    "c.categories # The categories of this categorical.\n",
    "c.codes      # The category codes of this categorical.\n",
    "c.ordered    # Whether the categories have an ordered relationship."
   ]
  },
  {
   "cell_type": "code",
   "execution_count": 32,
   "metadata": {
    "ExecuteTime": {
     "end_time": "2021-08-24T04:42:59.816413Z",
     "start_time": "2021-08-24T04:42:59.698726Z"
    }
   },
   "outputs": [
    {
     "data": {
      "text/html": [
       "<div>\n",
       "<style scoped>\n",
       "    .dataframe tbody tr th:only-of-type {\n",
       "        vertical-align: middle;\n",
       "    }\n",
       "\n",
       "    .dataframe tbody tr th {\n",
       "        vertical-align: top;\n",
       "    }\n",
       "\n",
       "    .dataframe thead th {\n",
       "        text-align: right;\n",
       "    }\n",
       "</style>\n",
       "<table border=\"1\" class=\"dataframe\">\n",
       "  <thead>\n",
       "    <tr style=\"text-align: right;\">\n",
       "      <th></th>\n",
       "      <th>basket_id</th>\n",
       "      <th>fruit</th>\n",
       "      <th>count</th>\n",
       "      <th>weight</th>\n",
       "    </tr>\n",
       "  </thead>\n",
       "  <tbody>\n",
       "    <tr>\n",
       "      <th>0</th>\n",
       "      <td>0</td>\n",
       "      <td>apple</td>\n",
       "      <td>5</td>\n",
       "      <td>3.858058</td>\n",
       "    </tr>\n",
       "    <tr>\n",
       "      <th>1</th>\n",
       "      <td>1</td>\n",
       "      <td>orange</td>\n",
       "      <td>8</td>\n",
       "      <td>2.612708</td>\n",
       "    </tr>\n",
       "    <tr>\n",
       "      <th>2</th>\n",
       "      <td>2</td>\n",
       "      <td>apple</td>\n",
       "      <td>4</td>\n",
       "      <td>2.995627</td>\n",
       "    </tr>\n",
       "    <tr>\n",
       "      <th>3</th>\n",
       "      <td>3</td>\n",
       "      <td>apple</td>\n",
       "      <td>7</td>\n",
       "      <td>2.614279</td>\n",
       "    </tr>\n",
       "    <tr>\n",
       "      <th>4</th>\n",
       "      <td>4</td>\n",
       "      <td>apple</td>\n",
       "      <td>12</td>\n",
       "      <td>2.990859</td>\n",
       "    </tr>\n",
       "    <tr>\n",
       "      <th>5</th>\n",
       "      <td>5</td>\n",
       "      <td>orange</td>\n",
       "      <td>8</td>\n",
       "      <td>3.845227</td>\n",
       "    </tr>\n",
       "    <tr>\n",
       "      <th>6</th>\n",
       "      <td>6</td>\n",
       "      <td>apple</td>\n",
       "      <td>5</td>\n",
       "      <td>0.033553</td>\n",
       "    </tr>\n",
       "    <tr>\n",
       "      <th>7</th>\n",
       "      <td>7</td>\n",
       "      <td>apple</td>\n",
       "      <td>4</td>\n",
       "      <td>0.425778</td>\n",
       "    </tr>\n",
       "  </tbody>\n",
       "</table>\n",
       "</div>"
      ],
      "text/plain": [
       "   basket_id   fruit  count    weight\n",
       "0          0   apple      5  3.858058\n",
       "1          1  orange      8  2.612708\n",
       "2          2   apple      4  2.995627\n",
       "3          3   apple      7  2.614279\n",
       "4          4   apple     12  2.990859\n",
       "5          5  orange      8  3.845227\n",
       "6          6   apple      5  0.033553\n",
       "7          7   apple      4  0.425778"
      ]
     },
     "execution_count": 32,
     "metadata": {},
     "output_type": "execute_result"
    },
    {
     "name": "stdout",
     "output_type": "stream",
     "text": [
      "<class 'pandas.core.frame.DataFrame'>\n",
      "RangeIndex: 8 entries, 0 to 7\n",
      "Data columns (total 4 columns):\n",
      " #   Column     Non-Null Count  Dtype   \n",
      "---  ------     --------------  -----   \n",
      " 0   basket_id  8 non-null      int32   \n",
      " 1   fruit      8 non-null      category\n",
      " 2   count      8 non-null      int32   \n",
      " 3   weight     8 non-null      float64 \n",
      "dtypes: category(1), float64(1), int32(2)\n",
      "memory usage: 388.0 bytes\n"
     ]
    }
   ],
   "source": [
    "# df['fruit']을 categorical로 변경하여 대입\n",
    "df['fruit'] = df['fruit'].astype('category')\n",
    "df\n",
    "df.info()"
   ]
  },
  {
   "cell_type": "markdown",
   "metadata": {},
   "source": [
    "#### Sequential data → pandas.Categorical\n",
    "\n",
    "![image](https://user-images.githubusercontent.com/16831323/130558504-bd9647b5-7614-4358-b7dd-85b915b0fe3a.png)"
   ]
  },
  {
   "cell_type": "code",
   "execution_count": 33,
   "metadata": {
    "ExecuteTime": {
     "end_time": "2021-08-24T05:42:09.095279Z",
     "start_time": "2021-08-24T05:42:08.851857Z"
    }
   },
   "outputs": [
    {
     "data": {
      "text/plain": [
       "['foo', 'bar', 'baz', 'foo', 'bar']\n",
       "Categories (3, object): ['bar', 'baz', 'foo']"
      ]
     },
     "execution_count": 33,
     "metadata": {},
     "output_type": "execute_result"
    }
   ],
   "source": [
    "my_categories = pd.Categorical(['foo', 'bar', 'baz', 'foo', 'bar'])\n",
    "my_categories"
   ]
  },
  {
   "cell_type": "markdown",
   "metadata": {},
   "source": [
    "- 변수로 정의된 범주와 범주 코드를 이용하여 `Categorical`을 생성하는 것도 가능하다 👉 `from_codes`\n",
    "\n",
    "![image](https://user-images.githubusercontent.com/16831323/130566277-9540a01f-0c68-4999-bab5-73706f94419b.png)\n"
   ]
  },
  {
   "cell_type": "code",
   "execution_count": 34,
   "metadata": {
    "ExecuteTime": {
     "end_time": "2021-08-24T05:42:24.245351Z",
     "start_time": "2021-08-24T05:42:24.205459Z"
    }
   },
   "outputs": [
    {
     "data": {
      "text/plain": [
       "['foo', 'bar', 'baz', 'foo', 'foo', 'bar']\n",
       "Categories (3, object): ['foo', 'bar', 'baz']"
      ]
     },
     "execution_count": 34,
     "metadata": {},
     "output_type": "execute_result"
    }
   ],
   "source": [
    "categories = ['foo', 'bar', 'baz']\n",
    "codes = [0, 1, 2, 0, 0, 1]\n",
    "my_cats_2 = pd.Categorical.from_codes(codes, categories)\n",
    "my_cats_2"
   ]
  },
  {
   "cell_type": "code",
   "execution_count": 41,
   "metadata": {
    "ExecuteTime": {
     "end_time": "2021-08-24T06:22:35.834134Z",
     "start_time": "2021-08-24T06:22:35.807207Z"
    }
   },
   "outputs": [
    {
     "data": {
      "text/plain": [
       "['foo', 'bar', 'baz', 'foo', 'foo', 'bar']\n",
       "Categories (3, object): ['foo' < 'bar' < 'baz']"
      ]
     },
     "execution_count": 41,
     "metadata": {},
     "output_type": "execute_result"
    },
    {
     "data": {
      "text/plain": [
       "True"
      ]
     },
     "execution_count": 41,
     "metadata": {},
     "output_type": "execute_result"
    }
   ],
   "source": [
    "# 특정 순서를 보장하기 위해서는 ordered 파라미터를 사용\n",
    "ordered_cat = pd.Categorical.from_codes(codes, categories,\n",
    "                                        ordered=True)\n",
    "ordered_cat # 순서가 foo → bar → baz\n",
    "ordered_cat.ordered"
   ]
  },
  {
   "cell_type": "markdown",
   "metadata": {},
   "source": [
    "- 순서가 없는 범주형 인스턴스 → 순서가 잇는 범주형 인스턴스 : `as_ordered`"
   ]
  },
  {
   "cell_type": "code",
   "execution_count": 36,
   "metadata": {
    "ExecuteTime": {
     "end_time": "2021-08-24T05:42:24.841220Z",
     "start_time": "2021-08-24T05:42:24.803323Z"
    }
   },
   "outputs": [
    {
     "data": {
      "text/plain": [
       "['foo', 'bar', 'baz', 'foo', 'foo', 'bar']\n",
       "Categories (3, object): ['foo' < 'bar' < 'baz']"
      ]
     },
     "execution_count": 36,
     "metadata": {},
     "output_type": "execute_result"
    }
   ],
   "source": [
    "my_cats_2.as_ordered()"
   ]
  },
  {
   "cell_type": "markdown",
   "metadata": {},
   "source": [
    "예시를 문자열로만 들었었는데 범주형이 **꼭** 문자열일 필요는 없다. 범주형 배열은 변경이 불가능한 값이라면 <u>어떤</u> 자료형이라도 포함할 수 있다."
   ]
  },
  {
   "cell_type": "code",
   "execution_count": 43,
   "metadata": {
    "ExecuteTime": {
     "end_time": "2021-08-24T06:25:39.672843Z",
     "start_time": "2021-08-24T06:25:39.643921Z"
    }
   },
   "outputs": [
    {
     "data": {
      "text/plain": [
       "[1, 2, 3, 1, 1, 2]\n",
       "Categories (3, int64): [1, 2, 3]"
      ]
     },
     "execution_count": 43,
     "metadata": {},
     "output_type": "execute_result"
    }
   ],
   "source": [
    "categories = [1, 2, 3]\n",
    "codes = [0, 1, 2, 0, 0, 1]\n",
    "num_cats = pd.Categorical.from_codes(codes, categories)\n",
    "num_cats"
   ]
  },
  {
   "cell_type": "markdown",
   "metadata": {},
   "source": [
    "### 12.1.3 Categorical 연산\n",
    "- pandas에서 `Categorical`은 문자열 배열처럼 인코딩되지 않은 자료형을 사용하는 방식과 거의 유사하게 사용할 수 있다."
   ]
  },
  {
   "cell_type": "markdown",
   "metadata": {},
   "source": [
    "#### 연산 예시 : qcut\n",
    "![image](https://user-images.githubusercontent.com/16831323/130571415-c08bea9a-3f9e-439a-b11b-bca1bafc3e14.png)"
   ]
  },
  {
   "cell_type": "code",
   "execution_count": 44,
   "metadata": {
    "ExecuteTime": {
     "end_time": "2021-08-24T06:53:49.534266Z",
     "start_time": "2021-08-24T06:53:49.480218Z"
    }
   },
   "outputs": [
    {
     "data": {
      "text/plain": [
       "array([-0.2047,  0.4789, -0.5194, -0.5557,  1.9658])"
      ]
     },
     "execution_count": 44,
     "metadata": {},
     "output_type": "execute_result"
    }
   ],
   "source": [
    "np.random.seed(12345)\n",
    "draws = np.random.randn(1000) # 임의의 숫자 데이터\n",
    "draws[:5]"
   ]
  },
  {
   "cell_type": "code",
   "execution_count": 53,
   "metadata": {
    "ExecuteTime": {
     "end_time": "2021-08-24T07:07:02.169358Z",
     "start_time": "2021-08-24T07:07:02.141914Z"
    }
   },
   "outputs": [
    {
     "data": {
      "text/plain": [
       "[(-0.684, -0.0101], (-0.0101, 0.63], (-0.684, -0.0101], (-0.684, -0.0101], (0.63, 3.928], ..., (-0.0101, 0.63], (-0.684, -0.0101], (-2.9499999999999997, -0.684], (-0.0101, 0.63], (0.63, 3.928]]\n",
       "Length: 1000\n",
       "Categories (4, interval[float64]): [(-2.9499999999999997, -0.684] < (-0.684, -0.0101] < (-0.0101, 0.63] < (0.63, 3.928]]"
      ]
     },
     "execution_count": 53,
     "metadata": {},
     "output_type": "execute_result"
    },
    {
     "data": {
      "text/plain": [
       "array([1, 2, 1, 1, 3, 3, 2, 2, 3, 3], dtype=int8)"
      ]
     },
     "execution_count": 53,
     "metadata": {},
     "output_type": "execute_result"
    }
   ],
   "source": [
    "bins = pd.qcut(draws, 4) # 임의의 숫자 데이터를 사분위로 나눈다.\n",
    "bins # Categorical이 반환된다.\n",
    "bins.codes[:10]"
   ]
  },
  {
   "cell_type": "code",
   "execution_count": 56,
   "metadata": {
    "ExecuteTime": {
     "end_time": "2021-08-24T07:08:22.657734Z",
     "start_time": "2021-08-24T07:08:22.628812Z"
    }
   },
   "outputs": [
    {
     "data": {
      "text/plain": [
       "['Q2', 'Q3', 'Q2', 'Q2', 'Q4', ..., 'Q3', 'Q2', 'Q1', 'Q3', 'Q4']\n",
       "Length: 1000\n",
       "Categories (4, object): ['Q1' < 'Q2' < 'Q3' < 'Q4']"
      ]
     },
     "execution_count": 56,
     "metadata": {},
     "output_type": "execute_result"
    },
    {
     "data": {
      "text/plain": [
       "array([1, 2, 1, 1, 3, 3, 2, 2, 3, 3], dtype=int8)"
      ]
     },
     "execution_count": 56,
     "metadata": {},
     "output_type": "execute_result"
    }
   ],
   "source": [
    "bins = pd.qcut(draws, 4, labels=['Q1', 'Q2', 'Q3', 'Q4']) # 라벨 추가\n",
    "bins\n",
    "bins.codes[:10]"
   ]
  },
  {
   "cell_type": "code",
   "execution_count": 59,
   "metadata": {
    "ExecuteTime": {
     "end_time": "2021-08-24T07:10:34.540320Z",
     "start_time": "2021-08-24T07:10:34.502421Z"
    }
   },
   "outputs": [
    {
     "data": {
      "text/html": [
       "<div>\n",
       "<style scoped>\n",
       "    .dataframe tbody tr th:only-of-type {\n",
       "        vertical-align: middle;\n",
       "    }\n",
       "\n",
       "    .dataframe tbody tr th {\n",
       "        vertical-align: top;\n",
       "    }\n",
       "\n",
       "    .dataframe thead th {\n",
       "        text-align: right;\n",
       "    }\n",
       "</style>\n",
       "<table border=\"1\" class=\"dataframe\">\n",
       "  <thead>\n",
       "    <tr style=\"text-align: right;\">\n",
       "      <th></th>\n",
       "      <th>quartile</th>\n",
       "      <th>count</th>\n",
       "      <th>min</th>\n",
       "      <th>max</th>\n",
       "    </tr>\n",
       "  </thead>\n",
       "  <tbody>\n",
       "    <tr>\n",
       "      <th>0</th>\n",
       "      <td>Q1</td>\n",
       "      <td>250</td>\n",
       "      <td>-2.949343</td>\n",
       "      <td>-0.685484</td>\n",
       "    </tr>\n",
       "    <tr>\n",
       "      <th>1</th>\n",
       "      <td>Q2</td>\n",
       "      <td>250</td>\n",
       "      <td>-0.683066</td>\n",
       "      <td>-0.010115</td>\n",
       "    </tr>\n",
       "    <tr>\n",
       "      <th>2</th>\n",
       "      <td>Q3</td>\n",
       "      <td>250</td>\n",
       "      <td>-0.010032</td>\n",
       "      <td>0.628894</td>\n",
       "    </tr>\n",
       "    <tr>\n",
       "      <th>3</th>\n",
       "      <td>Q4</td>\n",
       "      <td>250</td>\n",
       "      <td>0.634238</td>\n",
       "      <td>3.927528</td>\n",
       "    </tr>\n",
       "  </tbody>\n",
       "</table>\n",
       "</div>"
      ],
      "text/plain": [
       "  quartile  count       min       max\n",
       "0       Q1    250 -2.949343 -0.685484\n",
       "1       Q2    250 -0.683066 -0.010115\n",
       "2       Q3    250 -0.010032  0.628894\n",
       "3       Q4    250  0.634238  3.927528"
      ]
     },
     "execution_count": 59,
     "metadata": {},
     "output_type": "execute_result"
    }
   ],
   "source": [
    "bins = pd.Series(bins, name='quartile')\n",
    "\n",
    "# 라벨을 붙이고 나면 데이터의 시작과 끝에 대한 정보를 포함하지 못하게 되므로\n",
    "# groupby를 이용해서 요약 통계를 내보자👊\n",
    "results = (pd.Series(draws)\n",
    "           .groupby(bins)\n",
    "           .agg(['count', 'min', 'max'])\n",
    "           .reset_index())\n",
    "results"
   ]
  },
  {
   "cell_type": "code",
   "execution_count": 60,
   "metadata": {
    "ExecuteTime": {
     "end_time": "2021-08-24T07:10:36.424747Z",
     "start_time": "2021-08-24T07:10:36.394829Z"
    }
   },
   "outputs": [
    {
     "data": {
      "text/plain": [
       "0    Q1\n",
       "1    Q2\n",
       "2    Q3\n",
       "3    Q4\n",
       "Name: quartile, dtype: category\n",
       "Categories (4, object): ['Q1' < 'Q2' < 'Q3' < 'Q4']"
      ]
     },
     "execution_count": 60,
     "metadata": {},
     "output_type": "execute_result"
    }
   ],
   "source": [
    "# 이때, quartile 컬럼의 bins의 순서를 포함한 원래 범주 정보를\n",
    "# 잘 유지하고 있다.\n",
    "results['quartile']"
   ]
  },
  {
   "cell_type": "markdown",
   "metadata": {},
   "source": [
    "#### categorical을 이용한 선능 개선\n",
    "특정 데이터셋 대해 다양한 분석을 하는 경우 범주형으로 변환하는 것만으로도 전체 성능을 개선할 수 있다.<br>\n",
    "👉 범주형에 대한 그룹 연산은 정수 기반의 코드 배열을 사용한다.<br>\n",
    "👉 연산 속도가 빠르며 메모리 역시 더 적게 사용한다."
   ]
  },
  {
   "cell_type": "code",
   "execution_count": 65,
   "metadata": {
    "ExecuteTime": {
     "end_time": "2021-08-24T07:24:58.405745Z",
     "start_time": "2021-08-24T07:24:54.998408Z"
    }
   },
   "outputs": [
    {
     "data": {
      "text/plain": [
       "0          foo\n",
       "1          bar\n",
       "2          baz\n",
       "3          qux\n",
       "4          foo\n",
       "          ... \n",
       "9999995    qux\n",
       "9999996    foo\n",
       "9999997    bar\n",
       "9999998    baz\n",
       "9999999    qux\n",
       "Length: 10000000, dtype: category\n",
       "Categories (4, object): ['bar', 'baz', 'foo', 'qux']"
      ]
     },
     "execution_count": 65,
     "metadata": {},
     "output_type": "execute_result"
    }
   ],
   "source": [
    "N = 10000000\n",
    "\n",
    "# 소수의 독립적인 카테고리로 분류디는 천만 개의 값을 포함하는 Series\n",
    "draws = pd.Series(np.random.randn(N))\n",
    "\n",
    "# Series → categorical\n",
    "labels = pd.Series(['foo', 'bar', 'baz', 'qux'] * (N // 4))\n",
    "categories = labels.astype('category')\n",
    "categories"
   ]
  },
  {
   "cell_type": "code",
   "execution_count": 66,
   "metadata": {
    "ExecuteTime": {
     "end_time": "2021-08-24T07:25:24.595829Z",
     "start_time": "2021-08-24T07:25:24.580868Z"
    }
   },
   "outputs": [
    {
     "data": {
      "text/plain": [
       "80000128"
      ]
     },
     "execution_count": 66,
     "metadata": {},
     "output_type": "execute_result"
    },
    {
     "data": {
      "text/plain": [
       "10000332"
      ]
     },
     "execution_count": 66,
     "metadata": {},
     "output_type": "execute_result"
    }
   ],
   "source": [
    "# 메모리 사용량 비교\n",
    "labels.memory_usage()     # 80000128\n",
    "categories.memory_usage() # 10000332"
   ]
  },
  {
   "cell_type": "code",
   "execution_count": 67,
   "metadata": {
    "ExecuteTime": {
     "end_time": "2021-08-24T07:27:01.153588Z",
     "start_time": "2021-08-24T07:27:01.118681Z"
    }
   },
   "outputs": [
    {
     "data": {
      "text/plain": [
       "50"
      ]
     },
     "execution_count": 67,
     "metadata": {},
     "output_type": "execute_result"
    },
    {
     "data": {
      "text/plain": [
       "28"
      ]
     },
     "execution_count": 67,
     "metadata": {},
     "output_type": "execute_result"
    },
    {
     "data": {
      "text/plain": [
       "28"
      ]
     },
     "execution_count": 67,
     "metadata": {},
     "output_type": "execute_result"
    }
   ],
   "source": [
    "import sys\n",
    "sys.getsizeof('1')\n",
    "sys.getsizeof(1)\n",
    "sys.getsizeof(True)"
   ]
  },
  {
   "cell_type": "code",
   "execution_count": 64,
   "metadata": {
    "ExecuteTime": {
     "end_time": "2021-08-24T07:23:04.756316Z",
     "start_time": "2021-08-24T07:23:02.867329Z"
    }
   },
   "outputs": [
    {
     "name": "stdout",
     "output_type": "stream",
     "text": [
      "Wall time: 1.86 s\n"
     ]
    }
   ],
   "source": [
    "# 범주형으로 변환하는 과정 역시 비용이 들기는 하지만 일회성이기 때문에 \n",
    "# 변환을 한 후 연산과정에서 범주형이 가지는이득이 \n",
    "# 변환 비용보다 더 크다😋\n",
    "%time _ = labels.astype('category')"
   ]
  },
  {
   "cell_type": "markdown",
   "metadata": {},
   "source": [
    "### 12.1.4 Categorical 메서드\n",
    "범주형 데이터를 담고 있는 Series가 가지는 특수한 메서드 몇가지를 알아보자👊"
   ]
  },
  {
   "cell_type": "code",
   "execution_count": 69,
   "metadata": {
    "ExecuteTime": {
     "end_time": "2021-08-24T07:40:26.437595Z",
     "start_time": "2021-08-24T07:40:26.405680Z"
    }
   },
   "outputs": [
    {
     "data": {
      "text/plain": [
       "0    a\n",
       "1    b\n",
       "2    c\n",
       "3    d\n",
       "4    a\n",
       "5    b\n",
       "6    c\n",
       "7    d\n",
       "dtype: category\n",
       "Categories (4, object): ['a', 'b', 'c', 'd']"
      ]
     },
     "execution_count": 69,
     "metadata": {},
     "output_type": "execute_result"
    }
   ],
   "source": [
    "s = pd.Series(['a', 'b', 'c', 'd'] * 2)\n",
    "cat_s = s.astype('category')\n",
    "cat_s"
   ]
  },
  {
   "cell_type": "code",
   "execution_count": 76,
   "metadata": {
    "ExecuteTime": {
     "end_time": "2021-08-24T07:43:30.680029Z",
     "start_time": "2021-08-24T07:43:30.665069Z"
    }
   },
   "outputs": [
    {
     "data": {
      "text/plain": [
       "<bound method Series._get_values of 0    a\n",
       "1    b\n",
       "2    c\n",
       "3    d\n",
       "4    a\n",
       "5    b\n",
       "6    c\n",
       "7    d\n",
       "dtype: category\n",
       "Categories (4, object): ['a', 'b', 'c', 'd']>"
      ]
     },
     "execution_count": 76,
     "metadata": {},
     "output_type": "execute_result"
    }
   ],
   "source": [
    "cat_s._get_values"
   ]
  },
  {
   "cell_type": "code",
   "execution_count": 77,
   "metadata": {
    "ExecuteTime": {
     "end_time": "2021-08-24T07:43:36.067754Z",
     "start_time": "2021-08-24T07:43:36.038831Z"
    }
   },
   "outputs": [
    {
     "data": {
      "text/plain": [
       "0    0\n",
       "1    1\n",
       "2    2\n",
       "3    3\n",
       "4    0\n",
       "5    1\n",
       "6    2\n",
       "7    3\n",
       "dtype: int8"
      ]
     },
     "execution_count": 77,
     "metadata": {},
     "output_type": "execute_result"
    },
    {
     "data": {
      "text/plain": [
       "Index(['a', 'b', 'c', 'd'], dtype='object')"
      ]
     },
     "execution_count": 77,
     "metadata": {},
     "output_type": "execute_result"
    }
   ],
   "source": [
    "cat_s.cat.codes\n",
    "cat_s.cat.categories"
   ]
  },
  {
   "cell_type": "markdown",
   "metadata": {
    "ExecuteTime": {
     "end_time": "2021-08-24T07:48:36.178727Z",
     "start_time": "2021-08-24T07:48:36.157785Z"
    }
   },
   "source": [
    "- 특별한 속성인 `cat`를 통해 `categorical` 메서드에 접근할 수 있다."
   ]
  },
  {
   "cell_type": "code",
   "execution_count": 79,
   "metadata": {
    "ExecuteTime": {
     "end_time": "2021-08-24T07:48:48.873116Z",
     "start_time": "2021-08-24T07:48:48.798317Z"
    }
   },
   "outputs": [
    {
     "name": "stdout",
     "output_type": "stream",
     "text": [
      "Help on class CategoricalAccessor in module pandas.core.arrays.categorical:\n",
      "\n",
      "class CategoricalAccessor(pandas.core.accessor.PandasDelegate, pandas.core.base.PandasObject, pandas.core.base.NoNewAttributesMixin)\n",
      " |  CategoricalAccessor(data)\n",
      " |  \n",
      " |  Accessor object for categorical properties of the Series values.\n",
      " |  \n",
      " |  Be aware that assigning to `categories` is a inplace operation, while all\n",
      " |  methods return new categorical data per default (but can be called with\n",
      " |  `inplace=True`).\n",
      " |  \n",
      " |  Parameters\n",
      " |  ----------\n",
      " |  data : Series or CategoricalIndex\n",
      " |  \n",
      " |  Examples\n",
      " |  --------\n",
      " |  >>> s = pd.Series(list(\"abbccc\")).astype(\"category\")\n",
      " |  >>> s\n",
      " |  0    a\n",
      " |  1    b\n",
      " |  2    b\n",
      " |  3    c\n",
      " |  4    c\n",
      " |  5    c\n",
      " |  dtype: category\n",
      " |  Categories (3, object): ['a', 'b', 'c']\n",
      " |  \n",
      " |  >>> s.cat.categories\n",
      " |  Index(['a', 'b', 'c'], dtype='object')\n",
      " |  \n",
      " |  >>> s.cat.rename_categories(list(\"cba\"))\n",
      " |  0    c\n",
      " |  1    b\n",
      " |  2    b\n",
      " |  3    a\n",
      " |  4    a\n",
      " |  5    a\n",
      " |  dtype: category\n",
      " |  Categories (3, object): ['c', 'b', 'a']\n",
      " |  \n",
      " |  >>> s.cat.reorder_categories(list(\"cba\"))\n",
      " |  0    a\n",
      " |  1    b\n",
      " |  2    b\n",
      " |  3    c\n",
      " |  4    c\n",
      " |  5    c\n",
      " |  dtype: category\n",
      " |  Categories (3, object): ['c', 'b', 'a']\n",
      " |  \n",
      " |  >>> s.cat.add_categories([\"d\", \"e\"])\n",
      " |  0    a\n",
      " |  1    b\n",
      " |  2    b\n",
      " |  3    c\n",
      " |  4    c\n",
      " |  5    c\n",
      " |  dtype: category\n",
      " |  Categories (5, object): ['a', 'b', 'c', 'd', 'e']\n",
      " |  \n",
      " |  >>> s.cat.remove_categories([\"a\", \"c\"])\n",
      " |  0    NaN\n",
      " |  1      b\n",
      " |  2      b\n",
      " |  3    NaN\n",
      " |  4    NaN\n",
      " |  5    NaN\n",
      " |  dtype: category\n",
      " |  Categories (1, object): ['b']\n",
      " |  \n",
      " |  >>> s1 = s.cat.add_categories([\"d\", \"e\"])\n",
      " |  >>> s1.cat.remove_unused_categories()\n",
      " |  0    a\n",
      " |  1    b\n",
      " |  2    b\n",
      " |  3    c\n",
      " |  4    c\n",
      " |  5    c\n",
      " |  dtype: category\n",
      " |  Categories (3, object): ['a', 'b', 'c']\n",
      " |  \n",
      " |  >>> s.cat.set_categories(list(\"abcde\"))\n",
      " |  0    a\n",
      " |  1    b\n",
      " |  2    b\n",
      " |  3    c\n",
      " |  4    c\n",
      " |  5    c\n",
      " |  dtype: category\n",
      " |  Categories (5, object): ['a', 'b', 'c', 'd', 'e']\n",
      " |  \n",
      " |  >>> s.cat.as_ordered()\n",
      " |  0    a\n",
      " |  1    b\n",
      " |  2    b\n",
      " |  3    c\n",
      " |  4    c\n",
      " |  5    c\n",
      " |  dtype: category\n",
      " |  Categories (3, object): ['a' < 'b' < 'c']\n",
      " |  \n",
      " |  >>> s.cat.as_unordered()\n",
      " |  0    a\n",
      " |  1    b\n",
      " |  2    b\n",
      " |  3    c\n",
      " |  4    c\n",
      " |  5    c\n",
      " |  dtype: category\n",
      " |  Categories (3, object): ['a', 'b', 'c']\n",
      " |  \n",
      " |  Method resolution order:\n",
      " |      CategoricalAccessor\n",
      " |      pandas.core.accessor.PandasDelegate\n",
      " |      pandas.core.base.PandasObject\n",
      " |      pandas.core.accessor.DirNamesMixin\n",
      " |      pandas.core.base.NoNewAttributesMixin\n",
      " |      builtins.object\n",
      " |  \n",
      " |  Methods defined here:\n",
      " |  \n",
      " |  __init__(self, data)\n",
      " |      Initialize self.  See help(type(self)) for accurate signature.\n",
      " |  \n",
      " |  add_categories(self, *args, **kwargs)\n",
      " |      Add new categories.\n",
      " |      \n",
      " |      `new_categories` will be included at the last/highest place in the\n",
      " |      categories and will be unused directly after this call.\n",
      " |      \n",
      " |      Parameters\n",
      " |      ----------\n",
      " |      new_categories : category or list-like of category\n",
      " |         The new categories to be included.\n",
      " |      inplace : bool, default False\n",
      " |         Whether or not to add the categories inplace or return a copy of\n",
      " |         this categorical with added categories.\n",
      " |      \n",
      " |      Returns\n",
      " |      -------\n",
      " |      cat : Categorical or None\n",
      " |          Categorical with new categories added or None if ``inplace=True``.\n",
      " |      \n",
      " |      Raises\n",
      " |      ------\n",
      " |      ValueError\n",
      " |          If the new categories include old categories or do not validate as\n",
      " |          categories\n",
      " |      \n",
      " |      See Also\n",
      " |      --------\n",
      " |      rename_categories : Rename categories.\n",
      " |      reorder_categories : Reorder categories.\n",
      " |      remove_categories : Remove the specified categories.\n",
      " |      remove_unused_categories : Remove categories which are not used.\n",
      " |      set_categories : Set the categories to the specified ones.\n",
      " |  \n",
      " |  as_ordered(self, *args, **kwargs)\n",
      " |      Set the Categorical to be ordered.\n",
      " |      \n",
      " |      Parameters\n",
      " |      ----------\n",
      " |      inplace : bool, default False\n",
      " |         Whether or not to set the ordered attribute in-place or return\n",
      " |         a copy of this categorical with ordered set to True.\n",
      " |      \n",
      " |      Returns\n",
      " |      -------\n",
      " |      Categorical or None\n",
      " |          Ordered Categorical or None if ``inplace=True``.\n",
      " |  \n",
      " |  as_unordered(self, *args, **kwargs)\n",
      " |      Set the Categorical to be unordered.\n",
      " |      \n",
      " |      Parameters\n",
      " |      ----------\n",
      " |      inplace : bool, default False\n",
      " |         Whether or not to set the ordered attribute in-place or return\n",
      " |         a copy of this categorical with ordered set to False.\n",
      " |      \n",
      " |      Returns\n",
      " |      -------\n",
      " |      Categorical or None\n",
      " |          Unordered Categorical or None if ``inplace=True``.\n",
      " |  \n",
      " |  remove_categories(self, *args, **kwargs)\n",
      " |      Remove the specified categories.\n",
      " |      \n",
      " |      `removals` must be included in the old categories. Values which were in\n",
      " |      the removed categories will be set to NaN\n",
      " |      \n",
      " |      Parameters\n",
      " |      ----------\n",
      " |      removals : category or list of categories\n",
      " |         The categories which should be removed.\n",
      " |      inplace : bool, default False\n",
      " |         Whether or not to remove the categories inplace or return a copy of\n",
      " |         this categorical with removed categories.\n",
      " |      \n",
      " |      Returns\n",
      " |      -------\n",
      " |      cat : Categorical or None\n",
      " |          Categorical with removed categories or None if ``inplace=True``.\n",
      " |      \n",
      " |      Raises\n",
      " |      ------\n",
      " |      ValueError\n",
      " |          If the removals are not contained in the categories\n",
      " |      \n",
      " |      See Also\n",
      " |      --------\n",
      " |      rename_categories : Rename categories.\n",
      " |      reorder_categories : Reorder categories.\n",
      " |      add_categories : Add new categories.\n",
      " |      remove_unused_categories : Remove categories which are not used.\n",
      " |      set_categories : Set the categories to the specified ones.\n",
      " |  \n",
      " |  remove_unused_categories(self, *args, **kwargs)\n",
      " |      Remove categories which are not used.\n",
      " |      \n",
      " |      Parameters\n",
      " |      ----------\n",
      " |      inplace : bool, default False\n",
      " |         Whether or not to drop unused categories inplace or return a copy of\n",
      " |         this categorical with unused categories dropped.\n",
      " |      \n",
      " |         .. deprecated:: 1.2.0\n",
      " |      \n",
      " |      Returns\n",
      " |      -------\n",
      " |      cat : Categorical or None\n",
      " |          Categorical with unused categories dropped or None if ``inplace=True``.\n",
      " |      \n",
      " |      See Also\n",
      " |      --------\n",
      " |      rename_categories : Rename categories.\n",
      " |      reorder_categories : Reorder categories.\n",
      " |      add_categories : Add new categories.\n",
      " |      remove_categories : Remove the specified categories.\n",
      " |      set_categories : Set the categories to the specified ones.\n",
      " |  \n",
      " |  rename_categories(self, *args, **kwargs)\n",
      " |      Rename categories.\n",
      " |      \n",
      " |      Parameters\n",
      " |      ----------\n",
      " |      new_categories : list-like, dict-like or callable\n",
      " |      \n",
      " |          New categories which will replace old categories.\n",
      " |      \n",
      " |          * list-like: all items must be unique and the number of items in\n",
      " |            the new categories must match the existing number of categories.\n",
      " |      \n",
      " |          * dict-like: specifies a mapping from\n",
      " |            old categories to new. Categories not contained in the mapping\n",
      " |            are passed through and extra categories in the mapping are\n",
      " |            ignored.\n",
      " |      \n",
      " |          * callable : a callable that is called on all items in the old\n",
      " |            categories and whose return values comprise the new categories.\n",
      " |      \n",
      " |      inplace : bool, default False\n",
      " |          Whether or not to rename the categories inplace or return a copy of\n",
      " |          this categorical with renamed categories.\n",
      " |      \n",
      " |      Returns\n",
      " |      -------\n",
      " |      cat : Categorical or None\n",
      " |          Categorical with removed categories or None if ``inplace=True``.\n",
      " |      \n",
      " |      Raises\n",
      " |      ------\n",
      " |      ValueError\n",
      " |          If new categories are list-like and do not have the same number of\n",
      " |          items than the current categories or do not validate as categories\n",
      " |      \n",
      " |      See Also\n",
      " |      --------\n",
      " |      reorder_categories : Reorder categories.\n",
      " |      add_categories : Add new categories.\n",
      " |      remove_categories : Remove the specified categories.\n",
      " |      remove_unused_categories : Remove categories which are not used.\n",
      " |      set_categories : Set the categories to the specified ones.\n",
      " |      \n",
      " |      Examples\n",
      " |      --------\n",
      " |      >>> c = pd.Categorical(['a', 'a', 'b'])\n",
      " |      >>> c.rename_categories([0, 1])\n",
      " |      [0, 0, 1]\n",
      " |      Categories (2, int64): [0, 1]\n",
      " |      \n",
      " |      For dict-like ``new_categories``, extra keys are ignored and\n",
      " |      categories not in the dictionary are passed through\n",
      " |      \n",
      " |      >>> c.rename_categories({'a': 'A', 'c': 'C'})\n",
      " |      ['A', 'A', 'b']\n",
      " |      Categories (2, object): ['A', 'b']\n",
      " |      \n",
      " |      You may also provide a callable to create the new categories\n",
      " |      \n",
      " |      >>> c.rename_categories(lambda x: x.upper())\n",
      " |      ['A', 'A', 'B']\n",
      " |      Categories (2, object): ['A', 'B']\n",
      " |  \n",
      " |  reorder_categories(self, *args, **kwargs)\n",
      " |      Reorder categories as specified in new_categories.\n",
      " |      \n",
      " |      `new_categories` need to include all old categories and no new category\n",
      " |      items.\n",
      " |      \n",
      " |      Parameters\n",
      " |      ----------\n",
      " |      new_categories : Index-like\n",
      " |         The categories in new order.\n",
      " |      ordered : bool, optional\n",
      " |         Whether or not the categorical is treated as a ordered categorical.\n",
      " |         If not given, do not change the ordered information.\n",
      " |      inplace : bool, default False\n",
      " |         Whether or not to reorder the categories inplace or return a copy of\n",
      " |         this categorical with reordered categories.\n",
      " |      \n",
      " |      Returns\n",
      " |      -------\n",
      " |      cat : Categorical or None\n",
      " |          Categorical with removed categories or None if ``inplace=True``.\n",
      " |      \n",
      " |      Raises\n",
      " |      ------\n",
      " |      ValueError\n",
      " |          If the new categories do not contain all old category items or any\n",
      " |          new ones\n",
      " |      \n",
      " |      See Also\n",
      " |      --------\n",
      " |      rename_categories : Rename categories.\n",
      " |      add_categories : Add new categories.\n",
      " |      remove_categories : Remove the specified categories.\n",
      " |      remove_unused_categories : Remove categories which are not used.\n",
      " |      set_categories : Set the categories to the specified ones.\n",
      " |  \n",
      " |  set_categories(self, *args, **kwargs)\n",
      " |      Set the categories to the specified new_categories.\n",
      " |      \n",
      " |      `new_categories` can include new categories (which will result in\n",
      " |      unused categories) or remove old categories (which results in values\n",
      " |      set to NaN). If `rename==True`, the categories will simple be renamed\n",
      " |      (less or more items than in old categories will result in values set to\n",
      " |      NaN or in unused categories respectively).\n",
      " |      \n",
      " |      This method can be used to perform more than one action of adding,\n",
      " |      removing, and reordering simultaneously and is therefore faster than\n",
      " |      performing the individual steps via the more specialised methods.\n",
      " |      \n",
      " |      On the other hand this methods does not do checks (e.g., whether the\n",
      " |      old categories are included in the new categories on a reorder), which\n",
      " |      can result in surprising changes, for example when using special string\n",
      " |      dtypes, which does not considers a S1 string equal to a single char\n",
      " |      python string.\n",
      " |      \n",
      " |      Parameters\n",
      " |      ----------\n",
      " |      new_categories : Index-like\n",
      " |         The categories in new order.\n",
      " |      ordered : bool, default False\n",
      " |         Whether or not the categorical is treated as a ordered categorical.\n",
      " |         If not given, do not change the ordered information.\n",
      " |      rename : bool, default False\n",
      " |         Whether or not the new_categories should be considered as a rename\n",
      " |         of the old categories or as reordered categories.\n",
      " |      inplace : bool, default False\n",
      " |         Whether or not to reorder the categories in-place or return a copy\n",
      " |         of this categorical with reordered categories.\n",
      " |      \n",
      " |      Returns\n",
      " |      -------\n",
      " |      Categorical with reordered categories or None if inplace.\n",
      " |      \n",
      " |      Raises\n",
      " |      ------\n",
      " |      ValueError\n",
      " |          If new_categories does not validate as categories\n",
      " |      \n",
      " |      See Also\n",
      " |      --------\n",
      " |      rename_categories : Rename categories.\n",
      " |      reorder_categories : Reorder categories.\n",
      " |      add_categories : Add new categories.\n",
      " |      remove_categories : Remove the specified categories.\n",
      " |      remove_unused_categories : Remove categories which are not used.\n",
      " |  \n",
      " |  ----------------------------------------------------------------------\n",
      " |  Readonly properties defined here:\n",
      " |  \n",
      " |  codes\n",
      " |      Return Series of codes as well as the index.\n",
      " |  \n",
      " |  ----------------------------------------------------------------------\n",
      " |  Data descriptors defined here:\n",
      " |  \n",
      " |  categories\n",
      " |      The categories of this categorical.\n",
      " |      \n",
      " |      Setting assigns new values to each category (effectively a rename of\n",
      " |      each individual category).\n",
      " |      \n",
      " |      The assigned value has to be a list-like object. All items must be\n",
      " |      unique and the number of items in the new categories must be the same\n",
      " |      as the number of items in the old categories.\n",
      " |      \n",
      " |      Assigning to `categories` is a inplace operation!\n",
      " |      \n",
      " |      Raises\n",
      " |      ------\n",
      " |      ValueError\n",
      " |          If the new categories do not validate as categories or if the\n",
      " |          number of new categories is unequal the number of old categories\n",
      " |      \n",
      " |      See Also\n",
      " |      --------\n",
      " |      rename_categories : Rename categories.\n",
      " |      reorder_categories : Reorder categories.\n",
      " |      add_categories : Add new categories.\n",
      " |      remove_categories : Remove the specified categories.\n",
      " |      remove_unused_categories : Remove categories which are not used.\n",
      " |      set_categories : Set the categories to the specified ones.\n",
      " |  \n",
      " |  ordered\n",
      " |      Whether the categories have an ordered relationship.\n",
      " |  \n",
      " |  ----------------------------------------------------------------------\n",
      " |  Data descriptors inherited from pandas.core.accessor.PandasDelegate:\n",
      " |  \n",
      " |  __dict__\n",
      " |      dictionary for instance variables (if defined)\n",
      " |  \n",
      " |  __weakref__\n",
      " |      list of weak references to the object (if defined)\n",
      " |  \n",
      " |  ----------------------------------------------------------------------\n",
      " |  Methods inherited from pandas.core.base.PandasObject:\n",
      " |  \n",
      " |  __repr__(self) -> str\n",
      " |      Return a string representation for a particular object.\n",
      " |  \n",
      " |  __sizeof__(self)\n",
      " |      Generates the total memory usage for an object that returns\n",
      " |      either a value or Series of values\n",
      " |  \n",
      " |  ----------------------------------------------------------------------\n",
      " |  Data and other attributes inherited from pandas.core.base.PandasObject:\n",
      " |  \n",
      " |  __annotations__ = {'_cache': typing.Dict[str, typing.Any]}\n",
      " |  \n",
      " |  ----------------------------------------------------------------------\n",
      " |  Methods inherited from pandas.core.accessor.DirNamesMixin:\n",
      " |  \n",
      " |  __dir__(self) -> List[str]\n",
      " |      Provide method name lookup and completion.\n",
      " |      \n",
      " |      Notes\n",
      " |      -----\n",
      " |      Only provide 'public' methods.\n",
      " |  \n",
      " |  ----------------------------------------------------------------------\n",
      " |  Methods inherited from pandas.core.base.NoNewAttributesMixin:\n",
      " |  \n",
      " |  __setattr__(self, key: str, value)\n",
      " |      Implement setattr(self, name, value).\n",
      "\n"
     ]
    }
   ],
   "source": [
    "help(pd.Series.cat)"
   ]
  },
  {
   "cell_type": "markdown",
   "metadata": {},
   "source": [
    "- 메서드 및 멤버변수의 종류는 다음과 같다.\n",
    "| 이름 | 내용 |\n",
    "|:-----:|:-----|\n",
    "| categories | The categories of this categorical. |\n",
    "| ordered | Whether the categories have an ordered relationship. |\n",
    "| codes | Return Series of codes as well as the index. |\n",
    "| rename_categories | Rename categories. 카테고리 이름을 지정한 이름으로 변경한다. 카테고리 수는 변하지 않는다. |\n",
    "| reorder_categories | Reorder categories as specified in new_categories. rename_categories와 유사하지만 새로운 카테고리가 순서를 가지도록 한다. |\n",
    "| add_categories | Add new categories. 기존 카테고리 끝에 새로운 카테고리를 추가. |\n",
    "| remove_categories | Remove the specified categories. 카테고리를 제거한다. 해당 카테고리에 속한 값들은 null로 설정한다. |\n",
    "| remove_unused_catego | Remove categories which are not used. 데이터에서 관측되지 않는 카테고리를 삭제한다. |\n",
    "| set_categories | Set the categories to the specified new_categories. 카테고리를 지정한 새로운 카테고리로 변경한다. 카테고리 추가나 삭제가 가능하다. |\n",
    "| as_ordered | Set the Categorical to be ordered. 카테고리를 순서를 가지도록 한다. |\n",
    "| as_unordered | Set the Categorical to be unordered. 카테고리가 순서를 가지지 않도록 한다. |"
   ]
  },
  {
   "cell_type": "markdown",
   "metadata": {},
   "source": [
    "- set_categories : 카테고리 변경"
   ]
  },
  {
   "cell_type": "code",
   "execution_count": 81,
   "metadata": {
    "ExecuteTime": {
     "end_time": "2021-08-24T08:37:03.885667Z",
     "start_time": "2021-08-24T08:37:03.852756Z"
    }
   },
   "outputs": [
    {
     "data": {
      "text/plain": [
       "0    a\n",
       "1    b\n",
       "2    c\n",
       "3    d\n",
       "4    a\n",
       "5    b\n",
       "6    c\n",
       "7    d\n",
       "dtype: category\n",
       "Categories (5, object): ['a', 'b', 'c', 'd', 'e']"
      ]
     },
     "execution_count": 81,
     "metadata": {},
     "output_type": "execute_result"
    }
   ],
   "source": [
    "# 해당 데이터의 실제 카테고리가 4종류 이상이라고 가정하면\n",
    "# 카테고리를 actual_categories로 변경하고자 한다.\n",
    "actual_categories = ['a', 'b', 'c', 'd', 'e']\n",
    "cat_s2 = cat_s.cat.set_categories(actual_categories)\n",
    "cat_s2"
   ]
  },
  {
   "cell_type": "code",
   "execution_count": 82,
   "metadata": {
    "ExecuteTime": {
     "end_time": "2021-08-24T08:37:06.875787Z",
     "start_time": "2021-08-24T08:37:06.825922Z"
    }
   },
   "outputs": [
    {
     "data": {
      "text/plain": [
       "a    2\n",
       "b    2\n",
       "c    2\n",
       "d    2\n",
       "dtype: int64"
      ]
     },
     "execution_count": 82,
     "metadata": {},
     "output_type": "execute_result"
    },
    {
     "data": {
      "text/plain": [
       "a    2\n",
       "b    2\n",
       "c    2\n",
       "d    2\n",
       "e    0\n",
       "dtype: int64"
      ]
     },
     "execution_count": 82,
     "metadata": {},
     "output_type": "execute_result"
    }
   ],
   "source": [
    "# 변경 전후의 카테고리면 원소갯수\n",
    "cat_s.value_counts()\n",
    "cat_s2.value_counts()"
   ]
  },
  {
   "cell_type": "markdown",
   "metadata": {},
   "source": [
    "- remove_unused_categories : 실제로 관측되지 않는 카테고리 제거"
   ]
  },
  {
   "cell_type": "code",
   "execution_count": 83,
   "metadata": {
    "ExecuteTime": {
     "end_time": "2021-08-24T08:38:34.840630Z",
     "start_time": "2021-08-24T08:38:34.798744Z"
    }
   },
   "outputs": [
    {
     "data": {
      "text/plain": [
       "0    a\n",
       "1    b\n",
       "4    a\n",
       "5    b\n",
       "dtype: category\n",
       "Categories (4, object): ['a', 'b', 'c', 'd']"
      ]
     },
     "execution_count": 83,
     "metadata": {},
     "output_type": "execute_result"
    },
    {
     "data": {
      "text/plain": [
       "0    a\n",
       "1    b\n",
       "4    a\n",
       "5    b\n",
       "dtype: category\n",
       "Categories (2, object): ['a', 'b']"
      ]
     },
     "execution_count": 83,
     "metadata": {},
     "output_type": "execute_result"
    }
   ],
   "source": [
    "# cat에서 a, b 값을 가지는 데이터를 추출\n",
    "cat_s3 = cat_s[cat_s.isin(['a', 'b'])] \n",
    "cat_s3\n",
    "cat_s3.cat.remove_unused_categories()"
   ]
  },
  {
   "cell_type": "markdown",
   "metadata": {},
   "source": [
    "#### 모델링을 위한 더미값 생성하기 \n",
    "👉 원핫인코딩"
   ]
  },
  {
   "cell_type": "code",
   "execution_count": 84,
   "metadata": {
    "ExecuteTime": {
     "end_time": "2021-08-24T08:49:54.098042Z",
     "start_time": "2021-08-24T08:49:54.068091Z"
    }
   },
   "outputs": [],
   "source": [
    "cat_s = pd.Series(['a', 'b', 'c', 'd'] * 2, dtype='category')"
   ]
  },
  {
   "cell_type": "code",
   "execution_count": 85,
   "metadata": {
    "ExecuteTime": {
     "end_time": "2021-08-24T08:49:54.281890Z",
     "start_time": "2021-08-24T08:49:54.201106Z"
    }
   },
   "outputs": [
    {
     "data": {
      "text/html": [
       "<div>\n",
       "<style scoped>\n",
       "    .dataframe tbody tr th:only-of-type {\n",
       "        vertical-align: middle;\n",
       "    }\n",
       "\n",
       "    .dataframe tbody tr th {\n",
       "        vertical-align: top;\n",
       "    }\n",
       "\n",
       "    .dataframe thead th {\n",
       "        text-align: right;\n",
       "    }\n",
       "</style>\n",
       "<table border=\"1\" class=\"dataframe\">\n",
       "  <thead>\n",
       "    <tr style=\"text-align: right;\">\n",
       "      <th></th>\n",
       "      <th>a</th>\n",
       "      <th>b</th>\n",
       "      <th>c</th>\n",
       "      <th>d</th>\n",
       "    </tr>\n",
       "  </thead>\n",
       "  <tbody>\n",
       "    <tr>\n",
       "      <th>0</th>\n",
       "      <td>1</td>\n",
       "      <td>0</td>\n",
       "      <td>0</td>\n",
       "      <td>0</td>\n",
       "    </tr>\n",
       "    <tr>\n",
       "      <th>1</th>\n",
       "      <td>0</td>\n",
       "      <td>1</td>\n",
       "      <td>0</td>\n",
       "      <td>0</td>\n",
       "    </tr>\n",
       "    <tr>\n",
       "      <th>2</th>\n",
       "      <td>0</td>\n",
       "      <td>0</td>\n",
       "      <td>1</td>\n",
       "      <td>0</td>\n",
       "    </tr>\n",
       "    <tr>\n",
       "      <th>3</th>\n",
       "      <td>0</td>\n",
       "      <td>0</td>\n",
       "      <td>0</td>\n",
       "      <td>1</td>\n",
       "    </tr>\n",
       "    <tr>\n",
       "      <th>4</th>\n",
       "      <td>1</td>\n",
       "      <td>0</td>\n",
       "      <td>0</td>\n",
       "      <td>0</td>\n",
       "    </tr>\n",
       "    <tr>\n",
       "      <th>5</th>\n",
       "      <td>0</td>\n",
       "      <td>1</td>\n",
       "      <td>0</td>\n",
       "      <td>0</td>\n",
       "    </tr>\n",
       "    <tr>\n",
       "      <th>6</th>\n",
       "      <td>0</td>\n",
       "      <td>0</td>\n",
       "      <td>1</td>\n",
       "      <td>0</td>\n",
       "    </tr>\n",
       "    <tr>\n",
       "      <th>7</th>\n",
       "      <td>0</td>\n",
       "      <td>0</td>\n",
       "      <td>0</td>\n",
       "      <td>1</td>\n",
       "    </tr>\n",
       "  </tbody>\n",
       "</table>\n",
       "</div>"
      ],
      "text/plain": [
       "   a  b  c  d\n",
       "0  1  0  0  0\n",
       "1  0  1  0  0\n",
       "2  0  0  1  0\n",
       "3  0  0  0  1\n",
       "4  1  0  0  0\n",
       "5  0  1  0  0\n",
       "6  0  0  1  0\n",
       "7  0  0  0  1"
      ]
     },
     "execution_count": 85,
     "metadata": {},
     "output_type": "execute_result"
    }
   ],
   "source": [
    "pd.get_dummies(cat_s)"
   ]
  }
 ],
 "metadata": {
  "kernelspec": {
   "display_name": "Python 3",
   "language": "python",
   "name": "python3"
  },
  "language_info": {
   "codemirror_mode": {
    "name": "ipython",
    "version": 3
   },
   "file_extension": ".py",
   "mimetype": "text/x-python",
   "name": "python",
   "nbconvert_exporter": "python",
   "pygments_lexer": "ipython3",
   "version": "3.8.8"
  },
  "latex_envs": {
   "LaTeX_envs_menu_present": true,
   "autoclose": false,
   "autocomplete": true,
   "bibliofile": "biblio.bib",
   "cite_by": "apalike",
   "current_citInitial": 1,
   "eqLabelWithNumbers": true,
   "eqNumInitial": 1,
   "hotkeys": {
    "equation": "Ctrl-E",
    "itemize": "Ctrl-I"
   },
   "labels_anchors": false,
   "latex_user_defs": false,
   "report_style_numbering": false,
   "user_envs_cfg": false
  },
  "toc": {
   "base_numbering": 1,
   "nav_menu": {},
   "number_sections": true,
   "sideBar": true,
   "skip_h1_title": false,
   "title_cell": "Table of Contents",
   "title_sidebar": "Contents",
   "toc_cell": false,
   "toc_position": {},
   "toc_section_display": true,
   "toc_window_display": false
  }
 },
 "nbformat": 4,
 "nbformat_minor": 1
}
