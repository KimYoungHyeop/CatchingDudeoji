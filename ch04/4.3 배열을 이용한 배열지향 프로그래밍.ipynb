{
 "cells": [
  {
   "cell_type": "markdown",
   "metadata": {},
   "source": [
    "# NumPy Basics: Arrays and Vectorized Computation"
   ]
  },
  {
   "cell_type": "code",
   "execution_count": 1,
   "metadata": {
    "ExecuteTime": {
     "end_time": "2021-07-20T11:30:43.023139Z",
     "start_time": "2021-07-20T11:30:42.787711Z"
    }
   },
   "outputs": [],
   "source": [
    "import numpy as np\n",
    "np.random.seed(12345)\n",
    "import matplotlib.pyplot as plt\n",
    "plt.rc('figure', figsize=(10, 6))\n",
    "np.set_printoptions(precision=4, suppress=True)"
   ]
  },
  {
   "cell_type": "code",
   "execution_count": 2,
   "metadata": {
    "ExecuteTime": {
     "end_time": "2021-07-20T11:30:43.027991Z",
     "start_time": "2021-07-20T11:30:43.024464Z"
    }
   },
   "outputs": [
    {
     "name": "stdout",
     "output_type": "stream",
     "text": [
      "time: 247 µs (started: 2021-07-20 20:30:43 +09:00)\n"
     ]
    }
   ],
   "source": [
    "%load_ext autotime"
   ]
  },
  {
   "cell_type": "markdown",
   "metadata": {},
   "source": [
    "## 4.3 배열을 이용한 배열지향 프로그래밍"
   ]
  },
  {
   "cell_type": "markdown",
   "metadata": {},
   "source": [
    "배열을 이용하면 반복문을 작성하지 않고 배열 연산을 통해서 많은 종류의 데이터 처리 작업을 할 수 있다.  \n",
    "-> runtime error 방지  \n",
    "\n",
    "divmod의 벡터화 : modf  \n",
    "벡터화 : 배열 연산을 사용해서 반복문을 명시적으로 제거하는 기법  \n",
    "\n",
    "+ np.meshgrid  \n",
    "    : 2개 일차원 배열을 받아서 가능한 모든 (x, y) 2차원 배열을 반환"
   ]
  },
  {
   "cell_type": "code",
   "execution_count": 3,
   "metadata": {
    "ExecuteTime": {
     "end_time": "2021-07-20T11:30:43.031997Z",
     "start_time": "2021-07-20T11:30:43.029495Z"
    },
    "scrolled": false
   },
   "outputs": [
    {
     "name": "stdout",
     "output_type": "stream",
     "text": [
      "time: 305 µs (started: 2021-07-20 20:30:43 +09:00)\n"
     ]
    }
   ],
   "source": [
    "points = np.arange(-5, 5, 0.01) # -5부터 5직전 까지 0.01씩 증가하는 값들의 배열"
   ]
  },
  {
   "cell_type": "code",
   "execution_count": 4,
   "metadata": {
    "ExecuteTime": {
     "end_time": "2021-07-20T11:30:43.045433Z",
     "start_time": "2021-07-20T11:30:43.033323Z"
    },
    "scrolled": false
   },
   "outputs": [
    {
     "data": {
      "text/plain": [
       "array([-5.  , -4.99, -4.98, -4.97, -4.96, -4.95, -4.94, -4.93, -4.92,\n",
       "       -4.91, -4.9 , -4.89, -4.88, -4.87, -4.86, -4.85, -4.84, -4.83,\n",
       "       -4.82, -4.81, -4.8 , -4.79, -4.78, -4.77, -4.76, -4.75, -4.74,\n",
       "       -4.73, -4.72, -4.71, -4.7 , -4.69, -4.68, -4.67, -4.66, -4.65,\n",
       "       -4.64, -4.63, -4.62, -4.61, -4.6 , -4.59, -4.58, -4.57, -4.56,\n",
       "       -4.55, -4.54, -4.53, -4.52, -4.51, -4.5 , -4.49, -4.48, -4.47,\n",
       "       -4.46, -4.45, -4.44, -4.43, -4.42, -4.41, -4.4 , -4.39, -4.38,\n",
       "       -4.37, -4.36, -4.35, -4.34, -4.33, -4.32, -4.31, -4.3 , -4.29,\n",
       "       -4.28, -4.27, -4.26, -4.25, -4.24, -4.23, -4.22, -4.21, -4.2 ,\n",
       "       -4.19, -4.18, -4.17, -4.16, -4.15, -4.14, -4.13, -4.12, -4.11,\n",
       "       -4.1 , -4.09, -4.08, -4.07, -4.06, -4.05, -4.04, -4.03, -4.02,\n",
       "       -4.01, -4.  , -3.99, -3.98, -3.97, -3.96, -3.95, -3.94, -3.93,\n",
       "       -3.92, -3.91, -3.9 , -3.89, -3.88, -3.87, -3.86, -3.85, -3.84,\n",
       "       -3.83, -3.82, -3.81, -3.8 , -3.79, -3.78, -3.77, -3.76, -3.75,\n",
       "       -3.74, -3.73, -3.72, -3.71, -3.7 , -3.69, -3.68, -3.67, -3.66,\n",
       "       -3.65, -3.64, -3.63, -3.62, -3.61, -3.6 , -3.59, -3.58, -3.57,\n",
       "       -3.56, -3.55, -3.54, -3.53, -3.52, -3.51, -3.5 , -3.49, -3.48,\n",
       "       -3.47, -3.46, -3.45, -3.44, -3.43, -3.42, -3.41, -3.4 , -3.39,\n",
       "       -3.38, -3.37, -3.36, -3.35, -3.34, -3.33, -3.32, -3.31, -3.3 ,\n",
       "       -3.29, -3.28, -3.27, -3.26, -3.25, -3.24, -3.23, -3.22, -3.21,\n",
       "       -3.2 , -3.19, -3.18, -3.17, -3.16, -3.15, -3.14, -3.13, -3.12,\n",
       "       -3.11, -3.1 , -3.09, -3.08, -3.07, -3.06, -3.05, -3.04, -3.03,\n",
       "       -3.02, -3.01, -3.  , -2.99, -2.98, -2.97, -2.96, -2.95, -2.94,\n",
       "       -2.93, -2.92, -2.91, -2.9 , -2.89, -2.88, -2.87, -2.86, -2.85,\n",
       "       -2.84, -2.83, -2.82, -2.81, -2.8 , -2.79, -2.78, -2.77, -2.76,\n",
       "       -2.75, -2.74, -2.73, -2.72, -2.71, -2.7 , -2.69, -2.68, -2.67,\n",
       "       -2.66, -2.65, -2.64, -2.63, -2.62, -2.61, -2.6 , -2.59, -2.58,\n",
       "       -2.57, -2.56, -2.55, -2.54, -2.53, -2.52, -2.51, -2.5 , -2.49,\n",
       "       -2.48, -2.47, -2.46, -2.45, -2.44, -2.43, -2.42, -2.41, -2.4 ,\n",
       "       -2.39, -2.38, -2.37, -2.36, -2.35, -2.34, -2.33, -2.32, -2.31,\n",
       "       -2.3 , -2.29, -2.28, -2.27, -2.26, -2.25, -2.24, -2.23, -2.22,\n",
       "       -2.21, -2.2 , -2.19, -2.18, -2.17, -2.16, -2.15, -2.14, -2.13,\n",
       "       -2.12, -2.11, -2.1 , -2.09, -2.08, -2.07, -2.06, -2.05, -2.04,\n",
       "       -2.03, -2.02, -2.01, -2.  , -1.99, -1.98, -1.97, -1.96, -1.95,\n",
       "       -1.94, -1.93, -1.92, -1.91, -1.9 , -1.89, -1.88, -1.87, -1.86,\n",
       "       -1.85, -1.84, -1.83, -1.82, -1.81, -1.8 , -1.79, -1.78, -1.77,\n",
       "       -1.76, -1.75, -1.74, -1.73, -1.72, -1.71, -1.7 , -1.69, -1.68,\n",
       "       -1.67, -1.66, -1.65, -1.64, -1.63, -1.62, -1.61, -1.6 , -1.59,\n",
       "       -1.58, -1.57, -1.56, -1.55, -1.54, -1.53, -1.52, -1.51, -1.5 ,\n",
       "       -1.49, -1.48, -1.47, -1.46, -1.45, -1.44, -1.43, -1.42, -1.41,\n",
       "       -1.4 , -1.39, -1.38, -1.37, -1.36, -1.35, -1.34, -1.33, -1.32,\n",
       "       -1.31, -1.3 , -1.29, -1.28, -1.27, -1.26, -1.25, -1.24, -1.23,\n",
       "       -1.22, -1.21, -1.2 , -1.19, -1.18, -1.17, -1.16, -1.15, -1.14,\n",
       "       -1.13, -1.12, -1.11, -1.1 , -1.09, -1.08, -1.07, -1.06, -1.05,\n",
       "       -1.04, -1.03, -1.02, -1.01, -1.  , -0.99, -0.98, -0.97, -0.96,\n",
       "       -0.95, -0.94, -0.93, -0.92, -0.91, -0.9 , -0.89, -0.88, -0.87,\n",
       "       -0.86, -0.85, -0.84, -0.83, -0.82, -0.81, -0.8 , -0.79, -0.78,\n",
       "       -0.77, -0.76, -0.75, -0.74, -0.73, -0.72, -0.71, -0.7 , -0.69,\n",
       "       -0.68, -0.67, -0.66, -0.65, -0.64, -0.63, -0.62, -0.61, -0.6 ,\n",
       "       -0.59, -0.58, -0.57, -0.56, -0.55, -0.54, -0.53, -0.52, -0.51,\n",
       "       -0.5 , -0.49, -0.48, -0.47, -0.46, -0.45, -0.44, -0.43, -0.42,\n",
       "       -0.41, -0.4 , -0.39, -0.38, -0.37, -0.36, -0.35, -0.34, -0.33,\n",
       "       -0.32, -0.31, -0.3 , -0.29, -0.28, -0.27, -0.26, -0.25, -0.24,\n",
       "       -0.23, -0.22, -0.21, -0.2 , -0.19, -0.18, -0.17, -0.16, -0.15,\n",
       "       -0.14, -0.13, -0.12, -0.11, -0.1 , -0.09, -0.08, -0.07, -0.06,\n",
       "       -0.05, -0.04, -0.03, -0.02, -0.01, -0.  ,  0.01,  0.02,  0.03,\n",
       "        0.04,  0.05,  0.06,  0.07,  0.08,  0.09,  0.1 ,  0.11,  0.12,\n",
       "        0.13,  0.14,  0.15,  0.16,  0.17,  0.18,  0.19,  0.2 ,  0.21,\n",
       "        0.22,  0.23,  0.24,  0.25,  0.26,  0.27,  0.28,  0.29,  0.3 ,\n",
       "        0.31,  0.32,  0.33,  0.34,  0.35,  0.36,  0.37,  0.38,  0.39,\n",
       "        0.4 ,  0.41,  0.42,  0.43,  0.44,  0.45,  0.46,  0.47,  0.48,\n",
       "        0.49,  0.5 ,  0.51,  0.52,  0.53,  0.54,  0.55,  0.56,  0.57,\n",
       "        0.58,  0.59,  0.6 ,  0.61,  0.62,  0.63,  0.64,  0.65,  0.66,\n",
       "        0.67,  0.68,  0.69,  0.7 ,  0.71,  0.72,  0.73,  0.74,  0.75,\n",
       "        0.76,  0.77,  0.78,  0.79,  0.8 ,  0.81,  0.82,  0.83,  0.84,\n",
       "        0.85,  0.86,  0.87,  0.88,  0.89,  0.9 ,  0.91,  0.92,  0.93,\n",
       "        0.94,  0.95,  0.96,  0.97,  0.98,  0.99,  1.  ,  1.01,  1.02,\n",
       "        1.03,  1.04,  1.05,  1.06,  1.07,  1.08,  1.09,  1.1 ,  1.11,\n",
       "        1.12,  1.13,  1.14,  1.15,  1.16,  1.17,  1.18,  1.19,  1.2 ,\n",
       "        1.21,  1.22,  1.23,  1.24,  1.25,  1.26,  1.27,  1.28,  1.29,\n",
       "        1.3 ,  1.31,  1.32,  1.33,  1.34,  1.35,  1.36,  1.37,  1.38,\n",
       "        1.39,  1.4 ,  1.41,  1.42,  1.43,  1.44,  1.45,  1.46,  1.47,\n",
       "        1.48,  1.49,  1.5 ,  1.51,  1.52,  1.53,  1.54,  1.55,  1.56,\n",
       "        1.57,  1.58,  1.59,  1.6 ,  1.61,  1.62,  1.63,  1.64,  1.65,\n",
       "        1.66,  1.67,  1.68,  1.69,  1.7 ,  1.71,  1.72,  1.73,  1.74,\n",
       "        1.75,  1.76,  1.77,  1.78,  1.79,  1.8 ,  1.81,  1.82,  1.83,\n",
       "        1.84,  1.85,  1.86,  1.87,  1.88,  1.89,  1.9 ,  1.91,  1.92,\n",
       "        1.93,  1.94,  1.95,  1.96,  1.97,  1.98,  1.99,  2.  ,  2.01,\n",
       "        2.02,  2.03,  2.04,  2.05,  2.06,  2.07,  2.08,  2.09,  2.1 ,\n",
       "        2.11,  2.12,  2.13,  2.14,  2.15,  2.16,  2.17,  2.18,  2.19,\n",
       "        2.2 ,  2.21,  2.22,  2.23,  2.24,  2.25,  2.26,  2.27,  2.28,\n",
       "        2.29,  2.3 ,  2.31,  2.32,  2.33,  2.34,  2.35,  2.36,  2.37,\n",
       "        2.38,  2.39,  2.4 ,  2.41,  2.42,  2.43,  2.44,  2.45,  2.46,\n",
       "        2.47,  2.48,  2.49,  2.5 ,  2.51,  2.52,  2.53,  2.54,  2.55,\n",
       "        2.56,  2.57,  2.58,  2.59,  2.6 ,  2.61,  2.62,  2.63,  2.64,\n",
       "        2.65,  2.66,  2.67,  2.68,  2.69,  2.7 ,  2.71,  2.72,  2.73,\n",
       "        2.74,  2.75,  2.76,  2.77,  2.78,  2.79,  2.8 ,  2.81,  2.82,\n",
       "        2.83,  2.84,  2.85,  2.86,  2.87,  2.88,  2.89,  2.9 ,  2.91,\n",
       "        2.92,  2.93,  2.94,  2.95,  2.96,  2.97,  2.98,  2.99,  3.  ,\n",
       "        3.01,  3.02,  3.03,  3.04,  3.05,  3.06,  3.07,  3.08,  3.09,\n",
       "        3.1 ,  3.11,  3.12,  3.13,  3.14,  3.15,  3.16,  3.17,  3.18,\n",
       "        3.19,  3.2 ,  3.21,  3.22,  3.23,  3.24,  3.25,  3.26,  3.27,\n",
       "        3.28,  3.29,  3.3 ,  3.31,  3.32,  3.33,  3.34,  3.35,  3.36,\n",
       "        3.37,  3.38,  3.39,  3.4 ,  3.41,  3.42,  3.43,  3.44,  3.45,\n",
       "        3.46,  3.47,  3.48,  3.49,  3.5 ,  3.51,  3.52,  3.53,  3.54,\n",
       "        3.55,  3.56,  3.57,  3.58,  3.59,  3.6 ,  3.61,  3.62,  3.63,\n",
       "        3.64,  3.65,  3.66,  3.67,  3.68,  3.69,  3.7 ,  3.71,  3.72,\n",
       "        3.73,  3.74,  3.75,  3.76,  3.77,  3.78,  3.79,  3.8 ,  3.81,\n",
       "        3.82,  3.83,  3.84,  3.85,  3.86,  3.87,  3.88,  3.89,  3.9 ,\n",
       "        3.91,  3.92,  3.93,  3.94,  3.95,  3.96,  3.97,  3.98,  3.99,\n",
       "        4.  ,  4.01,  4.02,  4.03,  4.04,  4.05,  4.06,  4.07,  4.08,\n",
       "        4.09,  4.1 ,  4.11,  4.12,  4.13,  4.14,  4.15,  4.16,  4.17,\n",
       "        4.18,  4.19,  4.2 ,  4.21,  4.22,  4.23,  4.24,  4.25,  4.26,\n",
       "        4.27,  4.28,  4.29,  4.3 ,  4.31,  4.32,  4.33,  4.34,  4.35,\n",
       "        4.36,  4.37,  4.38,  4.39,  4.4 ,  4.41,  4.42,  4.43,  4.44,\n",
       "        4.45,  4.46,  4.47,  4.48,  4.49,  4.5 ,  4.51,  4.52,  4.53,\n",
       "        4.54,  4.55,  4.56,  4.57,  4.58,  4.59,  4.6 ,  4.61,  4.62,\n",
       "        4.63,  4.64,  4.65,  4.66,  4.67,  4.68,  4.69,  4.7 ,  4.71,\n",
       "        4.72,  4.73,  4.74,  4.75,  4.76,  4.77,  4.78,  4.79,  4.8 ,\n",
       "        4.81,  4.82,  4.83,  4.84,  4.85,  4.86,  4.87,  4.88,  4.89,\n",
       "        4.9 ,  4.91,  4.92,  4.93,  4.94,  4.95,  4.96,  4.97,  4.98,\n",
       "        4.99])"
      ]
     },
     "execution_count": 4,
     "metadata": {},
     "output_type": "execute_result"
    },
    {
     "name": "stdout",
     "output_type": "stream",
     "text": [
      "time: 9.85 ms (started: 2021-07-20 20:30:43 +09:00)\n"
     ]
    }
   ],
   "source": [
    "points # 길지만 1차원 배열 한개"
   ]
  },
  {
   "cell_type": "code",
   "execution_count": 5,
   "metadata": {
    "ExecuteTime": {
     "end_time": "2021-07-20T11:30:43.054217Z",
     "start_time": "2021-07-20T11:30:43.046796Z"
    }
   },
   "outputs": [
    {
     "data": {
      "text/plain": [
       "[array([[-5.  , -4.99, -4.98, ...,  4.97,  4.98,  4.99],\n",
       "        [-5.  , -4.99, -4.98, ...,  4.97,  4.98,  4.99],\n",
       "        [-5.  , -4.99, -4.98, ...,  4.97,  4.98,  4.99],\n",
       "        ...,\n",
       "        [-5.  , -4.99, -4.98, ...,  4.97,  4.98,  4.99],\n",
       "        [-5.  , -4.99, -4.98, ...,  4.97,  4.98,  4.99],\n",
       "        [-5.  , -4.99, -4.98, ...,  4.97,  4.98,  4.99]]),\n",
       " array([[-5.  , -5.  , -5.  , ..., -5.  , -5.  , -5.  ],\n",
       "        [-4.99, -4.99, -4.99, ..., -4.99, -4.99, -4.99],\n",
       "        [-4.98, -4.98, -4.98, ..., -4.98, -4.98, -4.98],\n",
       "        ...,\n",
       "        [ 4.97,  4.97,  4.97, ...,  4.97,  4.97,  4.97],\n",
       "        [ 4.98,  4.98,  4.98, ...,  4.98,  4.98,  4.98],\n",
       "        [ 4.99,  4.99,  4.99, ...,  4.99,  4.99,  4.99]])]"
      ]
     },
     "execution_count": 5,
     "metadata": {},
     "output_type": "execute_result"
    },
    {
     "name": "stdout",
     "output_type": "stream",
     "text": [
      "time: 5.31 ms (started: 2021-07-20 20:30:43 +09:00)\n"
     ]
    }
   ],
   "source": [
    "ttl = np.meshgrid(points, points) # 1차원 배열 2개 -> 2차원 배열 2개\n",
    "ttl "
   ]
  },
  {
   "cell_type": "code",
   "execution_count": 6,
   "metadata": {
    "ExecuteTime": {
     "end_time": "2021-07-20T11:30:43.063648Z",
     "start_time": "2021-07-20T11:30:43.055554Z"
    }
   },
   "outputs": [
    {
     "data": {
      "text/plain": [
       "array([[-5.  , -5.  , -5.  , ..., -5.  , -5.  , -5.  ],\n",
       "       [-4.99, -4.99, -4.99, ..., -4.99, -4.99, -4.99],\n",
       "       [-4.98, -4.98, -4.98, ..., -4.98, -4.98, -4.98],\n",
       "       ...,\n",
       "       [ 4.97,  4.97,  4.97, ...,  4.97,  4.97,  4.97],\n",
       "       [ 4.98,  4.98,  4.98, ...,  4.98,  4.98,  4.98],\n",
       "       [ 4.99,  4.99,  4.99, ...,  4.99,  4.99,  4.99]])"
      ]
     },
     "execution_count": 6,
     "metadata": {},
     "output_type": "execute_result"
    },
    {
     "name": "stdout",
     "output_type": "stream",
     "text": [
      "time: 5.93 ms (started: 2021-07-20 20:30:43 +09:00)\n"
     ]
    }
   ],
   "source": [
    "xs, ys = np.meshgrid(points, points) \n",
    "ys"
   ]
  },
  {
   "cell_type": "code",
   "execution_count": 7,
   "metadata": {
    "ExecuteTime": {
     "end_time": "2021-07-20T11:30:43.077931Z",
     "start_time": "2021-07-20T11:30:43.065088Z"
    }
   },
   "outputs": [
    {
     "data": {
      "text/plain": [
       "array([[50.    , 49.9001, 49.8004, ..., 49.7009, 49.8004, 49.9001],\n",
       "       [49.9001, 49.8002, 49.7005, ..., 49.601 , 49.7005, 49.8002],\n",
       "       [49.8004, 49.7005, 49.6008, ..., 49.5013, 49.6008, 49.7005],\n",
       "       ...,\n",
       "       [49.7009, 49.601 , 49.5013, ..., 49.4018, 49.5013, 49.601 ],\n",
       "       [49.8004, 49.7005, 49.6008, ..., 49.5013, 49.6008, 49.7005],\n",
       "       [49.9001, 49.8002, 49.7005, ..., 49.601 , 49.7005, 49.8002]])"
      ]
     },
     "execution_count": 7,
     "metadata": {},
     "output_type": "execute_result"
    },
    {
     "name": "stdout",
     "output_type": "stream",
     "text": [
      "time: 10.3 ms (started: 2021-07-20 20:30:43 +09:00)\n"
     ]
    }
   ],
   "source": [
    "z = np.array(xs ** 2 + ys ** 2) # 제곱값끼리 더하기\n",
    "z"
   ]
  },
  {
   "cell_type": "code",
   "execution_count": 8,
   "metadata": {
    "ExecuteTime": {
     "end_time": "2021-07-20T11:30:43.091564Z",
     "start_time": "2021-07-20T11:30:43.080967Z"
    }
   },
   "outputs": [
    {
     "data": {
      "text/plain": [
       "array([[7.0711, 7.064 , 7.0569, ..., 7.0499, 7.0569, 7.064 ],\n",
       "       [7.064 , 7.0569, 7.0499, ..., 7.0428, 7.0499, 7.0569],\n",
       "       [7.0569, 7.0499, 7.0428, ..., 7.0357, 7.0428, 7.0499],\n",
       "       ...,\n",
       "       [7.0499, 7.0428, 7.0357, ..., 7.0286, 7.0357, 7.0428],\n",
       "       [7.0569, 7.0499, 7.0428, ..., 7.0357, 7.0428, 7.0499],\n",
       "       [7.064 , 7.0569, 7.0499, ..., 7.0428, 7.0499, 7.0569]])"
      ]
     },
     "execution_count": 8,
     "metadata": {},
     "output_type": "execute_result"
    },
    {
     "name": "stdout",
     "output_type": "stream",
     "text": [
      "time: 8.55 ms (started: 2021-07-20 20:30:43 +09:00)\n"
     ]
    }
   ],
   "source": [
    "z = np.sqrt(xs ** 2 + ys ** 2)\n",
    "z"
   ]
  },
  {
   "cell_type": "markdown",
   "metadata": {},
   "source": [
    "**matplotlib**을 이용해서 2차원배열을 시각화  "
   ]
  },
  {
   "cell_type": "code",
   "execution_count": 9,
   "metadata": {
    "ExecuteTime": {
     "end_time": "2021-07-20T11:30:43.517018Z",
     "start_time": "2021-07-20T11:30:43.094186Z"
    }
   },
   "outputs": [
    {
     "data": {
      "text/plain": [
       "Text(0.5, 1.0, 'Image plot of $\\\\sqrt{x^2 + y^2}$ for a grid of values')"
      ]
     },
     "execution_count": 9,
     "metadata": {},
     "output_type": "execute_result"
    },
    {
     "data": {
      "image/png": "[encoded data removed]",
      "text/plain": [
       "<Figure size 720x432 with 2 Axes>"
      ]
     },
     "metadata": {
      "needs_background": "light"
     },
     "output_type": "display_data"
    },
    {
     "name": "stdout",
     "output_type": "stream",
     "text": [
      "time: 420 ms (started: 2021-07-20 20:30:43 +09:00)\n"
     ]
    }
   ],
   "source": [
    "import matplotlib.pyplot as plt\n",
    "plt.imshow(z, cmap=plt.cm.gray); plt.colorbar() # 그래프 이미지 생성\n",
    "plt.title(\"Image plot of $\\sqrt{x^2 + y^2}$ for a grid of values\")"
   ]
  },
  {
   "cell_type": "code",
   "execution_count": 10,
   "metadata": {
    "ExecuteTime": {
     "end_time": "2021-07-20T11:30:43.522069Z",
     "start_time": "2021-07-20T11:30:43.518088Z"
    }
   },
   "outputs": [
    {
     "data": {
      "text/plain": [
       "<Figure size 720x432 with 0 Axes>"
      ]
     },
     "metadata": {},
     "output_type": "display_data"
    },
    {
     "name": "stdout",
     "output_type": "stream",
     "text": [
      "time: 2.29 ms (started: 2021-07-20 20:30:43 +09:00)\n"
     ]
    }
   ],
   "source": [
    "plt.draw()"
   ]
  },
  {
   "cell_type": "code",
   "execution_count": 11,
   "metadata": {
    "ExecuteTime": {
     "end_time": "2021-07-20T11:30:43.525433Z",
     "start_time": "2021-07-20T11:30:43.523206Z"
    }
   },
   "outputs": [
    {
     "name": "stdout",
     "output_type": "stream",
     "text": [
      "time: 313 µs (started: 2021-07-20 20:30:43 +09:00)\n"
     ]
    }
   ],
   "source": [
    "plt.close('all')"
   ]
  },
  {
   "cell_type": "markdown",
   "metadata": {},
   "source": [
    "### 4.3.1 배열 연산으로 조건절 표현하기"
   ]
  },
  {
   "cell_type": "markdown",
   "metadata": {},
   "source": [
    "+ numpy.where  \n",
    "    : 'x if 조건 else y'의 벡터화 버전"
   ]
  },
  {
   "cell_type": "code",
   "execution_count": 12,
   "metadata": {
    "ExecuteTime": {
     "end_time": "2021-07-20T11:30:43.529613Z",
     "start_time": "2021-07-20T11:30:43.526596Z"
    }
   },
   "outputs": [
    {
     "name": "stdout",
     "output_type": "stream",
     "text": [
      "time: 431 µs (started: 2021-07-20 20:30:43 +09:00)\n"
     ]
    }
   ],
   "source": [
    "xarr = np.array([1.1, 1.2, 1.3, 1.4, 1.5])\n",
    "yarr = np.array([2.1, 2.2, 2.3, 2.4, 2.5])\n",
    "cond = np.array([True, False, True, True, False])"
   ]
  },
  {
   "cell_type": "code",
   "execution_count": 13,
   "metadata": {
    "ExecuteTime": {
     "end_time": "2021-07-20T11:30:43.535286Z",
     "start_time": "2021-07-20T11:30:43.530864Z"
    }
   },
   "outputs": [
    {
     "data": {
      "text/plain": [
       "[1.1, 2.2, 1.3, 1.4, 2.5]"
      ]
     },
     "execution_count": 13,
     "metadata": {},
     "output_type": "execute_result"
    },
    {
     "name": "stdout",
     "output_type": "stream",
     "text": [
      "time: 2.26 ms (started: 2021-07-20 20:30:43 +09:00)\n"
     ]
    }
   ],
   "source": [
    "result = [(x if c else y) # 불리언이 True이면 x, 아니면 y\n",
    "          for x, y, c in zip(xarr, yarr, cond)] # 위의 변수가 어떤 배열에 해당되는지 설명\n",
    "result"
   ]
  },
  {
   "cell_type": "code",
   "execution_count": 14,
   "metadata": {
    "ExecuteTime": {
     "end_time": "2021-07-20T11:30:43.540290Z",
     "start_time": "2021-07-20T11:30:43.536610Z"
    }
   },
   "outputs": [
    {
     "data": {
      "text/plain": [
       "array([1.1, 2.2, 1.3, 1.4, 2.5])"
      ]
     },
     "execution_count": 14,
     "metadata": {},
     "output_type": "execute_result"
    },
    {
     "name": "stdout",
     "output_type": "stream",
     "text": [
      "time: 1.69 ms (started: 2021-07-20 20:30:43 +09:00)\n"
     ]
    }
   ],
   "source": [
    "result = np.where(cond, xarr, yarr)\n",
    "result"
   ]
  },
  {
   "cell_type": "markdown",
   "metadata": {},
   "source": [
    "약간이지만 where를 쓴 코드의 runtime이 더 작다.  \n",
    "-> np.where를 사용하면 간결하지만 빠른 코드를 짤 수 있다."
   ]
  },
  {
   "cell_type": "code",
   "execution_count": 15,
   "metadata": {
    "ExecuteTime": {
     "end_time": "2021-07-20T11:30:43.545027Z",
     "start_time": "2021-07-20T11:30:43.541387Z"
    }
   },
   "outputs": [
    {
     "data": {
      "text/plain": [
       "array([[-0.2047,  0.4789, -0.5194, -0.5557],\n",
       "       [ 1.9658,  1.3934,  0.0929,  0.2817],\n",
       "       [ 0.769 ,  1.2464,  1.0072, -1.2962],\n",
       "       [ 0.275 ,  0.2289,  1.3529,  0.8864]])"
      ]
     },
     "execution_count": 15,
     "metadata": {},
     "output_type": "execute_result"
    },
    {
     "name": "stdout",
     "output_type": "stream",
     "text": [
      "time: 1.73 ms (started: 2021-07-20 20:30:43 +09:00)\n"
     ]
    }
   ],
   "source": [
    "arr = np.random.randn(4, 4)\n",
    "arr"
   ]
  },
  {
   "cell_type": "code",
   "execution_count": 16,
   "metadata": {
    "ExecuteTime": {
     "end_time": "2021-07-20T11:30:43.549133Z",
     "start_time": "2021-07-20T11:30:43.546165Z"
    }
   },
   "outputs": [
    {
     "data": {
      "text/plain": [
       "array([[False,  True, False, False],\n",
       "       [ True,  True,  True,  True],\n",
       "       [ True,  True,  True, False],\n",
       "       [ True,  True,  True,  True]])"
      ]
     },
     "execution_count": 16,
     "metadata": {},
     "output_type": "execute_result"
    },
    {
     "name": "stdout",
     "output_type": "stream",
     "text": [
      "time: 1.23 ms (started: 2021-07-20 20:30:43 +09:00)\n"
     ]
    }
   ],
   "source": [
    "arr > 0"
   ]
  },
  {
   "cell_type": "code",
   "execution_count": 17,
   "metadata": {
    "ExecuteTime": {
     "end_time": "2021-07-20T11:30:43.553525Z",
     "start_time": "2021-07-20T11:30:43.550313Z"
    },
    "scrolled": true
   },
   "outputs": [
    {
     "data": {
      "text/plain": [
       "array([[-2,  2, -2, -2],\n",
       "       [ 2,  2,  2,  2],\n",
       "       [ 2,  2,  2, -2],\n",
       "       [ 2,  2,  2,  2]])"
      ]
     },
     "execution_count": 17,
     "metadata": {},
     "output_type": "execute_result"
    },
    {
     "name": "stdout",
     "output_type": "stream",
     "text": [
      "time: 1.4 ms (started: 2021-07-20 20:30:43 +09:00)\n"
     ]
    }
   ],
   "source": [
    "np.where(arr > 0, 2, -2) # 양수인 데이터는 2로 나머지는 -2로 바꿀 수 있다."
   ]
  },
  {
   "cell_type": "code",
   "execution_count": 18,
   "metadata": {
    "ExecuteTime": {
     "end_time": "2021-07-20T11:30:43.557837Z",
     "start_time": "2021-07-20T11:30:43.554559Z"
    }
   },
   "outputs": [
    {
     "data": {
      "text/plain": [
       "array([[-0.2047,  2.    , -0.5194, -0.5557],\n",
       "       [ 2.    ,  2.    ,  2.    ,  2.    ],\n",
       "       [ 2.    ,  2.    ,  2.    , -1.2962],\n",
       "       [ 2.    ,  2.    ,  2.    ,  2.    ]])"
      ]
     },
     "execution_count": 18,
     "metadata": {},
     "output_type": "execute_result"
    },
    {
     "name": "stdout",
     "output_type": "stream",
     "text": [
      "time: 1.53 ms (started: 2021-07-20 20:30:43 +09:00)\n"
     ]
    }
   ],
   "source": [
    "np.where(arr > 0, 2, arr) # 양수는 2로, 나머지는 원래 arr에 있던 값"
   ]
  },
  {
   "cell_type": "markdown",
   "metadata": {},
   "source": [
    "### 4.3.2 수학 메서드와 통계 메서드"
   ]
  },
  {
   "cell_type": "markdown",
   "metadata": {},
   "source": [
    "통계를 계산하는 수학 함수 사용 가능  \n",
    "+ sum\n",
    "+ mean\n",
    "+ std"
   ]
  },
  {
   "cell_type": "code",
   "execution_count": 19,
   "metadata": {
    "ExecuteTime": {
     "end_time": "2021-07-20T11:30:43.562191Z",
     "start_time": "2021-07-20T11:30:43.558864Z"
    }
   },
   "outputs": [
    {
     "data": {
      "text/plain": [
       "array([[3, 5, 7, 3],\n",
       "       [1, 5, 2, 5],\n",
       "       [3, 8, 5, 2],\n",
       "       [5, 3, 0, 6],\n",
       "       [8, 0, 5, 6]])"
      ]
     },
     "execution_count": 19,
     "metadata": {},
     "output_type": "execute_result"
    },
    {
     "name": "stdout",
     "output_type": "stream",
     "text": [
      "time: 1.58 ms (started: 2021-07-20 20:30:43 +09:00)\n"
     ]
    }
   ],
   "source": [
    "arr = np.random.randint(10, size=(5, 4)) # 계산을 쉽게 확인하기 위해서 한자리 수 랜덤한 정수만 사용 [0,10)\n",
    "arr"
   ]
  },
  {
   "cell_type": "code",
   "execution_count": 20,
   "metadata": {
    "ExecuteTime": {
     "end_time": "2021-07-20T11:30:43.566166Z",
     "start_time": "2021-07-20T11:30:43.563266Z"
    }
   },
   "outputs": [
    {
     "data": {
      "text/plain": [
       "4.1"
      ]
     },
     "execution_count": 20,
     "metadata": {},
     "output_type": "execute_result"
    },
    {
     "name": "stdout",
     "output_type": "stream",
     "text": [
      "time: 1.24 ms (started: 2021-07-20 20:30:43 +09:00)\n"
     ]
    }
   ],
   "source": [
    "arr.mean() # 전체 평균"
   ]
  },
  {
   "cell_type": "code",
   "execution_count": 21,
   "metadata": {
    "ExecuteTime": {
     "end_time": "2021-07-20T11:30:43.570045Z",
     "start_time": "2021-07-20T11:30:43.567188Z"
    }
   },
   "outputs": [
    {
     "data": {
      "text/plain": [
       "4.1"
      ]
     },
     "execution_count": 21,
     "metadata": {},
     "output_type": "execute_result"
    },
    {
     "name": "stdout",
     "output_type": "stream",
     "text": [
      "time: 1.2 ms (started: 2021-07-20 20:30:43 +09:00)\n"
     ]
    }
   ],
   "source": [
    "np.mean(arr) # 위와 동일"
   ]
  },
  {
   "cell_type": "code",
   "execution_count": 22,
   "metadata": {
    "ExecuteTime": {
     "end_time": "2021-07-20T11:30:43.574246Z",
     "start_time": "2021-07-20T11:30:43.571079Z"
    }
   },
   "outputs": [
    {
     "data": {
      "text/plain": [
       "82"
      ]
     },
     "execution_count": 22,
     "metadata": {},
     "output_type": "execute_result"
    },
    {
     "name": "stdout",
     "output_type": "stream",
     "text": [
      "time: 1.47 ms (started: 2021-07-20 20:30:43 +09:00)\n"
     ]
    }
   ],
   "source": [
    "arr.sum() # 배열 전체의 합"
   ]
  },
  {
   "cell_type": "markdown",
   "metadata": {},
   "source": [
    "axis인자를 통해서 해당 axis만 따로 계산 가능  "
   ]
  },
  {
   "cell_type": "code",
   "execution_count": 23,
   "metadata": {
    "ExecuteTime": {
     "end_time": "2021-07-20T11:30:43.580717Z",
     "start_time": "2021-07-20T11:30:43.577294Z"
    }
   },
   "outputs": [
    {
     "data": {
      "text/plain": [
       "array([4. , 4.2, 3.8, 4.4])"
      ]
     },
     "execution_count": 23,
     "metadata": {},
     "output_type": "execute_result"
    },
    {
     "name": "stdout",
     "output_type": "stream",
     "text": [
      "time: 1.46 ms (started: 2021-07-20 20:30:43 +09:00)\n"
     ]
    }
   ],
   "source": [
    "arr.mean(axis=0) "
   ]
  },
  {
   "cell_type": "code",
   "execution_count": 24,
   "metadata": {
    "ExecuteTime": {
     "end_time": "2021-07-20T11:30:43.585750Z",
     "start_time": "2021-07-20T11:30:43.582481Z"
    }
   },
   "outputs": [
    {
     "data": {
      "text/plain": [
       "array([4.5 , 3.25, 4.5 , 3.5 , 4.75])"
      ]
     },
     "execution_count": 24,
     "metadata": {},
     "output_type": "execute_result"
    },
    {
     "name": "stdout",
     "output_type": "stream",
     "text": [
      "time: 1.53 ms (started: 2021-07-20 20:30:43 +09:00)\n"
     ]
    }
   ],
   "source": [
    "arr.mean(axis=1)"
   ]
  },
  {
   "cell_type": "code",
   "execution_count": 25,
   "metadata": {
    "ExecuteTime": {
     "end_time": "2021-07-20T11:30:43.589923Z",
     "start_time": "2021-07-20T11:30:43.586837Z"
    }
   },
   "outputs": [
    {
     "data": {
      "text/plain": [
       "array([20, 21, 19, 22])"
      ]
     },
     "execution_count": 25,
     "metadata": {},
     "output_type": "execute_result"
    },
    {
     "name": "stdout",
     "output_type": "stream",
     "text": [
      "time: 1.22 ms (started: 2021-07-20 20:30:43 +09:00)\n"
     ]
    }
   ],
   "source": [
    "arr.sum(axis=0) "
   ]
  },
  {
   "cell_type": "code",
   "execution_count": 26,
   "metadata": {
    "ExecuteTime": {
     "end_time": "2021-07-20T11:30:43.593949Z",
     "start_time": "2021-07-20T11:30:43.590990Z"
    }
   },
   "outputs": [
    {
     "data": {
      "text/plain": [
       "array([18, 13, 18, 14, 19])"
      ]
     },
     "execution_count": 26,
     "metadata": {},
     "output_type": "execute_result"
    },
    {
     "name": "stdout",
     "output_type": "stream",
     "text": [
      "time: 1.23 ms (started: 2021-07-20 20:30:43 +09:00)\n"
     ]
    }
   ],
   "source": [
    "arr.sum(axis=1) "
   ]
  },
  {
   "cell_type": "markdown",
   "metadata": {},
   "source": [
    "+ cumsum  \n",
    "    : 각 원소의 누적합"
   ]
  },
  {
   "cell_type": "code",
   "execution_count": 27,
   "metadata": {
    "ExecuteTime": {
     "end_time": "2021-07-20T11:30:43.598220Z",
     "start_time": "2021-07-20T11:30:43.594946Z"
    }
   },
   "outputs": [
    {
     "data": {
      "text/plain": [
       "array([ 0,  1,  3,  6, 10, 15, 21, 28])"
      ]
     },
     "execution_count": 27,
     "metadata": {},
     "output_type": "execute_result"
    },
    {
     "name": "stdout",
     "output_type": "stream",
     "text": [
      "time: 1.47 ms (started: 2021-07-20 20:30:43 +09:00)\n"
     ]
    }
   ],
   "source": [
    "arr = np.array([0, 1, 2, 3, 4, 5, 6, 7])\n",
    "arr.cumsum()"
   ]
  },
  {
   "cell_type": "code",
   "execution_count": 28,
   "metadata": {
    "ExecuteTime": {
     "end_time": "2021-07-20T11:30:43.604014Z",
     "start_time": "2021-07-20T11:30:43.599675Z"
    }
   },
   "outputs": [
    {
     "data": {
      "text/plain": [
       "array([[0, 1, 2],\n",
       "       [3, 4, 5],\n",
       "       [6, 7, 8]])"
      ]
     },
     "execution_count": 28,
     "metadata": {},
     "output_type": "execute_result"
    },
    {
     "name": "stdout",
     "output_type": "stream",
     "text": [
      "time: 2.05 ms (started: 2021-07-20 20:30:43 +09:00)\n"
     ]
    }
   ],
   "source": [
    "arr = np.array([[0, 1, 2], [3, 4, 5], [6, 7, 8]])\n",
    "arr"
   ]
  },
  {
   "cell_type": "code",
   "execution_count": 29,
   "metadata": {
    "ExecuteTime": {
     "end_time": "2021-07-20T11:30:43.608368Z",
     "start_time": "2021-07-20T11:30:43.605256Z"
    }
   },
   "outputs": [
    {
     "data": {
      "text/plain": [
       "array([[ 0,  1,  2],\n",
       "       [ 3,  5,  7],\n",
       "       [ 9, 12, 15]])"
      ]
     },
     "execution_count": 29,
     "metadata": {},
     "output_type": "execute_result"
    },
    {
     "name": "stdout",
     "output_type": "stream",
     "text": [
      "time: 1.34 ms (started: 2021-07-20 20:30:43 +09:00)\n"
     ]
    }
   ],
   "source": [
    "arr.cumsum(axis=0)"
   ]
  },
  {
   "cell_type": "code",
   "execution_count": 30,
   "metadata": {
    "ExecuteTime": {
     "end_time": "2021-07-20T11:30:43.612794Z",
     "start_time": "2021-07-20T11:30:43.609434Z"
    }
   },
   "outputs": [
    {
     "data": {
      "text/plain": [
       "array([[ 0,  1,  3],\n",
       "       [ 3,  7, 12],\n",
       "       [ 6, 13, 21]])"
      ]
     },
     "execution_count": 30,
     "metadata": {},
     "output_type": "execute_result"
    },
    {
     "name": "stdout",
     "output_type": "stream",
     "text": [
      "time: 1.44 ms (started: 2021-07-20 20:30:43 +09:00)\n"
     ]
    }
   ],
   "source": [
    "arr.cumsum(axis=1) "
   ]
  },
  {
   "cell_type": "markdown",
   "metadata": {},
   "source": [
    "+ cumprod  \n",
    "    : 각 원소의 누적곱"
   ]
  },
  {
   "cell_type": "code",
   "execution_count": 31,
   "metadata": {
    "ExecuteTime": {
     "end_time": "2021-07-20T11:30:43.619154Z",
     "start_time": "2021-07-20T11:30:43.614616Z"
    }
   },
   "outputs": [
    {
     "data": {
      "text/plain": [
       "array([[  0,   0,   0],\n",
       "       [  3,  12,  60],\n",
       "       [  6,  42, 336]])"
      ]
     },
     "execution_count": 31,
     "metadata": {},
     "output_type": "execute_result"
    },
    {
     "name": "stdout",
     "output_type": "stream",
     "text": [
      "time: 2.22 ms (started: 2021-07-20 20:30:43 +09:00)\n"
     ]
    }
   ],
   "source": [
    "arr.cumprod(axis=1)"
   ]
  },
  {
   "cell_type": "markdown",
   "metadata": {},
   "source": [
    "### 4.3.3 불리언 배열을 위한 메서드"
   ]
  },
  {
   "cell_type": "code",
   "execution_count": 53,
   "metadata": {
    "ExecuteTime": {
     "end_time": "2021-07-20T11:53:00.137365Z",
     "start_time": "2021-07-20T11:53:00.133489Z"
    }
   },
   "outputs": [
    {
     "data": {
      "text/plain": [
       "array([ 0.5113,  1.5336,  0.4376, -1.2613,  1.751 , -1.0211,  0.9364,\n",
       "       -0.4537,  0.2177,  0.7508,  1.0939,  1.1566,  0.0941,  1.1693,\n",
       "        0.7452, -2.3027,  1.0721,  0.2188,  0.4256,  0.0073, -0.2135,\n",
       "       -1.0571, -0.5407,  0.9162,  0.6352, -0.5998, -2.1722, -1.374 ,\n",
       "       -1.1538,  0.6192,  0.4512, -0.3166, -1.0313,  1.5534,  0.0449,\n",
       "       -0.6655, -1.2136, -0.4472, -0.0748, -0.4967, -1.2631, -0.3002,\n",
       "       -0.2316, -1.8743, -0.1555, -2.2136,  0.1037, -1.1056, -2.7529,\n",
       "       -0.1945, -1.0048, -0.9082,  0.2344, -0.0422, -1.4119, -0.8825,\n",
       "        0.9486, -0.5301, -1.0202,  0.545 ,  0.6541,  2.3015, -0.3123,\n",
       "       -0.0174,  0.5043, -2.0312,  0.997 ,  0.8686,  0.415 ,  1.0943,\n",
       "       -0.3662, -0.1493,  0.6711,  0.1318,  1.051 ,  0.1529,  0.1966,\n",
       "        0.4825, -0.0637, -0.6296,  1.4566, -0.8677, -1.2708,  0.2744,\n",
       "        0.8236,  1.2129, -1.4257,  0.6592,  0.1121, -0.3111,  0.3247,\n",
       "       -0.2768, -0.8314,  0.931 ,  0.07  ,  0.3315, -0.6231,  0.4396,\n",
       "       -0.9022, -0.4672])"
      ]
     },
     "execution_count": 53,
     "metadata": {},
     "output_type": "execute_result"
    },
    {
     "name": "stdout",
     "output_type": "stream",
     "text": [
      "time: 2.17 ms (started: 2021-07-20 20:53:00 +09:00)\n"
     ]
    }
   ],
   "source": [
    "arr = np.random.randn(100)\n",
    "arr"
   ]
  },
  {
   "cell_type": "code",
   "execution_count": 54,
   "metadata": {
    "ExecuteTime": {
     "end_time": "2021-07-20T11:53:00.451536Z",
     "start_time": "2021-07-20T11:53:00.448199Z"
    }
   },
   "outputs": [
    {
     "data": {
      "text/plain": [
       "array([ True,  True,  True, False,  True, False,  True, False,  True,\n",
       "        True,  True,  True,  True,  True,  True, False,  True,  True,\n",
       "        True,  True, False, False, False,  True,  True, False, False,\n",
       "       False, False,  True,  True, False, False,  True,  True, False,\n",
       "       False, False, False, False, False, False, False, False, False,\n",
       "       False,  True, False, False, False, False, False,  True, False,\n",
       "       False, False,  True, False, False,  True,  True,  True, False,\n",
       "       False,  True, False,  True,  True,  True,  True, False, False,\n",
       "        True,  True,  True,  True,  True,  True, False, False,  True,\n",
       "       False, False,  True,  True,  True, False,  True,  True, False,\n",
       "        True, False, False,  True,  True,  True, False,  True, False,\n",
       "       False])"
      ]
     },
     "execution_count": 54,
     "metadata": {},
     "output_type": "execute_result"
    },
    {
     "name": "stdout",
     "output_type": "stream",
     "text": [
      "time: 1.51 ms (started: 2021-07-20 20:53:00 +09:00)\n"
     ]
    }
   ],
   "source": [
    "arr > 0"
   ]
  },
  {
   "cell_type": "code",
   "execution_count": 55,
   "metadata": {
    "ExecuteTime": {
     "end_time": "2021-07-20T11:53:00.851281Z",
     "start_time": "2021-07-20T11:53:00.847847Z"
    }
   },
   "outputs": [
    {
     "data": {
      "text/plain": [
       "50"
      ]
     },
     "execution_count": 55,
     "metadata": {},
     "output_type": "execute_result"
    },
    {
     "name": "stdout",
     "output_type": "stream",
     "text": [
      "time: 1.58 ms (started: 2021-07-20 20:53:00 +09:00)\n"
     ]
    }
   ],
   "source": [
    "(arr > 0).sum() # 양수 원소의 개수"
   ]
  },
  {
   "cell_type": "code",
   "execution_count": 34,
   "metadata": {
    "ExecuteTime": {
     "end_time": "2021-07-20T11:30:43.634867Z",
     "start_time": "2021-07-20T11:30:43.631696Z"
    }
   },
   "outputs": [
    {
     "data": {
      "text/plain": [
       "True"
      ]
     },
     "execution_count": 34,
     "metadata": {},
     "output_type": "execute_result"
    },
    {
     "name": "stdout",
     "output_type": "stream",
     "text": [
      "time: 1.34 ms (started: 2021-07-20 20:30:43 +09:00)\n"
     ]
    }
   ],
   "source": [
    "bools = np.array([False, False, True, False])\n",
    "bools.any() # 하나 이상이 True인지"
   ]
  },
  {
   "cell_type": "code",
   "execution_count": 35,
   "metadata": {
    "ExecuteTime": {
     "end_time": "2021-07-20T11:30:43.638811Z",
     "start_time": "2021-07-20T11:30:43.635883Z"
    }
   },
   "outputs": [
    {
     "data": {
      "text/plain": [
       "False"
      ]
     },
     "execution_count": 35,
     "metadata": {},
     "output_type": "execute_result"
    },
    {
     "name": "stdout",
     "output_type": "stream",
     "text": [
      "time: 1.17 ms (started: 2021-07-20 20:30:43 +09:00)\n"
     ]
    }
   ],
   "source": [
    "bools.all() # 전체가 True인지"
   ]
  },
  {
   "cell_type": "markdown",
   "metadata": {},
   "source": [
    "### 4.3.4 정렬"
   ]
  },
  {
   "cell_type": "code",
   "execution_count": 36,
   "metadata": {
    "ExecuteTime": {
     "end_time": "2021-07-20T11:30:43.643039Z",
     "start_time": "2021-07-20T11:30:43.639846Z"
    }
   },
   "outputs": [
    {
     "data": {
      "text/plain": [
       "array([ 0.6472,  0.4282, -0.0737,  0.3866,  1.5094,  0.6141])"
      ]
     },
     "execution_count": 36,
     "metadata": {},
     "output_type": "execute_result"
    },
    {
     "name": "stdout",
     "output_type": "stream",
     "text": [
      "time: 1.52 ms (started: 2021-07-20 20:30:43 +09:00)\n"
     ]
    }
   ],
   "source": [
    "arr = np.random.randn(6)\n",
    "arr"
   ]
  },
  {
   "cell_type": "code",
   "execution_count": 37,
   "metadata": {
    "ExecuteTime": {
     "end_time": "2021-07-20T11:30:43.646135Z",
     "start_time": "2021-07-20T11:30:43.644044Z"
    },
    "scrolled": true
   },
   "outputs": [
    {
     "name": "stdout",
     "output_type": "stream",
     "text": [
      "time: 348 µs (started: 2021-07-20 20:30:43 +09:00)\n"
     ]
    }
   ],
   "source": [
    "arr.sort()"
   ]
  },
  {
   "cell_type": "markdown",
   "metadata": {},
   "source": [
    "np.sort는 배열을 직접 변경하지 않고   \n",
    "정렬된 결과를 가지고 있는 복사본을 반환  "
   ]
  },
  {
   "cell_type": "code",
   "execution_count": 38,
   "metadata": {
    "ExecuteTime": {
     "end_time": "2021-07-20T11:30:43.650413Z",
     "start_time": "2021-07-20T11:30:43.647264Z"
    }
   },
   "outputs": [
    {
     "data": {
      "text/plain": [
       "array([-0.0737,  0.3866,  0.4282,  0.6141,  0.6472,  1.5094])"
      ]
     },
     "execution_count": 38,
     "metadata": {},
     "output_type": "execute_result"
    },
    {
     "name": "stdout",
     "output_type": "stream",
     "text": [
      "time: 1.32 ms (started: 2021-07-20 20:30:43 +09:00)\n"
     ]
    }
   ],
   "source": [
    "arr # 정렬된 채로 변경"
   ]
  },
  {
   "cell_type": "code",
   "execution_count": 39,
   "metadata": {
    "ExecuteTime": {
     "end_time": "2021-07-20T11:30:43.656056Z",
     "start_time": "2021-07-20T11:30:43.651659Z"
    }
   },
   "outputs": [
    {
     "data": {
      "text/plain": [
       "array([[ 0.8878, -0.7871,  0.8649],\n",
       "       [-1.563 ,  0.2215, -0.2053],\n",
       "       [-0.2485,  0.1294,  2.5149],\n",
       "       [ 0.4767,  2.2985, -1.0485],\n",
       "       [ 0.9674, -0.5461, -0.1405]])"
      ]
     },
     "execution_count": 39,
     "metadata": {},
     "output_type": "execute_result"
    },
    {
     "name": "stdout",
     "output_type": "stream",
     "text": [
      "time: 2.2 ms (started: 2021-07-20 20:30:43 +09:00)\n"
     ]
    }
   ],
   "source": [
    "arr = np.random.randn(5, 3) # 다차원 배열\n",
    "arr"
   ]
  },
  {
   "cell_type": "code",
   "execution_count": 40,
   "metadata": {
    "ExecuteTime": {
     "end_time": "2021-07-20T11:30:43.660537Z",
     "start_time": "2021-07-20T11:30:43.657820Z"
    }
   },
   "outputs": [
    {
     "name": "stdout",
     "output_type": "stream",
     "text": [
      "time: 302 µs (started: 2021-07-20 20:30:43 +09:00)\n"
     ]
    }
   ],
   "source": [
    "arr.sort(1) # axis = 1 -> 3 -> 3개를 배열한다"
   ]
  },
  {
   "cell_type": "code",
   "execution_count": 41,
   "metadata": {
    "ExecuteTime": {
     "end_time": "2021-07-20T11:30:43.664902Z",
     "start_time": "2021-07-20T11:30:43.661852Z"
    }
   },
   "outputs": [
    {
     "data": {
      "text/plain": [
       "array([[-0.7871,  0.8649,  0.8878],\n",
       "       [-1.563 , -0.2053,  0.2215],\n",
       "       [-0.2485,  0.1294,  2.5149],\n",
       "       [-1.0485,  0.4767,  2.2985],\n",
       "       [-0.5461, -0.1405,  0.9674]])"
      ]
     },
     "execution_count": 41,
     "metadata": {},
     "output_type": "execute_result"
    },
    {
     "name": "stdout",
     "output_type": "stream",
     "text": [
      "time: 1.4 ms (started: 2021-07-20 20:30:43 +09:00)\n"
     ]
    }
   ],
   "source": [
    "arr"
   ]
  },
  {
   "cell_type": "code",
   "execution_count": 42,
   "metadata": {
    "ExecuteTime": {
     "end_time": "2021-07-20T11:30:43.677555Z",
     "start_time": "2021-07-20T11:30:43.666241Z"
    }
   },
   "outputs": [
    {
     "data": {
      "text/plain": [
       "array([-1.5141,  0.7347,  0.1821, -1.0106,  0.4719,  1.4721, -0.0179,\n",
       "       -0.4713,  1.1247, -0.261 , -0.32  ,  0.039 , -0.14  , -1.4797,\n",
       "       -0.11  , -0.7976, -0.6012,  0.3288,  0.5929,  1.5791, -0.2048,\n",
       "        2.4551,  1.5574, -0.7809, -0.9233, -0.0465, -0.2899, -0.5907,\n",
       "       -1.8779, -0.522 , -0.8708, -1.3825, -2.5986,  1.0466,  1.0653,\n",
       "        0.3744,  0.0741,  0.8129,  0.3489,  1.3284, -0.3818, -0.4153,\n",
       "       -0.6295,  0.1823, -1.535 , -1.0573,  0.8041,  0.5722, -0.6013,\n",
       "       -1.3727, -2.0008,  1.4841,  1.0489, -1.7376, -0.5815, -1.2072,\n",
       "        2.6024, -0.2637, -0.5784, -0.5534,  0.1212, -0.9174, -0.3258,\n",
       "        0.8978, -1.0053,  0.9754,  0.5398,  0.4729,  1.3013, -2.8056,\n",
       "        0.1621, -0.032 , -0.9475,  1.5185, -1.7351, -1.5278, -0.3206,\n",
       "       -1.2715,  0.6303, -0.8142, -0.1037, -0.1011, -1.0326, -0.4953,\n",
       "        1.3588,  1.2186,  0.5083, -0.5572, -0.0066,  0.9693,  1.099 ,\n",
       "        0.9017, -0.4944,  0.1164, -0.4128,  0.4667, -2.4555,  1.9922,\n",
       "       -0.4096, -0.4497,  0.8565, -0.9156, -0.507 ,  0.9584,  0.5558,\n",
       "        1.5291,  0.0546,  0.5912,  0.1566,  0.7094, -0.6821,  1.6783,\n",
       "       -0.7655,  0.049 , -1.6677, -0.9175, -0.714 , -0.8454, -0.7459,\n",
       "       -0.5463,  0.4963,  0.8867, -0.5756,  1.1618, -0.1787, -0.1656,\n",
       "        0.7135, -1.5267, -0.1771,  0.9006,  1.3676, -0.0096,  0.8733,\n",
       "        0.7645, -1.1091,  1.2248,  0.6748,  1.4971,  0.8511, -0.1987,\n",
       "        2.0617, -0.1205,  0.8993, -0.3755,  0.0348,  0.3523,  0.9485,\n",
       "       -2.4193, -0.0045, -0.0761, -0.8919, -1.3378,  1.5607, -0.0764,\n",
       "       -1.2264,  0.6228,  0.0526, -0.4406,  1.9228, -1.3137, -0.1528,\n",
       "        1.0835,  0.5355, -0.4471, -0.1782, -0.3301, -0.4004, -0.6319,\n",
       "       -0.7768,  0.4172,  0.9322, -0.5979,  0.9915,  0.1865,  0.1488,\n",
       "        1.0127,  0.6329, -0.3722,  0.7655,  0.3612,  0.4139, -0.9288,\n",
       "        0.1682,  0.8176,  1.0039,  0.3339, -0.3046, -0.3802,  0.4746,\n",
       "       -0.2899, -0.1022, -0.4764, -0.3364, -0.4667, -1.6952, -0.4144,\n",
       "        0.8423,  1.0659,  1.2222,  2.0194,  0.3369, -0.525 , -0.084 ,\n",
       "        0.9101,  1.9262,  1.0441,  1.0502, -0.232 , -0.3009,  0.5443,\n",
       "       -0.2039,  2.0569, -0.981 , -1.1484,  0.3752, -0.9062, -0.4316,\n",
       "       -0.1045, -1.0174,  0.4812, -0.136 , -1.05  ,  0.2295,  0.1681,\n",
       "       -0.4791, -0.7237,  1.6004,  0.9497,  0.4416, -0.9097,  1.0328,\n",
       "        0.0067,  1.8878,  0.2979, -2.0766,  1.7019, -0.4073, -0.538 ,\n",
       "        0.5432, -1.1653,  0.1537, -0.4447, -1.1914,  0.1606, -0.3989,\n",
       "       -0.3164,  0.7857, -0.5404, -0.3446, -1.6839, -1.0125,  0.2154,\n",
       "       -0.6929, -0.7763,  0.1148, -0.8955, -0.3665,  0.8391,  0.4097,\n",
       "        0.8356,  0.1824,  0.6297, -0.3792,  0.307 , -0.0508, -1.6492,\n",
       "        0.3755,  1.3222, -1.2613, -1.1815, -0.7379,  0.1139,  1.1751,\n",
       "       -0.1302, -0.83  ,  0.3736, -0.9374,  0.6047,  1.7759, -1.3805,\n",
       "       -0.0498,  1.138 ,  2.2852, -1.9139, -0.9798, -0.6754,  0.2506,\n",
       "       -0.2674, -0.5603,  0.4228, -2.2802,  0.2144,  0.431 ,  0.0352,\n",
       "       -2.0982,  0.8787, -1.0079, -0.0357, -0.5866,  1.2826, -1.3776,\n",
       "        0.3141,  0.8764, -0.8232, -0.8006,  0.6841, -0.2631,  0.3452,\n",
       "       -1.3981,  0.9723, -0.1291,  0.2642, -1.1998,  0.1817, -0.4714,\n",
       "        1.2671,  0.1722,  0.9741, -0.4355,  1.2131, -0.0786,  0.6483,\n",
       "        1.7639, -0.7869, -0.4711, -2.2012,  2.1592,  1.0527,  1.3854,\n",
       "       -0.9019, -0.203 ,  0.7773, -0.3854,  0.6791, -0.5141, -0.9121,\n",
       "       -0.0501,  0.3155, -0.7753, -0.2383,  0.9424, -0.0261,  0.2725,\n",
       "        1.6011, -0.7418, -1.5782,  0.4191,  0.7373, -0.6316,  0.0749,\n",
       "        0.6123,  0.4978, -0.8036, -0.2232, -0.1545,  0.8866,  0.7544,\n",
       "        0.4166,  1.5321,  1.7302, -0.5071, -0.6788,  0.5718, -0.6247,\n",
       "        2.9054,  0.3192,  0.8135,  2.1671, -1.0867, -0.0734, -0.1998,\n",
       "        1.3714,  0.3216, -0.4067,  2.0629, -0.6816, -0.3087,  0.809 ,\n",
       "        1.7717, -1.9815, -0.4375, -1.8665, -0.3632, -0.5902, -1.8301,\n",
       "        0.1413, -1.2622, -0.6357,  1.3118,  0.6164, -0.3963,  2.6336,\n",
       "        0.6776, -0.6536, -0.0863, -0.1197, -1.7395, -0.9265,  1.2669,\n",
       "       -0.9597,  0.4651, -1.9444,  0.9014,  0.0351, -0.0369,  1.0459,\n",
       "       -1.2443, -0.9001, -0.9948, -0.195 ,  0.8545,  0.6348, -0.9478,\n",
       "       -0.386 , -1.2721, -0.382 , -2.9007,  1.2792,  1.3835, -0.6675,\n",
       "       -0.1373, -1.2736, -0.0824,  0.3961,  0.4408, -0.7148,  0.4826,\n",
       "       -0.3671,  0.764 ,  0.89  , -1.7952, -0.0742, -0.4777, -1.8985,\n",
       "       -1.3316, -0.1295,  0.5859,  0.2241,  1.1996,  1.2747,  1.3876,\n",
       "        1.0405, -1.3681, -0.2937, -0.3089, -0.7679,  0.2919, -0.6572,\n",
       "        0.3007, -1.3135,  0.0571,  0.3539, -0.85  ,  0.3789, -0.1524,\n",
       "       -0.192 ,  0.2063, -1.291 , -0.0017, -2.586 ,  0.4676,  1.081 ,\n",
       "       -0.1744, -1.2527, -0.0159, -0.1558, -0.3764,  0.822 , -1.1734,\n",
       "        1.288 , -0.9168, -1.9432, -0.3351,  0.2067, -0.0564, -0.8087,\n",
       "        0.1801,  0.36  ,  1.3623, -0.5122,  0.1816, -0.4629, -0.4011,\n",
       "       -0.7891,  0.8939, -0.2021,  0.3526, -0.6435,  0.8248, -0.4689,\n",
       "        0.4165,  0.2161, -0.2617,  1.4529, -0.4042, -1.223 ,  1.6181,\n",
       "       -0.5664, -0.3766, -0.9578,  0.2027, -0.1212, -0.2111, -0.6499,\n",
       "       -0.0086,  0.5781, -1.2752, -0.6968,  0.2173,  0.8666, -0.0133,\n",
       "        0.7009, -1.0737, -1.4889,  0.5027, -0.2702,  1.7038, -0.8044,\n",
       "       -1.0311, -0.516 ,  0.7638,  0.3275, -0.3322, -0.0859, -0.473 ,\n",
       "        0.2774, -0.2778,  0.9294,  1.0562,  0.5257, -0.9371, -0.6085,\n",
       "       -0.5095, -0.0896, -0.7073, -0.5904,  1.1646, -0.1995,  1.5909,\n",
       "       -0.2688, -1.3016, -1.6419, -0.861 ,  0.558 ,  0.2135,  0.5151,\n",
       "        0.2016,  1.9262, -0.3172, -0.1657, -1.1607, -0.6435, -0.9232,\n",
       "        0.613 , -0.1283, -1.4513,  0.8564,  0.7437, -2.604 , -0.4853,\n",
       "        0.2676, -0.3223, -0.231 ,  0.274 ,  2.3477,  0.5209,  0.3209,\n",
       "       -1.0233, -1.4962,  0.4145,  1.4911,  0.2873, -0.8114,  1.5407,\n",
       "       -1.3701, -1.1245, -0.0183,  1.1015, -0.1766,  1.0697,  1.0152,\n",
       "        0.1155, -1.3173,  0.2573,  1.35  , -0.9613,  1.1826, -0.1899,\n",
       "        0.603 ,  0.4771, -0.3241, -0.1111, -1.3424,  0.9219,  0.2593,\n",
       "       -0.0088, -1.1401,  0.7693,  1.1709,  0.2447, -0.1845,  0.1277,\n",
       "       -1.5126, -0.0889, -0.108 ,  0.098 , -2.6372, -0.0173,  0.2102,\n",
       "        3.2168, -0.9121, -0.9075,  0.3812,  0.1188, -1.3007,  0.2965,\n",
       "       -0.5909,  0.9146, -0.6553,  0.9832,  0.6525,  1.0226,  1.4893,\n",
       "       -1.1837,  0.0362,  2.1646, -0.0236, -0.339 ,  0.3371, -0.1366,\n",
       "        0.2076, -0.1193,  1.2554,  0.9269, -0.2917,  1.4195, -0.5579,\n",
       "       -1.2057,  0.1993,  0.0437, -0.789 ,  1.171 , -0.6492, -0.6254,\n",
       "       -0.3279, -0.8893, -1.0804,  0.3352,  1.4651, -0.3251,  0.6524,\n",
       "       -0.4145,  0.3073, -0.2485, -0.3287,  1.4972, -0.0513,  0.5448,\n",
       "        0.9968,  1.1392, -0.6844, -0.5967,  1.2005, -1.3561,  0.2256,\n",
       "        0.6865, -0.1606,  2.9704, -0.2101,  0.3855, -0.8714, -0.2293,\n",
       "       -0.9757, -0.6449,  0.7336, -1.7532,  1.4746, -0.3594, -0.5986,\n",
       "        2.1621, -0.3362,  0.3953,  0.4062, -0.6285, -1.0706,  2.1052,\n",
       "       -0.4284, -0.6182, -1.5787, -0.7019, -0.6498, -0.2295,  0.317 ,\n",
       "        0.2413,  0.5278, -1.1377,  1.2073, -0.6738, -1.5316,  0.5504,\n",
       "       -0.7807, -0.836 ,  1.5193,  1.2691, -0.2613,  0.6966, -2.8422,\n",
       "       -0.5693,  0.6212, -0.4905, -0.3253,  0.7616, -1.2471,  1.2137,\n",
       "       -0.9713, -0.873 ,  0.0186, -0.2887,  0.0444,  1.0076, -0.192 ,\n",
       "       -0.0319, -0.459 ,  1.6809,  0.3497,  0.6243,  0.4904,  1.1871,\n",
       "       -0.3145, -0.0565,  0.9458,  0.274 , -2.6803,  1.267 ,  0.1729,\n",
       "       -0.5151,  1.6565,  0.3975,  0.3462,  0.3091,  0.0165, -0.4349,\n",
       "        1.3194, -0.8555,  0.375 , -0.8696, -0.4219, -0.1892, -0.7285,\n",
       "        1.7381,  0.0436,  0.2208, -1.5551, -0.3177, -0.4171,  0.9497,\n",
       "       -1.2336,  1.1481,  1.1151,  0.0555,  1.8979,  1.0222,  1.5685,\n",
       "        0.9477,  1.1223,  0.6415,  0.3935, -0.8989, -1.1812, -2.4815,\n",
       "        1.1485, -1.2304, -0.0201, -1.2246, -0.0171, -0.5992,  0.7108,\n",
       "       -0.3594, -0.9548, -0.1559, -0.7788, -0.9807,  0.4473, -1.1234,\n",
       "        1.5314,  0.5346, -0.6137, -0.3958,  2.3846,  0.7307, -0.2201,\n",
       "       -0.0522, -0.194 , -1.6459,  1.3644, -0.4628,  1.8854,  1.0904,\n",
       "       -1.1552, -0.7081, -0.5835,  1.748 ,  0.0217, -1.8849,  1.4535,\n",
       "        0.6763, -0.2846,  1.696 ,  0.86  ,  0.9292,  0.2594, -1.3228,\n",
       "       -1.6425,  1.2311, -1.9008, -1.1476,  0.3193, -0.0435,  1.3963,\n",
       "        0.3182, -0.5963, -0.3512,  1.0264, -0.9387, -0.0049, -0.1465,\n",
       "       -0.2501, -0.4319,  0.0202,  1.052 ,  0.6994, -0.0939,  0.331 ,\n",
       "        0.0227,  0.3512, -0.7923,  0.2018,  1.3376, -0.3832, -0.7798,\n",
       "       -0.965 ,  0.0935, -0.6603, -0.3664, -0.0424,  0.001 , -0.5671,\n",
       "        0.2549,  0.8925, -0.3376, -1.1527, -0.5861,  0.7174, -0.1647,\n",
       "       -1.9906, -0.7308, -0.3556,  0.9616,  0.8413,  0.9555, -0.2094,\n",
       "        1.5999, -0.6052,  0.6127,  0.1854, -0.5031, -0.8668, -1.042 ,\n",
       "       -1.2886, -1.2196, -0.494 , -1.2467, -0.6811,  1.5775, -0.4958,\n",
       "        0.1843, -0.475 ,  0.2107,  0.6468,  1.1302,  0.9815, -0.4766,\n",
       "        2.4997, -0.9781,  1.8605, -0.0635,  0.2655,  0.3156,  1.3632,\n",
       "       -0.0674,  0.5691, -0.5209,  1.279 ,  0.7954, -1.1256, -1.3065,\n",
       "        0.6084,  0.0897,  0.5582,  0.5957,  1.6954, -0.6694,  0.0718,\n",
       "       -1.6134,  0.1233,  2.9252, -0.4946, -0.3471, -0.2439,  0.1683,\n",
       "       -1.22  , -0.2689, -0.4399, -0.1332, -1.0276, -0.3116,  0.604 ,\n",
       "        0.2978,  1.5986, -0.2242, -0.1351,  1.295 ,  0.9241,  0.475 ,\n",
       "        0.0353, -0.2718, -0.1565, -1.6911,  1.4163,  1.5329, -0.4906,\n",
       "       -0.519 , -0.0103,  0.2776,  1.0767,  0.4438, -1.5804,  0.0602,\n",
       "       -0.631 , -1.2875,  0.8973, -0.3878,  1.4617, -2.4298,  0.7062,\n",
       "       -0.9785,  0.7635,  0.1835, -0.7459, -1.4219,  1.4301, -0.6578,\n",
       "       -1.8833,  1.2357, -0.075 ,  0.3054,  1.5585,  0.2889, -1.3972,\n",
       "       -1.7839,  1.0947,  1.2039, -0.083 ,  0.1858, -1.8137,  1.7964,\n",
       "       -0.0138,  0.3181, -0.2615, -0.4679, -0.162 ,  0.5919, -0.9586,\n",
       "        0.267 , -3.1055,  1.2572, -0.4126, -0.8643,  1.884 ,  0.818 ,\n",
       "       -0.3326,  1.1069, -0.6184, -0.5835, -0.7084,  0.1471,  0.5503,\n",
       "        0.3422, -0.6152,  0.5755,  1.7855, -0.6961, -0.4987,  0.3129,\n",
       "       -0.4768,  0.6609, -0.681 , -1.5616, -0.5305, -0.2129])"
      ]
     },
     "execution_count": 42,
     "metadata": {},
     "output_type": "execute_result"
    },
    {
     "name": "stdout",
     "output_type": "stream",
     "text": [
      "time: 8.99 ms (started: 2021-07-20 20:30:43 +09:00)\n"
     ]
    }
   ],
   "source": [
    "large_arr = np.random.randn(1000)\n",
    "large_arr"
   ]
  },
  {
   "cell_type": "code",
   "execution_count": 43,
   "metadata": {
    "ExecuteTime": {
     "end_time": "2021-07-20T11:30:43.681063Z",
     "start_time": "2021-07-20T11:30:43.678691Z"
    }
   },
   "outputs": [
    {
     "name": "stdout",
     "output_type": "stream",
     "text": [
      "time: 385 µs (started: 2021-07-20 20:30:43 +09:00)\n"
     ]
    }
   ],
   "source": [
    "large_arr.sort()"
   ]
  },
  {
   "cell_type": "code",
   "execution_count": 56,
   "metadata": {
    "ExecuteTime": {
     "end_time": "2021-07-20T11:55:45.110382Z",
     "start_time": "2021-07-20T11:55:45.100555Z"
    }
   },
   "outputs": [
    {
     "data": {
      "text/plain": [
       "array([-3.1055, -2.9007, -2.8422, -2.8056, -2.6803, -2.6372, -2.604 ,\n",
       "       -2.5986, -2.586 , -2.4815, -2.4555, -2.4298, -2.4193, -2.2802,\n",
       "       -2.2012, -2.0982, -2.0766, -2.0008, -1.9906, -1.9815, -1.9444,\n",
       "       -1.9432, -1.9139, -1.9008, -1.8985, -1.8849, -1.8833, -1.8779,\n",
       "       -1.8665, -1.8301, -1.8137, -1.7952, -1.7839, -1.7532, -1.7395,\n",
       "       -1.7376, -1.7351, -1.6952, -1.6911, -1.6839, -1.6677, -1.6492,\n",
       "       -1.6459, -1.6425, -1.6419, -1.6134, -1.5804, -1.5787, -1.5782,\n",
       "       -1.5616, -1.5551, -1.535 , -1.5316, -1.5278, -1.5267, -1.5141,\n",
       "       -1.5126, -1.4962, -1.4889, -1.4797, -1.4513, -1.4219, -1.3981,\n",
       "       -1.3972, -1.3825, -1.3805, -1.3776, -1.3727, -1.3701, -1.3681,\n",
       "       -1.3561, -1.3424, -1.3378, -1.3316, -1.3228, -1.3173, -1.3137,\n",
       "       -1.3135, -1.3065, -1.3016, -1.3007, -1.291 , -1.2886, -1.2875,\n",
       "       -1.2752, -1.2736, -1.2721, -1.2715, -1.2622, -1.2613, -1.2527,\n",
       "       -1.2471, -1.2467, -1.2443, -1.2336, -1.2304, -1.2264, -1.2246,\n",
       "       -1.223 , -1.22  , -1.2196, -1.2072, -1.2057, -1.1998, -1.1914,\n",
       "       -1.1837, -1.1815, -1.1812, -1.1734, -1.1653, -1.1607, -1.1552,\n",
       "       -1.1527, -1.1484, -1.1476, -1.1401, -1.1377, -1.1256, -1.1245,\n",
       "       -1.1234, -1.1091, -1.0867, -1.0804, -1.0737, -1.0706, -1.0573,\n",
       "       -1.05  , -1.042 , -1.0326, -1.0311, -1.0276, -1.0233, -1.0174,\n",
       "       -1.0125, -1.0106, -1.0079, -1.0053, -0.9948, -0.981 , -0.9807,\n",
       "       -0.9798, -0.9785, -0.9781, -0.9757, -0.9713, -0.965 , -0.9613,\n",
       "       -0.9597, -0.9586, -0.9578, -0.9548, -0.9478, -0.9475, -0.9387,\n",
       "       -0.9374, -0.9371, -0.9288, -0.9265, -0.9233, -0.9232, -0.9175,\n",
       "       -0.9174, -0.9168, -0.9156, -0.9121, -0.9121, -0.9097, -0.9075,\n",
       "       -0.9062, -0.9019, -0.9001, -0.8989, -0.8955, -0.8919, -0.8893,\n",
       "       -0.873 , -0.8714, -0.8708, -0.8696, -0.8668, -0.8643, -0.861 ,\n",
       "       -0.8555, -0.85  , -0.8454, -0.836 , -0.83  , -0.8232, -0.8142,\n",
       "       -0.8114, -0.8087, -0.8044, -0.8036, -0.8006, -0.7976, -0.7923,\n",
       "       -0.7891, -0.789 , -0.7869, -0.7809, -0.7807, -0.7798, -0.7788,\n",
       "       -0.7768, -0.7763, -0.7753, -0.7679, -0.7655, -0.7459, -0.7459,\n",
       "       -0.7418, -0.7379, -0.7308, -0.7285, -0.7237, -0.7148, -0.714 ,\n",
       "       -0.7084, -0.7081, -0.7073, -0.7019, -0.6968, -0.6961, -0.6929,\n",
       "       -0.6844, -0.6821, -0.6816, -0.6811, -0.681 , -0.6788, -0.6754,\n",
       "       -0.6738, -0.6694, -0.6675, -0.6603, -0.6578, -0.6572, -0.6553,\n",
       "       -0.6536, -0.6499, -0.6498, -0.6492, -0.6449, -0.6435, -0.6435,\n",
       "       -0.6357, -0.6319, -0.6316, -0.631 , -0.6295, -0.6285, -0.6254,\n",
       "       -0.6247, -0.6184, -0.6182, -0.6152, -0.6137, -0.6085, -0.6052,\n",
       "       -0.6013, -0.6012, -0.5992, -0.5986, -0.5979, -0.5967, -0.5963,\n",
       "       -0.5909, -0.5907, -0.5904, -0.5902, -0.5866, -0.5861, -0.5835,\n",
       "       -0.5835, -0.5815, -0.5784, -0.5756, -0.5693, -0.5671, -0.5664,\n",
       "       -0.5603, -0.5579, -0.5572, -0.5534, -0.5463, -0.5404, -0.538 ,\n",
       "       -0.5305, -0.525 , -0.522 , -0.5209, -0.519 , -0.516 , -0.5151,\n",
       "       -0.5141, -0.5122, -0.5095, -0.5071, -0.507 , -0.5031, -0.4987,\n",
       "       -0.4958, -0.4953, -0.4946, -0.4944, -0.494 , -0.4906, -0.4905,\n",
       "       -0.4853, -0.4791, -0.4777, -0.4768, -0.4766, -0.4764, -0.475 ,\n",
       "       -0.473 , -0.4714, -0.4713, -0.4711, -0.4689, -0.4679, -0.4667,\n",
       "       -0.4629, -0.4628, -0.459 , -0.4497, -0.4471, -0.4447, -0.4406,\n",
       "       -0.4399, -0.4375, -0.4355, -0.4349, -0.4319, -0.4316, -0.4284,\n",
       "       -0.4219, -0.4171, -0.4153, -0.4145, -0.4144, -0.4128, -0.4126,\n",
       "       -0.4096, -0.4073, -0.4067, -0.4042, -0.4011, -0.4004, -0.3989,\n",
       "       -0.3963, -0.3958, -0.3878, -0.386 , -0.3854, -0.3832, -0.382 ,\n",
       "       -0.3818, -0.3802, -0.3792, -0.3766, -0.3764, -0.3755, -0.3722,\n",
       "       -0.3671, -0.3665, -0.3664, -0.3632, -0.3594, -0.3594, -0.3556,\n",
       "       -0.3512, -0.3471, -0.3446, -0.339 , -0.3376, -0.3364, -0.3362,\n",
       "       -0.3351, -0.3326, -0.3322, -0.3301, -0.3287, -0.3279, -0.3258,\n",
       "       -0.3253, -0.3251, -0.3241, -0.3223, -0.3206, -0.32  , -0.3177,\n",
       "       -0.3172, -0.3164, -0.3145, -0.3116, -0.3089, -0.3087, -0.3046,\n",
       "       -0.3009, -0.2937, -0.2917, -0.2899, -0.2899, -0.2887, -0.2846,\n",
       "       -0.2778, -0.2718, -0.2702, -0.2689, -0.2688, -0.2674, -0.2637,\n",
       "       -0.2631, -0.2617, -0.2615, -0.2613, -0.261 , -0.2501, -0.2485,\n",
       "       -0.2439, -0.2383, -0.232 , -0.231 , -0.2295, -0.2293, -0.2242,\n",
       "       -0.2232, -0.2201, -0.2129, -0.2111, -0.2101, -0.2094, -0.2048,\n",
       "       -0.2039, -0.203 , -0.2021, -0.1998, -0.1995, -0.1987, -0.195 ,\n",
       "       -0.194 , -0.192 , -0.192 , -0.1899, -0.1892, -0.1845, -0.1787,\n",
       "       -0.1782, -0.1771, -0.1766, -0.1744, -0.1657, -0.1656, -0.1647,\n",
       "       -0.162 , -0.1606, -0.1565, -0.1559, -0.1558, -0.1545, -0.1528,\n",
       "       -0.1524, -0.1465, -0.14  , -0.1373, -0.1366, -0.136 , -0.1351,\n",
       "       -0.1332, -0.1302, -0.1295, -0.1291, -0.1283, -0.1212, -0.1205,\n",
       "       -0.1197, -0.1193, -0.1111, -0.11  , -0.108 , -0.1045, -0.1037,\n",
       "       -0.1022, -0.1011, -0.0939, -0.0896, -0.0889, -0.0863, -0.0859,\n",
       "       -0.084 , -0.083 , -0.0824, -0.0786, -0.0764, -0.0761, -0.075 ,\n",
       "       -0.0742, -0.0734, -0.0674, -0.0635, -0.0565, -0.0564, -0.0522,\n",
       "       -0.0513, -0.0508, -0.0501, -0.0498, -0.0465, -0.0435, -0.0424,\n",
       "       -0.0369, -0.0357, -0.032 , -0.0319, -0.0261, -0.0236, -0.0201,\n",
       "       -0.0183, -0.0179, -0.0173, -0.0171, -0.0159, -0.0138, -0.0133,\n",
       "       -0.0103, -0.0096, -0.0088, -0.0086, -0.0066, -0.0049, -0.0045,\n",
       "       -0.0017,  0.001 ,  0.0067,  0.0165,  0.0186,  0.0202,  0.0217,\n",
       "        0.0227,  0.0348,  0.0351,  0.0352,  0.0353,  0.0362,  0.039 ,\n",
       "        0.0436,  0.0437,  0.0444,  0.049 ,  0.0526,  0.0546,  0.0555,\n",
       "        0.0571,  0.0602,  0.0718,  0.0741,  0.0749,  0.0897,  0.0935,\n",
       "        0.098 ,  0.1139,  0.1148,  0.1155,  0.1164,  0.1188,  0.1212,\n",
       "        0.1233,  0.1277,  0.1413,  0.1471,  0.1488,  0.1537,  0.1566,\n",
       "        0.1606,  0.1621,  0.1681,  0.1682,  0.1683,  0.1722,  0.1729,\n",
       "        0.1801,  0.1816,  0.1817,  0.1821,  0.1823,  0.1824,  0.1835,\n",
       "        0.1843,  0.1854,  0.1858,  0.1865,  0.1993,  0.2016,  0.2018,\n",
       "        0.2027,  0.2063,  0.2067,  0.2076,  0.2102,  0.2107,  0.2135,\n",
       "        0.2144,  0.2154,  0.2161,  0.2173,  0.2208,  0.2241,  0.2256,\n",
       "        0.2295,  0.2413,  0.2447,  0.2506,  0.2549,  0.2573,  0.2593,\n",
       "        0.2594,  0.2642,  0.2655,  0.267 ,  0.2676,  0.2725,  0.274 ,\n",
       "        0.274 ,  0.2774,  0.2776,  0.2873,  0.2889,  0.2919,  0.2965,\n",
       "        0.2978,  0.2979,  0.3007,  0.3054,  0.307 ,  0.3073,  0.3091,\n",
       "        0.3129,  0.3141,  0.3155,  0.3156,  0.317 ,  0.3181,  0.3182,\n",
       "        0.3192,  0.3193,  0.3209,  0.3216,  0.3275,  0.3288,  0.331 ,\n",
       "        0.3339,  0.3352,  0.3369,  0.3371,  0.3422,  0.3452,  0.3462,\n",
       "        0.3489,  0.3497,  0.3512,  0.3523,  0.3526,  0.3539,  0.36  ,\n",
       "        0.3612,  0.3736,  0.3744,  0.375 ,  0.3752,  0.3755,  0.3789,\n",
       "        0.3812,  0.3855,  0.3935,  0.3953,  0.3961,  0.3975,  0.4062,\n",
       "        0.4097,  0.4139,  0.4145,  0.4165,  0.4166,  0.4172,  0.4191,\n",
       "        0.4228,  0.431 ,  0.4408,  0.4416,  0.4438,  0.4473,  0.4651,\n",
       "        0.4667,  0.4676,  0.4719,  0.4729,  0.4746,  0.475 ,  0.4771,\n",
       "        0.4812,  0.4826,  0.4904,  0.4963,  0.4978,  0.5027,  0.5083,\n",
       "        0.5151,  0.5209,  0.5257,  0.5278,  0.5346,  0.5355,  0.5398,\n",
       "        0.5432,  0.5443,  0.5448,  0.5503,  0.5504,  0.5558,  0.558 ,\n",
       "        0.5582,  0.5691,  0.5718,  0.5722,  0.5755,  0.5781,  0.5859,\n",
       "        0.5912,  0.5919,  0.5929,  0.5957,  0.603 ,  0.604 ,  0.6047,\n",
       "        0.6084,  0.6123,  0.6127,  0.613 ,  0.6164,  0.6212,  0.6228,\n",
       "        0.6243,  0.6297,  0.6303,  0.6329,  0.6348,  0.6415,  0.6468,\n",
       "        0.6483,  0.6524,  0.6525,  0.6609,  0.6748,  0.6763,  0.6776,\n",
       "        0.6791,  0.6841,  0.6865,  0.6966,  0.6994,  0.7009,  0.7062,\n",
       "        0.7094,  0.7108,  0.7135,  0.7174,  0.7307,  0.7336,  0.7347,\n",
       "        0.7373,  0.7437,  0.7544,  0.7616,  0.7635,  0.7638,  0.764 ,\n",
       "        0.7645,  0.7655,  0.7693,  0.7773,  0.7857,  0.7954,  0.8041,\n",
       "        0.809 ,  0.8129,  0.8135,  0.8176,  0.818 ,  0.822 ,  0.8248,\n",
       "        0.8356,  0.8391,  0.8413,  0.8423,  0.8511,  0.8545,  0.8564,\n",
       "        0.8565,  0.86  ,  0.8666,  0.8733,  0.8764,  0.8787,  0.8866,\n",
       "        0.8867,  0.89  ,  0.8925,  0.8939,  0.8973,  0.8978,  0.8993,\n",
       "        0.9006,  0.9014,  0.9017,  0.9101,  0.9146,  0.9219,  0.9241,\n",
       "        0.9269,  0.9292,  0.9294,  0.9322,  0.9424,  0.9458,  0.9477,\n",
       "        0.9485,  0.9497,  0.9497,  0.9555,  0.9584,  0.9616,  0.9693,\n",
       "        0.9723,  0.9741,  0.9754,  0.9815,  0.9832,  0.9915,  0.9968,\n",
       "        1.0039,  1.0076,  1.0127,  1.0152,  1.0222,  1.0226,  1.0264,\n",
       "        1.0328,  1.0405,  1.0441,  1.0459,  1.0466,  1.0489,  1.0502,\n",
       "        1.052 ,  1.0527,  1.0562,  1.0653,  1.0659,  1.0697,  1.0767,\n",
       "        1.081 ,  1.0835,  1.0904,  1.0947,  1.099 ,  1.1015,  1.1069,\n",
       "        1.1151,  1.1223,  1.1247,  1.1302,  1.138 ,  1.1392,  1.1481,\n",
       "        1.1485,  1.1618,  1.1646,  1.1709,  1.171 ,  1.1751,  1.1826,\n",
       "        1.1871,  1.1996,  1.2005,  1.2039,  1.2073,  1.2131,  1.2137,\n",
       "        1.2186,  1.2222,  1.2248,  1.2311,  1.2357,  1.2554,  1.2572,\n",
       "        1.2669,  1.267 ,  1.2671,  1.2691,  1.2747,  1.279 ,  1.2792,\n",
       "        1.2826,  1.288 ,  1.295 ,  1.3013,  1.3118,  1.3194,  1.3222,\n",
       "        1.3284,  1.3376,  1.35  ,  1.3588,  1.3623,  1.3632,  1.3644,\n",
       "        1.3676,  1.3714,  1.3835,  1.3854,  1.3876,  1.3963,  1.4163,\n",
       "        1.4195,  1.4301,  1.4529,  1.4535,  1.4617,  1.4651,  1.4721,\n",
       "        1.4746,  1.4841,  1.4893,  1.4911,  1.4971,  1.4972,  1.5185,\n",
       "        1.5193,  1.5291,  1.5314,  1.5321,  1.5329,  1.5407,  1.5574,\n",
       "        1.5585,  1.5607,  1.5685,  1.5775,  1.5791,  1.5909,  1.5986,\n",
       "        1.5999,  1.6004,  1.6011,  1.6181,  1.6565,  1.6783,  1.6809,\n",
       "        1.6954,  1.696 ,  1.7019,  1.7038,  1.7302,  1.7381,  1.748 ,\n",
       "        1.7639,  1.7717,  1.7759,  1.7855,  1.7964,  1.8605,  1.884 ,\n",
       "        1.8854,  1.8878,  1.8979,  1.9228,  1.9262,  1.9262,  1.9922,\n",
       "        2.0194,  2.0569,  2.0617,  2.0629,  2.1052,  2.1592,  2.1621,\n",
       "        2.1646,  2.1671,  2.2852,  2.3477,  2.3846,  2.4551,  2.4997,\n",
       "        2.6024,  2.6336,  2.9054,  2.9252,  2.9704,  3.2168])"
      ]
     },
     "execution_count": 56,
     "metadata": {},
     "output_type": "execute_result"
    },
    {
     "name": "stdout",
     "output_type": "stream",
     "text": [
      "time: 8.09 ms (started: 2021-07-20 20:55:45 +09:00)\n"
     ]
    }
   ],
   "source": [
    "large_arr"
   ]
  },
  {
   "cell_type": "code",
   "execution_count": 57,
   "metadata": {
    "ExecuteTime": {
     "end_time": "2021-07-20T11:56:37.520816Z",
     "start_time": "2021-07-20T11:56:37.517599Z"
    }
   },
   "outputs": [
    {
     "data": {
      "text/plain": [
       "-1.5551394935868748"
      ]
     },
     "execution_count": 57,
     "metadata": {},
     "output_type": "execute_result"
    },
    {
     "name": "stdout",
     "output_type": "stream",
     "text": [
      "time: 1.41 ms (started: 2021-07-20 20:56:37 +09:00)\n"
     ]
    }
   ],
   "source": [
    "large_arr[int(0.05 * len(large_arr))] # 5% 분위수"
   ]
  },
  {
   "cell_type": "code",
   "execution_count": 58,
   "metadata": {
    "ExecuteTime": {
     "end_time": "2021-07-20T11:56:37.888917Z",
     "start_time": "2021-07-20T11:56:37.885592Z"
    }
   },
   "outputs": [
    {
     "data": {
      "text/plain": [
       "-1.5551394935868748"
      ]
     },
     "execution_count": 58,
     "metadata": {},
     "output_type": "execute_result"
    },
    {
     "name": "stdout",
     "output_type": "stream",
     "text": [
      "time: 1.38 ms (started: 2021-07-20 20:56:37 +09:00)\n"
     ]
    }
   ],
   "source": [
    "large_arr[50]"
   ]
  },
  {
   "cell_type": "markdown",
   "metadata": {},
   "source": [
    "### 4.3.5 집합 관련 함수"
   ]
  },
  {
   "cell_type": "code",
   "execution_count": 59,
   "metadata": {
    "ExecuteTime": {
     "end_time": "2021-07-20T11:57:04.333629Z",
     "start_time": "2021-07-20T11:57:04.330195Z"
    },
    "scrolled": true
   },
   "outputs": [
    {
     "data": {
      "text/plain": [
       "array(['Bob', 'Joe', 'Will'], dtype='<U4')"
      ]
     },
     "execution_count": 59,
     "metadata": {},
     "output_type": "execute_result"
    },
    {
     "name": "stdout",
     "output_type": "stream",
     "text": [
      "time: 1.62 ms (started: 2021-07-20 20:57:04 +09:00)\n"
     ]
    }
   ],
   "source": [
    "names = np.array(['Bob', 'Joe', 'Will', 'Bob', 'Will', 'Joe', 'Joe'])\n",
    "np.unique(names)"
   ]
  },
  {
   "cell_type": "code",
   "execution_count": 60,
   "metadata": {
    "ExecuteTime": {
     "end_time": "2021-07-20T11:57:06.492998Z",
     "start_time": "2021-07-20T11:57:06.489177Z"
    }
   },
   "outputs": [
    {
     "data": {
      "text/plain": [
       "array([1, 2, 3, 4])"
      ]
     },
     "execution_count": 60,
     "metadata": {},
     "output_type": "execute_result"
    },
    {
     "name": "stdout",
     "output_type": "stream",
     "text": [
      "time: 1.61 ms (started: 2021-07-20 20:57:06 +09:00)\n"
     ]
    }
   ],
   "source": [
    "ints = np.array([3, 3, 3, 2, 2, 1, 1, 4, 4])\n",
    "np.unique(ints)"
   ]
  },
  {
   "cell_type": "code",
   "execution_count": 46,
   "metadata": {
    "ExecuteTime": {
     "end_time": "2021-07-20T11:30:43.696830Z",
     "start_time": "2021-07-20T11:30:43.693715Z"
    }
   },
   "outputs": [
    {
     "data": {
      "text/plain": [
       "['Bob', 'Joe', 'Will']"
      ]
     },
     "execution_count": 46,
     "metadata": {},
     "output_type": "execute_result"
    },
    {
     "name": "stdout",
     "output_type": "stream",
     "text": [
      "time: 1.33 ms (started: 2021-07-20 20:30:43 +09:00)\n"
     ]
    }
   ],
   "source": [
    "sorted(set(names)) # unique 포함"
   ]
  },
  {
   "cell_type": "code",
   "execution_count": 47,
   "metadata": {
    "ExecuteTime": {
     "end_time": "2021-07-20T11:30:43.701617Z",
     "start_time": "2021-07-20T11:30:43.697940Z"
    }
   },
   "outputs": [
    {
     "data": {
      "text/plain": [
       "array([ True, False, False,  True,  True, False,  True])"
      ]
     },
     "execution_count": 47,
     "metadata": {},
     "output_type": "execute_result"
    },
    {
     "name": "stdout",
     "output_type": "stream",
     "text": [
      "time: 1.79 ms (started: 2021-07-20 20:30:43 +09:00)\n"
     ]
    }
   ],
   "source": [
    "values = np.array([6, 0, 0, 3, 2, 5, 6])\n",
    "np.in1d(values, [2, 3, 6])"
   ]
  },
  {
   "cell_type": "markdown",
   "metadata": {},
   "source": [
    "## Conclusion"
   ]
  }
 ],
 "metadata": {
  "hide_input": false,
  "kernelspec": {
   "display_name": "Python 3",
   "language": "python",
   "name": "python3"
  },
  "language_info": {
   "codemirror_mode": {
    "name": "ipython",
    "version": 3
   },
   "file_extension": ".py",
   "mimetype": "text/x-python",
   "name": "python",
   "nbconvert_exporter": "python",
   "pygments_lexer": "ipython3",
   "version": "3.7.9"
  },
  "toc": {
   "base_numbering": 1,
   "nav_menu": {},
   "number_sections": true,
   "sideBar": true,
   "skip_h1_title": false,
   "title_cell": "Table of Contents",
   "title_sidebar": "Contents",
   "toc_cell": false,
   "toc_position": {},
   "toc_section_display": true,
   "toc_window_display": false
  },
  "varInspector": {
   "cols": {
    "lenName": 16,
    "lenType": 16,
    "lenVar": 40
   },
   "kernels_config": {
    "python": {
     "delete_cmd_postfix": "",
     "delete_cmd_prefix": "del ",
     "library": "var_list.py",
     "varRefreshCmd": "print(var_dic_list())"
    },
    "r": {
     "delete_cmd_postfix": ") ",
     "delete_cmd_prefix": "rm(",
     "library": "var_list.r",
     "varRefreshCmd": "cat(var_dic_list()) "
    }
   },
   "types_to_exclude": [
    "module",
    "function",
    "builtin_function_or_method",
    "instance",
    "_Feature"
   ],
   "window_display": false
  }
 },
 "nbformat": 4,
 "nbformat_minor": 1
}
