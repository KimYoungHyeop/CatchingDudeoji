{
 "cells": [
  {
   "cell_type": "markdown",
   "metadata": {},
   "source": [
    "# 넘파이 기본 : 배열과 벡터 연산"
   ]
  },
  {
   "cell_type": "code",
   "execution_count": 1,
   "metadata": {
    "ExecuteTime": {
     "end_time": "2021-07-20T11:28:48.841083Z",
     "start_time": "2021-07-20T11:28:48.619583Z"
    }
   },
   "outputs": [],
   "source": [
    "import numpy as np\n",
    "np.random.seed(12345)\n",
    "import matplotlib.pyplot as plt\n",
    "plt.rc('figure', figsize=(10, 6))\n",
    "np.set_printoptions(precision=4, suppress=True)"
   ]
  },
  {
   "cell_type": "code",
   "execution_count": 2,
   "metadata": {
    "ExecuteTime": {
     "end_time": "2021-07-20T11:28:48.845420Z",
     "start_time": "2021-07-20T11:28:48.842267Z"
    }
   },
   "outputs": [
    {
     "name": "stdout",
     "output_type": "stream",
     "text": [
      "time: 182 µs (started: 2021-07-20 20:28:48 +09:00)\n"
     ]
    }
   ],
   "source": [
    "%load_ext autotime"
   ]
  },
  {
   "cell_type": "markdown",
   "metadata": {},
   "source": [
    "## 4.2 유니버설 함수 : 배열의 각 원소를 빠르게 처리하는 함수"
   ]
  },
  {
   "cell_type": "markdown",
   "metadata": {},
   "source": [
    "+ 하나 이상의 스칼라값을 받아서 하나 이상의 결과값을 반환하는 간단한 함수\n",
    "+ 단항 ufunc\n",
    "    + sqrt 제곱급\n",
    "    + exp 자연상수 e의 지수함수 값"
   ]
  },
  {
   "cell_type": "code",
   "execution_count": 3,
   "metadata": {
    "ExecuteTime": {
     "end_time": "2021-07-20T11:28:48.851507Z",
     "start_time": "2021-07-20T11:28:48.846682Z"
    }
   },
   "outputs": [
    {
     "data": {
      "text/plain": [
       "array([0, 1, 2, 3, 4, 5, 6, 7, 8, 9])"
      ]
     },
     "execution_count": 3,
     "metadata": {},
     "output_type": "execute_result"
    },
    {
     "name": "stdout",
     "output_type": "stream",
     "text": [
      "time: 2.97 ms (started: 2021-07-20 20:28:48 +09:00)\n"
     ]
    }
   ],
   "source": [
    "arr = np.arange(10)\n",
    "arr"
   ]
  },
  {
   "cell_type": "code",
   "execution_count": 4,
   "metadata": {
    "ExecuteTime": {
     "end_time": "2021-07-20T11:28:48.856853Z",
     "start_time": "2021-07-20T11:28:48.852824Z"
    }
   },
   "outputs": [
    {
     "data": {
      "text/plain": [
       "array([0.    , 1.    , 1.4142, 1.7321, 2.    , 2.2361, 2.4495, 2.6458,\n",
       "       2.8284, 3.    ])"
      ]
     },
     "execution_count": 4,
     "metadata": {},
     "output_type": "execute_result"
    },
    {
     "name": "stdout",
     "output_type": "stream",
     "text": [
      "time: 1.73 ms (started: 2021-07-20 20:28:48 +09:00)\n"
     ]
    }
   ],
   "source": [
    "arr = np.arange(10)\n",
    "arr\n",
    "np.sqrt(arr)"
   ]
  },
  {
   "cell_type": "code",
   "execution_count": 5,
   "metadata": {
    "ExecuteTime": {
     "end_time": "2021-07-20T11:28:48.862001Z",
     "start_time": "2021-07-20T11:28:48.858129Z"
    }
   },
   "outputs": [
    {
     "data": {
      "text/plain": [
       "array([   1.    ,    2.7183,    7.3891,   20.0855,   54.5982,  148.4132,\n",
       "        403.4288, 1096.6332, 2980.958 , 8103.0839])"
      ]
     },
     "execution_count": 5,
     "metadata": {},
     "output_type": "execute_result"
    },
    {
     "name": "stdout",
     "output_type": "stream",
     "text": [
      "time: 1.75 ms (started: 2021-07-20 20:28:48 +09:00)\n"
     ]
    }
   ],
   "source": [
    "np.exp(arr)"
   ]
  },
  {
   "cell_type": "code",
   "execution_count": 6,
   "metadata": {
    "ExecuteTime": {
     "end_time": "2021-07-20T11:28:48.867069Z",
     "start_time": "2021-07-20T11:28:48.863820Z"
    }
   },
   "outputs": [
    {
     "data": {
      "text/plain": [
       "numpy.float64"
      ]
     },
     "execution_count": 6,
     "metadata": {},
     "output_type": "execute_result"
    },
    {
     "name": "stdout",
     "output_type": "stream",
     "text": [
      "time: 1.36 ms (started: 2021-07-20 20:28:48 +09:00)\n"
     ]
    }
   ],
   "source": [
    "exp_arr = np.exp(arr)\n",
    "type(exp_arr[0])"
   ]
  },
  {
   "cell_type": "markdown",
   "metadata": {},
   "source": [
    "+ 이항 ufunc\n",
    "    + add\n",
    "    + maximum"
   ]
  },
  {
   "cell_type": "code",
   "execution_count": 7,
   "metadata": {
    "ExecuteTime": {
     "end_time": "2021-07-20T11:28:48.871821Z",
     "start_time": "2021-07-20T11:28:48.868129Z"
    }
   },
   "outputs": [
    {
     "data": {
      "text/plain": [
       "array([-0.2047,  0.4789, -0.5194, -0.5557,  1.9658,  1.3934,  0.0929,\n",
       "        0.2817])"
      ]
     },
     "execution_count": 7,
     "metadata": {},
     "output_type": "execute_result"
    },
    {
     "name": "stdout",
     "output_type": "stream",
     "text": [
      "time: 1.75 ms (started: 2021-07-20 20:28:48 +09:00)\n"
     ]
    }
   ],
   "source": [
    "x = np.random.randn(8)\n",
    "y = np.random.randn(8)\n",
    "x"
   ]
  },
  {
   "cell_type": "code",
   "execution_count": 21,
   "metadata": {
    "ExecuteTime": {
     "end_time": "2021-07-20T11:28:57.554433Z",
     "start_time": "2021-07-20T11:28:57.551100Z"
    }
   },
   "outputs": [
    {
     "data": {
      "text/plain": [
       "1.9657805725027142"
      ]
     },
     "execution_count": 21,
     "metadata": {},
     "output_type": "execute_result"
    },
    {
     "name": "stdout",
     "output_type": "stream",
     "text": [
      "time: 1.55 ms (started: 2021-07-20 20:28:57 +09:00)\n"
     ]
    }
   ],
   "source": [
    "np.max(x) # 배열 내에서 Max"
   ]
  },
  {
   "cell_type": "code",
   "execution_count": 9,
   "metadata": {
    "ExecuteTime": {
     "end_time": "2021-07-20T11:28:48.883213Z",
     "start_time": "2021-07-20T11:28:48.879932Z"
    }
   },
   "outputs": [
    {
     "data": {
      "text/plain": [
       "array([ 0.769 ,  1.2464,  1.0072, -1.2962,  0.275 ,  0.2289,  1.3529,\n",
       "        0.8864])"
      ]
     },
     "execution_count": 9,
     "metadata": {},
     "output_type": "execute_result"
    },
    {
     "name": "stdout",
     "output_type": "stream",
     "text": [
      "time: 1.39 ms (started: 2021-07-20 20:28:48 +09:00)\n"
     ]
    }
   ],
   "source": [
    "y"
   ]
  },
  {
   "cell_type": "code",
   "execution_count": 10,
   "metadata": {
    "ExecuteTime": {
     "end_time": "2021-07-20T11:28:48.888039Z",
     "start_time": "2021-07-20T11:28:48.884604Z"
    }
   },
   "outputs": [
    {
     "data": {
      "text/plain": [
       "array([ 0.769 ,  1.2464,  1.0072, -0.5557,  1.9658,  1.3934,  1.3529,\n",
       "        0.8864])"
      ]
     },
     "execution_count": 10,
     "metadata": {},
     "output_type": "execute_result"
    },
    {
     "name": "stdout",
     "output_type": "stream",
     "text": [
      "time: 1.43 ms (started: 2021-07-20 20:28:48 +09:00)\n"
     ]
    }
   ],
   "source": [
    "np.maximum(x, y)"
   ]
  },
  {
   "cell_type": "markdown",
   "metadata": {},
   "source": [
    "+ divmod(a, b)\n",
    ": 매개변수로 받은 a를 b로 나눈다. 그리고 그 몫과 나머지를 튜플(tuple) 데이터 타입으로 반환\n",
    "\n",
    "+ modf\n",
    ": 위 함수의 벡터화 버젼"
   ]
  },
  {
   "cell_type": "code",
   "execution_count": 11,
   "metadata": {
    "ExecuteTime": {
     "end_time": "2021-07-20T11:28:48.892095Z",
     "start_time": "2021-07-20T11:28:48.889048Z"
    }
   },
   "outputs": [
    {
     "data": {
      "text/plain": [
       "(3, 1)"
      ]
     },
     "execution_count": 11,
     "metadata": {},
     "output_type": "execute_result"
    },
    {
     "name": "stdout",
     "output_type": "stream",
     "text": [
      "time: 1.37 ms (started: 2021-07-20 20:28:48 +09:00)\n"
     ]
    }
   ],
   "source": [
    "divmod(10, 3)"
   ]
  },
  {
   "cell_type": "code",
   "execution_count": 12,
   "metadata": {
    "ExecuteTime": {
     "end_time": "2021-07-20T11:28:48.896398Z",
     "start_time": "2021-07-20T11:28:48.893113Z"
    }
   },
   "outputs": [
    {
     "data": {
      "text/plain": [
       "array([-10.0082,  -1.8592,   8.3451,  -2.1928,  -2.6987,   2.3849,\n",
       "        16.2447])"
      ]
     },
     "execution_count": 12,
     "metadata": {},
     "output_type": "execute_result"
    },
    {
     "name": "stdout",
     "output_type": "stream",
     "text": [
      "time: 1.61 ms (started: 2021-07-20 20:28:48 +09:00)\n"
     ]
    }
   ],
   "source": [
    "arr = np.random.randn(7) * 5\n",
    "arr"
   ]
  },
  {
   "cell_type": "code",
   "execution_count": 13,
   "metadata": {
    "ExecuteTime": {
     "end_time": "2021-07-20T11:28:48.899654Z",
     "start_time": "2021-07-20T11:28:48.897439Z"
    }
   },
   "outputs": [
    {
     "name": "stdout",
     "output_type": "stream",
     "text": [
      "time: 279 µs (started: 2021-07-20 20:28:48 +09:00)\n"
     ]
    }
   ],
   "source": [
    "remainder, whole_part = np.modf(arr) # 실수를 나머지와 몫으로 (순서 주의)"
   ]
  },
  {
   "cell_type": "code",
   "execution_count": 14,
   "metadata": {
    "ExecuteTime": {
     "end_time": "2021-07-20T11:28:48.903909Z",
     "start_time": "2021-07-20T11:28:48.900868Z"
    },
    "scrolled": true
   },
   "outputs": [
    {
     "data": {
      "text/plain": [
       "array([-0.0082, -0.8592,  0.3451, -0.1928, -0.6987,  0.3849,  0.2447])"
      ]
     },
     "execution_count": 14,
     "metadata": {},
     "output_type": "execute_result"
    },
    {
     "name": "stdout",
     "output_type": "stream",
     "text": [
      "time: 1.36 ms (started: 2021-07-20 20:28:48 +09:00)\n"
     ]
    }
   ],
   "source": [
    "remainder # 나머지 : 소수부분"
   ]
  },
  {
   "cell_type": "code",
   "execution_count": 15,
   "metadata": {
    "ExecuteTime": {
     "end_time": "2021-07-20T11:28:48.908284Z",
     "start_time": "2021-07-20T11:28:48.904964Z"
    }
   },
   "outputs": [
    {
     "data": {
      "text/plain": [
       "array([-10.,  -1.,   8.,  -2.,  -2.,   2.,  16.])"
      ]
     },
     "execution_count": 15,
     "metadata": {},
     "output_type": "execute_result"
    },
    {
     "name": "stdout",
     "output_type": "stream",
     "text": [
      "time: 1.68 ms (started: 2021-07-20 20:28:48 +09:00)\n"
     ]
    }
   ],
   "source": [
    "whole_part # 몫 : 정수부분"
   ]
  },
  {
   "cell_type": "code",
   "execution_count": 16,
   "metadata": {
    "ExecuteTime": {
     "end_time": "2021-07-20T11:28:48.913241Z",
     "start_time": "2021-07-20T11:28:48.909513Z"
    }
   },
   "outputs": [
    {
     "data": {
      "text/plain": [
       "array([-10.0082,  -1.8592,   8.3451,  -2.1928,  -2.6987,   2.3849,\n",
       "        16.2447])"
      ]
     },
     "execution_count": 16,
     "metadata": {},
     "output_type": "execute_result"
    },
    {
     "name": "stdout",
     "output_type": "stream",
     "text": [
      "time: 1.8 ms (started: 2021-07-20 20:28:48 +09:00)\n"
     ]
    }
   ],
   "source": [
    "arr"
   ]
  },
  {
   "cell_type": "code",
   "execution_count": 17,
   "metadata": {
    "ExecuteTime": {
     "end_time": "2021-07-20T11:28:48.919608Z",
     "start_time": "2021-07-20T11:28:48.914811Z"
    }
   },
   "outputs": [
    {
     "name": "stderr",
     "output_type": "stream",
     "text": [
      "/home/aiffel-dj35/anaconda3/envs/aiffel/lib/python3.7/site-packages/ipykernel_launcher.py:1: RuntimeWarning: invalid value encountered in sqrt\n",
      "  \"\"\"Entry point for launching an IPython kernel.\n"
     ]
    },
    {
     "data": {
      "text/plain": [
       "array([   nan,    nan, 2.8888,    nan,    nan, 1.5443, 4.0305])"
      ]
     },
     "execution_count": 17,
     "metadata": {},
     "output_type": "execute_result"
    },
    {
     "name": "stdout",
     "output_type": "stream",
     "text": [
      "time: 2.63 ms (started: 2021-07-20 20:28:48 +09:00)\n"
     ]
    }
   ],
   "source": [
    "np.sqrt(arr)"
   ]
  },
  {
   "cell_type": "code",
   "execution_count": 18,
   "metadata": {
    "ExecuteTime": {
     "end_time": "2021-07-20T11:28:48.925095Z",
     "start_time": "2021-07-20T11:28:48.921157Z"
    }
   },
   "outputs": [
    {
     "data": {
      "text/plain": [
       "array([-10.0082,  -1.8592,   8.3451,  -2.1928,  -2.6987,   2.3849,\n",
       "        16.2447])"
      ]
     },
     "execution_count": 18,
     "metadata": {},
     "output_type": "execute_result"
    },
    {
     "name": "stdout",
     "output_type": "stream",
     "text": [
      "time: 1.83 ms (started: 2021-07-20 20:28:48 +09:00)\n"
     ]
    }
   ],
   "source": [
    "arr # 원래 arr 나오지만"
   ]
  },
  {
   "cell_type": "code",
   "execution_count": 19,
   "metadata": {
    "ExecuteTime": {
     "end_time": "2021-07-20T11:28:48.930650Z",
     "start_time": "2021-07-20T11:28:48.926597Z"
    }
   },
   "outputs": [
    {
     "name": "stderr",
     "output_type": "stream",
     "text": [
      "/home/aiffel-dj35/anaconda3/envs/aiffel/lib/python3.7/site-packages/ipykernel_launcher.py:1: RuntimeWarning: invalid value encountered in sqrt\n",
      "  \"\"\"Entry point for launching an IPython kernel.\n"
     ]
    },
    {
     "data": {
      "text/plain": [
       "array([   nan,    nan, 2.8888,    nan,    nan, 1.5443, 4.0305])"
      ]
     },
     "execution_count": 19,
     "metadata": {},
     "output_type": "execute_result"
    },
    {
     "name": "stdout",
     "output_type": "stream",
     "text": [
      "time: 1.96 ms (started: 2021-07-20 20:28:48 +09:00)\n"
     ]
    }
   ],
   "source": [
    "np.sqrt(arr, arr) # 결과 값을 arr로 지정해주면"
   ]
  },
  {
   "cell_type": "code",
   "execution_count": 20,
   "metadata": {
    "ExecuteTime": {
     "end_time": "2021-07-20T11:28:48.934843Z",
     "start_time": "2021-07-20T11:28:48.931696Z"
    },
    "scrolled": true
   },
   "outputs": [
    {
     "data": {
      "text/plain": [
       "array([   nan,    nan, 2.8888,    nan,    nan, 1.5443, 4.0305])"
      ]
     },
     "execution_count": 20,
     "metadata": {},
     "output_type": "execute_result"
    },
    {
     "name": "stdout",
     "output_type": "stream",
     "text": [
      "time: 1.4 ms (started: 2021-07-20 20:28:48 +09:00)\n"
     ]
    }
   ],
   "source": [
    "arr # arr 변수에 할당된 array도 아예 바뀐다."
   ]
  }
 ],
 "metadata": {
  "hide_input": false,
  "kernelspec": {
   "display_name": "Python 3",
   "language": "python",
   "name": "python3"
  },
  "language_info": {
   "codemirror_mode": {
    "name": "ipython",
    "version": 3
   },
   "file_extension": ".py",
   "mimetype": "text/x-python",
   "name": "python",
   "nbconvert_exporter": "python",
   "pygments_lexer": "ipython3",
   "version": "3.7.9"
  },
  "toc": {
   "base_numbering": 1,
   "nav_menu": {},
   "number_sections": true,
   "sideBar": true,
   "skip_h1_title": false,
   "title_cell": "Table of Contents",
   "title_sidebar": "Contents",
   "toc_cell": false,
   "toc_position": {},
   "toc_section_display": true,
   "toc_window_display": false
  },
  "varInspector": {
   "cols": {
    "lenName": 16,
    "lenType": 16,
    "lenVar": 40
   },
   "kernels_config": {
    "python": {
     "delete_cmd_postfix": "",
     "delete_cmd_prefix": "del ",
     "library": "var_list.py",
     "varRefreshCmd": "print(var_dic_list())"
    },
    "r": {
     "delete_cmd_postfix": ") ",
     "delete_cmd_prefix": "rm(",
     "library": "var_list.r",
     "varRefreshCmd": "cat(var_dic_list()) "
    }
   },
   "types_to_exclude": [
    "module",
    "function",
    "builtin_function_or_method",
    "instance",
    "_Feature"
   ],
   "window_display": false
  }
 },
 "nbformat": 4,
 "nbformat_minor": 1
}
