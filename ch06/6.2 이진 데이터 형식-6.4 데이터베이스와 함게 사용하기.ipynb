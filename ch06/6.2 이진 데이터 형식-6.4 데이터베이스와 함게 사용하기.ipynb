{
 "cells": [
  {
   "cell_type": "markdown",
   "id": "placed-barbados",
   "metadata": {},
   "source": [
    "# 6. 데이터 로딩과 저장, 파일 형식\n",
    "**\"데이터는 텍스트 데이터와 바이너리 데이터로 구분 가능\"**"
   ]
  },
  {
   "cell_type": "markdown",
   "id": "acknowledged-manual",
   "metadata": {},
   "source": [
    "## 6.1 텍스트 데이터\n",
    "**\"사람이 읽기 편한 형식\"**"
   ]
  },
  {
   "cell_type": "markdown",
   "id": "actual-season",
   "metadata": {},
   "source": [
    "## 6.2 바이너리 데이터\n",
    "**\"사람이 읽기 어려운 형식\"**"
   ]
  },
  {
   "cell_type": "markdown",
   "id": "legal-longitude",
   "metadata": {},
   "source": [
    "- 파이썬에서는 기본적으로 pickle을 이용해 바이너리 데이터를 다룸\n",
    "- **HDF5, 엑셀,** Message-Pack, Bcolz, Feather 등도 지원"
   ]
  },
  {
   "cell_type": "code",
   "execution_count": 1,
   "id": "diagnostic-beauty",
   "metadata": {},
   "outputs": [],
   "source": [
    "import numpy as np\n",
    "import pandas as pd"
   ]
  },
  {
   "cell_type": "code",
   "execution_count": 2,
   "id": "enclosed-madrid",
   "metadata": {},
   "outputs": [
    {
     "data": {
      "text/html": [
       "<div>\n",
       "<style scoped>\n",
       "    .dataframe tbody tr th:only-of-type {\n",
       "        vertical-align: middle;\n",
       "    }\n",
       "\n",
       "    .dataframe tbody tr th {\n",
       "        vertical-align: top;\n",
       "    }\n",
       "\n",
       "    .dataframe thead th {\n",
       "        text-align: right;\n",
       "    }\n",
       "</style>\n",
       "<table border=\"1\" class=\"dataframe\">\n",
       "  <thead>\n",
       "    <tr style=\"text-align: right;\">\n",
       "      <th></th>\n",
       "      <th>a</th>\n",
       "      <th>b</th>\n",
       "      <th>c</th>\n",
       "      <th>d</th>\n",
       "      <th>message</th>\n",
       "    </tr>\n",
       "  </thead>\n",
       "  <tbody>\n",
       "    <tr>\n",
       "      <th>0</th>\n",
       "      <td>1</td>\n",
       "      <td>2</td>\n",
       "      <td>3</td>\n",
       "      <td>4</td>\n",
       "      <td>hello</td>\n",
       "    </tr>\n",
       "    <tr>\n",
       "      <th>1</th>\n",
       "      <td>5</td>\n",
       "      <td>6</td>\n",
       "      <td>7</td>\n",
       "      <td>8</td>\n",
       "      <td>world</td>\n",
       "    </tr>\n",
       "    <tr>\n",
       "      <th>2</th>\n",
       "      <td>9</td>\n",
       "      <td>10</td>\n",
       "      <td>11</td>\n",
       "      <td>12</td>\n",
       "      <td>foo</td>\n",
       "    </tr>\n",
       "  </tbody>\n",
       "</table>\n",
       "</div>"
      ],
      "text/plain": [
       "   a   b   c   d message\n",
       "0  1   2   3   4   hello\n",
       "1  5   6   7   8   world\n",
       "2  9  10  11  12     foo"
      ]
     },
     "execution_count": 2,
     "metadata": {},
     "output_type": "execute_result"
    }
   ],
   "source": [
    "frame = pd.read_csv('examples/ex1.csv') # 텍스트 데이터 읽기\n",
    "frame"
   ]
  },
  {
   "cell_type": "code",
   "execution_count": 3,
   "id": "controlled-chuck",
   "metadata": {},
   "outputs": [],
   "source": [
    "frame.to_pickle('examples/frame_pickle') # 바이너리 데이터로 저장"
   ]
  },
  {
   "cell_type": "code",
   "execution_count": 4,
   "id": "gothic-information",
   "metadata": {},
   "outputs": [
    {
     "data": {
      "text/html": [
       "<div>\n",
       "<style scoped>\n",
       "    .dataframe tbody tr th:only-of-type {\n",
       "        vertical-align: middle;\n",
       "    }\n",
       "\n",
       "    .dataframe tbody tr th {\n",
       "        vertical-align: top;\n",
       "    }\n",
       "\n",
       "    .dataframe thead th {\n",
       "        text-align: right;\n",
       "    }\n",
       "</style>\n",
       "<table border=\"1\" class=\"dataframe\">\n",
       "  <thead>\n",
       "    <tr style=\"text-align: right;\">\n",
       "      <th></th>\n",
       "      <th>a</th>\n",
       "      <th>b</th>\n",
       "      <th>c</th>\n",
       "      <th>d</th>\n",
       "      <th>message</th>\n",
       "    </tr>\n",
       "  </thead>\n",
       "  <tbody>\n",
       "    <tr>\n",
       "      <th>0</th>\n",
       "      <td>1</td>\n",
       "      <td>2</td>\n",
       "      <td>3</td>\n",
       "      <td>4</td>\n",
       "      <td>hello</td>\n",
       "    </tr>\n",
       "    <tr>\n",
       "      <th>1</th>\n",
       "      <td>5</td>\n",
       "      <td>6</td>\n",
       "      <td>7</td>\n",
       "      <td>8</td>\n",
       "      <td>world</td>\n",
       "    </tr>\n",
       "    <tr>\n",
       "      <th>2</th>\n",
       "      <td>9</td>\n",
       "      <td>10</td>\n",
       "      <td>11</td>\n",
       "      <td>12</td>\n",
       "      <td>foo</td>\n",
       "    </tr>\n",
       "  </tbody>\n",
       "</table>\n",
       "</div>"
      ],
      "text/plain": [
       "   a   b   c   d message\n",
       "0  1   2   3   4   hello\n",
       "1  5   6   7   8   world\n",
       "2  9  10  11  12     foo"
      ]
     },
     "execution_count": 4,
     "metadata": {},
     "output_type": "execute_result"
    }
   ],
   "source": [
    "pd.read_pickle('examples/frame_pickle') # 바이너리 데이터 읽기"
   ]
  },
  {
   "cell_type": "markdown",
   "id": "dense-panic",
   "metadata": {},
   "source": [
    "### 6.2.1 HDF5 형식"
   ]
  },
  {
   "cell_type": "markdown",
   "id": "removable-garlic",
   "metadata": {},
   "source": [
    "- Hierachical Data Format(계층적 데이터 형식)\n",
    "- **대량의 과학 계산용** 배열 데이터를 저장하는데 유용\n",
    "- on_the_fly(실시간 압축)을 지원. **반복되는 패턴을 가진 데이터** 저장 시 유용\n",
    "- 메모리에 모두 적재할 수 없는 큰 데이터에서 **필요한 부분만** 효과적으로 읽고쓰기 가능"
   ]
  },
  {
   "cell_type": "code",
   "execution_count": 5,
   "id": "registered-spiritual",
   "metadata": {},
   "outputs": [
    {
     "data": {
      "text/plain": [
       "<class 'pandas.io.pytables.HDFStore'>\n",
       "File path: examples/mydata.h5"
      ]
     },
     "execution_count": 5,
     "metadata": {},
     "output_type": "execute_result"
    }
   ],
   "source": [
    "frame = pd.DataFrame({'a': np.random.randn(100)}) # 표준정규분포에서 100개의 실수 생성\n",
    "store = pd.HDFStore('examples/mydata.h5') # 저장 경로와 형식 지정\n",
    "store['obj1'] = frame # 딕셔너리. 키: obj1, 값: frame\n",
    "store['obj1_col'] = frame['a'] # colums 이름: a\n",
    "store # HDF5 객체 생성"
   ]
  },
  {
   "cell_type": "code",
   "execution_count": 6,
   "id": "exempt-gathering",
   "metadata": {},
   "outputs": [
    {
     "data": {
      "text/html": [
       "<div>\n",
       "<style scoped>\n",
       "    .dataframe tbody tr th:only-of-type {\n",
       "        vertical-align: middle;\n",
       "    }\n",
       "\n",
       "    .dataframe tbody tr th {\n",
       "        vertical-align: top;\n",
       "    }\n",
       "\n",
       "    .dataframe thead th {\n",
       "        text-align: right;\n",
       "    }\n",
       "</style>\n",
       "<table border=\"1\" class=\"dataframe\">\n",
       "  <thead>\n",
       "    <tr style=\"text-align: right;\">\n",
       "      <th></th>\n",
       "      <th>a</th>\n",
       "    </tr>\n",
       "  </thead>\n",
       "  <tbody>\n",
       "    <tr>\n",
       "      <th>0</th>\n",
       "      <td>-0.502475</td>\n",
       "    </tr>\n",
       "    <tr>\n",
       "      <th>1</th>\n",
       "      <td>0.302246</td>\n",
       "    </tr>\n",
       "    <tr>\n",
       "      <th>2</th>\n",
       "      <td>-0.724473</td>\n",
       "    </tr>\n",
       "    <tr>\n",
       "      <th>3</th>\n",
       "      <td>0.651024</td>\n",
       "    </tr>\n",
       "    <tr>\n",
       "      <th>4</th>\n",
       "      <td>-0.967766</td>\n",
       "    </tr>\n",
       "    <tr>\n",
       "      <th>...</th>\n",
       "      <td>...</td>\n",
       "    </tr>\n",
       "    <tr>\n",
       "      <th>95</th>\n",
       "      <td>1.671338</td>\n",
       "    </tr>\n",
       "    <tr>\n",
       "      <th>96</th>\n",
       "      <td>0.843847</td>\n",
       "    </tr>\n",
       "    <tr>\n",
       "      <th>97</th>\n",
       "      <td>0.179694</td>\n",
       "    </tr>\n",
       "    <tr>\n",
       "      <th>98</th>\n",
       "      <td>0.245377</td>\n",
       "    </tr>\n",
       "    <tr>\n",
       "      <th>99</th>\n",
       "      <td>-0.136570</td>\n",
       "    </tr>\n",
       "  </tbody>\n",
       "</table>\n",
       "<p>100 rows × 1 columns</p>\n",
       "</div>"
      ],
      "text/plain": [
       "           a\n",
       "0  -0.502475\n",
       "1   0.302246\n",
       "2  -0.724473\n",
       "3   0.651024\n",
       "4  -0.967766\n",
       "..       ...\n",
       "95  1.671338\n",
       "96  0.843847\n",
       "97  0.179694\n",
       "98  0.245377\n",
       "99 -0.136570\n",
       "\n",
       "[100 rows x 1 columns]"
      ]
     },
     "execution_count": 6,
     "metadata": {},
     "output_type": "execute_result"
    }
   ],
   "source": [
    "store['obj1']"
   ]
  },
  {
   "cell_type": "code",
   "execution_count": 7,
   "id": "composite-combine",
   "metadata": {},
   "outputs": [
    {
     "data": {
      "text/html": [
       "<div>\n",
       "<style scoped>\n",
       "    .dataframe tbody tr th:only-of-type {\n",
       "        vertical-align: middle;\n",
       "    }\n",
       "\n",
       "    .dataframe tbody tr th {\n",
       "        vertical-align: top;\n",
       "    }\n",
       "\n",
       "    .dataframe thead th {\n",
       "        text-align: right;\n",
       "    }\n",
       "</style>\n",
       "<table border=\"1\" class=\"dataframe\">\n",
       "  <thead>\n",
       "    <tr style=\"text-align: right;\">\n",
       "      <th></th>\n",
       "      <th>a</th>\n",
       "    </tr>\n",
       "  </thead>\n",
       "  <tbody>\n",
       "    <tr>\n",
       "      <th>96</th>\n",
       "      <td>0.843847</td>\n",
       "    </tr>\n",
       "    <tr>\n",
       "      <th>97</th>\n",
       "      <td>0.179694</td>\n",
       "    </tr>\n",
       "    <tr>\n",
       "      <th>98</th>\n",
       "      <td>0.245377</td>\n",
       "    </tr>\n",
       "  </tbody>\n",
       "</table>\n",
       "</div>"
      ],
      "text/plain": [
       "           a\n",
       "96  0.843847\n",
       "97  0.179694\n",
       "98  0.245377"
      ]
     },
     "execution_count": 7,
     "metadata": {},
     "output_type": "execute_result"
    }
   ],
   "source": [
    "# 원하는 방식 사용1\n",
    "store.open()\n",
    "store.put('obj2', frame, format='table') # obj2로 복사\n",
    "store.select('obj2', where=['index >= 96 and index <= 98']) # 범위 선택해서 읽기"
   ]
  },
  {
   "cell_type": "code",
   "execution_count": 8,
   "id": "increasing-handy",
   "metadata": {},
   "outputs": [],
   "source": [
    "store.close()"
   ]
  },
  {
   "cell_type": "code",
   "execution_count": 9,
   "id": "agricultural-antibody",
   "metadata": {},
   "outputs": [
    {
     "data": {
      "text/html": [
       "<div>\n",
       "<style scoped>\n",
       "    .dataframe tbody tr th:only-of-type {\n",
       "        vertical-align: middle;\n",
       "    }\n",
       "\n",
       "    .dataframe tbody tr th {\n",
       "        vertical-align: top;\n",
       "    }\n",
       "\n",
       "    .dataframe thead th {\n",
       "        text-align: right;\n",
       "    }\n",
       "</style>\n",
       "<table border=\"1\" class=\"dataframe\">\n",
       "  <thead>\n",
       "    <tr style=\"text-align: right;\">\n",
       "      <th></th>\n",
       "      <th>a</th>\n",
       "    </tr>\n",
       "  </thead>\n",
       "  <tbody>\n",
       "    <tr>\n",
       "      <th>0</th>\n",
       "      <td>-0.502475</td>\n",
       "    </tr>\n",
       "    <tr>\n",
       "      <th>1</th>\n",
       "      <td>0.302246</td>\n",
       "    </tr>\n",
       "    <tr>\n",
       "      <th>2</th>\n",
       "      <td>-0.724473</td>\n",
       "    </tr>\n",
       "    <tr>\n",
       "      <th>3</th>\n",
       "      <td>0.651024</td>\n",
       "    </tr>\n",
       "    <tr>\n",
       "      <th>4</th>\n",
       "      <td>-0.967766</td>\n",
       "    </tr>\n",
       "  </tbody>\n",
       "</table>\n",
       "</div>"
      ],
      "text/plain": [
       "          a\n",
       "0 -0.502475\n",
       "1  0.302246\n",
       "2 -0.724473\n",
       "3  0.651024\n",
       "4 -0.967766"
      ]
     },
     "execution_count": 9,
     "metadata": {},
     "output_type": "execute_result"
    }
   ],
   "source": [
    "# 원하는 방식 사용2\n",
    "frame.to_hdf('mydata.h5', 'obj3', format='table') # obj3으로 복사\n",
    "pd.read_hdf('mydata.h5', 'obj3', where=['index < 5']) # 범위 선택해서 읽기"
   ]
  },
  {
   "cell_type": "markdown",
   "id": "registered-thong",
   "metadata": {},
   "source": [
    "### 6.2.2 엑셀 형식"
   ]
  },
  {
   "cell_type": "markdown",
   "id": "suited-wisconsin",
   "metadata": {},
   "source": [
    "#### 엑셀 읽기"
   ]
  },
  {
   "cell_type": "code",
   "execution_count": 10,
   "id": "ideal-maldives",
   "metadata": {},
   "outputs": [
    {
     "data": {
      "text/html": [
       "<div>\n",
       "<style scoped>\n",
       "    .dataframe tbody tr th:only-of-type {\n",
       "        vertical-align: middle;\n",
       "    }\n",
       "\n",
       "    .dataframe tbody tr th {\n",
       "        vertical-align: top;\n",
       "    }\n",
       "\n",
       "    .dataframe thead th {\n",
       "        text-align: right;\n",
       "    }\n",
       "</style>\n",
       "<table border=\"1\" class=\"dataframe\">\n",
       "  <thead>\n",
       "    <tr style=\"text-align: right;\">\n",
       "      <th></th>\n",
       "      <th>Unnamed: 0</th>\n",
       "      <th>a</th>\n",
       "      <th>b</th>\n",
       "      <th>c</th>\n",
       "      <th>d</th>\n",
       "      <th>message</th>\n",
       "    </tr>\n",
       "  </thead>\n",
       "  <tbody>\n",
       "    <tr>\n",
       "      <th>0</th>\n",
       "      <td>0</td>\n",
       "      <td>1</td>\n",
       "      <td>2</td>\n",
       "      <td>3</td>\n",
       "      <td>4</td>\n",
       "      <td>hello</td>\n",
       "    </tr>\n",
       "    <tr>\n",
       "      <th>1</th>\n",
       "      <td>1</td>\n",
       "      <td>5</td>\n",
       "      <td>6</td>\n",
       "      <td>7</td>\n",
       "      <td>8</td>\n",
       "      <td>world</td>\n",
       "    </tr>\n",
       "    <tr>\n",
       "      <th>2</th>\n",
       "      <td>2</td>\n",
       "      <td>9</td>\n",
       "      <td>10</td>\n",
       "      <td>11</td>\n",
       "      <td>12</td>\n",
       "      <td>foo</td>\n",
       "    </tr>\n",
       "  </tbody>\n",
       "</table>\n",
       "</div>"
      ],
      "text/plain": [
       "   Unnamed: 0  a   b   c   d message\n",
       "0           0  1   2   3   4   hello\n",
       "1           1  5   6   7   8   world\n",
       "2           2  9  10  11  12     foo"
      ]
     },
     "execution_count": 10,
     "metadata": {},
     "output_type": "execute_result"
    }
   ],
   "source": [
    "# xlrd, openpyxl 패키지 설치\n",
    "\n",
    "# 원하는 방식 사용1\n",
    "xlsx = pd.ExcelFile('examples/ex1.xlsx') # 엑셀 객체 생성\n",
    "pd.read_excel(xlsx, 'Sheet1') # 읽기"
   ]
  },
  {
   "cell_type": "code",
   "execution_count": 11,
   "id": "governing-division",
   "metadata": {},
   "outputs": [
    {
     "data": {
      "text/html": [
       "<div>\n",
       "<style scoped>\n",
       "    .dataframe tbody tr th:only-of-type {\n",
       "        vertical-align: middle;\n",
       "    }\n",
       "\n",
       "    .dataframe tbody tr th {\n",
       "        vertical-align: top;\n",
       "    }\n",
       "\n",
       "    .dataframe thead th {\n",
       "        text-align: right;\n",
       "    }\n",
       "</style>\n",
       "<table border=\"1\" class=\"dataframe\">\n",
       "  <thead>\n",
       "    <tr style=\"text-align: right;\">\n",
       "      <th></th>\n",
       "      <th>Unnamed: 0</th>\n",
       "      <th>a</th>\n",
       "      <th>b</th>\n",
       "      <th>c</th>\n",
       "      <th>d</th>\n",
       "      <th>message</th>\n",
       "    </tr>\n",
       "  </thead>\n",
       "  <tbody>\n",
       "    <tr>\n",
       "      <th>0</th>\n",
       "      <td>0</td>\n",
       "      <td>1</td>\n",
       "      <td>2</td>\n",
       "      <td>3</td>\n",
       "      <td>4</td>\n",
       "      <td>hello</td>\n",
       "    </tr>\n",
       "    <tr>\n",
       "      <th>1</th>\n",
       "      <td>1</td>\n",
       "      <td>5</td>\n",
       "      <td>6</td>\n",
       "      <td>7</td>\n",
       "      <td>8</td>\n",
       "      <td>world</td>\n",
       "    </tr>\n",
       "    <tr>\n",
       "      <th>2</th>\n",
       "      <td>2</td>\n",
       "      <td>9</td>\n",
       "      <td>10</td>\n",
       "      <td>11</td>\n",
       "      <td>12</td>\n",
       "      <td>foo</td>\n",
       "    </tr>\n",
       "  </tbody>\n",
       "</table>\n",
       "</div>"
      ],
      "text/plain": [
       "   Unnamed: 0  a   b   c   d message\n",
       "0           0  1   2   3   4   hello\n",
       "1           1  5   6   7   8   world\n",
       "2           2  9  10  11  12     foo"
      ]
     },
     "execution_count": 11,
     "metadata": {},
     "output_type": "execute_result"
    }
   ],
   "source": [
    "# 원하는 방식 사용2\n",
    "frame = pd.read_excel('examples/ex1.xlsx', 'Sheet1') \n",
    "frame # 객체 생성 없이 명령어만으로도 읽기 가능"
   ]
  },
  {
   "cell_type": "markdown",
   "id": "short-intensity",
   "metadata": {},
   "source": [
    "#### 엑셀 쓰기"
   ]
  },
  {
   "cell_type": "code",
   "execution_count": 12,
   "id": "cleared-interface",
   "metadata": {},
   "outputs": [],
   "source": [
    "#원하는 방식 사용 1\n",
    "writer = pd.ExcelWriter('examples/ex2.xlsx') # 엑셀 객체 생성\n",
    "frame.to_excel(writer, 'Sheet1') # 쓰기\n",
    "writer.save() # 저장"
   ]
  },
  {
   "cell_type": "code",
   "execution_count": 13,
   "id": "complicated-cache",
   "metadata": {},
   "outputs": [],
   "source": [
    "#원하는 방식 사용 2\n",
    "frame.to_excel('examples/ex2.xlsx') # 쓰고 저장하기\n",
    "# 객체 생성 없이 명령어만으로도 쓰기 가능"
   ]
  },
  {
   "cell_type": "markdown",
   "id": "isolated-maple",
   "metadata": {},
   "source": [
    "## 6-3 웹 API 이용하는 법\n",
    "**\"웹사이트의 데이터 가져오기\"**"
   ]
  },
  {
   "cell_type": "code",
   "execution_count": 14,
   "id": "given-thought",
   "metadata": {},
   "outputs": [
    {
     "data": {
      "text/plain": [
       "<Response [200]>"
      ]
     },
     "execution_count": 14,
     "metadata": {},
     "output_type": "execute_result"
    }
   ],
   "source": [
    "import requests\n",
    "\n",
    "url = \"https://api.github.com/repos/pandas-dev/pandas/issues\"\n",
    "resp = requests.get(url) # 데이터 요청\n",
    "resp # 200: 정상 작동"
   ]
  },
  {
   "cell_type": "markdown",
   "id": "assumed-wesley",
   "metadata": {},
   "source": [
    "**JSON(JavaScript Object Notation):** 웹브라우저와 다른 애플리케이션이 HTTP요청으로 데이터를 보낼 때 널리 사용하는 표준 파일 형식 중 하나"
   ]
  },
  {
   "cell_type": "code",
   "execution_count": 15,
   "id": "anonymous-method",
   "metadata": {},
   "outputs": [
    {
     "data": {
      "text/html": [
       "<div>\n",
       "<style scoped>\n",
       "    .dataframe tbody tr th:only-of-type {\n",
       "        vertical-align: middle;\n",
       "    }\n",
       "\n",
       "    .dataframe tbody tr th {\n",
       "        vertical-align: top;\n",
       "    }\n",
       "\n",
       "    .dataframe thead th {\n",
       "        text-align: right;\n",
       "    }\n",
       "</style>\n",
       "<table border=\"1\" class=\"dataframe\">\n",
       "  <thead>\n",
       "    <tr style=\"text-align: right;\">\n",
       "      <th></th>\n",
       "      <th>number</th>\n",
       "      <th>title</th>\n",
       "      <th>labels</th>\n",
       "      <th>state</th>\n",
       "    </tr>\n",
       "  </thead>\n",
       "  <tbody>\n",
       "    <tr>\n",
       "      <th>0</th>\n",
       "      <td>42777</td>\n",
       "      <td>DOC GH42756 Update documentation for drop and ...</td>\n",
       "      <td>[]</td>\n",
       "      <td>open</td>\n",
       "    </tr>\n",
       "    <tr>\n",
       "      <th>1</th>\n",
       "      <td>42776</td>\n",
       "      <td>BUG: Incorrect variable window bounds for firs...</td>\n",
       "      <td>[]</td>\n",
       "      <td>open</td>\n",
       "    </tr>\n",
       "    <tr>\n",
       "      <th>2</th>\n",
       "      <td>42775</td>\n",
       "      <td>fixes docstring in `to_hdf()`</td>\n",
       "      <td>[]</td>\n",
       "      <td>open</td>\n",
       "    </tr>\n",
       "    <tr>\n",
       "      <th>3</th>\n",
       "      <td>42774</td>\n",
       "      <td>PERF: extract_array earlier in DataFrame const...</td>\n",
       "      <td>[]</td>\n",
       "      <td>open</td>\n",
       "    </tr>\n",
       "    <tr>\n",
       "      <th>4</th>\n",
       "      <td>42773</td>\n",
       "      <td>CI: mypy fixup</td>\n",
       "      <td>[]</td>\n",
       "      <td>open</td>\n",
       "    </tr>\n",
       "    <tr>\n",
       "      <th>5</th>\n",
       "      <td>42772</td>\n",
       "      <td>BUG: Series.groupby fails with InvalidIndexErr...</td>\n",
       "      <td>[]</td>\n",
       "      <td>open</td>\n",
       "    </tr>\n",
       "    <tr>\n",
       "      <th>6</th>\n",
       "      <td>42771</td>\n",
       "      <td>BUG: DataFrame.drop() can't drop row by index ...</td>\n",
       "      <td>[{'id': 76811, 'node_id': 'MDU6TGFiZWw3NjgxMQ=...</td>\n",
       "      <td>open</td>\n",
       "    </tr>\n",
       "    <tr>\n",
       "      <th>7</th>\n",
       "      <td>42770</td>\n",
       "      <td>Fix typing issues for CI</td>\n",
       "      <td>[]</td>\n",
       "      <td>open</td>\n",
       "    </tr>\n",
       "    <tr>\n",
       "      <th>8</th>\n",
       "      <td>42769</td>\n",
       "      <td>CI: numpy 1.21.1 breaks mypy validation</td>\n",
       "      <td>[{'id': 48070600, 'node_id': 'MDU6TGFiZWw0ODA3...</td>\n",
       "      <td>open</td>\n",
       "    </tr>\n",
       "    <tr>\n",
       "      <th>9</th>\n",
       "      <td>42768</td>\n",
       "      <td>BUG: to_json() swallows attributes of dataclasses</td>\n",
       "      <td>[{'id': 76811, 'node_id': 'MDU6TGFiZWw3NjgxMQ=...</td>\n",
       "      <td>open</td>\n",
       "    </tr>\n",
       "    <tr>\n",
       "      <th>10</th>\n",
       "      <td>42766</td>\n",
       "      <td>TST: Fix a doctest in style_render.py</td>\n",
       "      <td>[{'id': 1954720290, 'node_id': 'MDU6TGFiZWwxOT...</td>\n",
       "      <td>open</td>\n",
       "    </tr>\n",
       "    <tr>\n",
       "      <th>11</th>\n",
       "      <td>42765</td>\n",
       "      <td>ENH: use text() for all sqlalchemy execution</td>\n",
       "      <td>[]</td>\n",
       "      <td>open</td>\n",
       "    </tr>\n",
       "    <tr>\n",
       "      <th>12</th>\n",
       "      <td>42764</td>\n",
       "      <td>DOC: fix a few URLs</td>\n",
       "      <td>[{'id': 134699, 'node_id': 'MDU6TGFiZWwxMzQ2OT...</td>\n",
       "      <td>open</td>\n",
       "    </tr>\n",
       "    <tr>\n",
       "      <th>13</th>\n",
       "      <td>42763</td>\n",
       "      <td>BUG: Up-Resample data with PeriodIndex has une...</td>\n",
       "      <td>[{'id': 76811, 'node_id': 'MDU6TGFiZWw3NjgxMQ=...</td>\n",
       "      <td>open</td>\n",
       "    </tr>\n",
       "    <tr>\n",
       "      <th>14</th>\n",
       "      <td>42762</td>\n",
       "      <td>REG: DataFrame.agg where func returns lists an...</td>\n",
       "      <td>[{'id': 697792067, 'node_id': 'MDU6TGFiZWw2OTc...</td>\n",
       "      <td>open</td>\n",
       "    </tr>\n",
       "    <tr>\n",
       "      <th>15</th>\n",
       "      <td>42761</td>\n",
       "      <td>PERF: nancorr pearson</td>\n",
       "      <td>[{'id': 57296398, 'node_id': 'MDU6TGFiZWw1NzI5...</td>\n",
       "      <td>open</td>\n",
       "    </tr>\n",
       "    <tr>\n",
       "      <th>16</th>\n",
       "      <td>42760</td>\n",
       "      <td>DOC: .to_hdf() compression argument `complevel...</td>\n",
       "      <td>[{'id': 134699, 'node_id': 'MDU6TGFiZWwxMzQ2OT...</td>\n",
       "      <td>open</td>\n",
       "    </tr>\n",
       "    <tr>\n",
       "      <th>17</th>\n",
       "      <td>42759</td>\n",
       "      <td>TST: Fix doctests in style.py</td>\n",
       "      <td>[{'id': 48070600, 'node_id': 'MDU6TGFiZWw0ODA3...</td>\n",
       "      <td>open</td>\n",
       "    </tr>\n",
       "    <tr>\n",
       "      <th>18</th>\n",
       "      <td>42758</td>\n",
       "      <td>TST: Xfail a test for fastparquet 0.7.0</td>\n",
       "      <td>[]</td>\n",
       "      <td>open</td>\n",
       "    </tr>\n",
       "    <tr>\n",
       "      <th>19</th>\n",
       "      <td>42756</td>\n",
       "      <td>BUG: DataFrame.drop - Tuple Cannot Be Used as ...</td>\n",
       "      <td>[{'id': 76811, 'node_id': 'MDU6TGFiZWw3NjgxMQ=...</td>\n",
       "      <td>open</td>\n",
       "    </tr>\n",
       "    <tr>\n",
       "      <th>20</th>\n",
       "      <td>42755</td>\n",
       "      <td>BUG: segfault with pytables tests</td>\n",
       "      <td>[{'id': 76811, 'node_id': 'MDU6TGFiZWw3NjgxMQ=...</td>\n",
       "      <td>open</td>\n",
       "    </tr>\n",
       "    <tr>\n",
       "      <th>21</th>\n",
       "      <td>42753</td>\n",
       "      <td>BUG: Inconsistent result from centered datetim...</td>\n",
       "      <td>[{'id': 76811, 'node_id': 'MDU6TGFiZWw3NjgxMQ=...</td>\n",
       "      <td>open</td>\n",
       "    </tr>\n",
       "    <tr>\n",
       "      <th>22</th>\n",
       "      <td>42751</td>\n",
       "      <td>BUG: int64 and object/float64 series do not fi...</td>\n",
       "      <td>[{'id': 1741841389, 'node_id': 'MDU6TGFiZWwxNz...</td>\n",
       "      <td>open</td>\n",
       "    </tr>\n",
       "    <tr>\n",
       "      <th>23</th>\n",
       "      <td>42750</td>\n",
       "      <td>BUG: highlight_min and highlight_max do not wo...</td>\n",
       "      <td>[{'id': 76811, 'node_id': 'MDU6TGFiZWw3NjgxMQ=...</td>\n",
       "      <td>open</td>\n",
       "    </tr>\n",
       "    <tr>\n",
       "      <th>24</th>\n",
       "      <td>42749</td>\n",
       "      <td>BUG: groupby.apply result doesn't have consist...</td>\n",
       "      <td>[{'id': 697792067, 'node_id': 'MDU6TGFiZWw2OTc...</td>\n",
       "      <td>open</td>\n",
       "    </tr>\n",
       "    <tr>\n",
       "      <th>25</th>\n",
       "      <td>42747</td>\n",
       "      <td>BUG: `freq` attribute is `None` after `set_index`</td>\n",
       "      <td>[{'id': 76811, 'node_id': 'MDU6TGFiZWw3NjgxMQ=...</td>\n",
       "      <td>open</td>\n",
       "    </tr>\n",
       "    <tr>\n",
       "      <th>26</th>\n",
       "      <td>42745</td>\n",
       "      <td>BUG: Failure to build `1.3.1` on Docker image</td>\n",
       "      <td>[{'id': 129350, 'node_id': 'MDU6TGFiZWwxMjkzNT...</td>\n",
       "      <td>open</td>\n",
       "    </tr>\n",
       "    <tr>\n",
       "      <th>27</th>\n",
       "      <td>42744</td>\n",
       "      <td>DOC: WEB: dark mode theme in docs when user ha...</td>\n",
       "      <td>[{'id': 134699, 'node_id': 'MDU6TGFiZWwxMzQ2OT...</td>\n",
       "      <td>open</td>\n",
       "    </tr>\n",
       "    <tr>\n",
       "      <th>28</th>\n",
       "      <td>42743</td>\n",
       "      <td>[BUG] don't mangle null-objects in value_counts</td>\n",
       "      <td>[{'id': 2822342, 'node_id': 'MDU6TGFiZWwyODIyM...</td>\n",
       "      <td>open</td>\n",
       "    </tr>\n",
       "    <tr>\n",
       "      <th>29</th>\n",
       "      <td>42741</td>\n",
       "      <td>DEPR: special-casing dt64/td64 in Series.unique</td>\n",
       "      <td>[{'id': 87485152, 'node_id': 'MDU6TGFiZWw4NzQ4...</td>\n",
       "      <td>open</td>\n",
       "    </tr>\n",
       "  </tbody>\n",
       "</table>\n",
       "</div>"
      ],
      "text/plain": [
       "    number                                              title  \\\n",
       "0    42777  DOC GH42756 Update documentation for drop and ...   \n",
       "1    42776  BUG: Incorrect variable window bounds for firs...   \n",
       "2    42775                      fixes docstring in `to_hdf()`   \n",
       "3    42774  PERF: extract_array earlier in DataFrame const...   \n",
       "4    42773                                     CI: mypy fixup   \n",
       "5    42772  BUG: Series.groupby fails with InvalidIndexErr...   \n",
       "6    42771  BUG: DataFrame.drop() can't drop row by index ...   \n",
       "7    42770                           Fix typing issues for CI   \n",
       "8    42769            CI: numpy 1.21.1 breaks mypy validation   \n",
       "9    42768  BUG: to_json() swallows attributes of dataclasses   \n",
       "10   42766              TST: Fix a doctest in style_render.py   \n",
       "11   42765       ENH: use text() for all sqlalchemy execution   \n",
       "12   42764                                DOC: fix a few URLs   \n",
       "13   42763  BUG: Up-Resample data with PeriodIndex has une...   \n",
       "14   42762  REG: DataFrame.agg where func returns lists an...   \n",
       "15   42761                              PERF: nancorr pearson   \n",
       "16   42760  DOC: .to_hdf() compression argument `complevel...   \n",
       "17   42759                      TST: Fix doctests in style.py   \n",
       "18   42758            TST: Xfail a test for fastparquet 0.7.0   \n",
       "19   42756  BUG: DataFrame.drop - Tuple Cannot Be Used as ...   \n",
       "20   42755                  BUG: segfault with pytables tests   \n",
       "21   42753  BUG: Inconsistent result from centered datetim...   \n",
       "22   42751  BUG: int64 and object/float64 series do not fi...   \n",
       "23   42750  BUG: highlight_min and highlight_max do not wo...   \n",
       "24   42749  BUG: groupby.apply result doesn't have consist...   \n",
       "25   42747  BUG: `freq` attribute is `None` after `set_index`   \n",
       "26   42745      BUG: Failure to build `1.3.1` on Docker image   \n",
       "27   42744  DOC: WEB: dark mode theme in docs when user ha...   \n",
       "28   42743    [BUG] don't mangle null-objects in value_counts   \n",
       "29   42741    DEPR: special-casing dt64/td64 in Series.unique   \n",
       "\n",
       "                                               labels state  \n",
       "0                                                  []  open  \n",
       "1                                                  []  open  \n",
       "2                                                  []  open  \n",
       "3                                                  []  open  \n",
       "4                                                  []  open  \n",
       "5                                                  []  open  \n",
       "6   [{'id': 76811, 'node_id': 'MDU6TGFiZWw3NjgxMQ=...  open  \n",
       "7                                                  []  open  \n",
       "8   [{'id': 48070600, 'node_id': 'MDU6TGFiZWw0ODA3...  open  \n",
       "9   [{'id': 76811, 'node_id': 'MDU6TGFiZWw3NjgxMQ=...  open  \n",
       "10  [{'id': 1954720290, 'node_id': 'MDU6TGFiZWwxOT...  open  \n",
       "11                                                 []  open  \n",
       "12  [{'id': 134699, 'node_id': 'MDU6TGFiZWwxMzQ2OT...  open  \n",
       "13  [{'id': 76811, 'node_id': 'MDU6TGFiZWw3NjgxMQ=...  open  \n",
       "14  [{'id': 697792067, 'node_id': 'MDU6TGFiZWw2OTc...  open  \n",
       "15  [{'id': 57296398, 'node_id': 'MDU6TGFiZWw1NzI5...  open  \n",
       "16  [{'id': 134699, 'node_id': 'MDU6TGFiZWwxMzQ2OT...  open  \n",
       "17  [{'id': 48070600, 'node_id': 'MDU6TGFiZWw0ODA3...  open  \n",
       "18                                                 []  open  \n",
       "19  [{'id': 76811, 'node_id': 'MDU6TGFiZWw3NjgxMQ=...  open  \n",
       "20  [{'id': 76811, 'node_id': 'MDU6TGFiZWw3NjgxMQ=...  open  \n",
       "21  [{'id': 76811, 'node_id': 'MDU6TGFiZWw3NjgxMQ=...  open  \n",
       "22  [{'id': 1741841389, 'node_id': 'MDU6TGFiZWwxNz...  open  \n",
       "23  [{'id': 76811, 'node_id': 'MDU6TGFiZWw3NjgxMQ=...  open  \n",
       "24  [{'id': 697792067, 'node_id': 'MDU6TGFiZWw2OTc...  open  \n",
       "25  [{'id': 76811, 'node_id': 'MDU6TGFiZWw3NjgxMQ=...  open  \n",
       "26  [{'id': 129350, 'node_id': 'MDU6TGFiZWwxMjkzNT...  open  \n",
       "27  [{'id': 134699, 'node_id': 'MDU6TGFiZWwxMzQ2OT...  open  \n",
       "28  [{'id': 2822342, 'node_id': 'MDU6TGFiZWwyODIyM...  open  \n",
       "29  [{'id': 87485152, 'node_id': 'MDU6TGFiZWw4NzQ4...  open  "
      ]
     },
     "execution_count": 15,
     "metadata": {},
     "output_type": "execute_result"
    }
   ],
   "source": [
    "data = resp.json() # 딕셔너리 형태의 객체 반환\n",
    "\n",
    "issues = pd.DataFrame(data, columns=['number', 'title', 'labels', 'state'])\n",
    "issues"
   ]
  },
  {
   "cell_type": "markdown",
   "id": "worst-desert",
   "metadata": {},
   "source": [
    "## 6-4 데이터베이스 이용하는 법\n",
    "**\"SQL(Structured Query Language)기반의 관계형 데이터베이스에서 데이터 가져오기\"**"
   ]
  },
  {
   "cell_type": "code",
   "execution_count": 20,
   "id": "express-prophet",
   "metadata": {},
   "outputs": [
    {
     "data": {
      "text/plain": [
       "<sqlite3.Cursor at 0x7fc6ab46d110>"
      ]
     },
     "execution_count": 20,
     "metadata": {},
     "output_type": "execute_result"
    }
   ],
   "source": [
    "# SQLite는 별도의 DB 서버가 필요없이 DB 파일에 기초하여 데이터베이스 처리를 구현한 Embedded SQL DB 엔진\n",
    "import sqlite3\n",
    "\n",
    "# 테이블 생성 / 테이블 이름:test / 값: a(20자 이내) b(20자 이내) c(실제) d(정수형)\n",
    "query = \"\"\"\n",
    "CREATE TABLE test \n",
    "(a VARCHAR(20), b VARCHAR(20), c REAL, d INTEGER);\n",
    "\"\"\"\n",
    "\n",
    "con = sqlite3.connect('mydata.sqlite') # 객체 생성\n",
    "\n",
    "con.execute(query) # 쿼리 실행(빈 테이블 생성)"
   ]
  },
  {
   "cell_type": "code",
   "execution_count": 21,
   "id": "essential-gender",
   "metadata": {},
   "outputs": [],
   "source": [
    "con.commit()"
   ]
  },
  {
   "cell_type": "code",
   "execution_count": 22,
   "id": "endangered-prophet",
   "metadata": {},
   "outputs": [
    {
     "data": {
      "text/plain": [
       "<sqlite3.Cursor at 0x7fc6aad00500>"
      ]
     },
     "execution_count": 22,
     "metadata": {},
     "output_type": "execute_result"
    }
   ],
   "source": [
    "data = [('Atlanta', 'Georgia', 1.25, 6),\n",
    "        ('Tallahassee', 'Florida', 2.6, 3),\n",
    "        ('Sacramento', 'California', 1.7, 5)]\n",
    "\n",
    "stmt = \"INSERT INTO test VALUES(?, ?, ?, ?)\"\n",
    "con.executemany(stmt, data) # 테이블 채우기 실행(구조, 값)"
   ]
  },
  {
   "cell_type": "code",
   "execution_count": 23,
   "id": "married-chest",
   "metadata": {},
   "outputs": [],
   "source": [
    "con.commit()"
   ]
  },
  {
   "cell_type": "code",
   "execution_count": 24,
   "id": "indian-productivity",
   "metadata": {},
   "outputs": [
    {
     "data": {
      "text/plain": [
       "[('Atlanta', 'Georgia', 1.25, 6),\n",
       " ('Tallahassee', 'Florida', 2.6, 3),\n",
       " ('Sacramento', 'California', 1.7, 5)]"
      ]
     },
     "execution_count": 24,
     "metadata": {},
     "output_type": "execute_result"
    }
   ],
   "source": [
    "cursor = con.execute('select * from test') # select문 실행(description 메서드 사용하기 위해)\n",
    "\n",
    "rows = cursor.fetchall() # row list 가져오기. select문 실행 이후 데이터를 꺼내려면 fetchall() 등 사용해야함\n",
    "\n",
    "rows # 데이터"
   ]
  },
  {
   "cell_type": "code",
   "execution_count": 25,
   "id": "corresponding-reference",
   "metadata": {},
   "outputs": [
    {
     "data": {
      "text/plain": [
       "(('a', None, None, None, None, None, None),\n",
       " ('b', None, None, None, None, None, None),\n",
       " ('c', None, None, None, None, None, None),\n",
       " ('d', None, None, None, None, None, None))"
      ]
     },
     "execution_count": 25,
     "metadata": {},
     "output_type": "execute_result"
    }
   ],
   "source": [
    "cursor.description # colums 이름 가져오기. 파이썬 DB API와의 호환성을 유지하기 위해 각 열마다 7-튜플을 반환(마지막 6개 None)"
   ]
  },
  {
   "cell_type": "code",
   "execution_count": 26,
   "id": "atmospheric-burden",
   "metadata": {},
   "outputs": [
    {
     "data": {
      "text/html": [
       "<div>\n",
       "<style scoped>\n",
       "    .dataframe tbody tr th:only-of-type {\n",
       "        vertical-align: middle;\n",
       "    }\n",
       "\n",
       "    .dataframe tbody tr th {\n",
       "        vertical-align: top;\n",
       "    }\n",
       "\n",
       "    .dataframe thead th {\n",
       "        text-align: right;\n",
       "    }\n",
       "</style>\n",
       "<table border=\"1\" class=\"dataframe\">\n",
       "  <thead>\n",
       "    <tr style=\"text-align: right;\">\n",
       "      <th></th>\n",
       "      <th>a</th>\n",
       "      <th>b</th>\n",
       "      <th>c</th>\n",
       "      <th>d</th>\n",
       "    </tr>\n",
       "  </thead>\n",
       "  <tbody>\n",
       "    <tr>\n",
       "      <th>0</th>\n",
       "      <td>Atlanta</td>\n",
       "      <td>Georgia</td>\n",
       "      <td>1.25</td>\n",
       "      <td>6</td>\n",
       "    </tr>\n",
       "    <tr>\n",
       "      <th>1</th>\n",
       "      <td>Tallahassee</td>\n",
       "      <td>Florida</td>\n",
       "      <td>2.60</td>\n",
       "      <td>3</td>\n",
       "    </tr>\n",
       "    <tr>\n",
       "      <th>2</th>\n",
       "      <td>Sacramento</td>\n",
       "      <td>California</td>\n",
       "      <td>1.70</td>\n",
       "      <td>5</td>\n",
       "    </tr>\n",
       "  </tbody>\n",
       "</table>\n",
       "</div>"
      ],
      "text/plain": [
       "             a           b     c  d\n",
       "0      Atlanta     Georgia  1.25  6\n",
       "1  Tallahassee     Florida  2.60  3\n",
       "2   Sacramento  California  1.70  5"
      ]
     },
     "execution_count": 26,
     "metadata": {},
     "output_type": "execute_result"
    }
   ],
   "source": [
    "pd.DataFrame(rows, columns=[x[0] for x in cursor.description])"
   ]
  },
  {
   "cell_type": "code",
   "execution_count": 27,
   "id": "sized-fortune",
   "metadata": {},
   "outputs": [
    {
     "data": {
      "text/html": [
       "<div>\n",
       "<style scoped>\n",
       "    .dataframe tbody tr th:only-of-type {\n",
       "        vertical-align: middle;\n",
       "    }\n",
       "\n",
       "    .dataframe tbody tr th {\n",
       "        vertical-align: top;\n",
       "    }\n",
       "\n",
       "    .dataframe thead th {\n",
       "        text-align: right;\n",
       "    }\n",
       "</style>\n",
       "<table border=\"1\" class=\"dataframe\">\n",
       "  <thead>\n",
       "    <tr style=\"text-align: right;\">\n",
       "      <th></th>\n",
       "      <th>a</th>\n",
       "      <th>b</th>\n",
       "      <th>c</th>\n",
       "      <th>d</th>\n",
       "    </tr>\n",
       "  </thead>\n",
       "  <tbody>\n",
       "    <tr>\n",
       "      <th>0</th>\n",
       "      <td>Atlanta</td>\n",
       "      <td>Georgia</td>\n",
       "      <td>1.25</td>\n",
       "      <td>6</td>\n",
       "    </tr>\n",
       "    <tr>\n",
       "      <th>1</th>\n",
       "      <td>Tallahassee</td>\n",
       "      <td>Florida</td>\n",
       "      <td>2.60</td>\n",
       "      <td>3</td>\n",
       "    </tr>\n",
       "    <tr>\n",
       "      <th>2</th>\n",
       "      <td>Sacramento</td>\n",
       "      <td>California</td>\n",
       "      <td>1.70</td>\n",
       "      <td>5</td>\n",
       "    </tr>\n",
       "  </tbody>\n",
       "</table>\n",
       "</div>"
      ],
      "text/plain": [
       "             a           b     c  d\n",
       "0      Atlanta     Georgia  1.25  6\n",
       "1  Tallahassee     Florida  2.60  3\n",
       "2   Sacramento  California  1.70  5"
      ]
     },
     "execution_count": 27,
     "metadata": {},
     "output_type": "execute_result"
    }
   ],
   "source": [
    "# sqlalchemy 패키지 설치\n",
    "import sqlalchemy as sqla\n",
    "\n",
    "db = sqla.create_engine('sqlite:///mydata.sqlite') # 경로 설정\n",
    "\n",
    "pd.read_sql('select * from test', db) # 이전에 만들어둔 sql 읽기"
   ]
  }
 ],
 "metadata": {
  "kernelspec": {
   "display_name": "Python 3",
   "language": "python",
   "name": "python3"
  },
  "language_info": {
   "codemirror_mode": {
    "name": "ipython",
    "version": 3
   },
   "file_extension": ".py",
   "mimetype": "text/x-python",
   "name": "python",
   "nbconvert_exporter": "python",
   "pygments_lexer": "ipython3",
   "version": "3.7.9"
  }
 },
 "nbformat": 4,
 "nbformat_minor": 5
}
