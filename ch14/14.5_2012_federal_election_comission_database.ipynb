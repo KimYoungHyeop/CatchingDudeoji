{
  "nbformat": 4,
  "nbformat_minor": 0,
  "metadata": {
    "kernelspec": {
      "display_name": "Python 3",
      "language": "python",
      "name": "python3"
    },
    "language_info": {
      "codemirror_mode": {
        "name": "ipython",
        "version": 3
      },
      "file_extension": ".py",
      "mimetype": "text/x-python",
      "name": "python",
      "nbconvert_exporter": "python",
      "pygments_lexer": "ipython3",
      "version": "3.6.0"
    },
    "colab": {
      "name": "ch14.ipynb",
      "provenance": [],
      "include_colab_link": true
    }
  },
  "cells": [
    {
      "cell_type": "markdown",
      "metadata": {
        "id": "view-in-github",
        "colab_type": "text"
      },
      "source": [
        "<a href=\"https://colab.research.google.com/github/jieunjeon/CatchingDudeoji/blob/main/ch14/14.5_2012_federal_election_comission_database.ipynb\" target=\"_parent\"><img src=\"https://colab.research.google.com/assets/colab-badge.svg\" alt=\"Open In Colab\"/></a>"
      ]
    },
    {
      "cell_type": "markdown",
      "metadata": {
        "deletable": true,
        "editable": true,
        "id": "JUZpTdqYaRg5"
      },
      "source": [
        "# Data Analysis Examples"
      ]
    },
    {
      "cell_type": "markdown",
      "metadata": {
        "deletable": true,
        "editable": true,
        "id": "jD8m2FNUaRhS"
      },
      "source": [
        "## 2012 Federal Election Commission Database"
      ]
    },
    {
      "cell_type": "markdown",
      "metadata": {
        "id": "iszUxymOEeqF"
      },
      "source": [
        "We can use the US Federal Election Commision's data on contributions to political campaigns.   \n",
        "   \n",
        "The data includes: contributor names, occupation and employer, address, and contribution amount. "
      ]
    },
    {
      "cell_type": "code",
      "metadata": {
        "deletable": true,
        "editable": true,
        "colab": {
          "base_uri": "https://localhost:8080/"
        },
        "id": "Q9B45lrJaRhS",
        "outputId": "a7868ca2-181f-4b10-ca77-cb701e824e7d"
      },
      "source": [
        "import pandas as pd\n",
        "data_path = '/content/drive/MyDrive/aiffel/'\n",
        "\n",
        "fec = pd.read_csv(data_path + 'pydata-ch14.5/P00000001-ALL.csv')\n",
        "fec.info()"
      ],
      "execution_count": 2,
      "outputs": [
        {
          "output_type": "stream",
          "text": [
            "/usr/local/lib/python3.7/dist-packages/IPython/core/interactiveshell.py:2718: DtypeWarning: Columns (6) have mixed types.Specify dtype option on import or set low_memory=False.\n",
            "  interactivity=interactivity, compiler=compiler, result=result)\n"
          ],
          "name": "stderr"
        },
        {
          "output_type": "stream",
          "text": [
            "<class 'pandas.core.frame.DataFrame'>\n",
            "RangeIndex: 1001731 entries, 0 to 1001730\n",
            "Data columns (total 16 columns):\n",
            " #   Column             Non-Null Count    Dtype  \n",
            "---  ------             --------------    -----  \n",
            " 0   cmte_id            1001731 non-null  object \n",
            " 1   cand_id            1001731 non-null  object \n",
            " 2   cand_nm            1001731 non-null  object \n",
            " 3   contbr_nm          1001731 non-null  object \n",
            " 4   contbr_city        1001712 non-null  object \n",
            " 5   contbr_st          1001727 non-null  object \n",
            " 6   contbr_zip         1001620 non-null  object \n",
            " 7   contbr_employer    988002 non-null   object \n",
            " 8   contbr_occupation  993301 non-null   object \n",
            " 9   contb_receipt_amt  1001731 non-null  float64\n",
            " 10  contb_receipt_dt   1001731 non-null  object \n",
            " 11  receipt_desc       14166 non-null    object \n",
            " 12  memo_cd            92482 non-null    object \n",
            " 13  memo_text          97770 non-null    object \n",
            " 14  form_tp            1001731 non-null  object \n",
            " 15  file_num           1001731 non-null  int64  \n",
            "dtypes: float64(1), int64(1), object(14)\n",
            "memory usage: 122.3+ MB\n"
          ],
          "name": "stdout"
        }
      ]
    },
    {
      "cell_type": "markdown",
      "metadata": {
        "id": "EnkhxKdUExhh"
      },
      "source": [
        "Sample record in the DataFrame:"
      ]
    },
    {
      "cell_type": "code",
      "metadata": {
        "deletable": true,
        "editable": true,
        "colab": {
          "base_uri": "https://localhost:8080/"
        },
        "id": "0Uwp1gAuaRhS",
        "outputId": "a9306f6d-43a3-4686-e2f4-1bf7f031fa15"
      },
      "source": [
        "fec.iloc[123456]"
      ],
      "execution_count": 3,
      "outputs": [
        {
          "output_type": "execute_result",
          "data": {
            "text/plain": [
              "cmte_id                             C00431445\n",
              "cand_id                             P80003338\n",
              "cand_nm                         Obama, Barack\n",
              "contbr_nm                         ELLMAN, IRA\n",
              "contbr_city                             TEMPE\n",
              "contbr_st                                  AZ\n",
              "contbr_zip                          852816719\n",
              "contbr_employer      ARIZONA STATE UNIVERSITY\n",
              "contbr_occupation                   PROFESSOR\n",
              "contb_receipt_amt                          50\n",
              "contb_receipt_dt                    01-DEC-11\n",
              "receipt_desc                              NaN\n",
              "memo_cd                                   NaN\n",
              "memo_text                                 NaN\n",
              "form_tp                                 SA17A\n",
              "file_num                               772372\n",
              "Name: 123456, dtype: object"
            ]
          },
          "metadata": {},
          "execution_count": 3
        }
      ]
    },
    {
      "cell_type": "markdown",
      "metadata": {
        "id": "WkIDuLtLE35j"
      },
      "source": [
        "Slicing and dicing this data to extract informative statics about the donors and contributions.\n",
        "\n",
        "\n",
        "First, let's check all the unique political candidates using `unique`."
      ]
    },
    {
      "cell_type": "code",
      "metadata": {
        "deletable": true,
        "editable": true,
        "colab": {
          "base_uri": "https://localhost:8080/"
        },
        "id": "L2RRtHTNaRhT",
        "outputId": "4083e5e6-1eca-40b8-e6f3-1e6ceea7f404"
      },
      "source": [
        "unique_cands = fec.cand_nm.unique()\n",
        "unique_cands"
      ],
      "execution_count": 5,
      "outputs": [
        {
          "output_type": "execute_result",
          "data": {
            "text/plain": [
              "array(['Bachmann, Michelle', 'Romney, Mitt', 'Obama, Barack',\n",
              "       \"Roemer, Charles E. 'Buddy' III\", 'Pawlenty, Timothy',\n",
              "       'Johnson, Gary Earl', 'Paul, Ron', 'Santorum, Rick',\n",
              "       'Cain, Herman', 'Gingrich, Newt', 'McCotter, Thaddeus G',\n",
              "       'Huntsman, Jon', 'Perry, Rick'], dtype=object)"
            ]
          },
          "metadata": {},
          "execution_count": 5
        }
      ]
    },
    {
      "cell_type": "code",
      "metadata": {
        "colab": {
          "base_uri": "https://localhost:8080/",
          "height": 35
        },
        "id": "AokHdIUrQdsf",
        "outputId": "988b489f-f75f-4695-ce53-a662d90f3184"
      },
      "source": [
        "unique_cands[2]"
      ],
      "execution_count": 6,
      "outputs": [
        {
          "output_type": "execute_result",
          "data": {
            "application/vnd.google.colaboratory.intrinsic+json": {
              "type": "string"
            },
            "text/plain": [
              "'Obama, Barack'"
            ]
          },
          "metadata": {},
          "execution_count": 6
        }
      ]
    },
    {
      "cell_type": "markdown",
      "metadata": {
        "id": "2pDlwwPrQhC1"
      },
      "source": [
        "Let's add additional data: party affiliation using a dict"
      ]
    },
    {
      "cell_type": "code",
      "metadata": {
        "deletable": true,
        "editable": true,
        "id": "aqPdg-bfaRhT"
      },
      "source": [
        "parties = {'Bachmann, Michelle': 'Republican',\n",
        "           'Cain, Herman': 'Republican',\n",
        "           'Gingrich, Newt': 'Republican',\n",
        "           'Huntsman, Jon': 'Republican',\n",
        "           'Johnson, Gary Earl': 'Republican',\n",
        "           'McCotter, Thaddeus G': 'Republican',\n",
        "           'Obama, Barack': 'Democrat',\n",
        "           'Paul, Ron': 'Republican',\n",
        "           'Pawlenty, Timothy': 'Republican',\n",
        "           'Perry, Rick': 'Republican',\n",
        "           \"Roemer, Charles E. 'Buddy' III\": 'Republican',\n",
        "           'Romney, Mitt': 'Republican',\n",
        "           'Santorum, Rick': 'Republican'}"
      ],
      "execution_count": 7,
      "outputs": []
    },
    {
      "cell_type": "markdown",
      "metadata": {
        "id": "uHoppizDRUk3"
      },
      "source": [
        "We can compute an array of political parties from the candidate names:"
      ]
    },
    {
      "cell_type": "code",
      "metadata": {
        "deletable": true,
        "editable": true,
        "colab": {
          "base_uri": "https://localhost:8080/"
        },
        "id": "HUXw7hjAaRhT",
        "outputId": "08b975ec-b5a9-4fb1-a8b2-f53c52818187"
      },
      "source": [
        "fec.cand_nm[123456:123461]\n"
      ],
      "execution_count": 8,
      "outputs": [
        {
          "output_type": "execute_result",
          "data": {
            "text/plain": [
              "123456    Obama, Barack\n",
              "123457    Obama, Barack\n",
              "123458    Obama, Barack\n",
              "123459    Obama, Barack\n",
              "123460    Obama, Barack\n",
              "Name: cand_nm, dtype: object"
            ]
          },
          "metadata": {},
          "execution_count": 8
        }
      ]
    },
    {
      "cell_type": "code",
      "metadata": {
        "colab": {
          "base_uri": "https://localhost:8080/"
        },
        "id": "0fmZ_WfoRR0i",
        "outputId": "9fdbe5c6-f1fb-4386-ffb1-74e9f5b1948b"
      },
      "source": [
        "fec.cand_nm[123456:123461].map(parties)\n"
      ],
      "execution_count": 10,
      "outputs": [
        {
          "output_type": "execute_result",
          "data": {
            "text/plain": [
              "123456    Democrat\n",
              "123457    Democrat\n",
              "123458    Democrat\n",
              "123459    Democrat\n",
              "123460    Democrat\n",
              "Name: cand_nm, dtype: object"
            ]
          },
          "metadata": {},
          "execution_count": 10
        }
      ]
    },
    {
      "cell_type": "code",
      "metadata": {
        "colab": {
          "base_uri": "https://localhost:8080/"
        },
        "id": "FZTqocNtRaKU",
        "outputId": "91944c84-ca68-45aa-d8e2-3ec8b9493872"
      },
      "source": [
        "# Add it as a column\n",
        "fec['party'] = fec.cand_nm.map(parties)\n",
        "fec['party'].value_counts()"
      ],
      "execution_count": 11,
      "outputs": [
        {
          "output_type": "execute_result",
          "data": {
            "text/plain": [
              "Democrat      593746\n",
              "Republican    407985\n",
              "Name: party, dtype: int64"
            ]
          },
          "metadata": {},
          "execution_count": 11
        }
      ]
    },
    {
      "cell_type": "markdown",
      "metadata": {
        "id": "bJDOvdQZdpZw"
      },
      "source": [
        "## Data Preparation\n",
        "\n",
        "First, check the positive value count of contributions and refunds (기부금, 환급금)"
      ]
    },
    {
      "cell_type": "code",
      "metadata": {
        "deletable": true,
        "editable": true,
        "colab": {
          "base_uri": "https://localhost:8080/"
        },
        "id": "wWSNEiQaaRhT",
        "outputId": "a27a07b3-1950-4fcf-88c7-b1d788105f7c"
      },
      "source": [
        "(fec.contb_receipt_amt > 0).value_counts()"
      ],
      "execution_count": 12,
      "outputs": [
        {
          "output_type": "execute_result",
          "data": {
            "text/plain": [
              "True     991475\n",
              "False     10256\n",
              "Name: contb_receipt_amt, dtype: int64"
            ]
          },
          "metadata": {},
          "execution_count": 12
        }
      ]
    },
    {
      "cell_type": "markdown",
      "metadata": {
        "id": "KLmNWwydeCWz"
      },
      "source": [
        "grab only positive values"
      ]
    },
    {
      "cell_type": "code",
      "metadata": {
        "deletable": true,
        "editable": true,
        "id": "dS8-8O-IaRhT"
      },
      "source": [
        "fec = fec[fec.contb_receipt_amt > 0]"
      ],
      "execution_count": 13,
      "outputs": []
    },
    {
      "cell_type": "markdown",
      "metadata": {
        "id": "Wdcl1nEKeI9c"
      },
      "source": [
        "Just grab Obama and Romney"
      ]
    },
    {
      "cell_type": "code",
      "metadata": {
        "deletable": true,
        "editable": true,
        "id": "TfnkphPoaRhT"
      },
      "source": [
        "fec_mrbo = fec[fec.cand_nm.isin(['Obama, Barack', 'Romney, Mitt'])]"
      ],
      "execution_count": 14,
      "outputs": []
    },
    {
      "cell_type": "markdown",
      "metadata": {
        "deletable": true,
        "editable": true,
        "id": "10t0BZwjaRhT"
      },
      "source": [
        "### Donation Statistics by Occupation and Employer"
      ]
    },
    {
      "cell_type": "markdown",
      "metadata": {
        "id": "Kn5EwMUXeQgL"
      },
      "source": [
        "직업 및 고용주에 따른 기부 통계   \n",
        "Lawyers tend to donate more to Democrats, while business executives tend to donate more to Republicans.\n",
        "\n",
        "\n",
        "First, lets see the total number of donations by occupation"
      ]
    },
    {
      "cell_type": "code",
      "metadata": {
        "deletable": true,
        "editable": true,
        "colab": {
          "base_uri": "https://localhost:8080/"
        },
        "id": "fclModG6aRhT",
        "outputId": "3e19ec8a-0007-45f0-9d62-f2fc6022dc95"
      },
      "source": [
        "fec.contbr_occupation.value_counts()[:10]"
      ],
      "execution_count": 15,
      "outputs": [
        {
          "output_type": "execute_result",
          "data": {
            "text/plain": [
              "RETIRED                                   233990\n",
              "INFORMATION REQUESTED                      35107\n",
              "ATTORNEY                                   34286\n",
              "HOMEMAKER                                  29931\n",
              "PHYSICIAN                                  23432\n",
              "INFORMATION REQUESTED PER BEST EFFORTS     21138\n",
              "ENGINEER                                   14334\n",
              "TEACHER                                    13990\n",
              "CONSULTANT                                 13273\n",
              "PROFESSOR                                  12555\n",
              "Name: contbr_occupation, dtype: int64"
            ]
          },
          "metadata": {},
          "execution_count": 15
        }
      ]
    },
    {
      "cell_type": "markdown",
      "metadata": {
        "id": "WmTzgigpfbb0"
      },
      "source": [
        "By using `occ_mapping`, let's clean up a few of them by mapping from one occupation to another.    \n",
        "1 trick! is to use `dict.get` to allow occupationos with no mapping to **pass through**."
      ]
    },
    {
      "cell_type": "code",
      "metadata": {
        "deletable": true,
        "editable": true,
        "id": "fraGFQmMaRhU"
      },
      "source": [
        "occ_mapping = {\n",
        "   'INFORMATION REQUESTED PER BEST EFFORTS' : 'NOT PROVIDED',\n",
        "   'INFORMATION REQUESTED' : 'NOT PROVIDED',\n",
        "   'INFORMATION REQUESTED (BEST EFFORTS)' : 'NOT PROVIDED',\n",
        "   'C.E.O.': 'CEO'\n",
        "}\n",
        "\n",
        "# If no mapping provided, return x\n",
        "f = lambda x: occ_mapping.get(x, x)\n",
        "fec.contbr_occupation = fec.contbr_occupation.map(f)"
      ],
      "execution_count": 16,
      "outputs": []
    },
    {
      "cell_type": "markdown",
      "metadata": {
        "id": "_y4tQmmvfq99"
      },
      "source": [
        "same for employer data"
      ]
    },
    {
      "cell_type": "code",
      "metadata": {
        "deletable": true,
        "editable": true,
        "id": "N97tQXZHaRhU"
      },
      "source": [
        "emp_mapping = {\n",
        "   'INFORMATION REQUESTED PER BEST EFFORTS' : 'NOT PROVIDED',\n",
        "   'INFORMATION REQUESTED' : 'NOT PROVIDED',\n",
        "   'SELF' : 'SELF-EMPLOYED',\n",
        "   'SELF EMPLOYED' : 'SELF-EMPLOYED',\n",
        "}\n",
        "\n",
        "# If no mapping provided, return x\n",
        "f = lambda x: emp_mapping.get(x, x)\n",
        "fec.contbr_employer = fec.contbr_employer.map(f)"
      ],
      "execution_count": 17,
      "outputs": []
    },
    {
      "cell_type": "markdown",
      "metadata": {
        "id": "X6pR-299fvhu"
      },
      "source": [
        "Now we can use `pivot_table` to aggregate the data by party and occupation, then filter it with donation over $2 million overall."
      ]
    },
    {
      "cell_type": "code",
      "metadata": {
        "deletable": true,
        "editable": true,
        "colab": {
          "base_uri": "https://localhost:8080/",
          "height": 607
        },
        "id": "7c66T9iyaRhU",
        "outputId": "b057376d-a9ac-4483-9c4f-eeb913eb1efc"
      },
      "source": [
        "by_occupation = fec.pivot_table('contb_receipt_amt',\n",
        "                                index='contbr_occupation',\n",
        "                                columns='party', aggfunc='sum')\n",
        "over_2mm = by_occupation[by_occupation.sum(1) > 2000000]\n",
        "over_2mm"
      ],
      "execution_count": 18,
      "outputs": [
        {
          "output_type": "execute_result",
          "data": {
            "text/html": [
              "<div>\n",
              "<style scoped>\n",
              "    .dataframe tbody tr th:only-of-type {\n",
              "        vertical-align: middle;\n",
              "    }\n",
              "\n",
              "    .dataframe tbody tr th {\n",
              "        vertical-align: top;\n",
              "    }\n",
              "\n",
              "    .dataframe thead th {\n",
              "        text-align: right;\n",
              "    }\n",
              "</style>\n",
              "<table border=\"1\" class=\"dataframe\">\n",
              "  <thead>\n",
              "    <tr style=\"text-align: right;\">\n",
              "      <th>party</th>\n",
              "      <th>Democrat</th>\n",
              "      <th>Republican</th>\n",
              "    </tr>\n",
              "    <tr>\n",
              "      <th>contbr_occupation</th>\n",
              "      <th></th>\n",
              "      <th></th>\n",
              "    </tr>\n",
              "  </thead>\n",
              "  <tbody>\n",
              "    <tr>\n",
              "      <th>ATTORNEY</th>\n",
              "      <td>11141982.97</td>\n",
              "      <td>7.477194e+06</td>\n",
              "    </tr>\n",
              "    <tr>\n",
              "      <th>CEO</th>\n",
              "      <td>2074974.79</td>\n",
              "      <td>4.211041e+06</td>\n",
              "    </tr>\n",
              "    <tr>\n",
              "      <th>CONSULTANT</th>\n",
              "      <td>2459912.71</td>\n",
              "      <td>2.544725e+06</td>\n",
              "    </tr>\n",
              "    <tr>\n",
              "      <th>ENGINEER</th>\n",
              "      <td>951525.55</td>\n",
              "      <td>1.818374e+06</td>\n",
              "    </tr>\n",
              "    <tr>\n",
              "      <th>EXECUTIVE</th>\n",
              "      <td>1355161.05</td>\n",
              "      <td>4.138850e+06</td>\n",
              "    </tr>\n",
              "    <tr>\n",
              "      <th>HOMEMAKER</th>\n",
              "      <td>4248875.80</td>\n",
              "      <td>1.363428e+07</td>\n",
              "    </tr>\n",
              "    <tr>\n",
              "      <th>INVESTOR</th>\n",
              "      <td>884133.00</td>\n",
              "      <td>2.431769e+06</td>\n",
              "    </tr>\n",
              "    <tr>\n",
              "      <th>LAWYER</th>\n",
              "      <td>3160478.87</td>\n",
              "      <td>3.912243e+05</td>\n",
              "    </tr>\n",
              "    <tr>\n",
              "      <th>MANAGER</th>\n",
              "      <td>762883.22</td>\n",
              "      <td>1.444532e+06</td>\n",
              "    </tr>\n",
              "    <tr>\n",
              "      <th>NOT PROVIDED</th>\n",
              "      <td>4866973.96</td>\n",
              "      <td>2.056547e+07</td>\n",
              "    </tr>\n",
              "    <tr>\n",
              "      <th>OWNER</th>\n",
              "      <td>1001567.36</td>\n",
              "      <td>2.408287e+06</td>\n",
              "    </tr>\n",
              "    <tr>\n",
              "      <th>PHYSICIAN</th>\n",
              "      <td>3735124.94</td>\n",
              "      <td>3.594320e+06</td>\n",
              "    </tr>\n",
              "    <tr>\n",
              "      <th>PRESIDENT</th>\n",
              "      <td>1878509.95</td>\n",
              "      <td>4.720924e+06</td>\n",
              "    </tr>\n",
              "    <tr>\n",
              "      <th>PROFESSOR</th>\n",
              "      <td>2165071.08</td>\n",
              "      <td>2.967027e+05</td>\n",
              "    </tr>\n",
              "    <tr>\n",
              "      <th>REAL ESTATE</th>\n",
              "      <td>528902.09</td>\n",
              "      <td>1.625902e+06</td>\n",
              "    </tr>\n",
              "    <tr>\n",
              "      <th>RETIRED</th>\n",
              "      <td>25305116.38</td>\n",
              "      <td>2.356124e+07</td>\n",
              "    </tr>\n",
              "    <tr>\n",
              "      <th>SELF-EMPLOYED</th>\n",
              "      <td>672393.40</td>\n",
              "      <td>1.640253e+06</td>\n",
              "    </tr>\n",
              "  </tbody>\n",
              "</table>\n",
              "</div>"
            ],
            "text/plain": [
              "party                 Democrat    Republican\n",
              "contbr_occupation                           \n",
              "ATTORNEY           11141982.97  7.477194e+06\n",
              "CEO                 2074974.79  4.211041e+06\n",
              "CONSULTANT          2459912.71  2.544725e+06\n",
              "ENGINEER             951525.55  1.818374e+06\n",
              "EXECUTIVE           1355161.05  4.138850e+06\n",
              "HOMEMAKER           4248875.80  1.363428e+07\n",
              "INVESTOR             884133.00  2.431769e+06\n",
              "LAWYER              3160478.87  3.912243e+05\n",
              "MANAGER              762883.22  1.444532e+06\n",
              "NOT PROVIDED        4866973.96  2.056547e+07\n",
              "OWNER               1001567.36  2.408287e+06\n",
              "PHYSICIAN           3735124.94  3.594320e+06\n",
              "PRESIDENT           1878509.95  4.720924e+06\n",
              "PROFESSOR           2165071.08  2.967027e+05\n",
              "REAL ESTATE          528902.09  1.625902e+06\n",
              "RETIRED            25305116.38  2.356124e+07\n",
              "SELF-EMPLOYED        672393.40  1.640253e+06"
            ]
          },
          "metadata": {},
          "execution_count": 18
        }
      ]
    },
    {
      "cell_type": "markdown",
      "metadata": {
        "id": "nSjF3J7ngFNt"
      },
      "source": [
        "lets draw a bar graph"
      ]
    },
    {
      "cell_type": "code",
      "metadata": {
        "deletable": true,
        "editable": true,
        "colab": {
          "base_uri": "https://localhost:8080/",
          "height": 53
        },
        "id": "s_nPAAe4aRhU",
        "outputId": "47001937-334e-4eab-8aed-a63259867b02"
      },
      "source": [
        "import matplotlib.pyplot as plt\n",
        "plt.figure()"
      ],
      "execution_count": 20,
      "outputs": [
        {
          "output_type": "execute_result",
          "data": {
            "text/plain": [
              "<Figure size 432x288 with 0 Axes>"
            ]
          },
          "metadata": {},
          "execution_count": 20
        },
        {
          "output_type": "display_data",
          "data": {
            "text/plain": [
              "<Figure size 432x288 with 0 Axes>"
            ]
          },
          "metadata": {}
        }
      ]
    },
    {
      "cell_type": "code",
      "metadata": {
        "deletable": true,
        "editable": true,
        "colab": {
          "base_uri": "https://localhost:8080/",
          "height": 296
        },
        "id": "iJK19-HraRhU",
        "outputId": "e2b2f696-ed66-4240-d098-207d6dc1c45b"
      },
      "source": [
        "over_2mm.plot(kind='barh')"
      ],
      "execution_count": 21,
      "outputs": [
        {
          "output_type": "execute_result",
          "data": {
            "text/plain": [
              "<matplotlib.axes._subplots.AxesSubplot at 0x7f9a7ebd0650>"
            ]
          },
          "metadata": {},
          "execution_count": 21
        },
        {
          "output_type": "display_data",
          "data": {
            "image/png": "[encoded data removed]",
            "text/plain": [
              "<Figure size 432x288 with 1 Axes>"
            ]
          },
          "metadata": {
            "needs_background": "light"
          }
        }
      ]
    },
    {
      "cell_type": "markdown",
      "metadata": {
        "id": "lBfK87f9g_-r"
      },
      "source": [
        "Let's see top donor occupations or top companies that donated to Obama and Romney. To do this, we can first group by candidate name and use a variant `top` method."
      ]
    },
    {
      "cell_type": "code",
      "metadata": {
        "deletable": true,
        "editable": true,
        "id": "qZlrhi0naRhU"
      },
      "source": [
        "def get_top_amounts(group, key, n=5):\n",
        "    totals = group.groupby(key)['contb_receipt_amt'].sum()\n",
        "    return totals.nlargest(n)"
      ],
      "execution_count": 22,
      "outputs": []
    },
    {
      "cell_type": "markdown",
      "metadata": {
        "id": "IDfAy1NWhoWE"
      },
      "source": [
        "then aggregate by occupation and employer"
      ]
    },
    {
      "cell_type": "code",
      "metadata": {
        "deletable": true,
        "editable": true,
        "colab": {
          "base_uri": "https://localhost:8080/"
        },
        "id": "GDoLIRWWaRhU",
        "outputId": "4022fb7e-d917-4113-fda1-b9933017e777"
      },
      "source": [
        "grouped = fec_mrbo.groupby('cand_nm')\n",
        "grouped.apply(get_top_amounts, 'contbr_occupation', n=7)\n",
        "grouped.apply(get_top_amounts, 'contbr_employer', n=10)"
      ],
      "execution_count": 23,
      "outputs": [
        {
          "output_type": "execute_result",
          "data": {
            "text/plain": [
              "cand_nm        contbr_employer                       \n",
              "Obama, Barack  RETIRED                                   22694358.85\n",
              "               SELF-EMPLOYED                             17080985.96\n",
              "               NOT EMPLOYED                               8586308.70\n",
              "               INFORMATION REQUESTED                      5053480.37\n",
              "               HOMEMAKER                                  2605408.54\n",
              "               SELF                                       1076531.20\n",
              "               SELF EMPLOYED                               469290.00\n",
              "               STUDENT                                     318831.45\n",
              "               VOLUNTEER                                   257104.00\n",
              "               MICROSOFT                                   215585.36\n",
              "Romney, Mitt   INFORMATION REQUESTED PER BEST EFFORTS    12059527.24\n",
              "               RETIRED                                   11506225.71\n",
              "               HOMEMAKER                                  8147196.22\n",
              "               SELF-EMPLOYED                              7409860.98\n",
              "               STUDENT                                     496490.94\n",
              "               CREDIT SUISSE                               281150.00\n",
              "               MORGAN STANLEY                              267266.00\n",
              "               GOLDMAN SACH & CO.                          238250.00\n",
              "               BARCLAYS CAPITAL                            162750.00\n",
              "               H.I.G. CAPITAL                              139500.00\n",
              "Name: contb_receipt_amt, dtype: float64"
            ]
          },
          "metadata": {},
          "execution_count": 23
        }
      ]
    },
    {
      "cell_type": "markdown",
      "metadata": {
        "deletable": true,
        "editable": true,
        "id": "P7UEE7ZPaRhV"
      },
      "source": [
        "### Bucketing Donation Amounts"
      ]
    },
    {
      "cell_type": "markdown",
      "metadata": {
        "id": "4T1JNoRwhxBa"
      },
      "source": [
        "기부 규모별로 버킷을 만들어 기부자 수를 나누면 효과적으로 분석할 수 있다.   \n",
        "Use the `cut` function to discretize the contributor amounts into buckets by contribution size."
      ]
    },
    {
      "cell_type": "code",
      "metadata": {
        "deletable": true,
        "editable": true,
        "colab": {
          "base_uri": "https://localhost:8080/"
        },
        "id": "l4TIJ0LYaRhV",
        "outputId": "8c725c5f-bec1-4aa6-b81f-4596c9a782bf"
      },
      "source": [
        "import numpy as np\n",
        "bins = np.array([0, 1, 10, 100, 1000, 10000,\n",
        "                 100000, 1000000, 10000000])\n",
        "labels = pd.cut(fec_mrbo.contb_receipt_amt, bins)\n",
        "labels"
      ],
      "execution_count": 24,
      "outputs": [
        {
          "output_type": "execute_result",
          "data": {
            "text/plain": [
              "411         (10, 100]\n",
              "412       (100, 1000]\n",
              "413       (100, 1000]\n",
              "414         (10, 100]\n",
              "415         (10, 100]\n",
              "             ...     \n",
              "701381      (10, 100]\n",
              "701382    (100, 1000]\n",
              "701383        (1, 10]\n",
              "701384      (10, 100]\n",
              "701385    (100, 1000]\n",
              "Name: contb_receipt_amt, Length: 694282, dtype: category\n",
              "Categories (8, interval[int64]): [(0, 1] < (1, 10] < (10, 100] < (100, 1000] < (1000, 10000] <\n",
              "                                  (10000, 100000] < (100000, 1000000] < (1000000, 10000000]]"
            ]
          },
          "metadata": {},
          "execution_count": 24
        }
      ]
    },
    {
      "cell_type": "markdown",
      "metadata": {
        "id": "xy1QugTDjNxN"
      },
      "source": [
        " 이름과 버킷 이름으로 그룹지어서, 기부금액 규모에 따른 히스토그램을 그릴 수 있다."
      ]
    },
    {
      "cell_type": "code",
      "metadata": {
        "deletable": true,
        "editable": true,
        "colab": {
          "base_uri": "https://localhost:8080/",
          "height": 328
        },
        "id": "jTRCKerpaRhV",
        "outputId": "bd657303-1aec-4639-e993-496098947be1"
      },
      "source": [
        "grouped = fec_mrbo.groupby(['cand_nm', labels])\n",
        "grouped.size().unstack(0)"
      ],
      "execution_count": 25,
      "outputs": [
        {
          "output_type": "execute_result",
          "data": {
            "text/html": [
              "<div>\n",
              "<style scoped>\n",
              "    .dataframe tbody tr th:only-of-type {\n",
              "        vertical-align: middle;\n",
              "    }\n",
              "\n",
              "    .dataframe tbody tr th {\n",
              "        vertical-align: top;\n",
              "    }\n",
              "\n",
              "    .dataframe thead th {\n",
              "        text-align: right;\n",
              "    }\n",
              "</style>\n",
              "<table border=\"1\" class=\"dataframe\">\n",
              "  <thead>\n",
              "    <tr style=\"text-align: right;\">\n",
              "      <th>cand_nm</th>\n",
              "      <th>Obama, Barack</th>\n",
              "      <th>Romney, Mitt</th>\n",
              "    </tr>\n",
              "    <tr>\n",
              "      <th>contb_receipt_amt</th>\n",
              "      <th></th>\n",
              "      <th></th>\n",
              "    </tr>\n",
              "  </thead>\n",
              "  <tbody>\n",
              "    <tr>\n",
              "      <th>(0, 1]</th>\n",
              "      <td>493</td>\n",
              "      <td>77</td>\n",
              "    </tr>\n",
              "    <tr>\n",
              "      <th>(1, 10]</th>\n",
              "      <td>40070</td>\n",
              "      <td>3681</td>\n",
              "    </tr>\n",
              "    <tr>\n",
              "      <th>(10, 100]</th>\n",
              "      <td>372280</td>\n",
              "      <td>31853</td>\n",
              "    </tr>\n",
              "    <tr>\n",
              "      <th>(100, 1000]</th>\n",
              "      <td>153991</td>\n",
              "      <td>43357</td>\n",
              "    </tr>\n",
              "    <tr>\n",
              "      <th>(1000, 10000]</th>\n",
              "      <td>22284</td>\n",
              "      <td>26186</td>\n",
              "    </tr>\n",
              "    <tr>\n",
              "      <th>(10000, 100000]</th>\n",
              "      <td>2</td>\n",
              "      <td>1</td>\n",
              "    </tr>\n",
              "    <tr>\n",
              "      <th>(100000, 1000000]</th>\n",
              "      <td>3</td>\n",
              "      <td>0</td>\n",
              "    </tr>\n",
              "    <tr>\n",
              "      <th>(1000000, 10000000]</th>\n",
              "      <td>4</td>\n",
              "      <td>0</td>\n",
              "    </tr>\n",
              "  </tbody>\n",
              "</table>\n",
              "</div>"
            ],
            "text/plain": [
              "cand_nm              Obama, Barack  Romney, Mitt\n",
              "contb_receipt_amt                               \n",
              "(0, 1]                         493            77\n",
              "(1, 10]                      40070          3681\n",
              "(10, 100]                   372280         31853\n",
              "(100, 1000]                 153991         43357\n",
              "(1000, 10000]                22284         26186\n",
              "(10000, 100000]                  2             1\n",
              "(100000, 1000000]                3             0\n",
              "(1000000, 10000000]              4             0"
            ]
          },
          "metadata": {},
          "execution_count": 25
        }
      ]
    },
    {
      "cell_type": "markdown",
      "metadata": {
        "id": "N7PWVOnekgA7"
      },
      "source": [
        "오바마는 롬니보다 적은 금액 기부금을 더 많이 받은걸 알 수 있다.   \n",
        "이걸 전부 더하고 버킷별로 정규화해서, 후보별 전체 기부금 대시 비유를 시각화해보자."
      ]
    },
    {
      "cell_type": "code",
      "metadata": {
        "deletable": true,
        "editable": true,
        "colab": {
          "base_uri": "https://localhost:8080/",
          "height": 53
        },
        "id": "yzXG0ovZaRhV",
        "outputId": "383c803b-9067-4d0b-e552-ca936f558c33"
      },
      "source": [
        "plt.figure()"
      ],
      "execution_count": 26,
      "outputs": [
        {
          "output_type": "execute_result",
          "data": {
            "text/plain": [
              "<Figure size 432x288 with 0 Axes>"
            ]
          },
          "metadata": {},
          "execution_count": 26
        },
        {
          "output_type": "display_data",
          "data": {
            "text/plain": [
              "<Figure size 432x288 with 0 Axes>"
            ]
          },
          "metadata": {}
        }
      ]
    },
    {
      "cell_type": "markdown",
      "metadata": {
        "id": "I5S7cKJBmKBn"
      },
      "source": [
        "axis 0, 1 (기부금액 제일 큰 두 버킷)은 개인 후원이 아니므로 제외."
      ]
    },
    {
      "cell_type": "code",
      "metadata": {
        "deletable": true,
        "editable": true,
        "colab": {
          "base_uri": "https://localhost:8080/",
          "height": 283
        },
        "id": "LZlcbS2eaRhV",
        "outputId": "d67802cd-ef29-450c-9f52-b8c16de3b4b0"
      },
      "source": [
        "bucket_sums = grouped.contb_receipt_amt.sum().unstack(0)\n",
        "normed_sums = bucket_sums.div(bucket_sums.sum(axis=1), axis=0)\n",
        "normed_sums\n",
        "normed_sums[:-2].plot(kind='barh')"
      ],
      "execution_count": 27,
      "outputs": [
        {
          "output_type": "execute_result",
          "data": {
            "text/plain": [
              "<matplotlib.axes._subplots.AxesSubplot at 0x7f9a7eb3b310>"
            ]
          },
          "metadata": {},
          "execution_count": 27
        },
        {
          "output_type": "display_data",
          "data": {
            "image/png": "[encoded data removed]",
            "text/plain": [
              "<Figure size 432x288 with 1 Axes>"
            ]
          },
          "metadata": {
            "needs_background": "light"
          }
        }
      ]
    },
    {
      "cell_type": "markdown",
      "metadata": {
        "deletable": true,
        "editable": true,
        "id": "hxoi2APKaRhV"
      },
      "source": [
        "### Donation Statistics by State"
      ]
    },
    {
      "cell_type": "markdown",
      "metadata": {
        "id": "xh_JoYI_ma1D"
      },
      "source": [
        "후보자와 주별로 집계해 보자."
      ]
    },
    {
      "cell_type": "code",
      "metadata": {
        "deletable": true,
        "editable": true,
        "colab": {
          "base_uri": "https://localhost:8080/",
          "height": 390
        },
        "id": "44CI4GfiaRhV",
        "outputId": "980a21ac-163b-47b6-c392-59a6dcf3a229"
      },
      "source": [
        "grouped = fec_mrbo.groupby(['cand_nm', 'contbr_st'])\n",
        "totals = grouped.contb_receipt_amt.sum().unstack(0).fillna(0)\n",
        "totals = totals[totals.sum(1) > 100000]\n",
        "totals[:10]"
      ],
      "execution_count": 28,
      "outputs": [
        {
          "output_type": "execute_result",
          "data": {
            "text/html": [
              "<div>\n",
              "<style scoped>\n",
              "    .dataframe tbody tr th:only-of-type {\n",
              "        vertical-align: middle;\n",
              "    }\n",
              "\n",
              "    .dataframe tbody tr th {\n",
              "        vertical-align: top;\n",
              "    }\n",
              "\n",
              "    .dataframe thead th {\n",
              "        text-align: right;\n",
              "    }\n",
              "</style>\n",
              "<table border=\"1\" class=\"dataframe\">\n",
              "  <thead>\n",
              "    <tr style=\"text-align: right;\">\n",
              "      <th>cand_nm</th>\n",
              "      <th>Obama, Barack</th>\n",
              "      <th>Romney, Mitt</th>\n",
              "    </tr>\n",
              "    <tr>\n",
              "      <th>contbr_st</th>\n",
              "      <th></th>\n",
              "      <th></th>\n",
              "    </tr>\n",
              "  </thead>\n",
              "  <tbody>\n",
              "    <tr>\n",
              "      <th>AK</th>\n",
              "      <td>281840.15</td>\n",
              "      <td>86204.24</td>\n",
              "    </tr>\n",
              "    <tr>\n",
              "      <th>AL</th>\n",
              "      <td>543123.48</td>\n",
              "      <td>527303.51</td>\n",
              "    </tr>\n",
              "    <tr>\n",
              "      <th>AR</th>\n",
              "      <td>359247.28</td>\n",
              "      <td>105556.00</td>\n",
              "    </tr>\n",
              "    <tr>\n",
              "      <th>AZ</th>\n",
              "      <td>1506476.98</td>\n",
              "      <td>1888436.23</td>\n",
              "    </tr>\n",
              "    <tr>\n",
              "      <th>CA</th>\n",
              "      <td>23824984.24</td>\n",
              "      <td>11237636.60</td>\n",
              "    </tr>\n",
              "    <tr>\n",
              "      <th>CO</th>\n",
              "      <td>2132429.49</td>\n",
              "      <td>1506714.12</td>\n",
              "    </tr>\n",
              "    <tr>\n",
              "      <th>CT</th>\n",
              "      <td>2068291.26</td>\n",
              "      <td>3499475.45</td>\n",
              "    </tr>\n",
              "    <tr>\n",
              "      <th>DC</th>\n",
              "      <td>4373538.80</td>\n",
              "      <td>1025137.50</td>\n",
              "    </tr>\n",
              "    <tr>\n",
              "      <th>DE</th>\n",
              "      <td>336669.14</td>\n",
              "      <td>82712.00</td>\n",
              "    </tr>\n",
              "    <tr>\n",
              "      <th>FL</th>\n",
              "      <td>7318178.58</td>\n",
              "      <td>8338458.81</td>\n",
              "    </tr>\n",
              "  </tbody>\n",
              "</table>\n",
              "</div>"
            ],
            "text/plain": [
              "cand_nm    Obama, Barack  Romney, Mitt\n",
              "contbr_st                             \n",
              "AK             281840.15      86204.24\n",
              "AL             543123.48     527303.51\n",
              "AR             359247.28     105556.00\n",
              "AZ            1506476.98    1888436.23\n",
              "CA           23824984.24   11237636.60\n",
              "CO            2132429.49    1506714.12\n",
              "CT            2068291.26    3499475.45\n",
              "DC            4373538.80    1025137.50\n",
              "DE             336669.14      82712.00\n",
              "FL            7318178.58    8338458.81"
            ]
          },
          "metadata": {},
          "execution_count": 28
        }
      ]
    },
    {
      "cell_type": "markdown",
      "metadata": {
        "id": "_ngaxoGLngZd"
      },
      "source": [
        "각 row를 전체 기부금액으로 나눠서, 각 후보별, 주별 전체 기부금의 비율을 구할 수 있다."
      ]
    },
    {
      "cell_type": "code",
      "metadata": {
        "deletable": true,
        "editable": true,
        "colab": {
          "base_uri": "https://localhost:8080/",
          "height": 390
        },
        "id": "qpQ3zk7KaRhW",
        "outputId": "4bb1755f-b750-4ffe-a304-7f18b04907b2"
      },
      "source": [
        "percent = totals.div(totals.sum(1), axis=0)\n",
        "percent[:10]"
      ],
      "execution_count": 29,
      "outputs": [
        {
          "output_type": "execute_result",
          "data": {
            "text/html": [
              "<div>\n",
              "<style scoped>\n",
              "    .dataframe tbody tr th:only-of-type {\n",
              "        vertical-align: middle;\n",
              "    }\n",
              "\n",
              "    .dataframe tbody tr th {\n",
              "        vertical-align: top;\n",
              "    }\n",
              "\n",
              "    .dataframe thead th {\n",
              "        text-align: right;\n",
              "    }\n",
              "</style>\n",
              "<table border=\"1\" class=\"dataframe\">\n",
              "  <thead>\n",
              "    <tr style=\"text-align: right;\">\n",
              "      <th>cand_nm</th>\n",
              "      <th>Obama, Barack</th>\n",
              "      <th>Romney, Mitt</th>\n",
              "    </tr>\n",
              "    <tr>\n",
              "      <th>contbr_st</th>\n",
              "      <th></th>\n",
              "      <th></th>\n",
              "    </tr>\n",
              "  </thead>\n",
              "  <tbody>\n",
              "    <tr>\n",
              "      <th>AK</th>\n",
              "      <td>0.765778</td>\n",
              "      <td>0.234222</td>\n",
              "    </tr>\n",
              "    <tr>\n",
              "      <th>AL</th>\n",
              "      <td>0.507390</td>\n",
              "      <td>0.492610</td>\n",
              "    </tr>\n",
              "    <tr>\n",
              "      <th>AR</th>\n",
              "      <td>0.772902</td>\n",
              "      <td>0.227098</td>\n",
              "    </tr>\n",
              "    <tr>\n",
              "      <th>AZ</th>\n",
              "      <td>0.443745</td>\n",
              "      <td>0.556255</td>\n",
              "    </tr>\n",
              "    <tr>\n",
              "      <th>CA</th>\n",
              "      <td>0.679498</td>\n",
              "      <td>0.320502</td>\n",
              "    </tr>\n",
              "    <tr>\n",
              "      <th>CO</th>\n",
              "      <td>0.585970</td>\n",
              "      <td>0.414030</td>\n",
              "    </tr>\n",
              "    <tr>\n",
              "      <th>CT</th>\n",
              "      <td>0.371476</td>\n",
              "      <td>0.628524</td>\n",
              "    </tr>\n",
              "    <tr>\n",
              "      <th>DC</th>\n",
              "      <td>0.810113</td>\n",
              "      <td>0.189887</td>\n",
              "    </tr>\n",
              "    <tr>\n",
              "      <th>DE</th>\n",
              "      <td>0.802776</td>\n",
              "      <td>0.197224</td>\n",
              "    </tr>\n",
              "    <tr>\n",
              "      <th>FL</th>\n",
              "      <td>0.467417</td>\n",
              "      <td>0.532583</td>\n",
              "    </tr>\n",
              "  </tbody>\n",
              "</table>\n",
              "</div>"
            ],
            "text/plain": [
              "cand_nm    Obama, Barack  Romney, Mitt\n",
              "contbr_st                             \n",
              "AK              0.765778      0.234222\n",
              "AL              0.507390      0.492610\n",
              "AR              0.772902      0.227098\n",
              "AZ              0.443745      0.556255\n",
              "CA              0.679498      0.320502\n",
              "CO              0.585970      0.414030\n",
              "CT              0.371476      0.628524\n",
              "DC              0.810113      0.189887\n",
              "DE              0.802776      0.197224\n",
              "FL              0.467417      0.532583"
            ]
          },
          "metadata": {},
          "execution_count": 29
        }
      ]
    }
  ]
}