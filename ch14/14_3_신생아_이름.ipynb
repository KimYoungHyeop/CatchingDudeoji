{
  "nbformat": 4,
  "nbformat_minor": 0,
  "metadata": {
    "colab": {
      "name": "14.3 신생아 이름.ipynb",
      "provenance": [],
      "toc_visible": true
    },
    "kernelspec": {
      "name": "python3",
      "display_name": "Python 3"
    },
    "language_info": {
      "name": "python"
    }
  },
  "cells": [
    {
      "cell_type": "markdown",
      "metadata": {
        "id": "25rg6IBWZtqB"
      },
      "source": [
        "# 신생아 이름\n",
        "\n",
        "* 미국사회보장국(SSA)에서는 1880년부터 현재까지 가장 빈도가 높은 신생아 이름에 대한 정보를 제공하고 있다.\n",
        "\n",
        "* 여러 가지 유명한 R 패키지 개발자인 해들리 위컴은 R에서 데이터를 다루는 방법을 설명할 때 종종 이 데이터셋을 활용한다.\n",
        "\n",
        "\n",
        "\n",
        "> 📌 이 데이터를 이용해서 여러 가지 분석을 할 수 있다.\n",
        "* 시대별로 특정 이름이 차지하는 비율을 구해 얼마나 흔한 이름인지 알아보기\n",
        "* 이름의 상대 순위 알아보기\n",
        "* 각 연도별로 가장 인기 있는 이름, 가장 많이 증가하거나 감소한 이름 알아보기\n",
        "* 모음, 자음, 길이, 전체 다양성, 철자 변화, 첫 글자와 마지막 글자 등 이름 유행 분석하기\n",
        "* 성서에 등장하는 이름, 유명인 인구통계학적 변화 등 외부 자료를 통한 유행 분석"
      ]
    },
    {
      "cell_type": "markdown",
      "metadata": {
        "id": "QpPuWJ_mcW6Q"
      },
      "source": [
        "# 데이터 소개\n",
        "\n",
        "* 1879년 이후 YYYY 생년월일에 대해, 쉼표로 구분된 파일을 만들었다.\n",
        "* yobYYY.txt 개별 연도 파일의 각 변수는 `name, sex, number` 형식을 가진다.\n",
        "* `name`은 2~15자이고, `sex`는 남성 또는 여성이다.\n",
        "* `number`의 경우 이름의 출현 횟수이다. 내림차순으로 정렬이 되어 있으며, **성별**에 따라 정렬된다. \n",
        "* 발생 횟수가 동률인 경우 알파벳 순으로 나열된다.\n",
        "* 개인 정보 보호를 위해 이름 목록을 5번 이상 나오는 이름으로 제한한다."
      ]
    },
    {
      "cell_type": "markdown",
      "metadata": {
        "id": "IhxJs9uLbBvw"
      },
      "source": [
        "# (1) 데이터 다루기"
      ]
    },
    {
      "cell_type": "markdown",
      "metadata": {
        "id": "NPM7gR57bGiQ"
      },
      "source": [
        "* 유닉스의 `head`명령어를 사용하여 이 파일들 중 하나에서 처음 10줄을 먼저 살펴볼 수 있습니다."
      ]
    },
    {
      "cell_type": "code",
      "metadata": {
        "colab": {
          "base_uri": "https://localhost:8080/"
        },
        "id": "Wkc2QscXWv4x",
        "outputId": "1a2a683e-2d5b-4047-f29b-8322a1a4acc1"
      },
      "source": [
        "!head -n 10 /content/drive/MyDrive/Colab\\ Notebooks/babynames/yob1880.txt"
      ],
      "execution_count": 4,
      "outputs": [
        {
          "output_type": "stream",
          "text": [
            "Mary,F,7065\r\n",
            "Anna,F,2604\r\n",
            "Emma,F,2003\r\n",
            "Elizabeth,F,1939\r\n",
            "Minnie,F,1746\r\n",
            "Margaret,F,1578\r\n",
            "Ida,F,1472\r\n",
            "Alice,F,1414\r\n",
            "Bertha,F,1320\r\n",
            "Sarah,F,1288\r\n"
          ],
          "name": "stdout"
        }
      ]
    },
    {
      "cell_type": "markdown",
      "metadata": {
        "id": "qJLLUTo7g23R"
      },
      "source": [
        "---"
      ]
    },
    {
      "cell_type": "markdown",
      "metadata": {
        "id": "Phl-JE4NbR1o"
      },
      "source": [
        "* 데이터가 **쉼표**로 구분되어 있습니다. <br>`pandas.reac_csv` 메서드를 활용하여 DataFrame 객체로 불러올 수 있습니다."
      ]
    },
    {
      "cell_type": "code",
      "metadata": {
        "colab": {
          "base_uri": "https://localhost:8080/",
          "height": 419
        },
        "id": "374mbrdvbZWI",
        "outputId": "de003197-494c-48d6-e21c-c8c0f9f54a52"
      },
      "source": [
        "import pandas as pd\n",
        "\n",
        "names1880 = pd.read_csv('/content/drive/MyDrive/Colab Notebooks/babynames/yob1880.txt',\n",
        "                        names=['name', 'sex', 'births'])\n",
        "\n",
        "names1880"
      ],
      "execution_count": 6,
      "outputs": [
        {
          "output_type": "execute_result",
          "data": {
            "text/html": [
              "<div>\n",
              "<style scoped>\n",
              "    .dataframe tbody tr th:only-of-type {\n",
              "        vertical-align: middle;\n",
              "    }\n",
              "\n",
              "    .dataframe tbody tr th {\n",
              "        vertical-align: top;\n",
              "    }\n",
              "\n",
              "    .dataframe thead th {\n",
              "        text-align: right;\n",
              "    }\n",
              "</style>\n",
              "<table border=\"1\" class=\"dataframe\">\n",
              "  <thead>\n",
              "    <tr style=\"text-align: right;\">\n",
              "      <th></th>\n",
              "      <th>name</th>\n",
              "      <th>sex</th>\n",
              "      <th>births</th>\n",
              "    </tr>\n",
              "  </thead>\n",
              "  <tbody>\n",
              "    <tr>\n",
              "      <th>0</th>\n",
              "      <td>Mary</td>\n",
              "      <td>F</td>\n",
              "      <td>7065</td>\n",
              "    </tr>\n",
              "    <tr>\n",
              "      <th>1</th>\n",
              "      <td>Anna</td>\n",
              "      <td>F</td>\n",
              "      <td>2604</td>\n",
              "    </tr>\n",
              "    <tr>\n",
              "      <th>2</th>\n",
              "      <td>Emma</td>\n",
              "      <td>F</td>\n",
              "      <td>2003</td>\n",
              "    </tr>\n",
              "    <tr>\n",
              "      <th>3</th>\n",
              "      <td>Elizabeth</td>\n",
              "      <td>F</td>\n",
              "      <td>1939</td>\n",
              "    </tr>\n",
              "    <tr>\n",
              "      <th>4</th>\n",
              "      <td>Minnie</td>\n",
              "      <td>F</td>\n",
              "      <td>1746</td>\n",
              "    </tr>\n",
              "    <tr>\n",
              "      <th>...</th>\n",
              "      <td>...</td>\n",
              "      <td>...</td>\n",
              "      <td>...</td>\n",
              "    </tr>\n",
              "    <tr>\n",
              "      <th>1995</th>\n",
              "      <td>Woodie</td>\n",
              "      <td>M</td>\n",
              "      <td>5</td>\n",
              "    </tr>\n",
              "    <tr>\n",
              "      <th>1996</th>\n",
              "      <td>Worthy</td>\n",
              "      <td>M</td>\n",
              "      <td>5</td>\n",
              "    </tr>\n",
              "    <tr>\n",
              "      <th>1997</th>\n",
              "      <td>Wright</td>\n",
              "      <td>M</td>\n",
              "      <td>5</td>\n",
              "    </tr>\n",
              "    <tr>\n",
              "      <th>1998</th>\n",
              "      <td>York</td>\n",
              "      <td>M</td>\n",
              "      <td>5</td>\n",
              "    </tr>\n",
              "    <tr>\n",
              "      <th>1999</th>\n",
              "      <td>Zachariah</td>\n",
              "      <td>M</td>\n",
              "      <td>5</td>\n",
              "    </tr>\n",
              "  </tbody>\n",
              "</table>\n",
              "<p>2000 rows × 3 columns</p>\n",
              "</div>"
            ],
            "text/plain": [
              "           name sex  births\n",
              "0          Mary   F    7065\n",
              "1          Anna   F    2604\n",
              "2          Emma   F    2003\n",
              "3     Elizabeth   F    1939\n",
              "4        Minnie   F    1746\n",
              "...         ...  ..     ...\n",
              "1995     Woodie   M       5\n",
              "1996     Worthy   M       5\n",
              "1997     Wright   M       5\n",
              "1998       York   M       5\n",
              "1999  Zachariah   M       5\n",
              "\n",
              "[2000 rows x 3 columns]"
            ]
          },
          "metadata": {},
          "execution_count": 6
        }
      ]
    },
    {
      "cell_type": "markdown",
      "metadata": {
        "id": "VZxjWpJldnPx"
      },
      "source": [
        "* 이 데이터는 각 연도별로 최소 5명 이상 중복되는 이름만 포함하고 있습니다.\n",
        "* 따라서 편의상 성별 출생수를 모두 합한 값을 해당 연도의 **전체 출생수**라고 가정하겠습니다."
      ]
    },
    {
      "cell_type": "code",
      "metadata": {
        "colab": {
          "base_uri": "https://localhost:8080/"
        },
        "id": "kAomojQKdtZ6",
        "outputId": "b963ded0-3c14-4499-d833-adae3b44abe9"
      },
      "source": [
        "names1880.groupby('sex').births.sum()"
      ],
      "execution_count": 7,
      "outputs": [
        {
          "output_type": "execute_result",
          "data": {
            "text/plain": [
              "sex\n",
              "F     90993\n",
              "M    110493\n",
              "Name: births, dtype: int64"
            ]
          },
          "metadata": {},
          "execution_count": 7
        }
      ]
    },
    {
      "cell_type": "markdown",
      "metadata": {
        "id": "JfM-YzzMe03p"
      },
      "source": [
        "## (1-1) 데이터 합치기"
      ]
    },
    {
      "cell_type": "markdown",
      "metadata": {
        "id": "QaoQBirod1gR"
      },
      "source": [
        "* 자료가 연도별 파일로 나뉘어져 있습니다. (1880년 ~ 2010년)\n",
        "* 모든 데이터를 `DataFrame` 하나로 모은 다음 `year` 항목을 추가하겠습니다.\n",
        "* `pandas.concat`을 이용하면 작업을 쉽게 할 수 있습니다."
      ]
    },
    {
      "cell_type": "code",
      "metadata": {
        "id": "wx18sL0hd_Tc"
      },
      "source": [
        "years = range(1880, 2011)\n",
        "\n",
        "pieces = []\n",
        "columns = ['name', 'sex', 'births']\n",
        "\n",
        "for year in years:\n",
        "    path = '/content/drive/MyDrive/Colab Notebooks/babynames/yob%d.txt' %year\n",
        "    frame = pd.read_csv(path, names=columns)\n",
        "\n",
        "    frame['year'] = year\n",
        "    pieces.append(frame)\n",
        "\n",
        "names = pd.concat(pieces, ignore_index=True) # False: 기존 index 유지, True: 기존 index 무시"
      ],
      "execution_count": 13,
      "outputs": []
    },
    {
      "cell_type": "code",
      "metadata": {
        "colab": {
          "base_uri": "https://localhost:8080/",
          "height": 419
        },
        "id": "S0BM3DpaeI6E",
        "outputId": "fb8b9548-db40-4886-c1b8-2e6821ddf33b"
      },
      "source": [
        "names"
      ],
      "execution_count": 14,
      "outputs": [
        {
          "output_type": "execute_result",
          "data": {
            "text/html": [
              "<div>\n",
              "<style scoped>\n",
              "    .dataframe tbody tr th:only-of-type {\n",
              "        vertical-align: middle;\n",
              "    }\n",
              "\n",
              "    .dataframe tbody tr th {\n",
              "        vertical-align: top;\n",
              "    }\n",
              "\n",
              "    .dataframe thead th {\n",
              "        text-align: right;\n",
              "    }\n",
              "</style>\n",
              "<table border=\"1\" class=\"dataframe\">\n",
              "  <thead>\n",
              "    <tr style=\"text-align: right;\">\n",
              "      <th></th>\n",
              "      <th>name</th>\n",
              "      <th>sex</th>\n",
              "      <th>births</th>\n",
              "      <th>year</th>\n",
              "    </tr>\n",
              "  </thead>\n",
              "  <tbody>\n",
              "    <tr>\n",
              "      <th>0</th>\n",
              "      <td>Mary</td>\n",
              "      <td>F</td>\n",
              "      <td>7065</td>\n",
              "      <td>1880</td>\n",
              "    </tr>\n",
              "    <tr>\n",
              "      <th>1</th>\n",
              "      <td>Anna</td>\n",
              "      <td>F</td>\n",
              "      <td>2604</td>\n",
              "      <td>1880</td>\n",
              "    </tr>\n",
              "    <tr>\n",
              "      <th>2</th>\n",
              "      <td>Emma</td>\n",
              "      <td>F</td>\n",
              "      <td>2003</td>\n",
              "      <td>1880</td>\n",
              "    </tr>\n",
              "    <tr>\n",
              "      <th>3</th>\n",
              "      <td>Elizabeth</td>\n",
              "      <td>F</td>\n",
              "      <td>1939</td>\n",
              "      <td>1880</td>\n",
              "    </tr>\n",
              "    <tr>\n",
              "      <th>4</th>\n",
              "      <td>Minnie</td>\n",
              "      <td>F</td>\n",
              "      <td>1746</td>\n",
              "      <td>1880</td>\n",
              "    </tr>\n",
              "    <tr>\n",
              "      <th>...</th>\n",
              "      <td>...</td>\n",
              "      <td>...</td>\n",
              "      <td>...</td>\n",
              "      <td>...</td>\n",
              "    </tr>\n",
              "    <tr>\n",
              "      <th>1690779</th>\n",
              "      <td>Zymaire</td>\n",
              "      <td>M</td>\n",
              "      <td>5</td>\n",
              "      <td>2010</td>\n",
              "    </tr>\n",
              "    <tr>\n",
              "      <th>1690780</th>\n",
              "      <td>Zyonne</td>\n",
              "      <td>M</td>\n",
              "      <td>5</td>\n",
              "      <td>2010</td>\n",
              "    </tr>\n",
              "    <tr>\n",
              "      <th>1690781</th>\n",
              "      <td>Zyquarius</td>\n",
              "      <td>M</td>\n",
              "      <td>5</td>\n",
              "      <td>2010</td>\n",
              "    </tr>\n",
              "    <tr>\n",
              "      <th>1690782</th>\n",
              "      <td>Zyran</td>\n",
              "      <td>M</td>\n",
              "      <td>5</td>\n",
              "      <td>2010</td>\n",
              "    </tr>\n",
              "    <tr>\n",
              "      <th>1690783</th>\n",
              "      <td>Zzyzx</td>\n",
              "      <td>M</td>\n",
              "      <td>5</td>\n",
              "      <td>2010</td>\n",
              "    </tr>\n",
              "  </tbody>\n",
              "</table>\n",
              "<p>1690784 rows × 4 columns</p>\n",
              "</div>"
            ],
            "text/plain": [
              "              name sex  births  year\n",
              "0             Mary   F    7065  1880\n",
              "1             Anna   F    2604  1880\n",
              "2             Emma   F    2003  1880\n",
              "3        Elizabeth   F    1939  1880\n",
              "4           Minnie   F    1746  1880\n",
              "...            ...  ..     ...   ...\n",
              "1690779    Zymaire   M       5  2010\n",
              "1690780     Zyonne   M       5  2010\n",
              "1690781  Zyquarius   M       5  2010\n",
              "1690782      Zyran   M       5  2010\n",
              "1690783      Zzyzx   M       5  2010\n",
              "\n",
              "[1690784 rows x 4 columns]"
            ]
          },
          "metadata": {},
          "execution_count": 14
        }
      ]
    },
    {
      "cell_type": "markdown",
      "metadata": {
        "id": "eZHMCw5ue8Sp"
      },
      "source": [
        "* `concat` 메서드는 **DataFrame** 객체를 합쳐줍니다.\n",
        "* `read_csv`로 읽어온 원래 로우 순서는 몰라도 되니 `concat` 메서드에 `ignore_index=True`를 인자로 전달해야 합니다."
      ]
    },
    {
      "cell_type": "markdown",
      "metadata": {
        "id": "5X4FCUANhiU6"
      },
      "source": [
        "---"
      ]
    },
    {
      "cell_type": "markdown",
      "metadata": {
        "id": "5ROoUl6hfiGq"
      },
      "source": [
        "## (1-2) `ignore_index=`❓"
      ]
    },
    {
      "cell_type": "code",
      "metadata": {
        "id": "Rsq-FSndfICM"
      },
      "source": [
        "import numpy as np\n",
        "\n",
        "df1 = pd.DataFrame(np.random.randn(3, 4), columns=['a', 'b', 'c', 'd'])\n",
        "df2 = pd.DataFrame(np.random.randn(2, 3), columns=['b', 'd', 'a'])"
      ],
      "execution_count": 20,
      "outputs": []
    },
    {
      "cell_type": "code",
      "metadata": {
        "colab": {
          "base_uri": "https://localhost:8080/",
          "height": 236
        },
        "id": "zw98XHa0f_Pj",
        "outputId": "a822bcca-3938-4d72-aad1-15205690ab9d"
      },
      "source": [
        "display(df1, df2)"
      ],
      "execution_count": 21,
      "outputs": [
        {
          "output_type": "display_data",
          "data": {
            "text/html": [
              "<div>\n",
              "<style scoped>\n",
              "    .dataframe tbody tr th:only-of-type {\n",
              "        vertical-align: middle;\n",
              "    }\n",
              "\n",
              "    .dataframe tbody tr th {\n",
              "        vertical-align: top;\n",
              "    }\n",
              "\n",
              "    .dataframe thead th {\n",
              "        text-align: right;\n",
              "    }\n",
              "</style>\n",
              "<table border=\"1\" class=\"dataframe\">\n",
              "  <thead>\n",
              "    <tr style=\"text-align: right;\">\n",
              "      <th></th>\n",
              "      <th>a</th>\n",
              "      <th>b</th>\n",
              "      <th>c</th>\n",
              "      <th>d</th>\n",
              "    </tr>\n",
              "  </thead>\n",
              "  <tbody>\n",
              "    <tr>\n",
              "      <th>0</th>\n",
              "      <td>0.540914</td>\n",
              "      <td>-0.864830</td>\n",
              "      <td>-0.679638</td>\n",
              "      <td>-1.641468</td>\n",
              "    </tr>\n",
              "    <tr>\n",
              "      <th>1</th>\n",
              "      <td>-1.333636</td>\n",
              "      <td>-1.350424</td>\n",
              "      <td>-0.612774</td>\n",
              "      <td>1.123787</td>\n",
              "    </tr>\n",
              "    <tr>\n",
              "      <th>2</th>\n",
              "      <td>0.125717</td>\n",
              "      <td>0.098277</td>\n",
              "      <td>2.110555</td>\n",
              "      <td>0.174715</td>\n",
              "    </tr>\n",
              "  </tbody>\n",
              "</table>\n",
              "</div>"
            ],
            "text/plain": [
              "          a         b         c         d\n",
              "0  0.540914 -0.864830 -0.679638 -1.641468\n",
              "1 -1.333636 -1.350424 -0.612774  1.123787\n",
              "2  0.125717  0.098277  2.110555  0.174715"
            ]
          },
          "metadata": {}
        },
        {
          "output_type": "display_data",
          "data": {
            "text/html": [
              "<div>\n",
              "<style scoped>\n",
              "    .dataframe tbody tr th:only-of-type {\n",
              "        vertical-align: middle;\n",
              "    }\n",
              "\n",
              "    .dataframe tbody tr th {\n",
              "        vertical-align: top;\n",
              "    }\n",
              "\n",
              "    .dataframe thead th {\n",
              "        text-align: right;\n",
              "    }\n",
              "</style>\n",
              "<table border=\"1\" class=\"dataframe\">\n",
              "  <thead>\n",
              "    <tr style=\"text-align: right;\">\n",
              "      <th></th>\n",
              "      <th>b</th>\n",
              "      <th>d</th>\n",
              "      <th>a</th>\n",
              "    </tr>\n",
              "  </thead>\n",
              "  <tbody>\n",
              "    <tr>\n",
              "      <th>0</th>\n",
              "      <td>-0.323459</td>\n",
              "      <td>-1.481444</td>\n",
              "      <td>0.544919</td>\n",
              "    </tr>\n",
              "    <tr>\n",
              "      <th>1</th>\n",
              "      <td>0.950553</td>\n",
              "      <td>0.445171</td>\n",
              "      <td>-0.876057</td>\n",
              "    </tr>\n",
              "  </tbody>\n",
              "</table>\n",
              "</div>"
            ],
            "text/plain": [
              "          b         d         a\n",
              "0 -0.323459 -1.481444  0.544919\n",
              "1  0.950553  0.445171 -0.876057"
            ]
          },
          "metadata": {}
        }
      ]
    },
    {
      "cell_type": "code",
      "metadata": {
        "colab": {
          "base_uri": "https://localhost:8080/",
          "height": 204
        },
        "id": "BKqWowgZf4zn",
        "outputId": "e03105fb-019f-4901-88f1-b605f3c15d12"
      },
      "source": [
        "pd.concat([df1, df2], ignore_index=True)"
      ],
      "execution_count": 22,
      "outputs": [
        {
          "output_type": "execute_result",
          "data": {
            "text/html": [
              "<div>\n",
              "<style scoped>\n",
              "    .dataframe tbody tr th:only-of-type {\n",
              "        vertical-align: middle;\n",
              "    }\n",
              "\n",
              "    .dataframe tbody tr th {\n",
              "        vertical-align: top;\n",
              "    }\n",
              "\n",
              "    .dataframe thead th {\n",
              "        text-align: right;\n",
              "    }\n",
              "</style>\n",
              "<table border=\"1\" class=\"dataframe\">\n",
              "  <thead>\n",
              "    <tr style=\"text-align: right;\">\n",
              "      <th></th>\n",
              "      <th>a</th>\n",
              "      <th>b</th>\n",
              "      <th>c</th>\n",
              "      <th>d</th>\n",
              "    </tr>\n",
              "  </thead>\n",
              "  <tbody>\n",
              "    <tr>\n",
              "      <th>0</th>\n",
              "      <td>0.540914</td>\n",
              "      <td>-0.864830</td>\n",
              "      <td>-0.679638</td>\n",
              "      <td>-1.641468</td>\n",
              "    </tr>\n",
              "    <tr>\n",
              "      <th>1</th>\n",
              "      <td>-1.333636</td>\n",
              "      <td>-1.350424</td>\n",
              "      <td>-0.612774</td>\n",
              "      <td>1.123787</td>\n",
              "    </tr>\n",
              "    <tr>\n",
              "      <th>2</th>\n",
              "      <td>0.125717</td>\n",
              "      <td>0.098277</td>\n",
              "      <td>2.110555</td>\n",
              "      <td>0.174715</td>\n",
              "    </tr>\n",
              "    <tr>\n",
              "      <th>3</th>\n",
              "      <td>0.544919</td>\n",
              "      <td>-0.323459</td>\n",
              "      <td>NaN</td>\n",
              "      <td>-1.481444</td>\n",
              "    </tr>\n",
              "    <tr>\n",
              "      <th>4</th>\n",
              "      <td>-0.876057</td>\n",
              "      <td>0.950553</td>\n",
              "      <td>NaN</td>\n",
              "      <td>0.445171</td>\n",
              "    </tr>\n",
              "  </tbody>\n",
              "</table>\n",
              "</div>"
            ],
            "text/plain": [
              "          a         b         c         d\n",
              "0  0.540914 -0.864830 -0.679638 -1.641468\n",
              "1 -1.333636 -1.350424 -0.612774  1.123787\n",
              "2  0.125717  0.098277  2.110555  0.174715\n",
              "3  0.544919 -0.323459       NaN -1.481444\n",
              "4 -0.876057  0.950553       NaN  0.445171"
            ]
          },
          "metadata": {},
          "execution_count": 22
        }
      ]
    },
    {
      "cell_type": "markdown",
      "metadata": {
        "id": "qlfsfIPigQTi"
      },
      "source": [
        "* `ignore_index=True`의 경우는 인덱스가 0~4까지 생성이 됩니다. **기존 인덱스를 무시하기 때문입니다.**"
      ]
    },
    {
      "cell_type": "code",
      "metadata": {
        "colab": {
          "base_uri": "https://localhost:8080/",
          "height": 204
        },
        "id": "3EuxjZAJgG7C",
        "outputId": "6c015a27-26b6-4c18-93f8-b42671639c28"
      },
      "source": [
        "pd.concat([df1, df2], ignore_index=False)"
      ],
      "execution_count": 23,
      "outputs": [
        {
          "output_type": "execute_result",
          "data": {
            "text/html": [
              "<div>\n",
              "<style scoped>\n",
              "    .dataframe tbody tr th:only-of-type {\n",
              "        vertical-align: middle;\n",
              "    }\n",
              "\n",
              "    .dataframe tbody tr th {\n",
              "        vertical-align: top;\n",
              "    }\n",
              "\n",
              "    .dataframe thead th {\n",
              "        text-align: right;\n",
              "    }\n",
              "</style>\n",
              "<table border=\"1\" class=\"dataframe\">\n",
              "  <thead>\n",
              "    <tr style=\"text-align: right;\">\n",
              "      <th></th>\n",
              "      <th>a</th>\n",
              "      <th>b</th>\n",
              "      <th>c</th>\n",
              "      <th>d</th>\n",
              "    </tr>\n",
              "  </thead>\n",
              "  <tbody>\n",
              "    <tr>\n",
              "      <th>0</th>\n",
              "      <td>0.540914</td>\n",
              "      <td>-0.864830</td>\n",
              "      <td>-0.679638</td>\n",
              "      <td>-1.641468</td>\n",
              "    </tr>\n",
              "    <tr>\n",
              "      <th>1</th>\n",
              "      <td>-1.333636</td>\n",
              "      <td>-1.350424</td>\n",
              "      <td>-0.612774</td>\n",
              "      <td>1.123787</td>\n",
              "    </tr>\n",
              "    <tr>\n",
              "      <th>2</th>\n",
              "      <td>0.125717</td>\n",
              "      <td>0.098277</td>\n",
              "      <td>2.110555</td>\n",
              "      <td>0.174715</td>\n",
              "    </tr>\n",
              "    <tr>\n",
              "      <th>0</th>\n",
              "      <td>0.544919</td>\n",
              "      <td>-0.323459</td>\n",
              "      <td>NaN</td>\n",
              "      <td>-1.481444</td>\n",
              "    </tr>\n",
              "    <tr>\n",
              "      <th>1</th>\n",
              "      <td>-0.876057</td>\n",
              "      <td>0.950553</td>\n",
              "      <td>NaN</td>\n",
              "      <td>0.445171</td>\n",
              "    </tr>\n",
              "  </tbody>\n",
              "</table>\n",
              "</div>"
            ],
            "text/plain": [
              "          a         b         c         d\n",
              "0  0.540914 -0.864830 -0.679638 -1.641468\n",
              "1 -1.333636 -1.350424 -0.612774  1.123787\n",
              "2  0.125717  0.098277  2.110555  0.174715\n",
              "0  0.544919 -0.323459       NaN -1.481444\n",
              "1 -0.876057  0.950553       NaN  0.445171"
            ]
          },
          "metadata": {},
          "execution_count": 23
        }
      ]
    },
    {
      "cell_type": "markdown",
      "metadata": {
        "id": "AQV9FYg5gWUp"
      },
      "source": [
        "* `ignore_index=False`의 경우는 인덱스가 0,1,2,0,1로 생성이 됩니다. **기존 인덱스를 무시하지 않기 때문입니다.**<br>\n",
        "[참고자료](https://nittaku.tistory.com/121)"
      ]
    },
    {
      "cell_type": "markdown",
      "metadata": {
        "id": "cX1iNwwdhhgb"
      },
      "source": [
        "---"
      ]
    },
    {
      "cell_type": "markdown",
      "metadata": {
        "id": "nUyEfFRhh00j"
      },
      "source": [
        "## (1-3) 연도나 성별에 따른 데이터 수집"
      ]
    },
    {
      "cell_type": "markdown",
      "metadata": {
        "id": "rw_-XcdjhJuK"
      },
      "source": [
        "* 이제 이 데이터에 `groupby`나 `pivot_table`을 이용해서 연도나 성별에 따른 데이터를 수집할 수 있습니다."
      ]
    },
    {
      "cell_type": "code",
      "metadata": {
        "colab": {
          "base_uri": "https://localhost:8080/",
          "height": 450
        },
        "id": "gQFaF3hNhQM7",
        "outputId": "0b9dc3c7-c1dd-408f-bdff-9c2a27e05215"
      },
      "source": [
        "total_births = names.pivot_table('births', index='year',\n",
        "                                 columns='sex', aggfunc=sum)\n",
        "\n",
        "total_births"
      ],
      "execution_count": 29,
      "outputs": [
        {
          "output_type": "execute_result",
          "data": {
            "text/html": [
              "<div>\n",
              "<style scoped>\n",
              "    .dataframe tbody tr th:only-of-type {\n",
              "        vertical-align: middle;\n",
              "    }\n",
              "\n",
              "    .dataframe tbody tr th {\n",
              "        vertical-align: top;\n",
              "    }\n",
              "\n",
              "    .dataframe thead th {\n",
              "        text-align: right;\n",
              "    }\n",
              "</style>\n",
              "<table border=\"1\" class=\"dataframe\">\n",
              "  <thead>\n",
              "    <tr style=\"text-align: right;\">\n",
              "      <th>sex</th>\n",
              "      <th>F</th>\n",
              "      <th>M</th>\n",
              "    </tr>\n",
              "    <tr>\n",
              "      <th>year</th>\n",
              "      <th></th>\n",
              "      <th></th>\n",
              "    </tr>\n",
              "  </thead>\n",
              "  <tbody>\n",
              "    <tr>\n",
              "      <th>1880</th>\n",
              "      <td>90993</td>\n",
              "      <td>110493</td>\n",
              "    </tr>\n",
              "    <tr>\n",
              "      <th>1881</th>\n",
              "      <td>91955</td>\n",
              "      <td>100748</td>\n",
              "    </tr>\n",
              "    <tr>\n",
              "      <th>1882</th>\n",
              "      <td>107851</td>\n",
              "      <td>113687</td>\n",
              "    </tr>\n",
              "    <tr>\n",
              "      <th>1883</th>\n",
              "      <td>112322</td>\n",
              "      <td>104632</td>\n",
              "    </tr>\n",
              "    <tr>\n",
              "      <th>1884</th>\n",
              "      <td>129021</td>\n",
              "      <td>114445</td>\n",
              "    </tr>\n",
              "    <tr>\n",
              "      <th>...</th>\n",
              "      <td>...</td>\n",
              "      <td>...</td>\n",
              "    </tr>\n",
              "    <tr>\n",
              "      <th>2006</th>\n",
              "      <td>1896468</td>\n",
              "      <td>2050234</td>\n",
              "    </tr>\n",
              "    <tr>\n",
              "      <th>2007</th>\n",
              "      <td>1916888</td>\n",
              "      <td>2069242</td>\n",
              "    </tr>\n",
              "    <tr>\n",
              "      <th>2008</th>\n",
              "      <td>1883645</td>\n",
              "      <td>2032310</td>\n",
              "    </tr>\n",
              "    <tr>\n",
              "      <th>2009</th>\n",
              "      <td>1827643</td>\n",
              "      <td>1973359</td>\n",
              "    </tr>\n",
              "    <tr>\n",
              "      <th>2010</th>\n",
              "      <td>1759010</td>\n",
              "      <td>1898382</td>\n",
              "    </tr>\n",
              "  </tbody>\n",
              "</table>\n",
              "<p>131 rows × 2 columns</p>\n",
              "</div>"
            ],
            "text/plain": [
              "sex         F        M\n",
              "year                  \n",
              "1880    90993   110493\n",
              "1881    91955   100748\n",
              "1882   107851   113687\n",
              "1883   112322   104632\n",
              "1884   129021   114445\n",
              "...       ...      ...\n",
              "2006  1896468  2050234\n",
              "2007  1916888  2069242\n",
              "2008  1883645  2032310\n",
              "2009  1827643  1973359\n",
              "2010  1759010  1898382\n",
              "\n",
              "[131 rows x 2 columns]"
            ]
          },
          "metadata": {},
          "execution_count": 29
        }
      ]
    },
    {
      "cell_type": "code",
      "metadata": {
        "colab": {
          "base_uri": "https://localhost:8080/",
          "height": 314
        },
        "id": "53Oo9tXjii5K",
        "outputId": "e457daf9-a540-463d-f3cd-5a18439313eb"
      },
      "source": [
        "total_births.plot(title='Total births by sex and year')"
      ],
      "execution_count": 28,
      "outputs": [
        {
          "output_type": "execute_result",
          "data": {
            "text/plain": [
              "<matplotlib.axes._subplots.AxesSubplot at 0x7f71fd974190>"
            ]
          },
          "metadata": {},
          "execution_count": 28
        },
        {
          "output_type": "display_data",
          "data": {
            "image/png": "[encoded data removed]",
            "text/plain": [
              "<Figure size 432x288 with 1 Axes>"
            ]
          },
          "metadata": {
            "needs_background": "light"
          }
        }
      ]
    },
    {
      "cell_type": "markdown",
      "metadata": {
        "id": "YktbQ_aSjGJQ"
      },
      "source": [
        "---"
      ]
    },
    {
      "cell_type": "markdown",
      "metadata": {
        "id": "xtvoPlX4i_CS"
      },
      "source": [
        "## (1-4) 각 이름이 출생수에서 차지하는 비율"
      ]
    },
    {
      "cell_type": "markdown",
      "metadata": {
        "id": "1NDCKrZMjnfa"
      },
      "source": [
        "* `prop`(proportion)이라는 컬럼을 추가해서 각 이름이 전체 출생수에서 차지하는 비율을 계산해보겠습니다.\n",
        "* prop값이 0.02라면 100명 중 2명의 이름이 같다는 뜻이 됩니다.\n",
        "* `year`, `sex`로 그룹화하고 진행하겠습니다."
      ]
    },
    {
      "cell_type": "code",
      "metadata": {
        "id": "GaBKGN0JjBwW"
      },
      "source": [
        "def add_prop(group):\n",
        "    group['prop'] = group.births / group.births.sum()\n",
        "    return group\n",
        "\n",
        "names = names.groupby(['year', 'sex']).apply(add_prop)"
      ],
      "execution_count": 30,
      "outputs": []
    },
    {
      "cell_type": "code",
      "metadata": {
        "colab": {
          "base_uri": "https://localhost:8080/",
          "height": 419
        },
        "id": "R7AZkeFgjkmA",
        "outputId": "9898317f-df33-43cc-ed95-0156922544e4"
      },
      "source": [
        "names"
      ],
      "execution_count": 31,
      "outputs": [
        {
          "output_type": "execute_result",
          "data": {
            "text/html": [
              "<div>\n",
              "<style scoped>\n",
              "    .dataframe tbody tr th:only-of-type {\n",
              "        vertical-align: middle;\n",
              "    }\n",
              "\n",
              "    .dataframe tbody tr th {\n",
              "        vertical-align: top;\n",
              "    }\n",
              "\n",
              "    .dataframe thead th {\n",
              "        text-align: right;\n",
              "    }\n",
              "</style>\n",
              "<table border=\"1\" class=\"dataframe\">\n",
              "  <thead>\n",
              "    <tr style=\"text-align: right;\">\n",
              "      <th></th>\n",
              "      <th>name</th>\n",
              "      <th>sex</th>\n",
              "      <th>births</th>\n",
              "      <th>year</th>\n",
              "      <th>prop</th>\n",
              "    </tr>\n",
              "  </thead>\n",
              "  <tbody>\n",
              "    <tr>\n",
              "      <th>0</th>\n",
              "      <td>Mary</td>\n",
              "      <td>F</td>\n",
              "      <td>7065</td>\n",
              "      <td>1880</td>\n",
              "      <td>0.077643</td>\n",
              "    </tr>\n",
              "    <tr>\n",
              "      <th>1</th>\n",
              "      <td>Anna</td>\n",
              "      <td>F</td>\n",
              "      <td>2604</td>\n",
              "      <td>1880</td>\n",
              "      <td>0.028618</td>\n",
              "    </tr>\n",
              "    <tr>\n",
              "      <th>2</th>\n",
              "      <td>Emma</td>\n",
              "      <td>F</td>\n",
              "      <td>2003</td>\n",
              "      <td>1880</td>\n",
              "      <td>0.022013</td>\n",
              "    </tr>\n",
              "    <tr>\n",
              "      <th>3</th>\n",
              "      <td>Elizabeth</td>\n",
              "      <td>F</td>\n",
              "      <td>1939</td>\n",
              "      <td>1880</td>\n",
              "      <td>0.021309</td>\n",
              "    </tr>\n",
              "    <tr>\n",
              "      <th>4</th>\n",
              "      <td>Minnie</td>\n",
              "      <td>F</td>\n",
              "      <td>1746</td>\n",
              "      <td>1880</td>\n",
              "      <td>0.019188</td>\n",
              "    </tr>\n",
              "    <tr>\n",
              "      <th>...</th>\n",
              "      <td>...</td>\n",
              "      <td>...</td>\n",
              "      <td>...</td>\n",
              "      <td>...</td>\n",
              "      <td>...</td>\n",
              "    </tr>\n",
              "    <tr>\n",
              "      <th>1690779</th>\n",
              "      <td>Zymaire</td>\n",
              "      <td>M</td>\n",
              "      <td>5</td>\n",
              "      <td>2010</td>\n",
              "      <td>0.000003</td>\n",
              "    </tr>\n",
              "    <tr>\n",
              "      <th>1690780</th>\n",
              "      <td>Zyonne</td>\n",
              "      <td>M</td>\n",
              "      <td>5</td>\n",
              "      <td>2010</td>\n",
              "      <td>0.000003</td>\n",
              "    </tr>\n",
              "    <tr>\n",
              "      <th>1690781</th>\n",
              "      <td>Zyquarius</td>\n",
              "      <td>M</td>\n",
              "      <td>5</td>\n",
              "      <td>2010</td>\n",
              "      <td>0.000003</td>\n",
              "    </tr>\n",
              "    <tr>\n",
              "      <th>1690782</th>\n",
              "      <td>Zyran</td>\n",
              "      <td>M</td>\n",
              "      <td>5</td>\n",
              "      <td>2010</td>\n",
              "      <td>0.000003</td>\n",
              "    </tr>\n",
              "    <tr>\n",
              "      <th>1690783</th>\n",
              "      <td>Zzyzx</td>\n",
              "      <td>M</td>\n",
              "      <td>5</td>\n",
              "      <td>2010</td>\n",
              "      <td>0.000003</td>\n",
              "    </tr>\n",
              "  </tbody>\n",
              "</table>\n",
              "<p>1690784 rows × 5 columns</p>\n",
              "</div>"
            ],
            "text/plain": [
              "              name sex  births  year      prop\n",
              "0             Mary   F    7065  1880  0.077643\n",
              "1             Anna   F    2604  1880  0.028618\n",
              "2             Emma   F    2003  1880  0.022013\n",
              "3        Elizabeth   F    1939  1880  0.021309\n",
              "4           Minnie   F    1746  1880  0.019188\n",
              "...            ...  ..     ...   ...       ...\n",
              "1690779    Zymaire   M       5  2010  0.000003\n",
              "1690780     Zyonne   M       5  2010  0.000003\n",
              "1690781  Zyquarius   M       5  2010  0.000003\n",
              "1690782      Zyran   M       5  2010  0.000003\n",
              "1690783      Zzyzx   M       5  2010  0.000003\n",
              "\n",
              "[1690784 rows x 5 columns]"
            ]
          },
          "metadata": {},
          "execution_count": 31
        }
      ]
    },
    {
      "cell_type": "markdown",
      "metadata": {
        "id": "6p0tZKNNkRgi"
      },
      "source": [
        "* 그룹 관련 연산을 수행할 때는 모든 그룹에서 `prop` 컬럼의 합이 1이 맞는지 확인하는 **새너티 테스트**를 하는 게 좋습니다.\n",
        "\n",
        "* **새너티 테스트**: 버그가 수정되었고, 이러한 변경으로 인해 추가로 문제가 발생하지 않는지 확인하기 위한 작업<br>\n",
        "[참고자료-새너티 테스트](total_births.tail())"
      ]
    },
    {
      "cell_type": "code",
      "metadata": {
        "colab": {
          "base_uri": "https://localhost:8080/"
        },
        "id": "D8RsTf4-kX1T",
        "outputId": "22ba8504-fa87-4768-856c-410788ac483d"
      },
      "source": [
        "names.groupby(['year', 'sex']).prop.sum()"
      ],
      "execution_count": 32,
      "outputs": [
        {
          "output_type": "execute_result",
          "data": {
            "text/plain": [
              "year  sex\n",
              "1880  F      1.0\n",
              "      M      1.0\n",
              "1881  F      1.0\n",
              "      M      1.0\n",
              "1882  F      1.0\n",
              "            ... \n",
              "2008  M      1.0\n",
              "2009  F      1.0\n",
              "      M      1.0\n",
              "2010  F      1.0\n",
              "      M      1.0\n",
              "Name: prop, Length: 262, dtype: float64"
            ]
          },
          "metadata": {},
          "execution_count": 32
        }
      ]
    },
    {
      "cell_type": "markdown",
      "metadata": {
        "id": "maRTBZ37k4mK"
      },
      "source": [
        "* 모두 1이 나오는 것을 확인할 수 있습니다."
      ]
    },
    {
      "cell_type": "markdown",
      "metadata": {
        "id": "-1yyK1DDl2jL"
      },
      "source": [
        "## (1-5) 선호하는 이름 1,000개 추출"
      ]
    },
    {
      "cell_type": "code",
      "metadata": {
        "id": "liTABYsUk6Jm"
      },
      "source": [
        "def get_top1000(group):\n",
        "    return group.sort_values(by='births', ascending=False)[:1000]\n",
        "\n",
        "grouped = names.groupby(['year', 'sex'])\n",
        "top1000 = grouped.apply(get_top1000)"
      ],
      "execution_count": 35,
      "outputs": []
    },
    {
      "cell_type": "code",
      "metadata": {
        "colab": {
          "base_uri": "https://localhost:8080/",
          "height": 450
        },
        "id": "-dmbHN5DlThb",
        "outputId": "54deea9d-c52f-419f-960a-b4a3afc66de9"
      },
      "source": [
        "top1000"
      ],
      "execution_count": 36,
      "outputs": [
        {
          "output_type": "execute_result",
          "data": {
            "text/html": [
              "<div>\n",
              "<style scoped>\n",
              "    .dataframe tbody tr th:only-of-type {\n",
              "        vertical-align: middle;\n",
              "    }\n",
              "\n",
              "    .dataframe tbody tr th {\n",
              "        vertical-align: top;\n",
              "    }\n",
              "\n",
              "    .dataframe thead th {\n",
              "        text-align: right;\n",
              "    }\n",
              "</style>\n",
              "<table border=\"1\" class=\"dataframe\">\n",
              "  <thead>\n",
              "    <tr style=\"text-align: right;\">\n",
              "      <th></th>\n",
              "      <th></th>\n",
              "      <th></th>\n",
              "      <th>name</th>\n",
              "      <th>sex</th>\n",
              "      <th>births</th>\n",
              "      <th>year</th>\n",
              "      <th>prop</th>\n",
              "    </tr>\n",
              "    <tr>\n",
              "      <th>year</th>\n",
              "      <th>sex</th>\n",
              "      <th></th>\n",
              "      <th></th>\n",
              "      <th></th>\n",
              "      <th></th>\n",
              "      <th></th>\n",
              "      <th></th>\n",
              "    </tr>\n",
              "  </thead>\n",
              "  <tbody>\n",
              "    <tr>\n",
              "      <th rowspan=\"5\" valign=\"top\">1880</th>\n",
              "      <th rowspan=\"5\" valign=\"top\">F</th>\n",
              "      <th>0</th>\n",
              "      <td>Mary</td>\n",
              "      <td>F</td>\n",
              "      <td>7065</td>\n",
              "      <td>1880</td>\n",
              "      <td>0.077643</td>\n",
              "    </tr>\n",
              "    <tr>\n",
              "      <th>1</th>\n",
              "      <td>Anna</td>\n",
              "      <td>F</td>\n",
              "      <td>2604</td>\n",
              "      <td>1880</td>\n",
              "      <td>0.028618</td>\n",
              "    </tr>\n",
              "    <tr>\n",
              "      <th>2</th>\n",
              "      <td>Emma</td>\n",
              "      <td>F</td>\n",
              "      <td>2003</td>\n",
              "      <td>1880</td>\n",
              "      <td>0.022013</td>\n",
              "    </tr>\n",
              "    <tr>\n",
              "      <th>3</th>\n",
              "      <td>Elizabeth</td>\n",
              "      <td>F</td>\n",
              "      <td>1939</td>\n",
              "      <td>1880</td>\n",
              "      <td>0.021309</td>\n",
              "    </tr>\n",
              "    <tr>\n",
              "      <th>4</th>\n",
              "      <td>Minnie</td>\n",
              "      <td>F</td>\n",
              "      <td>1746</td>\n",
              "      <td>1880</td>\n",
              "      <td>0.019188</td>\n",
              "    </tr>\n",
              "    <tr>\n",
              "      <th>...</th>\n",
              "      <th>...</th>\n",
              "      <th>...</th>\n",
              "      <td>...</td>\n",
              "      <td>...</td>\n",
              "      <td>...</td>\n",
              "      <td>...</td>\n",
              "      <td>...</td>\n",
              "    </tr>\n",
              "    <tr>\n",
              "      <th rowspan=\"5\" valign=\"top\">2010</th>\n",
              "      <th rowspan=\"5\" valign=\"top\">M</th>\n",
              "      <th>1677639</th>\n",
              "      <td>Camilo</td>\n",
              "      <td>M</td>\n",
              "      <td>194</td>\n",
              "      <td>2010</td>\n",
              "      <td>0.000102</td>\n",
              "    </tr>\n",
              "    <tr>\n",
              "      <th>1677640</th>\n",
              "      <td>Destin</td>\n",
              "      <td>M</td>\n",
              "      <td>194</td>\n",
              "      <td>2010</td>\n",
              "      <td>0.000102</td>\n",
              "    </tr>\n",
              "    <tr>\n",
              "      <th>1677641</th>\n",
              "      <td>Jaquan</td>\n",
              "      <td>M</td>\n",
              "      <td>194</td>\n",
              "      <td>2010</td>\n",
              "      <td>0.000102</td>\n",
              "    </tr>\n",
              "    <tr>\n",
              "      <th>1677642</th>\n",
              "      <td>Jaydan</td>\n",
              "      <td>M</td>\n",
              "      <td>194</td>\n",
              "      <td>2010</td>\n",
              "      <td>0.000102</td>\n",
              "    </tr>\n",
              "    <tr>\n",
              "      <th>1677645</th>\n",
              "      <td>Maxton</td>\n",
              "      <td>M</td>\n",
              "      <td>193</td>\n",
              "      <td>2010</td>\n",
              "      <td>0.000102</td>\n",
              "    </tr>\n",
              "  </tbody>\n",
              "</table>\n",
              "<p>261877 rows × 5 columns</p>\n",
              "</div>"
            ],
            "text/plain": [
              "                       name sex  births  year      prop\n",
              "year sex                                               \n",
              "1880 F   0             Mary   F    7065  1880  0.077643\n",
              "         1             Anna   F    2604  1880  0.028618\n",
              "         2             Emma   F    2003  1880  0.022013\n",
              "         3        Elizabeth   F    1939  1880  0.021309\n",
              "         4           Minnie   F    1746  1880  0.019188\n",
              "...                     ...  ..     ...   ...       ...\n",
              "2010 M   1677639     Camilo   M     194  2010  0.000102\n",
              "         1677640     Destin   M     194  2010  0.000102\n",
              "         1677641     Jaquan   M     194  2010  0.000102\n",
              "         1677642     Jaydan   M     194  2010  0.000102\n",
              "         1677645     Maxton   M     193  2010  0.000102\n",
              "\n",
              "[261877 rows x 5 columns]"
            ]
          },
          "metadata": {},
          "execution_count": 36
        }
      ]
    },
    {
      "cell_type": "code",
      "metadata": {
        "id": "FxD8qLEvlsCz"
      },
      "source": [
        "# 그룹 색인은 필요 없으므로 삭제시킵니다.\n",
        "top1000.reset_index(inplace=True, drop=True)"
      ],
      "execution_count": 37,
      "outputs": []
    },
    {
      "cell_type": "code",
      "metadata": {
        "colab": {
          "base_uri": "https://localhost:8080/",
          "height": 419
        },
        "id": "TFTDNW0WltFM",
        "outputId": "ec903d3d-e8e2-4ace-c51c-57932d854a90"
      },
      "source": [
        "top1000"
      ],
      "execution_count": 38,
      "outputs": [
        {
          "output_type": "execute_result",
          "data": {
            "text/html": [
              "<div>\n",
              "<style scoped>\n",
              "    .dataframe tbody tr th:only-of-type {\n",
              "        vertical-align: middle;\n",
              "    }\n",
              "\n",
              "    .dataframe tbody tr th {\n",
              "        vertical-align: top;\n",
              "    }\n",
              "\n",
              "    .dataframe thead th {\n",
              "        text-align: right;\n",
              "    }\n",
              "</style>\n",
              "<table border=\"1\" class=\"dataframe\">\n",
              "  <thead>\n",
              "    <tr style=\"text-align: right;\">\n",
              "      <th></th>\n",
              "      <th>name</th>\n",
              "      <th>sex</th>\n",
              "      <th>births</th>\n",
              "      <th>year</th>\n",
              "      <th>prop</th>\n",
              "    </tr>\n",
              "  </thead>\n",
              "  <tbody>\n",
              "    <tr>\n",
              "      <th>0</th>\n",
              "      <td>Mary</td>\n",
              "      <td>F</td>\n",
              "      <td>7065</td>\n",
              "      <td>1880</td>\n",
              "      <td>0.077643</td>\n",
              "    </tr>\n",
              "    <tr>\n",
              "      <th>1</th>\n",
              "      <td>Anna</td>\n",
              "      <td>F</td>\n",
              "      <td>2604</td>\n",
              "      <td>1880</td>\n",
              "      <td>0.028618</td>\n",
              "    </tr>\n",
              "    <tr>\n",
              "      <th>2</th>\n",
              "      <td>Emma</td>\n",
              "      <td>F</td>\n",
              "      <td>2003</td>\n",
              "      <td>1880</td>\n",
              "      <td>0.022013</td>\n",
              "    </tr>\n",
              "    <tr>\n",
              "      <th>3</th>\n",
              "      <td>Elizabeth</td>\n",
              "      <td>F</td>\n",
              "      <td>1939</td>\n",
              "      <td>1880</td>\n",
              "      <td>0.021309</td>\n",
              "    </tr>\n",
              "    <tr>\n",
              "      <th>4</th>\n",
              "      <td>Minnie</td>\n",
              "      <td>F</td>\n",
              "      <td>1746</td>\n",
              "      <td>1880</td>\n",
              "      <td>0.019188</td>\n",
              "    </tr>\n",
              "    <tr>\n",
              "      <th>...</th>\n",
              "      <td>...</td>\n",
              "      <td>...</td>\n",
              "      <td>...</td>\n",
              "      <td>...</td>\n",
              "      <td>...</td>\n",
              "    </tr>\n",
              "    <tr>\n",
              "      <th>261872</th>\n",
              "      <td>Camilo</td>\n",
              "      <td>M</td>\n",
              "      <td>194</td>\n",
              "      <td>2010</td>\n",
              "      <td>0.000102</td>\n",
              "    </tr>\n",
              "    <tr>\n",
              "      <th>261873</th>\n",
              "      <td>Destin</td>\n",
              "      <td>M</td>\n",
              "      <td>194</td>\n",
              "      <td>2010</td>\n",
              "      <td>0.000102</td>\n",
              "    </tr>\n",
              "    <tr>\n",
              "      <th>261874</th>\n",
              "      <td>Jaquan</td>\n",
              "      <td>M</td>\n",
              "      <td>194</td>\n",
              "      <td>2010</td>\n",
              "      <td>0.000102</td>\n",
              "    </tr>\n",
              "    <tr>\n",
              "      <th>261875</th>\n",
              "      <td>Jaydan</td>\n",
              "      <td>M</td>\n",
              "      <td>194</td>\n",
              "      <td>2010</td>\n",
              "      <td>0.000102</td>\n",
              "    </tr>\n",
              "    <tr>\n",
              "      <th>261876</th>\n",
              "      <td>Maxton</td>\n",
              "      <td>M</td>\n",
              "      <td>193</td>\n",
              "      <td>2010</td>\n",
              "      <td>0.000102</td>\n",
              "    </tr>\n",
              "  </tbody>\n",
              "</table>\n",
              "<p>261877 rows × 5 columns</p>\n",
              "</div>"
            ],
            "text/plain": [
              "             name sex  births  year      prop\n",
              "0            Mary   F    7065  1880  0.077643\n",
              "1            Anna   F    2604  1880  0.028618\n",
              "2            Emma   F    2003  1880  0.022013\n",
              "3       Elizabeth   F    1939  1880  0.021309\n",
              "4          Minnie   F    1746  1880  0.019188\n",
              "...           ...  ..     ...   ...       ...\n",
              "261872     Camilo   M     194  2010  0.000102\n",
              "261873     Destin   M     194  2010  0.000102\n",
              "261874     Jaquan   M     194  2010  0.000102\n",
              "261875     Jaydan   M     194  2010  0.000102\n",
              "261876     Maxton   M     193  2010  0.000102\n",
              "\n",
              "[261877 rows x 5 columns]"
            ]
          },
          "metadata": {},
          "execution_count": 38
        }
      ]
    },
    {
      "cell_type": "markdown",
      "metadata": {
        "id": "KId34SPnmHGN"
      },
      "source": [
        "---"
      ]
    },
    {
      "cell_type": "markdown",
      "metadata": {
        "id": "Tw3KUYi3mH22"
      },
      "source": [
        "# (2) 이름 유행 분석\n",
        "\n",
        "* 전체 데이터셋과 상위 1,000개의 이름 데이터로 흥미로운 이름 유행을 분석해보겠습니다.\n",
        "* 먼저 상위 1,000개의 데이터를 남자아이와 여자아이로 분리하겠습니다."
      ]
    },
    {
      "cell_type": "code",
      "metadata": {
        "id": "Wo3HDkAHmHZM"
      },
      "source": [
        "boys = top1000[top1000.sex == 'M']\n",
        "girls = top1000[top1000.sex == 'F']"
      ],
      "execution_count": 39,
      "outputs": []
    },
    {
      "cell_type": "markdown",
      "metadata": {
        "id": "aczvHTkPmjTj"
      },
      "source": [
        "* 연도와 이름에 대한 전체 출생수를 피벗테이블로 만들겠습니다."
      ]
    },
    {
      "cell_type": "code",
      "metadata": {
        "id": "1hIegqptmims"
      },
      "source": [
        "total_births = top1000.pivot_table('births', index='year',\n",
        "                                   columns='name',\n",
        "                                   aggfunc=sum)"
      ],
      "execution_count": 40,
      "outputs": []
    },
    {
      "cell_type": "code",
      "metadata": {
        "colab": {
          "base_uri": "https://localhost:8080/",
          "height": 336
        },
        "id": "zUhBw0hBmo67",
        "outputId": "1a21a84a-d9d1-438b-f8fb-199c593b265c"
      },
      "source": [
        "display(total_births.info(), total_births.head(3))"
      ],
      "execution_count": 47,
      "outputs": [
        {
          "output_type": "stream",
          "text": [
            "<class 'pandas.core.frame.DataFrame'>\n",
            "Int64Index: 131 entries, 1880 to 2010\n",
            "Columns: 6868 entries, Aaden to Zuri\n",
            "dtypes: float64(6868)\n",
            "memory usage: 6.9 MB\n"
          ],
          "name": "stdout"
        },
        {
          "output_type": "display_data",
          "data": {
            "text/plain": [
              "None"
            ]
          },
          "metadata": {}
        },
        {
          "output_type": "display_data",
          "data": {
            "text/html": [
              "<div>\n",
              "<style scoped>\n",
              "    .dataframe tbody tr th:only-of-type {\n",
              "        vertical-align: middle;\n",
              "    }\n",
              "\n",
              "    .dataframe tbody tr th {\n",
              "        vertical-align: top;\n",
              "    }\n",
              "\n",
              "    .dataframe thead th {\n",
              "        text-align: right;\n",
              "    }\n",
              "</style>\n",
              "<table border=\"1\" class=\"dataframe\">\n",
              "  <thead>\n",
              "    <tr style=\"text-align: right;\">\n",
              "      <th>name</th>\n",
              "      <th>Aaden</th>\n",
              "      <th>Aaliyah</th>\n",
              "      <th>Aarav</th>\n",
              "      <th>Aaron</th>\n",
              "      <th>Aarush</th>\n",
              "      <th>Ab</th>\n",
              "      <th>Abagail</th>\n",
              "      <th>Abb</th>\n",
              "      <th>Abbey</th>\n",
              "      <th>Abbie</th>\n",
              "      <th>Abbigail</th>\n",
              "      <th>Abbott</th>\n",
              "      <th>Abby</th>\n",
              "      <th>Abdiel</th>\n",
              "      <th>Abdul</th>\n",
              "      <th>Abdullah</th>\n",
              "      <th>Abe</th>\n",
              "      <th>Abel</th>\n",
              "      <th>Abelardo</th>\n",
              "      <th>Abigail</th>\n",
              "      <th>Abigale</th>\n",
              "      <th>Abigayle</th>\n",
              "      <th>Abner</th>\n",
              "      <th>Abraham</th>\n",
              "      <th>Abram</th>\n",
              "      <th>Abril</th>\n",
              "      <th>Ace</th>\n",
              "      <th>Acie</th>\n",
              "      <th>Ada</th>\n",
              "      <th>Adah</th>\n",
              "      <th>Adalberto</th>\n",
              "      <th>Adaline</th>\n",
              "      <th>Adalyn</th>\n",
              "      <th>Adalynn</th>\n",
              "      <th>Adam</th>\n",
              "      <th>Adamaris</th>\n",
              "      <th>Adams</th>\n",
              "      <th>Adan</th>\n",
              "      <th>Adda</th>\n",
              "      <th>Addie</th>\n",
              "      <th>...</th>\n",
              "      <th>Zayden</th>\n",
              "      <th>Zayne</th>\n",
              "      <th>Zeb</th>\n",
              "      <th>Zebulon</th>\n",
              "      <th>Zechariah</th>\n",
              "      <th>Zed</th>\n",
              "      <th>Zeke</th>\n",
              "      <th>Zela</th>\n",
              "      <th>Zelda</th>\n",
              "      <th>Zelia</th>\n",
              "      <th>Zella</th>\n",
              "      <th>Zelma</th>\n",
              "      <th>Zelpha</th>\n",
              "      <th>Zena</th>\n",
              "      <th>Zenas</th>\n",
              "      <th>Zenia</th>\n",
              "      <th>Zennie</th>\n",
              "      <th>Zeno</th>\n",
              "      <th>Zenobia</th>\n",
              "      <th>Zeta</th>\n",
              "      <th>Zetta</th>\n",
              "      <th>Zettie</th>\n",
              "      <th>Zhane</th>\n",
              "      <th>Zigmund</th>\n",
              "      <th>Zillah</th>\n",
              "      <th>Zilpah</th>\n",
              "      <th>Zilpha</th>\n",
              "      <th>Zina</th>\n",
              "      <th>Zion</th>\n",
              "      <th>Zita</th>\n",
              "      <th>Zoa</th>\n",
              "      <th>Zoe</th>\n",
              "      <th>Zoey</th>\n",
              "      <th>Zoie</th>\n",
              "      <th>Zola</th>\n",
              "      <th>Zollie</th>\n",
              "      <th>Zona</th>\n",
              "      <th>Zora</th>\n",
              "      <th>Zula</th>\n",
              "      <th>Zuri</th>\n",
              "    </tr>\n",
              "    <tr>\n",
              "      <th>year</th>\n",
              "      <th></th>\n",
              "      <th></th>\n",
              "      <th></th>\n",
              "      <th></th>\n",
              "      <th></th>\n",
              "      <th></th>\n",
              "      <th></th>\n",
              "      <th></th>\n",
              "      <th></th>\n",
              "      <th></th>\n",
              "      <th></th>\n",
              "      <th></th>\n",
              "      <th></th>\n",
              "      <th></th>\n",
              "      <th></th>\n",
              "      <th></th>\n",
              "      <th></th>\n",
              "      <th></th>\n",
              "      <th></th>\n",
              "      <th></th>\n",
              "      <th></th>\n",
              "      <th></th>\n",
              "      <th></th>\n",
              "      <th></th>\n",
              "      <th></th>\n",
              "      <th></th>\n",
              "      <th></th>\n",
              "      <th></th>\n",
              "      <th></th>\n",
              "      <th></th>\n",
              "      <th></th>\n",
              "      <th></th>\n",
              "      <th></th>\n",
              "      <th></th>\n",
              "      <th></th>\n",
              "      <th></th>\n",
              "      <th></th>\n",
              "      <th></th>\n",
              "      <th></th>\n",
              "      <th></th>\n",
              "      <th></th>\n",
              "      <th></th>\n",
              "      <th></th>\n",
              "      <th></th>\n",
              "      <th></th>\n",
              "      <th></th>\n",
              "      <th></th>\n",
              "      <th></th>\n",
              "      <th></th>\n",
              "      <th></th>\n",
              "      <th></th>\n",
              "      <th></th>\n",
              "      <th></th>\n",
              "      <th></th>\n",
              "      <th></th>\n",
              "      <th></th>\n",
              "      <th></th>\n",
              "      <th></th>\n",
              "      <th></th>\n",
              "      <th></th>\n",
              "      <th></th>\n",
              "      <th></th>\n",
              "      <th></th>\n",
              "      <th></th>\n",
              "      <th></th>\n",
              "      <th></th>\n",
              "      <th></th>\n",
              "      <th></th>\n",
              "      <th></th>\n",
              "      <th></th>\n",
              "      <th></th>\n",
              "      <th></th>\n",
              "      <th></th>\n",
              "      <th></th>\n",
              "      <th></th>\n",
              "      <th></th>\n",
              "      <th></th>\n",
              "      <th></th>\n",
              "      <th></th>\n",
              "      <th></th>\n",
              "      <th></th>\n",
              "    </tr>\n",
              "  </thead>\n",
              "  <tbody>\n",
              "    <tr>\n",
              "      <th>1880</th>\n",
              "      <td>NaN</td>\n",
              "      <td>NaN</td>\n",
              "      <td>NaN</td>\n",
              "      <td>102.0</td>\n",
              "      <td>NaN</td>\n",
              "      <td>NaN</td>\n",
              "      <td>NaN</td>\n",
              "      <td>NaN</td>\n",
              "      <td>NaN</td>\n",
              "      <td>71.0</td>\n",
              "      <td>NaN</td>\n",
              "      <td>NaN</td>\n",
              "      <td>6.0</td>\n",
              "      <td>NaN</td>\n",
              "      <td>NaN</td>\n",
              "      <td>NaN</td>\n",
              "      <td>50.0</td>\n",
              "      <td>9.0</td>\n",
              "      <td>NaN</td>\n",
              "      <td>12.0</td>\n",
              "      <td>NaN</td>\n",
              "      <td>NaN</td>\n",
              "      <td>27.0</td>\n",
              "      <td>81.0</td>\n",
              "      <td>21.0</td>\n",
              "      <td>NaN</td>\n",
              "      <td>NaN</td>\n",
              "      <td>NaN</td>\n",
              "      <td>652.0</td>\n",
              "      <td>24.0</td>\n",
              "      <td>NaN</td>\n",
              "      <td>23.0</td>\n",
              "      <td>NaN</td>\n",
              "      <td>NaN</td>\n",
              "      <td>104.0</td>\n",
              "      <td>NaN</td>\n",
              "      <td>NaN</td>\n",
              "      <td>NaN</td>\n",
              "      <td>14.0</td>\n",
              "      <td>282.0</td>\n",
              "      <td>...</td>\n",
              "      <td>NaN</td>\n",
              "      <td>NaN</td>\n",
              "      <td>10.0</td>\n",
              "      <td>NaN</td>\n",
              "      <td>NaN</td>\n",
              "      <td>NaN</td>\n",
              "      <td>6.0</td>\n",
              "      <td>NaN</td>\n",
              "      <td>6.0</td>\n",
              "      <td>NaN</td>\n",
              "      <td>31.0</td>\n",
              "      <td>19.0</td>\n",
              "      <td>NaN</td>\n",
              "      <td>7.0</td>\n",
              "      <td>NaN</td>\n",
              "      <td>NaN</td>\n",
              "      <td>NaN</td>\n",
              "      <td>NaN</td>\n",
              "      <td>NaN</td>\n",
              "      <td>NaN</td>\n",
              "      <td>8.0</td>\n",
              "      <td>NaN</td>\n",
              "      <td>NaN</td>\n",
              "      <td>NaN</td>\n",
              "      <td>NaN</td>\n",
              "      <td>NaN</td>\n",
              "      <td>6.0</td>\n",
              "      <td>NaN</td>\n",
              "      <td>NaN</td>\n",
              "      <td>NaN</td>\n",
              "      <td>8.0</td>\n",
              "      <td>23.0</td>\n",
              "      <td>NaN</td>\n",
              "      <td>NaN</td>\n",
              "      <td>7.0</td>\n",
              "      <td>NaN</td>\n",
              "      <td>8.0</td>\n",
              "      <td>28.0</td>\n",
              "      <td>27.0</td>\n",
              "      <td>NaN</td>\n",
              "    </tr>\n",
              "    <tr>\n",
              "      <th>1881</th>\n",
              "      <td>NaN</td>\n",
              "      <td>NaN</td>\n",
              "      <td>NaN</td>\n",
              "      <td>94.0</td>\n",
              "      <td>NaN</td>\n",
              "      <td>NaN</td>\n",
              "      <td>NaN</td>\n",
              "      <td>NaN</td>\n",
              "      <td>NaN</td>\n",
              "      <td>81.0</td>\n",
              "      <td>NaN</td>\n",
              "      <td>NaN</td>\n",
              "      <td>7.0</td>\n",
              "      <td>NaN</td>\n",
              "      <td>NaN</td>\n",
              "      <td>NaN</td>\n",
              "      <td>36.0</td>\n",
              "      <td>12.0</td>\n",
              "      <td>NaN</td>\n",
              "      <td>8.0</td>\n",
              "      <td>NaN</td>\n",
              "      <td>NaN</td>\n",
              "      <td>30.0</td>\n",
              "      <td>86.0</td>\n",
              "      <td>30.0</td>\n",
              "      <td>NaN</td>\n",
              "      <td>NaN</td>\n",
              "      <td>6.0</td>\n",
              "      <td>628.0</td>\n",
              "      <td>29.0</td>\n",
              "      <td>NaN</td>\n",
              "      <td>18.0</td>\n",
              "      <td>NaN</td>\n",
              "      <td>NaN</td>\n",
              "      <td>116.0</td>\n",
              "      <td>NaN</td>\n",
              "      <td>NaN</td>\n",
              "      <td>NaN</td>\n",
              "      <td>20.0</td>\n",
              "      <td>294.0</td>\n",
              "      <td>...</td>\n",
              "      <td>NaN</td>\n",
              "      <td>NaN</td>\n",
              "      <td>10.0</td>\n",
              "      <td>NaN</td>\n",
              "      <td>NaN</td>\n",
              "      <td>NaN</td>\n",
              "      <td>NaN</td>\n",
              "      <td>NaN</td>\n",
              "      <td>NaN</td>\n",
              "      <td>NaN</td>\n",
              "      <td>38.0</td>\n",
              "      <td>17.0</td>\n",
              "      <td>NaN</td>\n",
              "      <td>6.0</td>\n",
              "      <td>NaN</td>\n",
              "      <td>NaN</td>\n",
              "      <td>NaN</td>\n",
              "      <td>NaN</td>\n",
              "      <td>6.0</td>\n",
              "      <td>NaN</td>\n",
              "      <td>7.0</td>\n",
              "      <td>NaN</td>\n",
              "      <td>NaN</td>\n",
              "      <td>NaN</td>\n",
              "      <td>7.0</td>\n",
              "      <td>9.0</td>\n",
              "      <td>6.0</td>\n",
              "      <td>NaN</td>\n",
              "      <td>NaN</td>\n",
              "      <td>NaN</td>\n",
              "      <td>NaN</td>\n",
              "      <td>22.0</td>\n",
              "      <td>NaN</td>\n",
              "      <td>NaN</td>\n",
              "      <td>10.0</td>\n",
              "      <td>NaN</td>\n",
              "      <td>9.0</td>\n",
              "      <td>21.0</td>\n",
              "      <td>27.0</td>\n",
              "      <td>NaN</td>\n",
              "    </tr>\n",
              "    <tr>\n",
              "      <th>1882</th>\n",
              "      <td>NaN</td>\n",
              "      <td>NaN</td>\n",
              "      <td>NaN</td>\n",
              "      <td>85.0</td>\n",
              "      <td>NaN</td>\n",
              "      <td>NaN</td>\n",
              "      <td>NaN</td>\n",
              "      <td>NaN</td>\n",
              "      <td>NaN</td>\n",
              "      <td>80.0</td>\n",
              "      <td>NaN</td>\n",
              "      <td>NaN</td>\n",
              "      <td>11.0</td>\n",
              "      <td>NaN</td>\n",
              "      <td>NaN</td>\n",
              "      <td>NaN</td>\n",
              "      <td>50.0</td>\n",
              "      <td>10.0</td>\n",
              "      <td>NaN</td>\n",
              "      <td>14.0</td>\n",
              "      <td>NaN</td>\n",
              "      <td>NaN</td>\n",
              "      <td>32.0</td>\n",
              "      <td>91.0</td>\n",
              "      <td>25.0</td>\n",
              "      <td>NaN</td>\n",
              "      <td>8.0</td>\n",
              "      <td>NaN</td>\n",
              "      <td>689.0</td>\n",
              "      <td>27.0</td>\n",
              "      <td>NaN</td>\n",
              "      <td>16.0</td>\n",
              "      <td>NaN</td>\n",
              "      <td>NaN</td>\n",
              "      <td>114.0</td>\n",
              "      <td>NaN</td>\n",
              "      <td>NaN</td>\n",
              "      <td>NaN</td>\n",
              "      <td>17.0</td>\n",
              "      <td>347.0</td>\n",
              "      <td>...</td>\n",
              "      <td>NaN</td>\n",
              "      <td>NaN</td>\n",
              "      <td>10.0</td>\n",
              "      <td>NaN</td>\n",
              "      <td>NaN</td>\n",
              "      <td>NaN</td>\n",
              "      <td>NaN</td>\n",
              "      <td>NaN</td>\n",
              "      <td>6.0</td>\n",
              "      <td>NaN</td>\n",
              "      <td>50.0</td>\n",
              "      <td>21.0</td>\n",
              "      <td>NaN</td>\n",
              "      <td>6.0</td>\n",
              "      <td>NaN</td>\n",
              "      <td>NaN</td>\n",
              "      <td>NaN</td>\n",
              "      <td>NaN</td>\n",
              "      <td>7.0</td>\n",
              "      <td>NaN</td>\n",
              "      <td>7.0</td>\n",
              "      <td>NaN</td>\n",
              "      <td>NaN</td>\n",
              "      <td>NaN</td>\n",
              "      <td>NaN</td>\n",
              "      <td>NaN</td>\n",
              "      <td>NaN</td>\n",
              "      <td>NaN</td>\n",
              "      <td>NaN</td>\n",
              "      <td>6.0</td>\n",
              "      <td>8.0</td>\n",
              "      <td>25.0</td>\n",
              "      <td>NaN</td>\n",
              "      <td>NaN</td>\n",
              "      <td>9.0</td>\n",
              "      <td>NaN</td>\n",
              "      <td>17.0</td>\n",
              "      <td>32.0</td>\n",
              "      <td>21.0</td>\n",
              "      <td>NaN</td>\n",
              "    </tr>\n",
              "  </tbody>\n",
              "</table>\n",
              "<p>3 rows × 6868 columns</p>\n",
              "</div>"
            ],
            "text/plain": [
              "name  Aaden  Aaliyah  Aarav  Aaron  Aarush  ...  Zollie  Zona  Zora  Zula  Zuri\n",
              "year                                        ...                                \n",
              "1880    NaN      NaN    NaN  102.0     NaN  ...     NaN   8.0  28.0  27.0   NaN\n",
              "1881    NaN      NaN    NaN   94.0     NaN  ...     NaN   9.0  21.0  27.0   NaN\n",
              "1882    NaN      NaN    NaN   85.0     NaN  ...     NaN  17.0  32.0  21.0   NaN\n",
              "\n",
              "[3 rows x 6868 columns]"
            ]
          },
          "metadata": {}
        }
      ]
    },
    {
      "cell_type": "code",
      "metadata": {
        "colab": {
          "base_uri": "https://localhost:8080/",
          "height": 730
        },
        "id": "GuKUd-EhnNxD",
        "outputId": "86295a64-2df1-453f-b2da-297ec8802814"
      },
      "source": [
        "subset = total_births[['John', 'Harry', 'Mary', 'Marilyn']]\n",
        "subset.plot(subplots=True, figsize=(12, 10), grid=False,\n",
        "            title=\"Number of births per year\")"
      ],
      "execution_count": 48,
      "outputs": [
        {
          "output_type": "execute_result",
          "data": {
            "text/plain": [
              "array([<matplotlib.axes._subplots.AxesSubplot object at 0x7f71fd357850>,\n",
              "       <matplotlib.axes._subplots.AxesSubplot object at 0x7f71fc9466d0>,\n",
              "       <matplotlib.axes._subplots.AxesSubplot object at 0x7f71fc88ac90>,\n",
              "       <matplotlib.axes._subplots.AxesSubplot object at 0x7f71fc8b0b90>],\n",
              "      dtype=object)"
            ]
          },
          "metadata": {},
          "execution_count": 48
        },
        {
          "output_type": "display_data",
          "data": {
            "image/png": "[encoded data removed]",
            "text/plain": [
              "<Figure size 864x720 with 4 Axes>"
            ]
          },
          "metadata": {
            "needs_background": "light"
          }
        }
      ]
    },
    {
      "cell_type": "markdown",
      "metadata": {
        "id": "NJM-33mwnXfF"
      },
      "source": [
        "* 예전에 유행했던 신생아 이름은 최근에는 인기가 없다는 것을 살펴볼 수 있습니다.\n",
        "* 하지만, 단순히 이렇게 결론을 내기에는 조금 복잡합니다. 다음 절에서 살펴보겠습니다."
      ]
    },
    {
      "cell_type": "markdown",
      "metadata": {
        "id": "SM7Nxyv6nfOm"
      },
      "source": [
        "---"
      ]
    },
    {
      "cell_type": "markdown",
      "metadata": {
        "id": "B7fDnIe_qmSd"
      },
      "source": [
        "## (2-1) 다양한 이름을 사용하는 경향 측정"
      ]
    },
    {
      "cell_type": "markdown",
      "metadata": {
        "id": "2Xt7bVcbqr_k"
      },
      "source": [
        "* 위의 그래프를 확인한 결과 그래프의 감소 추세는 **부모가 아이의 이름을 지을 때 흔한 이름은 기피**한다고 해석할 수 있습니다.\n",
        "* 좀 더 자세히 알아보기 위해 인기 있는 이름 1,000개가 전체 출생수에서 차지하는 비율을 연도별/성별 그래프로 그려보겠습니다."
      ]
    },
    {
      "cell_type": "code",
      "metadata": {
        "colab": {
          "base_uri": "https://localhost:8080/",
          "height": 314
        },
        "id": "VbkjbWQPnexj",
        "outputId": "fc3df4d9-7def-4afa-a863-3384eb68aa6f"
      },
      "source": [
        "table = top1000.pivot_table('prop', index='year',\n",
        "                            columns='sex', aggfunc=sum)\n",
        "table.plot(title='Sum of table1000.prop by year and sex',\n",
        "           yticks=np.linspace(0, 1.2, 13), xticks=range(1880, 2020, 10))"
      ],
      "execution_count": 49,
      "outputs": [
        {
          "output_type": "execute_result",
          "data": {
            "text/plain": [
              "<matplotlib.axes._subplots.AxesSubplot at 0x7f71fc7cbf50>"
            ]
          },
          "metadata": {},
          "execution_count": 49
        },
        {
          "output_type": "display_data",
          "data": {
            "image/png": "[encoded data removed]",
            "text/plain": [
              "<Figure size 432x288 with 1 Axes>"
            ]
          },
          "metadata": {
            "needs_background": "light"
          }
        }
      ]
    },
    {
      "cell_type": "code",
      "metadata": {
        "colab": {
          "base_uri": "https://localhost:8080/",
          "height": 450
        },
        "id": "g3BOp4AmrU4_",
        "outputId": "abbef69a-832e-4e36-eb05-d0bd39f1af41"
      },
      "source": [
        "table"
      ],
      "execution_count": 52,
      "outputs": [
        {
          "output_type": "execute_result",
          "data": {
            "text/html": [
              "<div>\n",
              "<style scoped>\n",
              "    .dataframe tbody tr th:only-of-type {\n",
              "        vertical-align: middle;\n",
              "    }\n",
              "\n",
              "    .dataframe tbody tr th {\n",
              "        vertical-align: top;\n",
              "    }\n",
              "\n",
              "    .dataframe thead th {\n",
              "        text-align: right;\n",
              "    }\n",
              "</style>\n",
              "<table border=\"1\" class=\"dataframe\">\n",
              "  <thead>\n",
              "    <tr style=\"text-align: right;\">\n",
              "      <th>sex</th>\n",
              "      <th>F</th>\n",
              "      <th>M</th>\n",
              "    </tr>\n",
              "    <tr>\n",
              "      <th>year</th>\n",
              "      <th></th>\n",
              "      <th></th>\n",
              "    </tr>\n",
              "  </thead>\n",
              "  <tbody>\n",
              "    <tr>\n",
              "      <th>1880</th>\n",
              "      <td>1.000000</td>\n",
              "      <td>0.997375</td>\n",
              "    </tr>\n",
              "    <tr>\n",
              "      <th>1881</th>\n",
              "      <td>1.000000</td>\n",
              "      <td>1.000000</td>\n",
              "    </tr>\n",
              "    <tr>\n",
              "      <th>1882</th>\n",
              "      <td>0.998702</td>\n",
              "      <td>0.995646</td>\n",
              "    </tr>\n",
              "    <tr>\n",
              "      <th>1883</th>\n",
              "      <td>0.997596</td>\n",
              "      <td>0.998566</td>\n",
              "    </tr>\n",
              "    <tr>\n",
              "      <th>1884</th>\n",
              "      <td>0.993156</td>\n",
              "      <td>0.994539</td>\n",
              "    </tr>\n",
              "    <tr>\n",
              "      <th>...</th>\n",
              "      <td>...</td>\n",
              "      <td>...</td>\n",
              "    </tr>\n",
              "    <tr>\n",
              "      <th>2006</th>\n",
              "      <td>0.753153</td>\n",
              "      <td>0.860368</td>\n",
              "    </tr>\n",
              "    <tr>\n",
              "      <th>2007</th>\n",
              "      <td>0.745959</td>\n",
              "      <td>0.855159</td>\n",
              "    </tr>\n",
              "    <tr>\n",
              "      <th>2008</th>\n",
              "      <td>0.740933</td>\n",
              "      <td>0.850003</td>\n",
              "    </tr>\n",
              "    <tr>\n",
              "      <th>2009</th>\n",
              "      <td>0.737290</td>\n",
              "      <td>0.845256</td>\n",
              "    </tr>\n",
              "    <tr>\n",
              "      <th>2010</th>\n",
              "      <td>0.736780</td>\n",
              "      <td>0.843156</td>\n",
              "    </tr>\n",
              "  </tbody>\n",
              "</table>\n",
              "<p>131 rows × 2 columns</p>\n",
              "</div>"
            ],
            "text/plain": [
              "sex          F         M\n",
              "year                    \n",
              "1880  1.000000  0.997375\n",
              "1881  1.000000  1.000000\n",
              "1882  0.998702  0.995646\n",
              "1883  0.997596  0.998566\n",
              "1884  0.993156  0.994539\n",
              "...        ...       ...\n",
              "2006  0.753153  0.860368\n",
              "2007  0.745959  0.855159\n",
              "2008  0.740933  0.850003\n",
              "2009  0.737290  0.845256\n",
              "2010  0.736780  0.843156\n",
              "\n",
              "[131 rows x 2 columns]"
            ]
          },
          "metadata": {},
          "execution_count": 52
        }
      ]
    },
    {
      "cell_type": "markdown",
      "metadata": {
        "id": "Z0KuzQCyrFo9"
      },
      "source": [
        "* 이름의 다양성이 증가하고 있음을 보여줍니다.(상위 1,00개의 이름에서 비율의 총합이 감소하고 있음)\n",
        "* 또한 인기 있는 이름순으로 정렬했을 때 전체 출생수의 50%를 차지하기까지 등장하는 이름수도 흥미롭습니다."
      ]
    },
    {
      "cell_type": "markdown",
      "metadata": {
        "id": "KIO25CUntb6f"
      },
      "source": [
        "## (2-2) 출생수의 50% 차지하는 이름의 수"
      ]
    },
    {
      "cell_type": "code",
      "metadata": {
        "colab": {
          "base_uri": "https://localhost:8080/",
          "height": 419
        },
        "id": "X12w7q8MrO1C",
        "outputId": "baa71c67-a081-4593-a641-4c40c211c8b8"
      },
      "source": [
        "df = boys[boys.year == 2010]\n",
        "df"
      ],
      "execution_count": 51,
      "outputs": [
        {
          "output_type": "execute_result",
          "data": {
            "text/html": [
              "<div>\n",
              "<style scoped>\n",
              "    .dataframe tbody tr th:only-of-type {\n",
              "        vertical-align: middle;\n",
              "    }\n",
              "\n",
              "    .dataframe tbody tr th {\n",
              "        vertical-align: top;\n",
              "    }\n",
              "\n",
              "    .dataframe thead th {\n",
              "        text-align: right;\n",
              "    }\n",
              "</style>\n",
              "<table border=\"1\" class=\"dataframe\">\n",
              "  <thead>\n",
              "    <tr style=\"text-align: right;\">\n",
              "      <th></th>\n",
              "      <th>name</th>\n",
              "      <th>sex</th>\n",
              "      <th>births</th>\n",
              "      <th>year</th>\n",
              "      <th>prop</th>\n",
              "    </tr>\n",
              "  </thead>\n",
              "  <tbody>\n",
              "    <tr>\n",
              "      <th>260877</th>\n",
              "      <td>Jacob</td>\n",
              "      <td>M</td>\n",
              "      <td>21875</td>\n",
              "      <td>2010</td>\n",
              "      <td>0.011523</td>\n",
              "    </tr>\n",
              "    <tr>\n",
              "      <th>260878</th>\n",
              "      <td>Ethan</td>\n",
              "      <td>M</td>\n",
              "      <td>17866</td>\n",
              "      <td>2010</td>\n",
              "      <td>0.009411</td>\n",
              "    </tr>\n",
              "    <tr>\n",
              "      <th>260879</th>\n",
              "      <td>Michael</td>\n",
              "      <td>M</td>\n",
              "      <td>17133</td>\n",
              "      <td>2010</td>\n",
              "      <td>0.009025</td>\n",
              "    </tr>\n",
              "    <tr>\n",
              "      <th>260880</th>\n",
              "      <td>Jayden</td>\n",
              "      <td>M</td>\n",
              "      <td>17030</td>\n",
              "      <td>2010</td>\n",
              "      <td>0.008971</td>\n",
              "    </tr>\n",
              "    <tr>\n",
              "      <th>260881</th>\n",
              "      <td>William</td>\n",
              "      <td>M</td>\n",
              "      <td>16870</td>\n",
              "      <td>2010</td>\n",
              "      <td>0.008887</td>\n",
              "    </tr>\n",
              "    <tr>\n",
              "      <th>...</th>\n",
              "      <td>...</td>\n",
              "      <td>...</td>\n",
              "      <td>...</td>\n",
              "      <td>...</td>\n",
              "      <td>...</td>\n",
              "    </tr>\n",
              "    <tr>\n",
              "      <th>261872</th>\n",
              "      <td>Camilo</td>\n",
              "      <td>M</td>\n",
              "      <td>194</td>\n",
              "      <td>2010</td>\n",
              "      <td>0.000102</td>\n",
              "    </tr>\n",
              "    <tr>\n",
              "      <th>261873</th>\n",
              "      <td>Destin</td>\n",
              "      <td>M</td>\n",
              "      <td>194</td>\n",
              "      <td>2010</td>\n",
              "      <td>0.000102</td>\n",
              "    </tr>\n",
              "    <tr>\n",
              "      <th>261874</th>\n",
              "      <td>Jaquan</td>\n",
              "      <td>M</td>\n",
              "      <td>194</td>\n",
              "      <td>2010</td>\n",
              "      <td>0.000102</td>\n",
              "    </tr>\n",
              "    <tr>\n",
              "      <th>261875</th>\n",
              "      <td>Jaydan</td>\n",
              "      <td>M</td>\n",
              "      <td>194</td>\n",
              "      <td>2010</td>\n",
              "      <td>0.000102</td>\n",
              "    </tr>\n",
              "    <tr>\n",
              "      <th>261876</th>\n",
              "      <td>Maxton</td>\n",
              "      <td>M</td>\n",
              "      <td>193</td>\n",
              "      <td>2010</td>\n",
              "      <td>0.000102</td>\n",
              "    </tr>\n",
              "  </tbody>\n",
              "</table>\n",
              "<p>1000 rows × 5 columns</p>\n",
              "</div>"
            ],
            "text/plain": [
              "           name sex  births  year      prop\n",
              "260877    Jacob   M   21875  2010  0.011523\n",
              "260878    Ethan   M   17866  2010  0.009411\n",
              "260879  Michael   M   17133  2010  0.009025\n",
              "260880   Jayden   M   17030  2010  0.008971\n",
              "260881  William   M   16870  2010  0.008887\n",
              "...         ...  ..     ...   ...       ...\n",
              "261872   Camilo   M     194  2010  0.000102\n",
              "261873   Destin   M     194  2010  0.000102\n",
              "261874   Jaquan   M     194  2010  0.000102\n",
              "261875   Jaydan   M     194  2010  0.000102\n",
              "261876   Maxton   M     193  2010  0.000102\n",
              "\n",
              "[1000 rows x 5 columns]"
            ]
          },
          "metadata": {},
          "execution_count": 51
        }
      ]
    },
    {
      "cell_type": "markdown",
      "metadata": {
        "id": "ZNVK5wUHrmTV"
      },
      "source": [
        "* `prop`을 내림차순으로 정렬하고 나서 전체의 50%가 되기까지 얼마나 많은 이름이 등장하는지 알아보겠습니다.\n",
        "* `for`문을 사용해서 구현할 수도 있지만, 벡터화된 Numpy를 사용하는 편이 조금 편합니다.\n",
        "* `prop`의 누계를 `cumsum`에 저장하고 `searchsorted` 메서드를 호출해서 정렬된 상태에서 누계가 0.5되는 위치를 구하겠습니다."
      ]
    },
    {
      "cell_type": "code",
      "metadata": {
        "colab": {
          "base_uri": "https://localhost:8080/"
        },
        "id": "OYMkV1_iryS4",
        "outputId": "da7d8882-ddf4-422c-ab3f-3603654d02ec"
      },
      "source": [
        "prop_cumsum = df.sort_values(by='prop', ascending=False).prop.cumsum()\n",
        "prop_cumsum[:10]"
      ],
      "execution_count": 53,
      "outputs": [
        {
          "output_type": "execute_result",
          "data": {
            "text/plain": [
              "260877    0.011523\n",
              "260878    0.020934\n",
              "260879    0.029959\n",
              "260880    0.038930\n",
              "260881    0.047817\n",
              "260882    0.056579\n",
              "260883    0.065155\n",
              "260884    0.073414\n",
              "260885    0.081528\n",
              "260886    0.089621\n",
              "Name: prop, dtype: float64"
            ]
          },
          "metadata": {},
          "execution_count": 53
        }
      ]
    },
    {
      "cell_type": "code",
      "metadata": {
        "colab": {
          "base_uri": "https://localhost:8080/"
        },
        "id": "4wVbXE6gsCC1",
        "outputId": "8b60352d-d924-41ed-d344-c9f2dcca01c8"
      },
      "source": [
        "prop_cumsum.values.searchsorted(0.5)"
      ],
      "execution_count": 54,
      "outputs": [
        {
          "output_type": "execute_result",
          "data": {
            "text/plain": [
              "116"
            ]
          },
          "metadata": {},
          "execution_count": 54
        }
      ]
    },
    {
      "cell_type": "markdown",
      "metadata": {
        "id": "D46lgFrPsJYt"
      },
      "source": [
        "* index는 0부터 시작하기 때문에 117번째가 0.5가 되는 것을 확인할 수 있습니다."
      ]
    },
    {
      "cell_type": "code",
      "metadata": {
        "colab": {
          "base_uri": "https://localhost:8080/"
        },
        "id": "b-2XsVZEsNwN",
        "outputId": "ecd39641-e45e-43f5-fe7d-d14934c58fac"
      },
      "source": [
        "df = boys[boys.year == 1900]\n",
        "\n",
        "in1900 = df.sort_values(by='prop', ascending=False).prop.cumsum()\n",
        "\n",
        "in1900.values.searchsorted(0.5) + 1"
      ],
      "execution_count": 55,
      "outputs": [
        {
          "output_type": "execute_result",
          "data": {
            "text/plain": [
              "25"
            ]
          },
          "metadata": {},
          "execution_count": 55
        }
      ]
    },
    {
      "cell_type": "markdown",
      "metadata": {
        "id": "l2qbb0BrsdE9"
      },
      "source": [
        "* 1900이보다 더 낮음을 확인할 수 있습니다.(다양한 이름을 사용한 것이 2010년보다 낮음)"
      ]
    },
    {
      "cell_type": "markdown",
      "metadata": {
        "id": "Uf4s8s_FsoqV"
      },
      "source": [
        "* 이제 이 연산을 각 연도별/성별 조합에 적용하겠습니다.\n",
        "* 연도와 성을 `groupby`로 묶고 각 그룹에 `apply`를 사용해서 연산을 적용하겠습니다."
      ]
    },
    {
      "cell_type": "code",
      "metadata": {
        "id": "levjHrj0sjEt"
      },
      "source": [
        "def get_quantile_count(group, q=0.5):\n",
        "    group = group.sort_values(by='prop', ascending=False)\n",
        "    return group.prop.cumsum().values.searchsorted(q) + 1\n",
        "\n",
        "diversity = top1000.groupby(['year', 'sex']).apply(get_quantile_count)\n",
        "diversity = diversity.unstack('sex')"
      ],
      "execution_count": 56,
      "outputs": []
    },
    {
      "cell_type": "code",
      "metadata": {
        "colab": {
          "base_uri": "https://localhost:8080/",
          "height": 532
        },
        "id": "1wdhAIqItE5-",
        "outputId": "39ede007-27a5-43a3-df48-625d7dec0ec7"
      },
      "source": [
        "display(diversity.head(), diversity.plot(title='Number of popular names in top 50%'))"
      ],
      "execution_count": 60,
      "outputs": [
        {
          "output_type": "display_data",
          "data": {
            "text/html": [
              "<div>\n",
              "<style scoped>\n",
              "    .dataframe tbody tr th:only-of-type {\n",
              "        vertical-align: middle;\n",
              "    }\n",
              "\n",
              "    .dataframe tbody tr th {\n",
              "        vertical-align: top;\n",
              "    }\n",
              "\n",
              "    .dataframe thead th {\n",
              "        text-align: right;\n",
              "    }\n",
              "</style>\n",
              "<table border=\"1\" class=\"dataframe\">\n",
              "  <thead>\n",
              "    <tr style=\"text-align: right;\">\n",
              "      <th>sex</th>\n",
              "      <th>F</th>\n",
              "      <th>M</th>\n",
              "    </tr>\n",
              "    <tr>\n",
              "      <th>year</th>\n",
              "      <th></th>\n",
              "      <th></th>\n",
              "    </tr>\n",
              "  </thead>\n",
              "  <tbody>\n",
              "    <tr>\n",
              "      <th>1880</th>\n",
              "      <td>38</td>\n",
              "      <td>14</td>\n",
              "    </tr>\n",
              "    <tr>\n",
              "      <th>1881</th>\n",
              "      <td>38</td>\n",
              "      <td>14</td>\n",
              "    </tr>\n",
              "    <tr>\n",
              "      <th>1882</th>\n",
              "      <td>38</td>\n",
              "      <td>15</td>\n",
              "    </tr>\n",
              "    <tr>\n",
              "      <th>1883</th>\n",
              "      <td>39</td>\n",
              "      <td>15</td>\n",
              "    </tr>\n",
              "    <tr>\n",
              "      <th>1884</th>\n",
              "      <td>39</td>\n",
              "      <td>16</td>\n",
              "    </tr>\n",
              "  </tbody>\n",
              "</table>\n",
              "</div>"
            ],
            "text/plain": [
              "sex    F   M\n",
              "year        \n",
              "1880  38  14\n",
              "1881  38  14\n",
              "1882  38  15\n",
              "1883  39  15\n",
              "1884  39  16"
            ]
          },
          "metadata": {}
        },
        {
          "output_type": "display_data",
          "data": {
            "text/plain": [
              "<matplotlib.axes._subplots.AxesSubplot at 0x7f71fc5d1c90>"
            ]
          },
          "metadata": {}
        },
        {
          "output_type": "display_data",
          "data": {
            "image/png": "[encoded data removed]",
            "text/plain": [
              "<Figure size 432x288 with 1 Axes>"
            ]
          },
          "metadata": {
            "needs_background": "light"
          }
        }
      ]
    },
    {
      "cell_type": "markdown",
      "metadata": {
        "id": "nSbvRIdttnbd"
      },
      "source": [
        "* 여자아이의 이름은 항상 남자아이의 이름보다 더 다양하고, 시간이 흐를수록 더욱 다양해지고 있습니다."
      ]
    },
    {
      "cell_type": "markdown",
      "metadata": {
        "id": "V3t5kukOt2pX"
      },
      "source": [
        "## (2-3) '마지막 글자'의 변화\n",
        "\n",
        "* 2007년 아이 이름을 연구하는 로라 와튼버그는 지난 100년 동안 <br>남자아이 이름의 마지막 글자의 분포에 중요한 변화가 있었다고 자신의 웹사이트에 게재했습니다.<br>\n",
        "[로라 와튼버그 - 웹사이트](http://www.babynamewizard.com)"
      ]
    },
    {
      "cell_type": "code",
      "metadata": {
        "id": "58zCrh3Ittuc"
      },
      "source": [
        "# name 컬럼에서 마지막 글자를 추출합니다.\n",
        "get_last_letter = lambda x: x[-1]\n",
        "last_letters = names.name.map(get_last_letter)\n",
        "last_letters.name = 'last_letter'\n",
        "\n",
        "table = names.pivot_table('births', index=last_letters,\n",
        "                          columns=['sex', 'year'], aggfunc=sum)"
      ],
      "execution_count": 61,
      "outputs": []
    },
    {
      "cell_type": "code",
      "metadata": {
        "colab": {
          "base_uri": "https://localhost:8080/",
          "height": 266
        },
        "id": "GHY2CLTVuSK-",
        "outputId": "20ba23e3-e31c-495f-9dd5-5e6b1da28f5e"
      },
      "source": [
        "subtable = table.reindex(columns=[1910, 1960, 2010], level='year')\n",
        "subtable.head()"
      ],
      "execution_count": 63,
      "outputs": [
        {
          "output_type": "execute_result",
          "data": {
            "text/html": [
              "<div>\n",
              "<style scoped>\n",
              "    .dataframe tbody tr th:only-of-type {\n",
              "        vertical-align: middle;\n",
              "    }\n",
              "\n",
              "    .dataframe tbody tr th {\n",
              "        vertical-align: top;\n",
              "    }\n",
              "\n",
              "    .dataframe thead tr th {\n",
              "        text-align: left;\n",
              "    }\n",
              "\n",
              "    .dataframe thead tr:last-of-type th {\n",
              "        text-align: right;\n",
              "    }\n",
              "</style>\n",
              "<table border=\"1\" class=\"dataframe\">\n",
              "  <thead>\n",
              "    <tr>\n",
              "      <th>sex</th>\n",
              "      <th colspan=\"3\" halign=\"left\">F</th>\n",
              "      <th colspan=\"3\" halign=\"left\">M</th>\n",
              "    </tr>\n",
              "    <tr>\n",
              "      <th>year</th>\n",
              "      <th>1910</th>\n",
              "      <th>1960</th>\n",
              "      <th>2010</th>\n",
              "      <th>1910</th>\n",
              "      <th>1960</th>\n",
              "      <th>2010</th>\n",
              "    </tr>\n",
              "    <tr>\n",
              "      <th>last_letter</th>\n",
              "      <th></th>\n",
              "      <th></th>\n",
              "      <th></th>\n",
              "      <th></th>\n",
              "      <th></th>\n",
              "      <th></th>\n",
              "    </tr>\n",
              "  </thead>\n",
              "  <tbody>\n",
              "    <tr>\n",
              "      <th>a</th>\n",
              "      <td>108376.0</td>\n",
              "      <td>691247.0</td>\n",
              "      <td>670605.0</td>\n",
              "      <td>977.0</td>\n",
              "      <td>5204.0</td>\n",
              "      <td>28438.0</td>\n",
              "    </tr>\n",
              "    <tr>\n",
              "      <th>b</th>\n",
              "      <td>NaN</td>\n",
              "      <td>694.0</td>\n",
              "      <td>450.0</td>\n",
              "      <td>411.0</td>\n",
              "      <td>3912.0</td>\n",
              "      <td>38859.0</td>\n",
              "    </tr>\n",
              "    <tr>\n",
              "      <th>c</th>\n",
              "      <td>5.0</td>\n",
              "      <td>49.0</td>\n",
              "      <td>946.0</td>\n",
              "      <td>482.0</td>\n",
              "      <td>15476.0</td>\n",
              "      <td>23125.0</td>\n",
              "    </tr>\n",
              "    <tr>\n",
              "      <th>d</th>\n",
              "      <td>6750.0</td>\n",
              "      <td>3729.0</td>\n",
              "      <td>2607.0</td>\n",
              "      <td>22111.0</td>\n",
              "      <td>262112.0</td>\n",
              "      <td>44398.0</td>\n",
              "    </tr>\n",
              "    <tr>\n",
              "      <th>e</th>\n",
              "      <td>133569.0</td>\n",
              "      <td>435013.0</td>\n",
              "      <td>313833.0</td>\n",
              "      <td>28655.0</td>\n",
              "      <td>178823.0</td>\n",
              "      <td>129012.0</td>\n",
              "    </tr>\n",
              "  </tbody>\n",
              "</table>\n",
              "</div>"
            ],
            "text/plain": [
              "sex                 F                            M                    \n",
              "year             1910      1960      2010     1910      1960      2010\n",
              "last_letter                                                           \n",
              "a            108376.0  691247.0  670605.0    977.0    5204.0   28438.0\n",
              "b                 NaN     694.0     450.0    411.0    3912.0   38859.0\n",
              "c                 5.0      49.0     946.0    482.0   15476.0   23125.0\n",
              "d              6750.0    3729.0    2607.0  22111.0  262112.0   44398.0\n",
              "e            133569.0  435013.0  313833.0  28655.0  178823.0  129012.0"
            ]
          },
          "metadata": {},
          "execution_count": 63
        }
      ]
    },
    {
      "cell_type": "code",
      "metadata": {
        "colab": {
          "base_uri": "https://localhost:8080/",
          "height": 917
        },
        "id": "blPPfywRuZ5e",
        "outputId": "d4c4d9bf-66b3-4985-b0ca-1b223d1adc95"
      },
      "source": [
        "subtable.sum()\n",
        "letter_prop = subtable / subtable.sum()\n",
        "letter_prop"
      ],
      "execution_count": 65,
      "outputs": [
        {
          "output_type": "execute_result",
          "data": {
            "text/html": [
              "<div>\n",
              "<style scoped>\n",
              "    .dataframe tbody tr th:only-of-type {\n",
              "        vertical-align: middle;\n",
              "    }\n",
              "\n",
              "    .dataframe tbody tr th {\n",
              "        vertical-align: top;\n",
              "    }\n",
              "\n",
              "    .dataframe thead tr th {\n",
              "        text-align: left;\n",
              "    }\n",
              "\n",
              "    .dataframe thead tr:last-of-type th {\n",
              "        text-align: right;\n",
              "    }\n",
              "</style>\n",
              "<table border=\"1\" class=\"dataframe\">\n",
              "  <thead>\n",
              "    <tr>\n",
              "      <th>sex</th>\n",
              "      <th colspan=\"3\" halign=\"left\">F</th>\n",
              "      <th colspan=\"3\" halign=\"left\">M</th>\n",
              "    </tr>\n",
              "    <tr>\n",
              "      <th>year</th>\n",
              "      <th>1910</th>\n",
              "      <th>1960</th>\n",
              "      <th>2010</th>\n",
              "      <th>1910</th>\n",
              "      <th>1960</th>\n",
              "      <th>2010</th>\n",
              "    </tr>\n",
              "    <tr>\n",
              "      <th>last_letter</th>\n",
              "      <th></th>\n",
              "      <th></th>\n",
              "      <th></th>\n",
              "      <th></th>\n",
              "      <th></th>\n",
              "      <th></th>\n",
              "    </tr>\n",
              "  </thead>\n",
              "  <tbody>\n",
              "    <tr>\n",
              "      <th>a</th>\n",
              "      <td>0.273390</td>\n",
              "      <td>0.341853</td>\n",
              "      <td>0.381240</td>\n",
              "      <td>0.005031</td>\n",
              "      <td>0.002440</td>\n",
              "      <td>0.014980</td>\n",
              "    </tr>\n",
              "    <tr>\n",
              "      <th>b</th>\n",
              "      <td>NaN</td>\n",
              "      <td>0.000343</td>\n",
              "      <td>0.000256</td>\n",
              "      <td>0.002116</td>\n",
              "      <td>0.001834</td>\n",
              "      <td>0.020470</td>\n",
              "    </tr>\n",
              "    <tr>\n",
              "      <th>c</th>\n",
              "      <td>0.000013</td>\n",
              "      <td>0.000024</td>\n",
              "      <td>0.000538</td>\n",
              "      <td>0.002482</td>\n",
              "      <td>0.007257</td>\n",
              "      <td>0.012181</td>\n",
              "    </tr>\n",
              "    <tr>\n",
              "      <th>d</th>\n",
              "      <td>0.017028</td>\n",
              "      <td>0.001844</td>\n",
              "      <td>0.001482</td>\n",
              "      <td>0.113858</td>\n",
              "      <td>0.122908</td>\n",
              "      <td>0.023387</td>\n",
              "    </tr>\n",
              "    <tr>\n",
              "      <th>e</th>\n",
              "      <td>0.336941</td>\n",
              "      <td>0.215133</td>\n",
              "      <td>0.178415</td>\n",
              "      <td>0.147556</td>\n",
              "      <td>0.083853</td>\n",
              "      <td>0.067959</td>\n",
              "    </tr>\n",
              "    <tr>\n",
              "      <th>f</th>\n",
              "      <td>NaN</td>\n",
              "      <td>0.000010</td>\n",
              "      <td>0.000055</td>\n",
              "      <td>0.000783</td>\n",
              "      <td>0.004325</td>\n",
              "      <td>0.001188</td>\n",
              "    </tr>\n",
              "    <tr>\n",
              "      <th>g</th>\n",
              "      <td>0.000144</td>\n",
              "      <td>0.000157</td>\n",
              "      <td>0.000374</td>\n",
              "      <td>0.002250</td>\n",
              "      <td>0.009488</td>\n",
              "      <td>0.001404</td>\n",
              "    </tr>\n",
              "    <tr>\n",
              "      <th>h</th>\n",
              "      <td>0.051529</td>\n",
              "      <td>0.036224</td>\n",
              "      <td>0.075852</td>\n",
              "      <td>0.045562</td>\n",
              "      <td>0.037907</td>\n",
              "      <td>0.051670</td>\n",
              "    </tr>\n",
              "    <tr>\n",
              "      <th>i</th>\n",
              "      <td>0.001526</td>\n",
              "      <td>0.039965</td>\n",
              "      <td>0.031734</td>\n",
              "      <td>0.000844</td>\n",
              "      <td>0.000603</td>\n",
              "      <td>0.022628</td>\n",
              "    </tr>\n",
              "    <tr>\n",
              "      <th>j</th>\n",
              "      <td>NaN</td>\n",
              "      <td>NaN</td>\n",
              "      <td>0.000090</td>\n",
              "      <td>NaN</td>\n",
              "      <td>NaN</td>\n",
              "      <td>0.000769</td>\n",
              "    </tr>\n",
              "    <tr>\n",
              "      <th>k</th>\n",
              "      <td>0.000121</td>\n",
              "      <td>0.000156</td>\n",
              "      <td>0.000356</td>\n",
              "      <td>0.036581</td>\n",
              "      <td>0.049384</td>\n",
              "      <td>0.018541</td>\n",
              "    </tr>\n",
              "    <tr>\n",
              "      <th>l</th>\n",
              "      <td>0.043189</td>\n",
              "      <td>0.033867</td>\n",
              "      <td>0.026356</td>\n",
              "      <td>0.065016</td>\n",
              "      <td>0.104904</td>\n",
              "      <td>0.070367</td>\n",
              "    </tr>\n",
              "    <tr>\n",
              "      <th>m</th>\n",
              "      <td>0.001201</td>\n",
              "      <td>0.008613</td>\n",
              "      <td>0.002588</td>\n",
              "      <td>0.058044</td>\n",
              "      <td>0.033827</td>\n",
              "      <td>0.024657</td>\n",
              "    </tr>\n",
              "    <tr>\n",
              "      <th>n</th>\n",
              "      <td>0.079240</td>\n",
              "      <td>0.130687</td>\n",
              "      <td>0.140210</td>\n",
              "      <td>0.143415</td>\n",
              "      <td>0.152522</td>\n",
              "      <td>0.362771</td>\n",
              "    </tr>\n",
              "    <tr>\n",
              "      <th>o</th>\n",
              "      <td>0.001660</td>\n",
              "      <td>0.002439</td>\n",
              "      <td>0.001243</td>\n",
              "      <td>0.017065</td>\n",
              "      <td>0.012829</td>\n",
              "      <td>0.042681</td>\n",
              "    </tr>\n",
              "    <tr>\n",
              "      <th>p</th>\n",
              "      <td>0.000018</td>\n",
              "      <td>0.000023</td>\n",
              "      <td>0.000020</td>\n",
              "      <td>0.003172</td>\n",
              "      <td>0.005675</td>\n",
              "      <td>0.001269</td>\n",
              "    </tr>\n",
              "    <tr>\n",
              "      <th>q</th>\n",
              "      <td>NaN</td>\n",
              "      <td>NaN</td>\n",
              "      <td>0.000030</td>\n",
              "      <td>NaN</td>\n",
              "      <td>NaN</td>\n",
              "      <td>0.000180</td>\n",
              "    </tr>\n",
              "    <tr>\n",
              "      <th>r</th>\n",
              "      <td>0.013390</td>\n",
              "      <td>0.006764</td>\n",
              "      <td>0.018025</td>\n",
              "      <td>0.064481</td>\n",
              "      <td>0.031034</td>\n",
              "      <td>0.087477</td>\n",
              "    </tr>\n",
              "    <tr>\n",
              "      <th>s</th>\n",
              "      <td>0.039042</td>\n",
              "      <td>0.012764</td>\n",
              "      <td>0.013332</td>\n",
              "      <td>0.130815</td>\n",
              "      <td>0.102730</td>\n",
              "      <td>0.065145</td>\n",
              "    </tr>\n",
              "    <tr>\n",
              "      <th>t</th>\n",
              "      <td>0.027438</td>\n",
              "      <td>0.015201</td>\n",
              "      <td>0.007830</td>\n",
              "      <td>0.072879</td>\n",
              "      <td>0.065655</td>\n",
              "      <td>0.022861</td>\n",
              "    </tr>\n",
              "    <tr>\n",
              "      <th>u</th>\n",
              "      <td>0.000684</td>\n",
              "      <td>0.000574</td>\n",
              "      <td>0.000417</td>\n",
              "      <td>0.000124</td>\n",
              "      <td>0.000057</td>\n",
              "      <td>0.001221</td>\n",
              "    </tr>\n",
              "    <tr>\n",
              "      <th>v</th>\n",
              "      <td>NaN</td>\n",
              "      <td>0.000060</td>\n",
              "      <td>0.000117</td>\n",
              "      <td>0.000113</td>\n",
              "      <td>0.000037</td>\n",
              "      <td>0.001434</td>\n",
              "    </tr>\n",
              "    <tr>\n",
              "      <th>w</th>\n",
              "      <td>0.000020</td>\n",
              "      <td>0.000031</td>\n",
              "      <td>0.001182</td>\n",
              "      <td>0.006329</td>\n",
              "      <td>0.007711</td>\n",
              "      <td>0.016148</td>\n",
              "    </tr>\n",
              "    <tr>\n",
              "      <th>x</th>\n",
              "      <td>0.000015</td>\n",
              "      <td>0.000037</td>\n",
              "      <td>0.000727</td>\n",
              "      <td>0.003965</td>\n",
              "      <td>0.001851</td>\n",
              "      <td>0.008614</td>\n",
              "    </tr>\n",
              "    <tr>\n",
              "      <th>y</th>\n",
              "      <td>0.110972</td>\n",
              "      <td>0.152569</td>\n",
              "      <td>0.116828</td>\n",
              "      <td>0.077349</td>\n",
              "      <td>0.160987</td>\n",
              "      <td>0.058168</td>\n",
              "    </tr>\n",
              "    <tr>\n",
              "      <th>z</th>\n",
              "      <td>0.002439</td>\n",
              "      <td>0.000659</td>\n",
              "      <td>0.000704</td>\n",
              "      <td>0.000170</td>\n",
              "      <td>0.000184</td>\n",
              "      <td>0.001831</td>\n",
              "    </tr>\n",
              "  </tbody>\n",
              "</table>\n",
              "</div>"
            ],
            "text/plain": [
              "sex                 F                             M                    \n",
              "year             1910      1960      2010      1910      1960      2010\n",
              "last_letter                                                            \n",
              "a            0.273390  0.341853  0.381240  0.005031  0.002440  0.014980\n",
              "b                 NaN  0.000343  0.000256  0.002116  0.001834  0.020470\n",
              "c            0.000013  0.000024  0.000538  0.002482  0.007257  0.012181\n",
              "d            0.017028  0.001844  0.001482  0.113858  0.122908  0.023387\n",
              "e            0.336941  0.215133  0.178415  0.147556  0.083853  0.067959\n",
              "f                 NaN  0.000010  0.000055  0.000783  0.004325  0.001188\n",
              "g            0.000144  0.000157  0.000374  0.002250  0.009488  0.001404\n",
              "h            0.051529  0.036224  0.075852  0.045562  0.037907  0.051670\n",
              "i            0.001526  0.039965  0.031734  0.000844  0.000603  0.022628\n",
              "j                 NaN       NaN  0.000090       NaN       NaN  0.000769\n",
              "k            0.000121  0.000156  0.000356  0.036581  0.049384  0.018541\n",
              "l            0.043189  0.033867  0.026356  0.065016  0.104904  0.070367\n",
              "m            0.001201  0.008613  0.002588  0.058044  0.033827  0.024657\n",
              "n            0.079240  0.130687  0.140210  0.143415  0.152522  0.362771\n",
              "o            0.001660  0.002439  0.001243  0.017065  0.012829  0.042681\n",
              "p            0.000018  0.000023  0.000020  0.003172  0.005675  0.001269\n",
              "q                 NaN       NaN  0.000030       NaN       NaN  0.000180\n",
              "r            0.013390  0.006764  0.018025  0.064481  0.031034  0.087477\n",
              "s            0.039042  0.012764  0.013332  0.130815  0.102730  0.065145\n",
              "t            0.027438  0.015201  0.007830  0.072879  0.065655  0.022861\n",
              "u            0.000684  0.000574  0.000417  0.000124  0.000057  0.001221\n",
              "v                 NaN  0.000060  0.000117  0.000113  0.000037  0.001434\n",
              "w            0.000020  0.000031  0.001182  0.006329  0.007711  0.016148\n",
              "x            0.000015  0.000037  0.000727  0.003965  0.001851  0.008614\n",
              "y            0.110972  0.152569  0.116828  0.077349  0.160987  0.058168\n",
              "z            0.002439  0.000659  0.000704  0.000170  0.000184  0.001831"
            ]
          },
          "metadata": {},
          "execution_count": 65
        }
      ]
    },
    {
      "cell_type": "code",
      "metadata": {
        "colab": {
          "base_uri": "https://localhost:8080/",
          "height": 641
        },
        "id": "oM8BBFZQw5ZF",
        "outputId": "d9e0a89e-168a-40c8-c966-107e6b781775"
      },
      "source": [
        "import matplotlib.pyplot as plt\n",
        "\n",
        "fig, axes = plt.subplots(2, 1, figsize=(10, 10))\n",
        "letter_prop['M'].plot(kind='bar', rot=0, ax=axes[0], title='Male')\n",
        "letter_prop['F'].plot(kind='bar', rot=0, ax=axes[1], title='Female',\n",
        "                      legend=False)"
      ],
      "execution_count": 67,
      "outputs": [
        {
          "output_type": "execute_result",
          "data": {
            "text/plain": [
              "<matplotlib.axes._subplots.AxesSubplot at 0x7f71fc2e6fd0>"
            ]
          },
          "metadata": {},
          "execution_count": 67
        },
        {
          "output_type": "display_data",
          "data": {
            "image/png": "[encoded data removed]",
            "text/plain": [
              "<Figure size 720x720 with 2 Axes>"
            ]
          },
          "metadata": {
            "needs_background": "light"
          }
        }
      ]
    },
    {
      "cell_type": "markdown",
      "metadata": {
        "id": "nggsJVkkxH7A"
      },
      "source": [
        "* 그래프에서 확인할 수 있듯이 'n'으로 끝나는 남자아이 이름의 빈도가 1960년도 이후에 급격하게 증가하였습니다.\n",
        "* 이제 1910, 1960, 2010 세 지점이 아닌 전체 자료에 대해 출생연도와 성별, 남자아이 이름에서 몇가지 글자로 정규화하고 시계열 데이터로 변환하겠습니다."
      ]
    },
    {
      "cell_type": "code",
      "metadata": {
        "colab": {
          "base_uri": "https://localhost:8080/",
          "height": 235
        },
        "id": "IXtXbAh-xTYs",
        "outputId": "a8152588-dded-4045-e55d-77998f8353a2"
      },
      "source": [
        "letter_prop = table / table.sum()\n",
        "dny_ts = letter_prop.loc[['d', 'n', 'y'], 'M'].T\n",
        "dny_ts.head()"
      ],
      "execution_count": 68,
      "outputs": [
        {
          "output_type": "execute_result",
          "data": {
            "text/html": [
              "<div>\n",
              "<style scoped>\n",
              "    .dataframe tbody tr th:only-of-type {\n",
              "        vertical-align: middle;\n",
              "    }\n",
              "\n",
              "    .dataframe tbody tr th {\n",
              "        vertical-align: top;\n",
              "    }\n",
              "\n",
              "    .dataframe thead th {\n",
              "        text-align: right;\n",
              "    }\n",
              "</style>\n",
              "<table border=\"1\" class=\"dataframe\">\n",
              "  <thead>\n",
              "    <tr style=\"text-align: right;\">\n",
              "      <th>last_letter</th>\n",
              "      <th>d</th>\n",
              "      <th>n</th>\n",
              "      <th>y</th>\n",
              "    </tr>\n",
              "    <tr>\n",
              "      <th>year</th>\n",
              "      <th></th>\n",
              "      <th></th>\n",
              "      <th></th>\n",
              "    </tr>\n",
              "  </thead>\n",
              "  <tbody>\n",
              "    <tr>\n",
              "      <th>1880</th>\n",
              "      <td>0.083055</td>\n",
              "      <td>0.153213</td>\n",
              "      <td>0.075760</td>\n",
              "    </tr>\n",
              "    <tr>\n",
              "      <th>1881</th>\n",
              "      <td>0.083247</td>\n",
              "      <td>0.153214</td>\n",
              "      <td>0.077451</td>\n",
              "    </tr>\n",
              "    <tr>\n",
              "      <th>1882</th>\n",
              "      <td>0.085340</td>\n",
              "      <td>0.149560</td>\n",
              "      <td>0.077537</td>\n",
              "    </tr>\n",
              "    <tr>\n",
              "      <th>1883</th>\n",
              "      <td>0.084066</td>\n",
              "      <td>0.151646</td>\n",
              "      <td>0.079144</td>\n",
              "    </tr>\n",
              "    <tr>\n",
              "      <th>1884</th>\n",
              "      <td>0.086120</td>\n",
              "      <td>0.149915</td>\n",
              "      <td>0.080405</td>\n",
              "    </tr>\n",
              "  </tbody>\n",
              "</table>\n",
              "</div>"
            ],
            "text/plain": [
              "last_letter         d         n         y\n",
              "year                                     \n",
              "1880         0.083055  0.153213  0.075760\n",
              "1881         0.083247  0.153214  0.077451\n",
              "1882         0.085340  0.149560  0.077537\n",
              "1883         0.084066  0.151646  0.079144\n",
              "1884         0.086120  0.149915  0.080405"
            ]
          },
          "metadata": {},
          "execution_count": 68
        }
      ]
    },
    {
      "cell_type": "code",
      "metadata": {
        "colab": {
          "base_uri": "https://localhost:8080/",
          "height": 298
        },
        "id": "tMmapGncxhiy",
        "outputId": "fc266158-76c7-4409-eb32-4f5d241ea82e"
      },
      "source": [
        "dny_ts.plot()"
      ],
      "execution_count": 69,
      "outputs": [
        {
          "output_type": "execute_result",
          "data": {
            "text/plain": [
              "<matplotlib.axes._subplots.AxesSubplot at 0x7f71fc575110>"
            ]
          },
          "metadata": {},
          "execution_count": 69
        },
        {
          "output_type": "display_data",
          "data": {
            "image/png": "[encoded data removed]",
            "text/plain": [
              "<Figure size 432x288 with 1 Axes>"
            ]
          },
          "metadata": {
            "needs_background": "light"
          }
        }
      ]
    },
    {
      "cell_type": "markdown",
      "metadata": {
        "id": "StlKf1-HyAZ3"
      },
      "source": [
        "---"
      ]
    },
    {
      "cell_type": "markdown",
      "metadata": {
        "id": "jX20peSQxxk_"
      },
      "source": [
        "## (2-4) 남자 이름과 여자 이름이 바뀐 경우\n",
        "\n",
        "* 또 다른 경향은 예전에는 남자 이름으로 선호되가 현재는 여자 이름으로 선호되는 경우가 있습니다.\n",
        "* 예를 들어, Lesley 또는 Leslie라는 이름이 그렇습니다.\n",
        "* top1000 데이터를 이용해서 'Lesl'로 시작하는 이름을 포함하는 목록을 만들어보겠습니다."
      ]
    },
    {
      "cell_type": "code",
      "metadata": {
        "colab": {
          "base_uri": "https://localhost:8080/"
        },
        "id": "x01997GEyAMQ",
        "outputId": "866becb4-94d6-446f-e08f-54028f268879"
      },
      "source": [
        "all_names = pd.Series(top1000.name.unique())\n",
        "lesley_like = all_names[all_names.str.lower().str.contains('lesl')]\n",
        "lesley_like"
      ],
      "execution_count": 77,
      "outputs": [
        {
          "output_type": "execute_result",
          "data": {
            "text/plain": [
              "632     Leslie\n",
              "2294    Lesley\n",
              "4262    Leslee\n",
              "4728     Lesli\n",
              "6103     Lesly\n",
              "dtype: object"
            ]
          },
          "metadata": {},
          "execution_count": 77
        }
      ]
    },
    {
      "cell_type": "markdown",
      "metadata": {
        "id": "ccqiaVJz0tX_"
      },
      "source": [
        "* 상대 도수는 다음과 같습니다."
      ]
    },
    {
      "cell_type": "code",
      "metadata": {
        "colab": {
          "base_uri": "https://localhost:8080/"
        },
        "id": "GSg8W_CnyNmm",
        "outputId": "6d5ab6ab-5361-482d-9c0b-2790fde44fc1"
      },
      "source": [
        "filtered = top1000[top1000.name.isin(lesley_like)]\n",
        "filtered.groupby('name').births.sum()"
      ],
      "execution_count": 84,
      "outputs": [
        {
          "output_type": "execute_result",
          "data": {
            "text/plain": [
              "name\n",
              "Leslee      1082\n",
              "Lesley     35022\n",
              "Lesli        929\n",
              "Leslie    370429\n",
              "Lesly      10067\n",
              "Name: births, dtype: int64"
            ]
          },
          "metadata": {},
          "execution_count": 84
        }
      ]
    },
    {
      "cell_type": "code",
      "metadata": {
        "colab": {
          "base_uri": "https://localhost:8080/",
          "height": 419
        },
        "id": "UFd6IxzxzsMg",
        "outputId": "18f68a94-4fa6-4c01-9bd6-b3213379cd07"
      },
      "source": [
        "filtered"
      ],
      "execution_count": 85,
      "outputs": [
        {
          "output_type": "execute_result",
          "data": {
            "text/html": [
              "<div>\n",
              "<style scoped>\n",
              "    .dataframe tbody tr th:only-of-type {\n",
              "        vertical-align: middle;\n",
              "    }\n",
              "\n",
              "    .dataframe tbody tr th {\n",
              "        vertical-align: top;\n",
              "    }\n",
              "\n",
              "    .dataframe thead th {\n",
              "        text-align: right;\n",
              "    }\n",
              "</style>\n",
              "<table border=\"1\" class=\"dataframe\">\n",
              "  <thead>\n",
              "    <tr style=\"text-align: right;\">\n",
              "      <th></th>\n",
              "      <th>name</th>\n",
              "      <th>sex</th>\n",
              "      <th>births</th>\n",
              "      <th>year</th>\n",
              "      <th>prop</th>\n",
              "    </tr>\n",
              "  </thead>\n",
              "  <tbody>\n",
              "    <tr>\n",
              "      <th>632</th>\n",
              "      <td>Leslie</td>\n",
              "      <td>F</td>\n",
              "      <td>8</td>\n",
              "      <td>1880</td>\n",
              "      <td>0.000088</td>\n",
              "    </tr>\n",
              "    <tr>\n",
              "      <th>1108</th>\n",
              "      <td>Leslie</td>\n",
              "      <td>M</td>\n",
              "      <td>79</td>\n",
              "      <td>1880</td>\n",
              "      <td>0.000715</td>\n",
              "    </tr>\n",
              "    <tr>\n",
              "      <th>2462</th>\n",
              "      <td>Leslie</td>\n",
              "      <td>F</td>\n",
              "      <td>11</td>\n",
              "      <td>1881</td>\n",
              "      <td>0.000120</td>\n",
              "    </tr>\n",
              "    <tr>\n",
              "      <th>3014</th>\n",
              "      <td>Leslie</td>\n",
              "      <td>M</td>\n",
              "      <td>92</td>\n",
              "      <td>1881</td>\n",
              "      <td>0.000913</td>\n",
              "    </tr>\n",
              "    <tr>\n",
              "      <th>4512</th>\n",
              "      <td>Leslie</td>\n",
              "      <td>F</td>\n",
              "      <td>9</td>\n",
              "      <td>1882</td>\n",
              "      <td>0.000083</td>\n",
              "    </tr>\n",
              "    <tr>\n",
              "      <th>...</th>\n",
              "      <td>...</td>\n",
              "      <td>...</td>\n",
              "      <td>...</td>\n",
              "      <td>...</td>\n",
              "      <td>...</td>\n",
              "    </tr>\n",
              "    <tr>\n",
              "      <th>256327</th>\n",
              "      <td>Lesly</td>\n",
              "      <td>F</td>\n",
              "      <td>699</td>\n",
              "      <td>2008</td>\n",
              "      <td>0.000371</td>\n",
              "    </tr>\n",
              "    <tr>\n",
              "      <th>258036</th>\n",
              "      <td>Leslie</td>\n",
              "      <td>F</td>\n",
              "      <td>1975</td>\n",
              "      <td>2009</td>\n",
              "      <td>0.001081</td>\n",
              "    </tr>\n",
              "    <tr>\n",
              "      <th>258378</th>\n",
              "      <td>Lesly</td>\n",
              "      <td>F</td>\n",
              "      <td>598</td>\n",
              "      <td>2009</td>\n",
              "      <td>0.000327</td>\n",
              "    </tr>\n",
              "    <tr>\n",
              "      <th>260073</th>\n",
              "      <td>Leslie</td>\n",
              "      <td>F</td>\n",
              "      <td>1558</td>\n",
              "      <td>2010</td>\n",
              "      <td>0.000886</td>\n",
              "    </tr>\n",
              "    <tr>\n",
              "      <th>260456</th>\n",
              "      <td>Lesly</td>\n",
              "      <td>F</td>\n",
              "      <td>502</td>\n",
              "      <td>2010</td>\n",
              "      <td>0.000285</td>\n",
              "    </tr>\n",
              "  </tbody>\n",
              "</table>\n",
              "<p>400 rows × 5 columns</p>\n",
              "</div>"
            ],
            "text/plain": [
              "          name sex  births  year      prop\n",
              "632     Leslie   F       8  1880  0.000088\n",
              "1108    Leslie   M      79  1880  0.000715\n",
              "2462    Leslie   F      11  1881  0.000120\n",
              "3014    Leslie   M      92  1881  0.000913\n",
              "4512    Leslie   F       9  1882  0.000083\n",
              "...        ...  ..     ...   ...       ...\n",
              "256327   Lesly   F     699  2008  0.000371\n",
              "258036  Leslie   F    1975  2009  0.001081\n",
              "258378   Lesly   F     598  2009  0.000327\n",
              "260073  Leslie   F    1558  2010  0.000886\n",
              "260456   Lesly   F     502  2010  0.000285\n",
              "\n",
              "[400 rows x 5 columns]"
            ]
          },
          "metadata": {},
          "execution_count": 85
        }
      ]
    },
    {
      "cell_type": "markdown",
      "metadata": {
        "id": "_dbWTTb2ybYe"
      },
      "source": [
        "* 성별과 연도별로 모든 다음 출생연도로 정규화하겠습니다."
      ]
    },
    {
      "cell_type": "code",
      "metadata": {
        "id": "hW7U3Pclyd60"
      },
      "source": [
        "table = filtered.pivot_table('births', index='year',\n",
        "                             columns='sex', aggfunc='sum')"
      ],
      "execution_count": 86,
      "outputs": []
    },
    {
      "cell_type": "code",
      "metadata": {
        "colab": {
          "base_uri": "https://localhost:8080/",
          "height": 450
        },
        "id": "-LyRGlzdzh8Y",
        "outputId": "3fdae125-9c8b-4154-e2fd-8e08f002c696"
      },
      "source": [
        "table"
      ],
      "execution_count": 89,
      "outputs": [
        {
          "output_type": "execute_result",
          "data": {
            "text/html": [
              "<div>\n",
              "<style scoped>\n",
              "    .dataframe tbody tr th:only-of-type {\n",
              "        vertical-align: middle;\n",
              "    }\n",
              "\n",
              "    .dataframe tbody tr th {\n",
              "        vertical-align: top;\n",
              "    }\n",
              "\n",
              "    .dataframe thead th {\n",
              "        text-align: right;\n",
              "    }\n",
              "</style>\n",
              "<table border=\"1\" class=\"dataframe\">\n",
              "  <thead>\n",
              "    <tr style=\"text-align: right;\">\n",
              "      <th>sex</th>\n",
              "      <th>F</th>\n",
              "      <th>M</th>\n",
              "    </tr>\n",
              "    <tr>\n",
              "      <th>year</th>\n",
              "      <th></th>\n",
              "      <th></th>\n",
              "    </tr>\n",
              "  </thead>\n",
              "  <tbody>\n",
              "    <tr>\n",
              "      <th>1880</th>\n",
              "      <td>8.0</td>\n",
              "      <td>79.0</td>\n",
              "    </tr>\n",
              "    <tr>\n",
              "      <th>1881</th>\n",
              "      <td>11.0</td>\n",
              "      <td>92.0</td>\n",
              "    </tr>\n",
              "    <tr>\n",
              "      <th>1882</th>\n",
              "      <td>9.0</td>\n",
              "      <td>128.0</td>\n",
              "    </tr>\n",
              "    <tr>\n",
              "      <th>1883</th>\n",
              "      <td>7.0</td>\n",
              "      <td>125.0</td>\n",
              "    </tr>\n",
              "    <tr>\n",
              "      <th>1884</th>\n",
              "      <td>15.0</td>\n",
              "      <td>125.0</td>\n",
              "    </tr>\n",
              "    <tr>\n",
              "      <th>...</th>\n",
              "      <td>...</td>\n",
              "      <td>...</td>\n",
              "    </tr>\n",
              "    <tr>\n",
              "      <th>2006</th>\n",
              "      <td>4166.0</td>\n",
              "      <td>NaN</td>\n",
              "    </tr>\n",
              "    <tr>\n",
              "      <th>2007</th>\n",
              "      <td>3805.0</td>\n",
              "      <td>NaN</td>\n",
              "    </tr>\n",
              "    <tr>\n",
              "      <th>2008</th>\n",
              "      <td>3022.0</td>\n",
              "      <td>NaN</td>\n",
              "    </tr>\n",
              "    <tr>\n",
              "      <th>2009</th>\n",
              "      <td>2573.0</td>\n",
              "      <td>NaN</td>\n",
              "    </tr>\n",
              "    <tr>\n",
              "      <th>2010</th>\n",
              "      <td>2060.0</td>\n",
              "      <td>NaN</td>\n",
              "    </tr>\n",
              "  </tbody>\n",
              "</table>\n",
              "<p>131 rows × 2 columns</p>\n",
              "</div>"
            ],
            "text/plain": [
              "sex        F      M\n",
              "year               \n",
              "1880     8.0   79.0\n",
              "1881    11.0   92.0\n",
              "1882     9.0  128.0\n",
              "1883     7.0  125.0\n",
              "1884    15.0  125.0\n",
              "...      ...    ...\n",
              "2006  4166.0    NaN\n",
              "2007  3805.0    NaN\n",
              "2008  3022.0    NaN\n",
              "2009  2573.0    NaN\n",
              "2010  2060.0    NaN\n",
              "\n",
              "[131 rows x 2 columns]"
            ]
          },
          "metadata": {},
          "execution_count": 89
        }
      ]
    },
    {
      "cell_type": "code",
      "metadata": {
        "colab": {
          "base_uri": "https://localhost:8080/"
        },
        "id": "r0OdwuOF0CAq",
        "outputId": "5c810630-347e-493c-af49-a4111eda0f67"
      },
      "source": [
        "table.sum(1) #sum(1)로 하면 연도별로 합쳐주게 됩니다."
      ],
      "execution_count": 96,
      "outputs": [
        {
          "output_type": "execute_result",
          "data": {
            "text/plain": [
              "year\n",
              "1880      87.0\n",
              "1881     103.0\n",
              "1882     137.0\n",
              "1883     132.0\n",
              "1884     140.0\n",
              "         ...  \n",
              "2006    4166.0\n",
              "2007    3805.0\n",
              "2008    3022.0\n",
              "2009    2573.0\n",
              "2010    2060.0\n",
              "Length: 131, dtype: float64"
            ]
          },
          "metadata": {},
          "execution_count": 96
        }
      ]
    },
    {
      "cell_type": "code",
      "metadata": {
        "colab": {
          "base_uri": "https://localhost:8080/",
          "height": 450
        },
        "id": "uQbw36Ws0O-f",
        "outputId": "8fe8a3a7-cbe8-4010-a416-9cc9587d1041"
      },
      "source": [
        "table = table.div(table.sum(1), axis=0)\n",
        "table"
      ],
      "execution_count": 103,
      "outputs": [
        {
          "output_type": "execute_result",
          "data": {
            "text/html": [
              "<div>\n",
              "<style scoped>\n",
              "    .dataframe tbody tr th:only-of-type {\n",
              "        vertical-align: middle;\n",
              "    }\n",
              "\n",
              "    .dataframe tbody tr th {\n",
              "        vertical-align: top;\n",
              "    }\n",
              "\n",
              "    .dataframe thead th {\n",
              "        text-align: right;\n",
              "    }\n",
              "</style>\n",
              "<table border=\"1\" class=\"dataframe\">\n",
              "  <thead>\n",
              "    <tr style=\"text-align: right;\">\n",
              "      <th>sex</th>\n",
              "      <th>F</th>\n",
              "      <th>M</th>\n",
              "    </tr>\n",
              "    <tr>\n",
              "      <th>year</th>\n",
              "      <th></th>\n",
              "      <th></th>\n",
              "    </tr>\n",
              "  </thead>\n",
              "  <tbody>\n",
              "    <tr>\n",
              "      <th>1880</th>\n",
              "      <td>0.091954</td>\n",
              "      <td>0.908046</td>\n",
              "    </tr>\n",
              "    <tr>\n",
              "      <th>1881</th>\n",
              "      <td>0.106796</td>\n",
              "      <td>0.893204</td>\n",
              "    </tr>\n",
              "    <tr>\n",
              "      <th>1882</th>\n",
              "      <td>0.065693</td>\n",
              "      <td>0.934307</td>\n",
              "    </tr>\n",
              "    <tr>\n",
              "      <th>1883</th>\n",
              "      <td>0.053030</td>\n",
              "      <td>0.946970</td>\n",
              "    </tr>\n",
              "    <tr>\n",
              "      <th>1884</th>\n",
              "      <td>0.107143</td>\n",
              "      <td>0.892857</td>\n",
              "    </tr>\n",
              "    <tr>\n",
              "      <th>...</th>\n",
              "      <td>...</td>\n",
              "      <td>...</td>\n",
              "    </tr>\n",
              "    <tr>\n",
              "      <th>2006</th>\n",
              "      <td>1.000000</td>\n",
              "      <td>NaN</td>\n",
              "    </tr>\n",
              "    <tr>\n",
              "      <th>2007</th>\n",
              "      <td>1.000000</td>\n",
              "      <td>NaN</td>\n",
              "    </tr>\n",
              "    <tr>\n",
              "      <th>2008</th>\n",
              "      <td>1.000000</td>\n",
              "      <td>NaN</td>\n",
              "    </tr>\n",
              "    <tr>\n",
              "      <th>2009</th>\n",
              "      <td>1.000000</td>\n",
              "      <td>NaN</td>\n",
              "    </tr>\n",
              "    <tr>\n",
              "      <th>2010</th>\n",
              "      <td>1.000000</td>\n",
              "      <td>NaN</td>\n",
              "    </tr>\n",
              "  </tbody>\n",
              "</table>\n",
              "<p>131 rows × 2 columns</p>\n",
              "</div>"
            ],
            "text/plain": [
              "sex          F         M\n",
              "year                    \n",
              "1880  0.091954  0.908046\n",
              "1881  0.106796  0.893204\n",
              "1882  0.065693  0.934307\n",
              "1883  0.053030  0.946970\n",
              "1884  0.107143  0.892857\n",
              "...        ...       ...\n",
              "2006  1.000000       NaN\n",
              "2007  1.000000       NaN\n",
              "2008  1.000000       NaN\n",
              "2009  1.000000       NaN\n",
              "2010  1.000000       NaN\n",
              "\n",
              "[131 rows x 2 columns]"
            ]
          },
          "metadata": {},
          "execution_count": 103
        }
      ]
    },
    {
      "cell_type": "markdown",
      "metadata": {
        "id": "quupUBE2yiUP"
      },
      "source": [
        "* 마지막으로 시대별로 성별에 따른 명세를 그래프로 그려보겠습니다."
      ]
    },
    {
      "cell_type": "code",
      "metadata": {
        "colab": {
          "base_uri": "https://localhost:8080/",
          "height": 298
        },
        "id": "6Gwjxfp0yksX",
        "outputId": "694acc62-d102-4895-b5a8-0cb87233071b"
      },
      "source": [
        "table.plot(style={'M': 'k-', 'F': 'k--'})"
      ],
      "execution_count": 79,
      "outputs": [
        {
          "output_type": "execute_result",
          "data": {
            "text/plain": [
              "<matplotlib.axes._subplots.AxesSubplot at 0x7f71fbfba890>"
            ]
          },
          "metadata": {},
          "execution_count": 79
        },
        {
          "output_type": "display_data",
          "data": {
            "image/png": "[encoded data removed]",
            "text/plain": [
              "<Figure size 432x288 with 1 Axes>"
            ]
          },
          "metadata": {
            "needs_background": "light"
          }
        }
      ]
    },
    {
      "cell_type": "markdown",
      "metadata": {
        "id": "-v6Jz69B04qP"
      },
      "source": [
        "* 1950년 부터 `lesl`로 시작하는 신생아 이름이 여자 아이에게 더 많이 사용이 되었다.\n",
        "* 최근 들어는 `lesl`로 시작하는 신생아 이름 중에서 남자 아이의 비율은 0에 가깝다."
      ]
    },
    {
      "cell_type": "code",
      "metadata": {
        "id": "zuBUww-V1DAc"
      },
      "source": [
        ""
      ],
      "execution_count": null,
      "outputs": []
    }
  ]
}
