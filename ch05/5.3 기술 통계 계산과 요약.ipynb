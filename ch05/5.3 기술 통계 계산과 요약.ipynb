{
  "nbformat": 4,
  "nbformat_minor": 0,
  "metadata": {
    "colab": {
      "name": "5.3 기술 통계 계산과 요약.ipynb",
      "provenance": [],
      "collapsed_sections": []
    },
    "kernelspec": {
      "name": "python3",
      "display_name": "Python 3"
    },
    "language_info": {
      "name": "python"
    }
  },
  "cells": [
    {
      "cell_type": "markdown",
      "metadata": {
        "id": "SYDsv_oRdMGw"
      },
      "source": [
        "# 5.3 기술 통계 계산과 요약\n",
        "\n",
        "* `pandas` 객체는 일반적인 수학 메서드와 통계 메서드를 가지고 있음<br><br>\n",
        "* 이 메서드의 대부분은 하나의 `Series`나 `DataFrame`의 로우나 컬럼에서<br>\n",
        "단일 값(합이나 평균 같은)을 구하는 **축소** 혹은 **요약 통계** 범주에 속한다.<br><br>\n",
        "* 순수 `Numpy` 배열에서 제공하는 동일한 메서드와 비교하여 `pandas`의 메서드는<br>\n",
        "처음부터 누락된 데이터를 제외하도록 설계되었다."
      ]
    },
    {
      "cell_type": "code",
      "metadata": {
        "id": "x6gWU59odJXL"
      },
      "source": [
        "import numpy as np\n",
        "import pandas as pd\n",
        "df = pd.DataFrame([[1.4, np.nan], [7.1, -4.5],\n",
        "                   [np.nan, np.nan], [0.75, -1.3]],\n",
        "                   index=['a', 'b', 'c', 'd'],\n",
        "                   columns=['one', 'two'])"
      ],
      "execution_count": 2,
      "outputs": []
    },
    {
      "cell_type": "code",
      "metadata": {
        "colab": {
          "base_uri": "https://localhost:8080/",
          "height": 175
        },
        "id": "s0PRF7_6eIfA",
        "outputId": "f78ed163-7cf5-46e7-e1e8-e9189895d4cb"
      },
      "source": [
        "df"
      ],
      "execution_count": 3,
      "outputs": [
        {
          "output_type": "execute_result",
          "data": {
            "text/html": [
              "<div>\n",
              "<style scoped>\n",
              "    .dataframe tbody tr th:only-of-type {\n",
              "        vertical-align: middle;\n",
              "    }\n",
              "\n",
              "    .dataframe tbody tr th {\n",
              "        vertical-align: top;\n",
              "    }\n",
              "\n",
              "    .dataframe thead th {\n",
              "        text-align: right;\n",
              "    }\n",
              "</style>\n",
              "<table border=\"1\" class=\"dataframe\">\n",
              "  <thead>\n",
              "    <tr style=\"text-align: right;\">\n",
              "      <th></th>\n",
              "      <th>one</th>\n",
              "      <th>two</th>\n",
              "    </tr>\n",
              "  </thead>\n",
              "  <tbody>\n",
              "    <tr>\n",
              "      <th>a</th>\n",
              "      <td>1.40</td>\n",
              "      <td>NaN</td>\n",
              "    </tr>\n",
              "    <tr>\n",
              "      <th>b</th>\n",
              "      <td>7.10</td>\n",
              "      <td>-4.5</td>\n",
              "    </tr>\n",
              "    <tr>\n",
              "      <th>c</th>\n",
              "      <td>NaN</td>\n",
              "      <td>NaN</td>\n",
              "    </tr>\n",
              "    <tr>\n",
              "      <th>d</th>\n",
              "      <td>0.75</td>\n",
              "      <td>-1.3</td>\n",
              "    </tr>\n",
              "  </tbody>\n",
              "</table>\n",
              "</div>"
            ],
            "text/plain": [
              "    one  two\n",
              "a  1.40  NaN\n",
              "b  7.10 -4.5\n",
              "c   NaN  NaN\n",
              "d  0.75 -1.3"
            ]
          },
          "metadata": {
            "tags": []
          },
          "execution_count": 3
        }
      ]
    },
    {
      "cell_type": "markdown",
      "metadata": {
        "id": "XILjZW8JgpOf"
      },
      "source": [
        "---"
      ]
    },
    {
      "cell_type": "markdown",
      "metadata": {
        "id": "DZxey3j5ecj_"
      },
      "source": [
        "* `DataFrame`의 `sum` 메서드를 호출하면 각 컬럼의 합을 담은 `Series`를 반환한다."
      ]
    },
    {
      "cell_type": "code",
      "metadata": {
        "colab": {
          "base_uri": "https://localhost:8080/"
        },
        "id": "lZlKJmoleNCM",
        "outputId": "25662ead-617d-4b18-aa8d-36101190dd1e"
      },
      "source": [
        "df_sum = df.sum() #default: axis=0\n",
        "print(df_sum, type(df_sum))"
      ],
      "execution_count": 8,
      "outputs": [
        {
          "output_type": "stream",
          "text": [
            "one    9.25\n",
            "two   -5.80\n",
            "dtype: float64 <class 'pandas.core.series.Series'>\n"
          ],
          "name": "stdout"
        }
      ]
    },
    {
      "cell_type": "code",
      "metadata": {
        "colab": {
          "base_uri": "https://localhost:8080/"
        },
        "id": "2Ec6P4bBepQE",
        "outputId": "30e2260b-8d13-4594-dda7-0ac660c8a7de"
      },
      "source": [
        "df.sum(axis='columns') #axis=1"
      ],
      "execution_count": 10,
      "outputs": [
        {
          "output_type": "execute_result",
          "data": {
            "text/plain": [
              "a    1.40\n",
              "b    2.60\n",
              "c    0.00\n",
              "d   -0.55\n",
              "dtype: float64"
            ]
          },
          "metadata": {
            "tags": []
          },
          "execution_count": 10
        }
      ]
    },
    {
      "cell_type": "markdown",
      "metadata": {
        "id": "BYAf3i8Fgnzn"
      },
      "source": [
        "---"
      ]
    },
    {
      "cell_type": "markdown",
      "metadata": {
        "id": "ug-eKEcVe8z3"
      },
      "source": [
        "* 전체 로우나 컬럼의 값이 `NA`가 아니라면 `NA`값은 제외되고 계산된다.<BR>\n",
        "이는 `sikpna` 옵션으로 조정할 수 있다."
      ]
    },
    {
      "cell_type": "code",
      "metadata": {
        "colab": {
          "base_uri": "https://localhost:8080/"
        },
        "id": "Nhp5SOsqfGYY",
        "outputId": "f73bc4c2-7037-4124-9334-b0278a1b339d"
      },
      "source": [
        "df.mean(axis='columns', skipna=False)"
      ],
      "execution_count": 11,
      "outputs": [
        {
          "output_type": "execute_result",
          "data": {
            "text/plain": [
              "a      NaN\n",
              "b    1.300\n",
              "c      NaN\n",
              "d   -0.275\n",
              "dtype: float64"
            ]
          },
          "metadata": {
            "tags": []
          },
          "execution_count": 11
        }
      ]
    },
    {
      "cell_type": "code",
      "metadata": {
        "colab": {
          "base_uri": "https://localhost:8080/"
        },
        "id": "GM5Bz_gDfLEH",
        "outputId": "8dc8579f-edaa-460c-882b-4ff192d94867"
      },
      "source": [
        "df.mean(axis='columns', skipna=True) #default: True"
      ],
      "execution_count": 13,
      "outputs": [
        {
          "output_type": "execute_result",
          "data": {
            "text/plain": [
              "a    1.400\n",
              "b    1.300\n",
              "c      NaN\n",
              "d   -0.275\n",
              "dtype: float64"
            ]
          },
          "metadata": {
            "tags": []
          },
          "execution_count": 13
        }
      ]
    },
    {
      "cell_type": "markdown",
      "metadata": {
        "id": "dNid7SiGfvQX"
      },
      "source": [
        "|옵션|설명|\n",
        "|---|---|\n",
        "|`axis`|연산을 수행할 축. DataFrame에서 0은 로우고 1은 컬럼이다.|\n",
        "|`skipna`|누락된 값을 제외할 것인지 정하는 옵션. 기본값은 True|\n",
        "|`level`|계산하려는 축이 계층적 색인(다중 색인)이라면 레벨에 따라 묶어서 계산한다.|"
      ]
    },
    {
      "cell_type": "markdown",
      "metadata": {
        "id": "UhBzs2q4guku"
      },
      "source": [
        "---"
      ]
    },
    {
      "cell_type": "markdown",
      "metadata": {
        "id": "PFMzwBJRgvge"
      },
      "source": [
        "* `idxmin`이나 `ixmax` 같은 메서드는 최솟값 혹은 최댓값을 가지고 있는 색인값과 같은 간접 통계를 반환한다."
      ]
    },
    {
      "cell_type": "code",
      "metadata": {
        "colab": {
          "base_uri": "https://localhost:8080/",
          "height": 175
        },
        "id": "-xWEIbl3hV2s",
        "outputId": "a56501b3-0fae-4c41-f7d2-dad521e8d7d8"
      },
      "source": [
        "df"
      ],
      "execution_count": 19,
      "outputs": [
        {
          "output_type": "execute_result",
          "data": {
            "text/html": [
              "<div>\n",
              "<style scoped>\n",
              "    .dataframe tbody tr th:only-of-type {\n",
              "        vertical-align: middle;\n",
              "    }\n",
              "\n",
              "    .dataframe tbody tr th {\n",
              "        vertical-align: top;\n",
              "    }\n",
              "\n",
              "    .dataframe thead th {\n",
              "        text-align: right;\n",
              "    }\n",
              "</style>\n",
              "<table border=\"1\" class=\"dataframe\">\n",
              "  <thead>\n",
              "    <tr style=\"text-align: right;\">\n",
              "      <th></th>\n",
              "      <th>one</th>\n",
              "      <th>two</th>\n",
              "    </tr>\n",
              "  </thead>\n",
              "  <tbody>\n",
              "    <tr>\n",
              "      <th>a</th>\n",
              "      <td>1.40</td>\n",
              "      <td>NaN</td>\n",
              "    </tr>\n",
              "    <tr>\n",
              "      <th>b</th>\n",
              "      <td>7.10</td>\n",
              "      <td>-4.5</td>\n",
              "    </tr>\n",
              "    <tr>\n",
              "      <th>c</th>\n",
              "      <td>NaN</td>\n",
              "      <td>NaN</td>\n",
              "    </tr>\n",
              "    <tr>\n",
              "      <th>d</th>\n",
              "      <td>0.75</td>\n",
              "      <td>-1.3</td>\n",
              "    </tr>\n",
              "  </tbody>\n",
              "</table>\n",
              "</div>"
            ],
            "text/plain": [
              "    one  two\n",
              "a  1.40  NaN\n",
              "b  7.10 -4.5\n",
              "c   NaN  NaN\n",
              "d  0.75 -1.3"
            ]
          },
          "metadata": {
            "tags": []
          },
          "execution_count": 19
        }
      ]
    },
    {
      "cell_type": "code",
      "metadata": {
        "colab": {
          "base_uri": "https://localhost:8080/"
        },
        "id": "iLrxV_iKfwHf",
        "outputId": "44daba49-2327-4829-8775-5c4e9ab2aff7"
      },
      "source": [
        "df.idxmax()"
      ],
      "execution_count": 16,
      "outputs": [
        {
          "output_type": "execute_result",
          "data": {
            "text/plain": [
              "one    b\n",
              "two    d\n",
              "dtype: object"
            ]
          },
          "metadata": {
            "tags": []
          },
          "execution_count": 16
        }
      ]
    },
    {
      "cell_type": "markdown",
      "metadata": {
        "id": "1rIol6UohDQ_"
      },
      "source": [
        "* 또다른 메서드로 **누산(accumulation)**이 있다."
      ]
    },
    {
      "cell_type": "code",
      "metadata": {
        "colab": {
          "base_uri": "https://localhost:8080/",
          "height": 175
        },
        "id": "ep9iGp6-g5ei",
        "outputId": "760edde1-8da0-474c-bc75-6952ea34db63"
      },
      "source": [
        "df.cumsum() "
      ],
      "execution_count": 17,
      "outputs": [
        {
          "output_type": "execute_result",
          "data": {
            "text/html": [
              "<div>\n",
              "<style scoped>\n",
              "    .dataframe tbody tr th:only-of-type {\n",
              "        vertical-align: middle;\n",
              "    }\n",
              "\n",
              "    .dataframe tbody tr th {\n",
              "        vertical-align: top;\n",
              "    }\n",
              "\n",
              "    .dataframe thead th {\n",
              "        text-align: right;\n",
              "    }\n",
              "</style>\n",
              "<table border=\"1\" class=\"dataframe\">\n",
              "  <thead>\n",
              "    <tr style=\"text-align: right;\">\n",
              "      <th></th>\n",
              "      <th>one</th>\n",
              "      <th>two</th>\n",
              "    </tr>\n",
              "  </thead>\n",
              "  <tbody>\n",
              "    <tr>\n",
              "      <th>a</th>\n",
              "      <td>1.40</td>\n",
              "      <td>NaN</td>\n",
              "    </tr>\n",
              "    <tr>\n",
              "      <th>b</th>\n",
              "      <td>8.50</td>\n",
              "      <td>-4.5</td>\n",
              "    </tr>\n",
              "    <tr>\n",
              "      <th>c</th>\n",
              "      <td>NaN</td>\n",
              "      <td>NaN</td>\n",
              "    </tr>\n",
              "    <tr>\n",
              "      <th>d</th>\n",
              "      <td>9.25</td>\n",
              "      <td>-5.8</td>\n",
              "    </tr>\n",
              "  </tbody>\n",
              "</table>\n",
              "</div>"
            ],
            "text/plain": [
              "    one  two\n",
              "a  1.40  NaN\n",
              "b  8.50 -4.5\n",
              "c   NaN  NaN\n",
              "d  9.25 -5.8"
            ]
          },
          "metadata": {
            "tags": []
          },
          "execution_count": 17
        }
      ]
    },
    {
      "cell_type": "markdown",
      "metadata": {
        "id": "vk-Dk0-uhIAu"
      },
      "source": [
        "* 축소나 누산이 아닌 다른 종류의 메서드로 `describe`가 있다.<br>\n",
        "이 메서드는 한 번에 여러 개의 통계 결과를 만들어낸다."
      ]
    },
    {
      "cell_type": "code",
      "metadata": {
        "colab": {
          "base_uri": "https://localhost:8080/",
          "height": 299
        },
        "id": "HAOz1g52hN5L",
        "outputId": "d21b0e6a-5118-46da-d97b-b78c9349693b"
      },
      "source": [
        "df.describe()"
      ],
      "execution_count": 18,
      "outputs": [
        {
          "output_type": "execute_result",
          "data": {
            "text/html": [
              "<div>\n",
              "<style scoped>\n",
              "    .dataframe tbody tr th:only-of-type {\n",
              "        vertical-align: middle;\n",
              "    }\n",
              "\n",
              "    .dataframe tbody tr th {\n",
              "        vertical-align: top;\n",
              "    }\n",
              "\n",
              "    .dataframe thead th {\n",
              "        text-align: right;\n",
              "    }\n",
              "</style>\n",
              "<table border=\"1\" class=\"dataframe\">\n",
              "  <thead>\n",
              "    <tr style=\"text-align: right;\">\n",
              "      <th></th>\n",
              "      <th>one</th>\n",
              "      <th>two</th>\n",
              "    </tr>\n",
              "  </thead>\n",
              "  <tbody>\n",
              "    <tr>\n",
              "      <th>count</th>\n",
              "      <td>3.000000</td>\n",
              "      <td>2.000000</td>\n",
              "    </tr>\n",
              "    <tr>\n",
              "      <th>mean</th>\n",
              "      <td>3.083333</td>\n",
              "      <td>-2.900000</td>\n",
              "    </tr>\n",
              "    <tr>\n",
              "      <th>std</th>\n",
              "      <td>3.493685</td>\n",
              "      <td>2.262742</td>\n",
              "    </tr>\n",
              "    <tr>\n",
              "      <th>min</th>\n",
              "      <td>0.750000</td>\n",
              "      <td>-4.500000</td>\n",
              "    </tr>\n",
              "    <tr>\n",
              "      <th>25%</th>\n",
              "      <td>1.075000</td>\n",
              "      <td>-3.700000</td>\n",
              "    </tr>\n",
              "    <tr>\n",
              "      <th>50%</th>\n",
              "      <td>1.400000</td>\n",
              "      <td>-2.900000</td>\n",
              "    </tr>\n",
              "    <tr>\n",
              "      <th>75%</th>\n",
              "      <td>4.250000</td>\n",
              "      <td>-2.100000</td>\n",
              "    </tr>\n",
              "    <tr>\n",
              "      <th>max</th>\n",
              "      <td>7.100000</td>\n",
              "      <td>-1.300000</td>\n",
              "    </tr>\n",
              "  </tbody>\n",
              "</table>\n",
              "</div>"
            ],
            "text/plain": [
              "            one       two\n",
              "count  3.000000  2.000000\n",
              "mean   3.083333 -2.900000\n",
              "std    3.493685  2.262742\n",
              "min    0.750000 -4.500000\n",
              "25%    1.075000 -3.700000\n",
              "50%    1.400000 -2.900000\n",
              "75%    4.250000 -2.100000\n",
              "max    7.100000 -1.300000"
            ]
          },
          "metadata": {
            "tags": []
          },
          "execution_count": 18
        }
      ]
    },
    {
      "cell_type": "markdown",
      "metadata": {
        "id": "KPnjTvw3hfiV"
      },
      "source": [
        "* 수치 데이터가 아닐 경우 `describe`는 다른 요약 통계를 생성한다."
      ]
    },
    {
      "cell_type": "code",
      "metadata": {
        "colab": {
          "base_uri": "https://localhost:8080/"
        },
        "id": "QXRogjyihilN",
        "outputId": "089ca55b-2fa3-486a-a1a3-69cc5f69949f"
      },
      "source": [
        "obj = pd.Series(['a', 'a', 'b', 'c'] * 4)\n",
        "obj"
      ],
      "execution_count": 21,
      "outputs": [
        {
          "output_type": "execute_result",
          "data": {
            "text/plain": [
              "0     a\n",
              "1     a\n",
              "2     b\n",
              "3     c\n",
              "4     a\n",
              "5     a\n",
              "6     b\n",
              "7     c\n",
              "8     a\n",
              "9     a\n",
              "10    b\n",
              "11    c\n",
              "12    a\n",
              "13    a\n",
              "14    b\n",
              "15    c\n",
              "dtype: object"
            ]
          },
          "metadata": {
            "tags": []
          },
          "execution_count": 21
        }
      ]
    },
    {
      "cell_type": "code",
      "metadata": {
        "colab": {
          "base_uri": "https://localhost:8080/"
        },
        "id": "tLlL3GTJhord",
        "outputId": "2d05c4ca-c78d-474c-c426-019347b464d2"
      },
      "source": [
        "obj.describe()"
      ],
      "execution_count": 22,
      "outputs": [
        {
          "output_type": "execute_result",
          "data": {
            "text/plain": [
              "count     16\n",
              "unique     3\n",
              "top        a\n",
              "freq       8\n",
              "dtype: object"
            ]
          },
          "metadata": {
            "tags": []
          },
          "execution_count": 22
        }
      ]
    },
    {
      "cell_type": "markdown",
      "metadata": {
        "id": "3_U9MlzQhym7"
      },
      "source": [
        "|메서드|설명|\n",
        "|---|---|\n",
        "|`count`|NA 값을 제외한 값의 수를 반환한다.|\n",
        "|`describe`|Series나 DataFrame의 각 컬럼에 대한 요약 통계를 계산한다.|\n",
        "|`min, max`|최솟값과 최댓값을 계산한다.|\n",
        "|`argmin, argmax`|각각 최솟값과 최댓값을 담고 있는 색인의 위치(정수)를 반환한다.|\n",
        "|`idxmin, idxmax`|각각 최솟값과 최댓값을 담고 있는 색인의 값을 반환한다.|\n",
        "|`quantile`|0부터 1까지의 분위수를 계산한다.|\n",
        "|`sum`|합을 계산한다.|\n",
        "|`mean`|평균을 계산한다.|\n",
        "|`median`|중간값(50% 분위)을 반환한다.|\n",
        "|`mad`|평균값에서 평균절대편차를 계산한다.|\n",
        "|`prod`|모든 값의 곱|\n",
        "|`var`|표본분산의 갑을 계산한다.|\n",
        "|`std`|표본표준편차의 값을 계산한다.|\n",
        "|`skew`|표본비대칭도(3차 적률)의 값을 계산한다.|\n",
        "|`kurt`|표본 첨도(4차 적률)의 값을 계산한다.|\n",
        "|`cumsum`|누적합을 계산한다.|\n",
        "|`cummin, cummax`|각각 누적 최솟값과 누적 최댓값을 계산한다.|\n",
        "|`cumprod`|누적곱을 계산한다.|\n",
        "|`diff`|1차 산술차를 계산한다(시계열 데이터 처리시 유용)|\n",
        "|`pct_change`|퍼센트 변화율을 계산한다.|"
      ]
    },
    {
      "cell_type": "markdown",
      "metadata": {
        "id": "VNdxbsV0jKeF"
      },
      "source": [
        "---"
      ]
    },
    {
      "cell_type": "markdown",
      "metadata": {
        "id": "58TDf6NYjMV0"
      },
      "source": [
        "# 5.3.1 상관관계와 공분산"
      ]
    },
    {
      "cell_type": "markdown",
      "metadata": {
        "id": "qg0g0YrzvAVP"
      },
      "source": [
        "1. 공분산(Covariance)\n",
        "- 임의의 두 확률변수 X, Y 사이의 선형관계에 대한 정보를 알려주는 것.<br>\n",
        "* $Cov(X, Y) > 0$: 두 확률변수는 서로 양의 선형 관계가 있다.\n",
        "* $Cov(X, Y) < 0$: 두 확률 변수는 서로 음의 선형 관계가 있다.\n",
        "* $Cov(X, Y) = 0$ : 두 확률 변수는 아무런 선형 관계가 없다.<br><br>\n",
        "\n",
        "2. 상관계수(Cofficient of Correlation)\n",
        "- 상관 정도의 절대적인 크기를 측정할 수 있도록 해주는 것\n",
        "\n",
        "    * 1에 가까울수록 두 확률변수가 양의 선형관계를 갖는다\n",
        "    * -1에 가까울수록 두 확률변수가 음의 선형관계를 갖는다\n",
        "    * 0이면 두 확률변수는 아무런 선형 관계가 없다."
      ]
    },
    {
      "cell_type": "markdown",
      "metadata": {
        "id": "0GXstdz8wpvg"
      },
      "source": [
        "![image.png](data:image/png;base64,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)"
      ]
    },
    {
      "cell_type": "markdown",
      "metadata": {
        "id": "ojF6rzn0wI-v"
      },
      "source": [
        "> 참고하면 좋은 사이트 [링크](https://datalabbit.tistory.com/15)"
      ]
    },
    {
      "cell_type": "markdown",
      "metadata": {
        "id": "1mw2UdQiwNpu"
      },
      "source": [
        "---"
      ]
    },
    {
      "cell_type": "markdown",
      "metadata": {
        "id": "3s0d9kXGnTEq"
      },
      "source": [
        "* yahoo 사이트가 변경됨에 따라 책처럼 데이터가 불러와지지 않음\n",
        "\n",
        "> [참고링크](https://blog.naver.com/nackji80/222318657325)"
      ]
    },
    {
      "cell_type": "code",
      "metadata": {
        "colab": {
          "base_uri": "https://localhost:8080/"
        },
        "id": "3alftHZ8m8PM",
        "outputId": "66a593ad-b2e9-47b1-c22e-5de7eef3b574"
      },
      "source": [
        "pip install yfinance"
      ],
      "execution_count": 40,
      "outputs": [
        {
          "output_type": "stream",
          "text": [
            "Collecting yfinance\n",
            "  Downloading yfinance-0.1.63.tar.gz (26 kB)\n",
            "Requirement already satisfied: pandas>=0.24 in /usr/local/lib/python3.7/dist-packages (from yfinance) (1.1.5)\n",
            "Requirement already satisfied: numpy>=1.15 in /usr/local/lib/python3.7/dist-packages (from yfinance) (1.19.5)\n",
            "Requirement already satisfied: requests>=2.20 in /usr/local/lib/python3.7/dist-packages (from yfinance) (2.23.0)\n",
            "Requirement already satisfied: multitasking>=0.0.7 in /usr/local/lib/python3.7/dist-packages (from yfinance) (0.0.9)\n",
            "Collecting lxml>=4.5.1\n",
            "  Downloading lxml-4.6.3-cp37-cp37m-manylinux2014_x86_64.whl (6.3 MB)\n",
            "\u001b[K     |████████████████████████████████| 6.3 MB 7.8 MB/s \n",
            "\u001b[?25hRequirement already satisfied: pytz>=2017.2 in /usr/local/lib/python3.7/dist-packages (from pandas>=0.24->yfinance) (2018.9)\n",
            "Requirement already satisfied: python-dateutil>=2.7.3 in /usr/local/lib/python3.7/dist-packages (from pandas>=0.24->yfinance) (2.8.1)\n",
            "Requirement already satisfied: six>=1.5 in /usr/local/lib/python3.7/dist-packages (from python-dateutil>=2.7.3->pandas>=0.24->yfinance) (1.15.0)\n",
            "Requirement already satisfied: urllib3!=1.25.0,!=1.25.1,<1.26,>=1.21.1 in /usr/local/lib/python3.7/dist-packages (from requests>=2.20->yfinance) (1.24.3)\n",
            "Requirement already satisfied: certifi>=2017.4.17 in /usr/local/lib/python3.7/dist-packages (from requests>=2.20->yfinance) (2021.5.30)\n",
            "Requirement already satisfied: chardet<4,>=3.0.2 in /usr/local/lib/python3.7/dist-packages (from requests>=2.20->yfinance) (3.0.4)\n",
            "Requirement already satisfied: idna<3,>=2.5 in /usr/local/lib/python3.7/dist-packages (from requests>=2.20->yfinance) (2.10)\n",
            "Building wheels for collected packages: yfinance\n",
            "  Building wheel for yfinance (setup.py) ... \u001b[?25l\u001b[?25hdone\n",
            "  Created wheel for yfinance: filename=yfinance-0.1.63-py2.py3-none-any.whl size=23919 sha256=8989ced659a344f4c710ea08677e58eb04d3e5cfc892242ed2f79e187be58380\n",
            "  Stored in directory: /root/.cache/pip/wheels/fe/87/8b/7ec24486e001d3926537f5f7801f57a74d181be25b11157983\n",
            "Successfully built yfinance\n",
            "Installing collected packages: lxml, yfinance\n",
            "  Attempting uninstall: lxml\n",
            "    Found existing installation: lxml 4.2.6\n",
            "    Uninstalling lxml-4.2.6:\n",
            "      Successfully uninstalled lxml-4.2.6\n",
            "Successfully installed lxml-4.6.3 yfinance-0.1.63\n"
          ],
          "name": "stdout"
        }
      ]
    },
    {
      "cell_type": "code",
      "metadata": {
        "id": "srASHf9cjEVd"
      },
      "source": [
        "from pandas_datareader import data as pdr\n",
        "import yfinance as yf\n",
        "import pandas as pd"
      ],
      "execution_count": 52,
      "outputs": []
    },
    {
      "cell_type": "code",
      "metadata": {
        "id": "NU2DYZxHjUL-"
      },
      "source": [
        "yf.pdr_override()"
      ],
      "execution_count": 50,
      "outputs": []
    },
    {
      "cell_type": "code",
      "metadata": {
        "colab": {
          "base_uri": "https://localhost:8080/"
        },
        "id": "BkA8VGH1nGA9",
        "outputId": "b6756312-1f68-40a0-8144-cf02e9fdc6ec"
      },
      "source": [
        "all_data = {ticker: pdr.get_data_yahoo(ticker)\n",
        "        for ticker in ['AAPL', 'IBM', 'MSFT', 'GOOG']}\n",
        "\n",
        "price = pd.DataFrame({ticker: data['Adj Close']\n",
        "                      for ticker, data in all_data.items()})\n",
        "\n",
        "volume = pd.DataFrame({ticker: data['Volume']\n",
        "                       for ticker, data in all_data.items()})"
      ],
      "execution_count": 55,
      "outputs": [
        {
          "output_type": "stream",
          "text": [
            "[*********************100%***********************]  1 of 1 completed\n",
            "[*********************100%***********************]  1 of 1 completed\n",
            "[*********************100%***********************]  1 of 1 completed\n",
            "[*********************100%***********************]  1 of 1 completed\n"
          ],
          "name": "stdout"
        }
      ]
    },
    {
      "cell_type": "code",
      "metadata": {
        "colab": {
          "base_uri": "https://localhost:8080/"
        },
        "id": "NHf9sYj_nNzw",
        "outputId": "730e0345-8a80-4418-fd4f-6ac68c284ce8"
      },
      "source": [
        "all_data"
      ],
      "execution_count": 56,
      "outputs": [
        {
          "output_type": "execute_result",
          "data": {
            "text/plain": [
              "{'AAPL':                   Open        High  ...   Adj Close     Volume\n",
              " Date                                ...                       \n",
              " 1980-12-12    0.128348    0.128906  ...    0.100751  469033600\n",
              " 1980-12-15    0.122210    0.122210  ...    0.095495  175884800\n",
              " 1980-12-16    0.113281    0.113281  ...    0.088485  105728000\n",
              " 1980-12-17    0.115513    0.116071  ...    0.090676   86441600\n",
              " 1980-12-18    0.118862    0.119420  ...    0.093304   73449600\n",
              " ...                ...         ...  ...         ...        ...\n",
              " 2021-07-20  143.460007  147.100006  ...  146.149994   96350000\n",
              " 2021-07-21  145.529999  146.130005  ...  145.399994   74993500\n",
              " 2021-07-22  145.940002  148.199997  ...  146.800003   77338200\n",
              " 2021-07-23  147.550003  148.720001  ...  148.559998   71361600\n",
              " 2021-07-26  148.270004  149.830002  ...  148.990005   72434089\n",
              " \n",
              " [10241 rows x 6 columns],\n",
              " 'GOOG':                    Open         High  ...    Adj Close    Volume\n",
              " Date                                  ...                       \n",
              " 2004-08-19    49.813290    51.835709  ...    49.982655  44871361\n",
              " 2004-08-20    50.316402    54.336334  ...    53.952770  22942874\n",
              " 2004-08-23    55.168217    56.528118  ...    54.495735  18342897\n",
              " 2004-08-24    55.412300    55.591629  ...    52.239197  15319808\n",
              " 2004-08-25    52.284027    53.798351  ...    52.802086   9232276\n",
              " ...                 ...          ...  ...          ...       ...\n",
              " 2021-07-20  2600.080078  2640.027100  ...  2622.030029    954200\n",
              " 2021-07-21  2615.739990  2652.344971  ...  2652.010010    737100\n",
              " 2021-07-22  2653.000000  2670.090088  ...  2666.570068    680400\n",
              " 2021-07-23  2705.199951  2776.169922  ...  2756.320068   1317200\n",
              " 2021-07-26  2765.000000  2794.260010  ...  2792.889893   1098061\n",
              " \n",
              " [4263 rows x 6 columns],\n",
              " 'IBM':                   Open        High  ...   Adj Close    Volume\n",
              " Date                                ...                      \n",
              " 1962-01-02    7.713333    7.713333  ...    1.837710    390000\n",
              " 1962-01-03    7.626667    7.693333  ...    1.853774    292500\n",
              " 1962-01-04    7.693333    7.693333  ...    1.835299    262500\n",
              " 1962-01-05    7.606667    7.606667  ...    1.799155    367500\n",
              " 1962-01-08    7.460000    7.460000  ...    1.765422    547500\n",
              " ...                ...         ...  ...         ...       ...\n",
              " 2021-07-20  143.000000  144.919998  ...  139.970001  13611700\n",
              " 2021-07-21  139.970001  141.389999  ...  141.300003   4804000\n",
              " 2021-07-22  141.660004  141.809998  ...  140.710007   3314200\n",
              " 2021-07-23  140.960007  141.699997  ...  141.339996   4473300\n",
              " 2021-07-26  141.389999  142.933395  ...  142.770004   4246266\n",
              " \n",
              " [14992 rows x 6 columns],\n",
              " 'MSFT':                   Open        High  ...   Adj Close      Volume\n",
              " Date                                ...                        \n",
              " 1986-03-13    0.088542    0.101563  ...    0.061608  1031788800\n",
              " 1986-03-14    0.097222    0.102431  ...    0.063809   308160000\n",
              " 1986-03-17    0.100694    0.103299  ...    0.064909   133171200\n",
              " 1986-03-18    0.102431    0.103299  ...    0.063258    67766400\n",
              " 1986-03-19    0.099826    0.100694  ...    0.062158    47894400\n",
              " ...                ...         ...  ...         ...         ...\n",
              " 2021-07-20  278.029999  280.970001  ...  279.320007    26259700\n",
              " 2021-07-21  278.899994  281.519989  ...  281.399994    24364300\n",
              " 2021-07-22  283.839996  286.420013  ...  286.140015    23384100\n",
              " 2021-07-23  287.369995  289.989990  ...  289.670013    22753500\n",
              " 2021-07-26  289.000000  289.690002  ...  289.049988    23176073\n",
              " \n",
              " [8915 rows x 6 columns]}"
            ]
          },
          "metadata": {
            "tags": []
          },
          "execution_count": 56
        }
      ]
    },
    {
      "cell_type": "markdown",
      "metadata": {
        "id": "7L3YEvmfrTBx"
      },
      "source": [
        "* 각 주식의 퍼센트 변화율을 계산해보자!"
      ]
    },
    {
      "cell_type": "code",
      "metadata": {
        "colab": {
          "base_uri": "https://localhost:8080/",
          "height": 236
        },
        "id": "531750oyoLs7",
        "outputId": "90312d18-b77f-4a51-b806-b8dda80b19f2"
      },
      "source": [
        "returns = price.pct_change()\n",
        "returns.tail()"
      ],
      "execution_count": 58,
      "outputs": [
        {
          "output_type": "execute_result",
          "data": {
            "text/html": [
              "<div>\n",
              "<style scoped>\n",
              "    .dataframe tbody tr th:only-of-type {\n",
              "        vertical-align: middle;\n",
              "    }\n",
              "\n",
              "    .dataframe tbody tr th {\n",
              "        vertical-align: top;\n",
              "    }\n",
              "\n",
              "    .dataframe thead th {\n",
              "        text-align: right;\n",
              "    }\n",
              "</style>\n",
              "<table border=\"1\" class=\"dataframe\">\n",
              "  <thead>\n",
              "    <tr style=\"text-align: right;\">\n",
              "      <th></th>\n",
              "      <th>AAPL</th>\n",
              "      <th>IBM</th>\n",
              "      <th>MSFT</th>\n",
              "      <th>GOOG</th>\n",
              "    </tr>\n",
              "    <tr>\n",
              "      <th>Date</th>\n",
              "      <th></th>\n",
              "      <th></th>\n",
              "      <th></th>\n",
              "      <th></th>\n",
              "    </tr>\n",
              "  </thead>\n",
              "  <tbody>\n",
              "    <tr>\n",
              "      <th>2021-07-20</th>\n",
              "      <td>0.025974</td>\n",
              "      <td>0.014864</td>\n",
              "      <td>0.008339</td>\n",
              "      <td>0.014294</td>\n",
              "    </tr>\n",
              "    <tr>\n",
              "      <th>2021-07-21</th>\n",
              "      <td>-0.005132</td>\n",
              "      <td>0.009502</td>\n",
              "      <td>0.007447</td>\n",
              "      <td>0.011434</td>\n",
              "    </tr>\n",
              "    <tr>\n",
              "      <th>2021-07-22</th>\n",
              "      <td>0.009629</td>\n",
              "      <td>-0.004175</td>\n",
              "      <td>0.016844</td>\n",
              "      <td>0.005490</td>\n",
              "    </tr>\n",
              "    <tr>\n",
              "      <th>2021-07-23</th>\n",
              "      <td>0.011989</td>\n",
              "      <td>0.004477</td>\n",
              "      <td>0.012337</td>\n",
              "      <td>0.033657</td>\n",
              "    </tr>\n",
              "    <tr>\n",
              "      <th>2021-07-26</th>\n",
              "      <td>0.002895</td>\n",
              "      <td>0.010118</td>\n",
              "      <td>-0.002140</td>\n",
              "      <td>0.013268</td>\n",
              "    </tr>\n",
              "  </tbody>\n",
              "</table>\n",
              "</div>"
            ],
            "text/plain": [
              "                AAPL       IBM      MSFT      GOOG\n",
              "Date                                              \n",
              "2021-07-20  0.025974  0.014864  0.008339  0.014294\n",
              "2021-07-21 -0.005132  0.009502  0.007447  0.011434\n",
              "2021-07-22  0.009629 -0.004175  0.016844  0.005490\n",
              "2021-07-23  0.011989  0.004477  0.012337  0.033657\n",
              "2021-07-26  0.002895  0.010118 -0.002140  0.013268"
            ]
          },
          "metadata": {
            "tags": []
          },
          "execution_count": 58
        }
      ]
    },
    {
      "cell_type": "markdown",
      "metadata": {
        "id": "WeTYPj6Hre4J"
      },
      "source": [
        "* `corr`메서드는 NA가 아니며 정렬된 색인에서 연속하는 두 `Sries`에 대해 상관관계를 계산한다.\n",
        "\n",
        "\n",
        "* `cov` 메서드는 공분산을 계산한다."
      ]
    },
    {
      "cell_type": "code",
      "metadata": {
        "colab": {
          "base_uri": "https://localhost:8080/"
        },
        "id": "uJa-t3wxrnio",
        "outputId": "eda32db4-9452-475c-de23-dd13847cd950"
      },
      "source": [
        "returns['MSFT'].corr(returns['IBM'])"
      ],
      "execution_count": 59,
      "outputs": [
        {
          "output_type": "execute_result",
          "data": {
            "text/plain": [
              "0.4492173667925606"
            ]
          },
          "metadata": {
            "tags": []
          },
          "execution_count": 59
        }
      ]
    },
    {
      "cell_type": "code",
      "metadata": {
        "colab": {
          "base_uri": "https://localhost:8080/"
        },
        "id": "rerCnXXbruKA",
        "outputId": "f61e958a-8240-4d19-9295-fd709db94943"
      },
      "source": [
        "returns['MSFT'].cov(returns['IBM'])"
      ],
      "execution_count": 60,
      "outputs": [
        {
          "output_type": "execute_result",
          "data": {
            "text/plain": [
              "0.00016661971480077322"
            ]
          },
          "metadata": {
            "tags": []
          },
          "execution_count": 60
        }
      ]
    },
    {
      "cell_type": "code",
      "metadata": {
        "colab": {
          "base_uri": "https://localhost:8080/"
        },
        "id": "1q37L_k4r7Z5",
        "outputId": "3bffe2c4-13c0-4598-900d-cac7f6dd6900"
      },
      "source": [
        "returns.MSFT.corr(returns.IBM)"
      ],
      "execution_count": 61,
      "outputs": [
        {
          "output_type": "execute_result",
          "data": {
            "text/plain": [
              "0.4492173667925606"
            ]
          },
          "metadata": {
            "tags": []
          },
          "execution_count": 61
        }
      ]
    },
    {
      "cell_type": "markdown",
      "metadata": {
        "id": "ElNzU3GMw-f2"
      },
      "source": [
        "* 상관행렬 출력"
      ]
    },
    {
      "cell_type": "code",
      "metadata": {
        "colab": {
          "base_uri": "https://localhost:8080/",
          "height": 175
        },
        "id": "atIzd0QLr_CR",
        "outputId": "5f2af291-2588-4514-aa5f-7c7d02c90bf8"
      },
      "source": [
        "returns.corr()"
      ],
      "execution_count": 65,
      "outputs": [
        {
          "output_type": "execute_result",
          "data": {
            "text/html": [
              "<div>\n",
              "<style scoped>\n",
              "    .dataframe tbody tr th:only-of-type {\n",
              "        vertical-align: middle;\n",
              "    }\n",
              "\n",
              "    .dataframe tbody tr th {\n",
              "        vertical-align: top;\n",
              "    }\n",
              "\n",
              "    .dataframe thead th {\n",
              "        text-align: right;\n",
              "    }\n",
              "</style>\n",
              "<table border=\"1\" class=\"dataframe\">\n",
              "  <thead>\n",
              "    <tr style=\"text-align: right;\">\n",
              "      <th></th>\n",
              "      <th>AAPL</th>\n",
              "      <th>IBM</th>\n",
              "      <th>MSFT</th>\n",
              "      <th>GOOG</th>\n",
              "    </tr>\n",
              "  </thead>\n",
              "  <tbody>\n",
              "    <tr>\n",
              "      <th>AAPL</th>\n",
              "      <td>1.000000</td>\n",
              "      <td>0.369436</td>\n",
              "      <td>0.419929</td>\n",
              "      <td>0.499142</td>\n",
              "    </tr>\n",
              "    <tr>\n",
              "      <th>IBM</th>\n",
              "      <td>0.369436</td>\n",
              "      <td>1.000000</td>\n",
              "      <td>0.449217</td>\n",
              "      <td>0.415863</td>\n",
              "    </tr>\n",
              "    <tr>\n",
              "      <th>MSFT</th>\n",
              "      <td>0.419929</td>\n",
              "      <td>0.449217</td>\n",
              "      <td>1.000000</td>\n",
              "      <td>0.533706</td>\n",
              "    </tr>\n",
              "    <tr>\n",
              "      <th>GOOG</th>\n",
              "      <td>0.499142</td>\n",
              "      <td>0.415863</td>\n",
              "      <td>0.533706</td>\n",
              "      <td>1.000000</td>\n",
              "    </tr>\n",
              "  </tbody>\n",
              "</table>\n",
              "</div>"
            ],
            "text/plain": [
              "          AAPL       IBM      MSFT      GOOG\n",
              "AAPL  1.000000  0.369436  0.419929  0.499142\n",
              "IBM   0.369436  1.000000  0.449217  0.415863\n",
              "MSFT  0.419929  0.449217  1.000000  0.533706\n",
              "GOOG  0.499142  0.415863  0.533706  1.000000"
            ]
          },
          "metadata": {
            "tags": []
          },
          "execution_count": 65
        }
      ]
    },
    {
      "cell_type": "markdown",
      "metadata": {
        "id": "T6_PwbyhxAXA"
      },
      "source": [
        "* 공분산행렬 출력"
      ]
    },
    {
      "cell_type": "code",
      "metadata": {
        "colab": {
          "base_uri": "https://localhost:8080/",
          "height": 175
        },
        "id": "auiJQUmpsEP5",
        "outputId": "020e0f60-684e-40b9-a7df-dc5ef347e393"
      },
      "source": [
        "returns.cov()"
      ],
      "execution_count": 66,
      "outputs": [
        {
          "output_type": "execute_result",
          "data": {
            "text/html": [
              "<div>\n",
              "<style scoped>\n",
              "    .dataframe tbody tr th:only-of-type {\n",
              "        vertical-align: middle;\n",
              "    }\n",
              "\n",
              "    .dataframe tbody tr th {\n",
              "        vertical-align: top;\n",
              "    }\n",
              "\n",
              "    .dataframe thead th {\n",
              "        text-align: right;\n",
              "    }\n",
              "</style>\n",
              "<table border=\"1\" class=\"dataframe\">\n",
              "  <thead>\n",
              "    <tr style=\"text-align: right;\">\n",
              "      <th></th>\n",
              "      <th>AAPL</th>\n",
              "      <th>IBM</th>\n",
              "      <th>MSFT</th>\n",
              "      <th>GOOG</th>\n",
              "    </tr>\n",
              "  </thead>\n",
              "  <tbody>\n",
              "    <tr>\n",
              "      <th>AAPL</th>\n",
              "      <td>0.000814</td>\n",
              "      <td>0.000178</td>\n",
              "      <td>0.000249</td>\n",
              "      <td>0.000201</td>\n",
              "    </tr>\n",
              "    <tr>\n",
              "      <th>IBM</th>\n",
              "      <td>0.000178</td>\n",
              "      <td>0.000254</td>\n",
              "      <td>0.000167</td>\n",
              "      <td>0.000115</td>\n",
              "    </tr>\n",
              "    <tr>\n",
              "      <th>MSFT</th>\n",
              "      <td>0.000249</td>\n",
              "      <td>0.000167</td>\n",
              "      <td>0.000458</td>\n",
              "      <td>0.000174</td>\n",
              "    </tr>\n",
              "    <tr>\n",
              "      <th>GOOG</th>\n",
              "      <td>0.000201</td>\n",
              "      <td>0.000115</td>\n",
              "      <td>0.000174</td>\n",
              "      <td>0.000367</td>\n",
              "    </tr>\n",
              "  </tbody>\n",
              "</table>\n",
              "</div>"
            ],
            "text/plain": [
              "          AAPL       IBM      MSFT      GOOG\n",
              "AAPL  0.000814  0.000178  0.000249  0.000201\n",
              "IBM   0.000178  0.000254  0.000167  0.000115\n",
              "MSFT  0.000249  0.000167  0.000458  0.000174\n",
              "GOOG  0.000201  0.000115  0.000174  0.000367"
            ]
          },
          "metadata": {
            "tags": []
          },
          "execution_count": 66
        }
      ]
    },
    {
      "cell_type": "markdown",
      "metadata": {
        "id": "unDybVfSxGNO"
      },
      "source": [
        "* `corrwith` 메서드를 사용하면 다른 `Series`나 `DataFrame`과의 상관관계를 계산한다."
      ]
    },
    {
      "cell_type": "markdown",
      "metadata": {
        "id": "rgdYEfg5xgtb"
      },
      "source": [
        "* `Series`를 넘긴 경우"
      ]
    },
    {
      "cell_type": "code",
      "metadata": {
        "colab": {
          "base_uri": "https://localhost:8080/"
        },
        "id": "5YZRc0CUxOwr",
        "outputId": "f5fa18ac-679c-4ce3-e3a1-486052e929ec"
      },
      "source": [
        "returns.corrwith(returns.IBM)"
      ],
      "execution_count": 67,
      "outputs": [
        {
          "output_type": "execute_result",
          "data": {
            "text/plain": [
              "AAPL    0.369436\n",
              "IBM     1.000000\n",
              "MSFT    0.449217\n",
              "GOOG    0.415863\n",
              "dtype: float64"
            ]
          },
          "metadata": {
            "tags": []
          },
          "execution_count": 67
        }
      ]
    },
    {
      "cell_type": "markdown",
      "metadata": {
        "id": "lTtHzNhaxiwj"
      },
      "source": [
        "* `DataFrame`을 넘긴 경우"
      ]
    },
    {
      "cell_type": "code",
      "metadata": {
        "colab": {
          "base_uri": "https://localhost:8080/"
        },
        "id": "WUlm2vMuxWuX",
        "outputId": "9c5bf559-ab8a-4cc0-f6d1-448576dd43b6"
      },
      "source": [
        "returns.corrwith(volume)"
      ],
      "execution_count": 69,
      "outputs": [
        {
          "output_type": "execute_result",
          "data": {
            "text/plain": [
              "AAPL   -0.000227\n",
              "IBM    -0.009096\n",
              "MSFT   -0.007135\n",
              "GOOG    0.038007\n",
              "dtype: float64"
            ]
          },
          "metadata": {
            "tags": []
          },
          "execution_count": 69
        }
      ]
    },
    {
      "cell_type": "markdown",
      "metadata": {
        "id": "JBlnzHXWxoSd"
      },
      "source": [
        "* `axis='colums'` 옵션을 넘기면 각 컬럼에 대한 상관관계와 공분산을 계산한다."
      ]
    },
    {
      "cell_type": "code",
      "metadata": {
        "id": "Y4lRjsaLxswM"
      },
      "source": [
        "returns.corrwith(returns.IBM, axis='columns')"
      ],
      "execution_count": null,
      "outputs": []
    },
    {
      "cell_type": "markdown",
      "metadata": {
        "id": "pSAj8n2y3dwb"
      },
      "source": [
        "---"
      ]
    },
    {
      "cell_type": "markdown",
      "metadata": {
        "id": "2FNM34rOzaTO"
      },
      "source": [
        "# 5.3.2 유일값, 값 세기, 멤버십"
      ]
    },
    {
      "cell_type": "code",
      "metadata": {
        "id": "tXBkzeAvzep9"
      },
      "source": [
        "obj = pd.Series(['c', 'a', 'd', 'a', 'a', 'b', 'b', 'c', 'c'])"
      ],
      "execution_count": 71,
      "outputs": []
    },
    {
      "cell_type": "markdown",
      "metadata": {
        "id": "LrUXgCPW0Pmt"
      },
      "source": [
        "* `unique`메서드는 중복되는 값을 제거하고 유일값만 담고 있는 `Series`를 반환한다."
      ]
    },
    {
      "cell_type": "code",
      "metadata": {
        "colab": {
          "base_uri": "https://localhost:8080/"
        },
        "id": "0-p50-nizlc2",
        "outputId": "9868bcdc-1e91-4d15-b9b8-e0450968f3c4"
      },
      "source": [
        "uniques = obj.unique()\n",
        "\n",
        "print(uniques)"
      ],
      "execution_count": 76,
      "outputs": [
        {
          "output_type": "stream",
          "text": [
            "['c' 'a' 'd' 'b']\n"
          ],
          "name": "stdout"
        }
      ]
    },
    {
      "cell_type": "markdown",
      "metadata": {
        "id": "EJTWnuTk3fAm"
      },
      "source": [
        "---"
      ]
    },
    {
      "cell_type": "markdown",
      "metadata": {
        "id": "LNjLysFF1299"
      },
      "source": [
        "* 유일값은 정렬된 순서대로 반환되지 않지만 필요하다면<br>\n",
        "`uniques.sort()`를 이용해서 나중에 정렬할 수 있다.<br>\n",
        "그리고 `value_counts`메서드는 `Series`에서 도수를 계산하여 반환한다."
      ]
    },
    {
      "cell_type": "code",
      "metadata": {
        "colab": {
          "base_uri": "https://localhost:8080/"
        },
        "id": "XBjuUx2y0tMh",
        "outputId": "b5af0424-6bbf-4888-f812-4bb94af24c48"
      },
      "source": [
        "obj.value_counts()"
      ],
      "execution_count": 81,
      "outputs": [
        {
          "output_type": "execute_result",
          "data": {
            "text/plain": [
              "a    3\n",
              "c    3\n",
              "b    2\n",
              "d    1\n",
              "dtype: int64"
            ]
          },
          "metadata": {
            "tags": []
          },
          "execution_count": 81
        }
      ]
    },
    {
      "cell_type": "markdown",
      "metadata": {
        "id": "zdqoXQDd2N4b"
      },
      "source": [
        "* `value_counts`메서드는 Pandas의 최상위 메서드로 어떤 배열이나 순차 자료구조에서도 사용 가능하다."
      ]
    },
    {
      "cell_type": "code",
      "metadata": {
        "colab": {
          "base_uri": "https://localhost:8080/"
        },
        "id": "JaRz07Tu0v1U",
        "outputId": "9d8fb9a2-42b1-4aa6-9c8b-b0968495c48d"
      },
      "source": [
        "pd.value_counts(obj.values, sort=False)"
      ],
      "execution_count": 82,
      "outputs": [
        {
          "output_type": "execute_result",
          "data": {
            "text/plain": [
              "c    3\n",
              "b    2\n",
              "a    3\n",
              "d    1\n",
              "dtype: int64"
            ]
          },
          "metadata": {
            "tags": []
          },
          "execution_count": 82
        }
      ]
    },
    {
      "cell_type": "code",
      "metadata": {
        "colab": {
          "base_uri": "https://localhost:8080/"
        },
        "id": "Vg1Dx-Fu04NN",
        "outputId": "4514d14d-11cb-4293-c6a3-6215cec1a109"
      },
      "source": [
        "pd.value_counts(obj.values, sort=True)"
      ],
      "execution_count": 83,
      "outputs": [
        {
          "output_type": "execute_result",
          "data": {
            "text/plain": [
              "a    3\n",
              "c    3\n",
              "b    2\n",
              "d    1\n",
              "dtype: int64"
            ]
          },
          "metadata": {
            "tags": []
          },
          "execution_count": 83
        }
      ]
    },
    {
      "cell_type": "markdown",
      "metadata": {
        "id": "yjCqNsL327Lz"
      },
      "source": [
        "* `isin`메서드는 어떤 값이 Series에 존재하는지 나타내는 불리언 벡터를 반환한다.<br><br>\n",
        "Series나 DataFrame의 컬럼에서 값을 골라내고 싶을 때 유용하게 사용할 수 있다."
      ]
    },
    {
      "cell_type": "code",
      "metadata": {
        "colab": {
          "base_uri": "https://localhost:8080/"
        },
        "id": "-Wqhz50R3F05",
        "outputId": "83767fd5-5fbf-406c-dadf-8e9d25d998c5"
      },
      "source": [
        "obj"
      ],
      "execution_count": 85,
      "outputs": [
        {
          "output_type": "execute_result",
          "data": {
            "text/plain": [
              "0    c\n",
              "1    a\n",
              "2    d\n",
              "3    a\n",
              "4    a\n",
              "5    b\n",
              "6    b\n",
              "7    c\n",
              "8    c\n",
              "dtype: object"
            ]
          },
          "metadata": {
            "tags": []
          },
          "execution_count": 85
        }
      ]
    },
    {
      "cell_type": "code",
      "metadata": {
        "colab": {
          "base_uri": "https://localhost:8080/"
        },
        "id": "AX0PtTyN3HCw",
        "outputId": "c6ac24d3-af44-44b6-86a9-62578b669d29"
      },
      "source": [
        "mask = obj.isin(['b', 'c'])\n",
        "mask"
      ],
      "execution_count": 87,
      "outputs": [
        {
          "output_type": "execute_result",
          "data": {
            "text/plain": [
              "0     True\n",
              "1    False\n",
              "2    False\n",
              "3    False\n",
              "4    False\n",
              "5     True\n",
              "6     True\n",
              "7     True\n",
              "8     True\n",
              "dtype: bool"
            ]
          },
          "metadata": {
            "tags": []
          },
          "execution_count": 87
        }
      ]
    },
    {
      "cell_type": "code",
      "metadata": {
        "colab": {
          "base_uri": "https://localhost:8080/"
        },
        "id": "tAx9EzMT3NL8",
        "outputId": "81a23dc2-98bd-48b5-c822-606f0bddb504"
      },
      "source": [
        "obj[mask]"
      ],
      "execution_count": 88,
      "outputs": [
        {
          "output_type": "execute_result",
          "data": {
            "text/plain": [
              "0    c\n",
              "5    b\n",
              "6    b\n",
              "7    c\n",
              "8    c\n",
              "dtype: object"
            ]
          },
          "metadata": {
            "tags": []
          },
          "execution_count": 88
        }
      ]
    },
    {
      "cell_type": "markdown",
      "metadata": {
        "id": "5CLGMCxD3TWB"
      },
      "source": [
        "* `isin`과 관련이 있는 `Index.get_indexer`메서드는 여러 값이 들어 있는 배열에서 유일한 값의 색인 배열을 구할 수 있다."
      ]
    },
    {
      "cell_type": "code",
      "metadata": {
        "id": "yp8Hv5oj3YwR"
      },
      "source": [
        "to_match = pd.Series(['c', 'a', 'b', 'b', 'c', 'a'])\n",
        "\n",
        "unique_vals = pd.Series(['c', 'b', 'a']) # c가 0, a가 2, b가 1"
      ],
      "execution_count": 90,
      "outputs": []
    },
    {
      "cell_type": "code",
      "metadata": {
        "colab": {
          "base_uri": "https://localhost:8080/"
        },
        "id": "hMBdiG_j3s6z",
        "outputId": "35b4f91b-7951-4e91-c518-b528e4c10799"
      },
      "source": [
        "pd.Index(unique_vals).get_indexer(to_match)"
      ],
      "execution_count": 92,
      "outputs": [
        {
          "output_type": "execute_result",
          "data": {
            "text/plain": [
              "array([0, 2, 1, 1, 0, 2])"
            ]
          },
          "metadata": {
            "tags": []
          },
          "execution_count": 92
        }
      ]
    },
    {
      "cell_type": "markdown",
      "metadata": {
        "id": "SdgQNmFz4Hoe"
      },
      "source": [
        "|메서드|설명|\n",
        "|---|---|\n",
        "|`isin`|Series의 각 원소가 넘겨받은 연속된 값에 속하는지 나타내는 불리언 배열을 반환한다.|\n",
        "|`match`|각 값에 대해 유일한 값을 담고 있는 배열에서의 정수 색인을 계산한다. 데이터 정렬이나 조인 형태의 연산을 하는 경우에 유용하다.|\n",
        "|`value_counts`|Series에서 유일값에 대한 색인과 도수를 계산한다.  도수는 내림차순으로 정렬된다.|\n",
        "|`unique`|Series에서 중복되는 값을 제거하고 유일값만 포함하는 배열을 반환한다.|"
      ]
    },
    {
      "cell_type": "code",
      "metadata": {
        "id": "xaf3-7Y44iJw"
      },
      "source": [
        "data = pd.DataFrame({'Qu1': [1, 3, 4, 3, 4],\n",
        "                     'Qu2': [2, 3, 1, 2, 3],\n",
        "                     'Qu3': [1, 5, 2, 4, 4]})"
      ],
      "execution_count": 93,
      "outputs": []
    },
    {
      "cell_type": "code",
      "metadata": {
        "colab": {
          "base_uri": "https://localhost:8080/",
          "height": 205
        },
        "id": "0XgNSReE4vOD",
        "outputId": "8ebd6161-6f89-472c-b241-52f031d54b88"
      },
      "source": [
        "data"
      ],
      "execution_count": 94,
      "outputs": [
        {
          "output_type": "execute_result",
          "data": {
            "text/html": [
              "<div>\n",
              "<style scoped>\n",
              "    .dataframe tbody tr th:only-of-type {\n",
              "        vertical-align: middle;\n",
              "    }\n",
              "\n",
              "    .dataframe tbody tr th {\n",
              "        vertical-align: top;\n",
              "    }\n",
              "\n",
              "    .dataframe thead th {\n",
              "        text-align: right;\n",
              "    }\n",
              "</style>\n",
              "<table border=\"1\" class=\"dataframe\">\n",
              "  <thead>\n",
              "    <tr style=\"text-align: right;\">\n",
              "      <th></th>\n",
              "      <th>Qu1</th>\n",
              "      <th>Qu2</th>\n",
              "      <th>Qu3</th>\n",
              "    </tr>\n",
              "  </thead>\n",
              "  <tbody>\n",
              "    <tr>\n",
              "      <th>0</th>\n",
              "      <td>1</td>\n",
              "      <td>2</td>\n",
              "      <td>1</td>\n",
              "    </tr>\n",
              "    <tr>\n",
              "      <th>1</th>\n",
              "      <td>3</td>\n",
              "      <td>3</td>\n",
              "      <td>5</td>\n",
              "    </tr>\n",
              "    <tr>\n",
              "      <th>2</th>\n",
              "      <td>4</td>\n",
              "      <td>1</td>\n",
              "      <td>2</td>\n",
              "    </tr>\n",
              "    <tr>\n",
              "      <th>3</th>\n",
              "      <td>3</td>\n",
              "      <td>2</td>\n",
              "      <td>4</td>\n",
              "    </tr>\n",
              "    <tr>\n",
              "      <th>4</th>\n",
              "      <td>4</td>\n",
              "      <td>3</td>\n",
              "      <td>4</td>\n",
              "    </tr>\n",
              "  </tbody>\n",
              "</table>\n",
              "</div>"
            ],
            "text/plain": [
              "   Qu1  Qu2  Qu3\n",
              "0    1    2    1\n",
              "1    3    3    5\n",
              "2    4    1    2\n",
              "3    3    2    4\n",
              "4    4    3    4"
            ]
          },
          "metadata": {
            "tags": []
          },
          "execution_count": 94
        }
      ]
    },
    {
      "cell_type": "markdown",
      "metadata": {
        "id": "sEWy42FS4yi2"
      },
      "source": [
        "* DataFrmae의 `apply`함수에 `pandas.value_counts`를 넘기면 다음과 같은 결과를 얻을 수 있다."
      ]
    },
    {
      "cell_type": "code",
      "metadata": {
        "colab": {
          "base_uri": "https://localhost:8080/"
        },
        "id": "Bgt8jdJ545KZ",
        "outputId": "897520da-ddd1-4a9d-89d9-ca4ae25430ac"
      },
      "source": [
        "result = data.apply(pd.value_counts).fillna(0)\n",
        "print(result, '\\n', type(result))"
      ],
      "execution_count": 101,
      "outputs": [
        {
          "output_type": "stream",
          "text": [
            "   Qu1  Qu2  Qu3\n",
            "1  1.0  1.0  1.0\n",
            "2  0.0  2.0  1.0\n",
            "3  2.0  2.0  0.0\n",
            "4  2.0  0.0  2.0\n",
            "5  0.0  0.0  1.0 \n",
            " <class 'pandas.core.frame.DataFrame'>\n"
          ],
          "name": "stdout"
        }
      ]
    },
    {
      "cell_type": "markdown",
      "metadata": {
        "id": "5UGkOCgv5GcL"
      },
      "source": [
        "- 여기서 결과값의 로우 라벨은 전체 컬럼의 유일한 값들을 담고 있다.<br>\n",
        "각 값은 각 컬럼에서 해당 값이 몇 번 출현했는지 나타낸다."
      ]
    },
    {
      "cell_type": "code",
      "metadata": {
        "id": "DU_zla4b5NEC"
      },
      "source": [
        ""
      ],
      "execution_count": null,
      "outputs": []
    }
  ]
}