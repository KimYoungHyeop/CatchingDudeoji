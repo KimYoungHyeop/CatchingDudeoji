{
 "cells": [
  {
   "cell_type": "code",
   "execution_count": 1,
   "metadata": {
    "ExecuteTime": {
     "end_time": "2021-08-20T07:27:20.347727Z",
     "start_time": "2021-08-20T07:27:12.641704Z"
    }
   },
   "outputs": [],
   "source": [
    "import numpy as np\n",
    "import pandas as pd\n",
    "np.random.seed(12345)\n",
    "import matplotlib.pyplot as plt\n",
    "plt.rc('figure', figsize=(10, 6))\n",
    "PREVIOUS_MAX_ROWS = pd.options.display.max_rows\n",
    "pd.options.display.max_rows = 20\n",
    "np.set_printoptions(precision=4, suppress=True)\n",
    "\n",
    "from IPython.core.interactiveshell import InteractiveShell\n",
    "InteractiveShell.ast_node_interactivity = \"all\""
   ]
  },
  {
   "cell_type": "markdown",
   "metadata": {},
   "source": [
    "## 11.5 기간과 기간 연산\n",
    "며칠, 몇 개월, 몇 분기, 몇 해 같은 기간은 `Period` 클래스로 표현할 수 있다.\n",
    "\n",
    "![Period](https://user-images.githubusercontent.com/16831323/130020347-4a7ae42a-2fee-422b-a9ba-77e2ad3824bc.png)"
   ]
  },
  {
   "cell_type": "code",
   "execution_count": 28,
   "metadata": {
    "ExecuteTime": {
     "end_time": "2021-08-20T11:39:56.010030Z",
     "start_time": "2021-08-20T11:39:55.991081Z"
    }
   },
   "outputs": [
    {
     "data": {
      "text/plain": [
       "Period('2007', 'A-DEC')"
      ]
     },
     "execution_count": 28,
     "metadata": {},
     "output_type": "execute_result"
    },
    {
     "data": {
      "text/plain": [
       "(Timestamp('2007-01-01 00:00:00'), Timestamp('2007-12-31 23:59:59.999999999'))"
      ]
     },
     "execution_count": 28,
     "metadata": {},
     "output_type": "execute_result"
    }
   ],
   "source": [
    "# 2007년 1월 1일부터 같은 해 12월 31일까지의 기간\n",
    "p = pd.Period(2007, freq='A-DEC')\n",
    "p\n",
    "p.start_time, p.end_time\n",
    "# ✨ remind ) A-DEC : DEC(12월)의 마지막 일을 가리키는 연간 주기"
   ]
  },
  {
   "cell_type": "markdown",
   "metadata": {},
   "source": [
    "Period 객체는 정수를 더하거나 빼서 편리하게 정해진 빈도에 따라 기간을 이동시킬 수 있다."
   ]
  },
  {
   "cell_type": "code",
   "execution_count": 29,
   "metadata": {
    "ExecuteTime": {
     "end_time": "2021-08-20T11:39:56.348125Z",
     "start_time": "2021-08-20T11:39:56.319204Z"
    }
   },
   "outputs": [
    {
     "data": {
      "text/plain": [
       "Period('2012', 'A-DEC')"
      ]
     },
     "execution_count": 29,
     "metadata": {},
     "output_type": "execute_result"
    },
    {
     "data": {
      "text/plain": [
       "Timestamp('2012-01-01 00:00:00')"
      ]
     },
     "execution_count": 29,
     "metadata": {},
     "output_type": "execute_result"
    },
    {
     "data": {
      "text/plain": [
       "Timestamp('2012-12-31 23:59:59.999999999')"
      ]
     },
     "execution_count": 29,
     "metadata": {},
     "output_type": "execute_result"
    }
   ],
   "source": [
    "p1 = p + 5\n",
    "p1\n",
    "p1.start_time\n",
    "p1.end_time"
   ]
  },
  {
   "cell_type": "code",
   "execution_count": 30,
   "metadata": {
    "ExecuteTime": {
     "end_time": "2021-08-20T11:39:57.069613Z",
     "start_time": "2021-08-20T11:39:57.048669Z"
    }
   },
   "outputs": [
    {
     "data": {
      "text/plain": [
       "Period('2005', 'A-DEC')"
      ]
     },
     "execution_count": 30,
     "metadata": {},
     "output_type": "execute_result"
    },
    {
     "data": {
      "text/plain": [
       "Timestamp('2005-01-01 00:00:00')"
      ]
     },
     "execution_count": 30,
     "metadata": {},
     "output_type": "execute_result"
    },
    {
     "data": {
      "text/plain": [
       "Timestamp('2005-12-31 23:59:59.999999999')"
      ]
     },
     "execution_count": 30,
     "metadata": {},
     "output_type": "execute_result"
    }
   ],
   "source": [
    "p2 = p - 2\n",
    "p2\n",
    "p2.start_time\n",
    "p2.end_time"
   ]
  },
  {
   "cell_type": "markdown",
   "metadata": {},
   "source": [
    "두 기간이 같은 빈도를 가질 경우, 두 기간의 차는 둘 사이의 간격된다."
   ]
  },
  {
   "cell_type": "code",
   "execution_count": 5,
   "metadata": {
    "ExecuteTime": {
     "end_time": "2021-08-20T07:27:20.487357Z",
     "start_time": "2021-08-20T07:27:20.476385Z"
    }
   },
   "outputs": [
    {
     "data": {
      "text/plain": [
       "<7 * YearEnds: month=12>"
      ]
     },
     "execution_count": 5,
     "metadata": {},
     "output_type": "execute_result"
    }
   ],
   "source": [
    "# 2014 - 2007 = 7 year\n",
    "pd.Period('2014', freq='A-DEC') - p"
   ]
  },
  {
   "cell_type": "code",
   "execution_count": 6,
   "metadata": {
    "ExecuteTime": {
     "end_time": "2021-08-20T07:27:21.177544Z",
     "start_time": "2021-08-20T07:27:20.492341Z"
    }
   },
   "outputs": [
    {
     "ename": "IncompatibleFrequency",
     "evalue": "Input has different freq=A-DEC from Period(freq=A-JUN)",
     "output_type": "error",
     "traceback": [
      "\u001b[1;31m---------------------------------------------------------------------------\u001b[0m",
      "\u001b[1;31mIncompatibleFrequency\u001b[0m                     Traceback (most recent call last)",
      "\u001b[1;32m<ipython-input-6-b7de200fcfbd>\u001b[0m in \u001b[0;36m<module>\u001b[1;34m\u001b[0m\n\u001b[0;32m      1\u001b[0m \u001b[1;31m# 빈도가 다른 경우 에러가 발생한다\u001b[0m\u001b[1;33m\u001b[0m\u001b[1;33m\u001b[0m\u001b[1;33m\u001b[0m\u001b[0m\n\u001b[1;32m----> 2\u001b[1;33m \u001b[0mpd\u001b[0m\u001b[1;33m.\u001b[0m\u001b[0mPeriod\u001b[0m\u001b[1;33m(\u001b[0m\u001b[1;34m'2014'\u001b[0m\u001b[1;33m,\u001b[0m \u001b[0mfreq\u001b[0m\u001b[1;33m=\u001b[0m\u001b[1;34m'A-JUN'\u001b[0m\u001b[1;33m)\u001b[0m \u001b[1;33m-\u001b[0m \u001b[0mp\u001b[0m\u001b[1;33m\u001b[0m\u001b[1;33m\u001b[0m\u001b[0m\n\u001b[0m",
      "\u001b[1;32mpandas\\_libs\\tslibs\\period.pyx\u001b[0m in \u001b[0;36mpandas._libs.tslibs.period._Period.__sub__\u001b[1;34m()\u001b[0m\n",
      "\u001b[1;31mIncompatibleFrequency\u001b[0m: Input has different freq=A-DEC from Period(freq=A-JUN)"
     ]
    }
   ],
   "source": [
    "# 빈도가 다른 경우 에러가 발생한다\n",
    "pd.Period('2014', freq='A-JUN') - p"
   ]
  },
  {
   "cell_type": "markdown",
   "metadata": {},
   "source": [
    "#### PeriodIndex\n",
    "일반적인 기간 범위는 `period_range` 함수로 생성할 수 있다.<br>\n",
    "`PeriodIndex` 클래스는 <u>순차적인 기간</u>으로 저장되며 다른 pandas 자료구조에서 축 색인과 마찬가지로 사용될 수 있다.\n",
    "\n",
    "![period_range](https://i.ibb.co/61hBZqQ/image.png)"
   ]
  },
  {
   "cell_type": "code",
   "execution_count": 33,
   "metadata": {
    "ExecuteTime": {
     "end_time": "2021-08-20T11:42:12.915215Z",
     "start_time": "2021-08-20T11:42:12.903246Z"
    }
   },
   "outputs": [
    {
     "data": {
      "text/plain": [
       "PeriodIndex(['2000-01', '2000-02', '2000-03', '2000-04', '2000-05', '2000-06'], dtype='period[M]', freq='M')"
      ]
     },
     "execution_count": 33,
     "metadata": {},
     "output_type": "execute_result"
    }
   ],
   "source": [
    "rng = pd.period_range('2000-01-01', '2000-06-30', freq='M')\n",
    "rng"
   ]
  },
  {
   "cell_type": "code",
   "execution_count": 34,
   "metadata": {
    "ExecuteTime": {
     "end_time": "2021-08-20T11:42:12.960094Z",
     "start_time": "2021-08-20T11:42:12.919204Z"
    }
   },
   "outputs": [
    {
     "data": {
      "text/plain": [
       "2000-01   -2.001637\n",
       "2000-02   -0.371843\n",
       "2000-03    1.669025\n",
       "2000-04   -0.438570\n",
       "2000-05   -0.539741\n",
       "2000-06    0.476985\n",
       "Freq: M, dtype: float64"
      ]
     },
     "execution_count": 34,
     "metadata": {},
     "output_type": "execute_result"
    }
   ],
   "source": [
    "pd.Series(np.random.randn(6), index=rng)"
   ]
  },
  {
   "cell_type": "markdown",
   "metadata": {},
   "source": [
    "문자열 배열을 이용하여 `PeriodIndex` 클래스를 생성하는 것도 가능하다."
   ]
  },
  {
   "cell_type": "code",
   "execution_count": 35,
   "metadata": {
    "ExecuteTime": {
     "end_time": "2021-08-20T11:42:12.990013Z",
     "start_time": "2021-08-20T11:42:12.973059Z"
    }
   },
   "outputs": [
    {
     "data": {
      "text/plain": [
       "PeriodIndex(['2001Q3', '2002Q2', '2003Q1'], dtype='period[Q-DEC]', freq='Q-DEC')"
      ]
     },
     "execution_count": 35,
     "metadata": {},
     "output_type": "execute_result"
    }
   ],
   "source": [
    "values = ['2001Q3', '2002Q2', '2003Q1']\n",
    "index = pd.PeriodIndex(values, freq='Q-DEC')\n",
    "index"
   ]
  },
  {
   "cell_type": "markdown",
   "metadata": {},
   "source": [
    "### 11.5.1 Period의 빈도 변환\n",
    "기간와 `PeriodIndex` 객체는 `asfreq` 메서드를 통해 다른 빈도로 변환할 수 있다.\n",
    "\n",
    "✨ 새해 첫날부터 시작하는 연간 빈도를 월간 빈도로 변환해보자!"
   ]
  },
  {
   "cell_type": "code",
   "execution_count": 36,
   "metadata": {
    "ExecuteTime": {
     "end_time": "2021-08-20T11:42:13.050851Z",
     "start_time": "2021-08-20T11:42:13.021928Z"
    }
   },
   "outputs": [
    {
     "data": {
      "text/plain": [
       "Period('2007', 'A-DEC')"
      ]
     },
     "execution_count": 36,
     "metadata": {},
     "output_type": "execute_result"
    },
    {
     "data": {
      "text/plain": [
       "Timestamp('2007-01-01 00:00:00')"
      ]
     },
     "execution_count": 36,
     "metadata": {},
     "output_type": "execute_result"
    },
    {
     "data": {
      "text/plain": [
       "Timestamp('2007-12-31 23:59:59.999999999')"
      ]
     },
     "execution_count": 36,
     "metadata": {},
     "output_type": "execute_result"
    }
   ],
   "source": [
    "p = pd.Period('2007', freq='A-DEC')\n",
    "p\n",
    "p.start_time\n",
    "p.end_time"
   ]
  },
  {
   "cell_type": "markdown",
   "metadata": {},
   "source": [
    "![image](https://user-images.githubusercontent.com/16831323/130014602-8872d012-41f0-49b8-a0bf-309f4df1e9fb.png)\n",
    "\n",
    "\n",
    "이때, `Period('2007', freq='A-DEC')`는 전체 기간에 대한 커서로 생각할 수 있다! 그리고 이것을 다시 월간으로 나눌 수 있다.\n",
    "\n",
    "![image](https://user-images.githubusercontent.com/16831323/130015788-c82e639f-e307-4904-ae7a-a07468da06af.png)"
   ]
  },
  {
   "cell_type": "code",
   "execution_count": 37,
   "metadata": {
    "ExecuteTime": {
     "end_time": "2021-08-20T11:42:13.111690Z",
     "start_time": "2021-08-20T11:42:13.090744Z"
    }
   },
   "outputs": [
    {
     "data": {
      "text/plain": [
       "Period('2007-01', 'M')"
      ]
     },
     "execution_count": 37,
     "metadata": {},
     "output_type": "execute_result"
    },
    {
     "data": {
      "text/plain": [
       "Timestamp('2007-01-01 00:00:00')"
      ]
     },
     "execution_count": 37,
     "metadata": {},
     "output_type": "execute_result"
    },
    {
     "data": {
      "text/plain": [
       "Timestamp('2007-01-31 23:59:59.999999999')"
      ]
     },
     "execution_count": 37,
     "metadata": {},
     "output_type": "execute_result"
    }
   ],
   "source": [
    "p.asfreq('M', how='start')\n",
    "p.asfreq('M', how='start').start_time\n",
    "p.asfreq('M', how='start').end_time"
   ]
  },
  {
   "cell_type": "code",
   "execution_count": 38,
   "metadata": {
    "ExecuteTime": {
     "end_time": "2021-08-20T11:42:13.141608Z",
     "start_time": "2021-08-20T11:42:13.114681Z"
    }
   },
   "outputs": [
    {
     "data": {
      "text/plain": [
       "Period('2007-12', 'M')"
      ]
     },
     "execution_count": 38,
     "metadata": {},
     "output_type": "execute_result"
    },
    {
     "data": {
      "text/plain": [
       "Timestamp('2007-12-01 00:00:00')"
      ]
     },
     "execution_count": 38,
     "metadata": {},
     "output_type": "execute_result"
    },
    {
     "data": {
      "text/plain": [
       "Timestamp('2007-12-31 23:59:59.999999999')"
      ]
     },
     "execution_count": 38,
     "metadata": {},
     "output_type": "execute_result"
    }
   ],
   "source": [
    "p.asfreq('M', how='end')\n",
    "p.asfreq('M', how='end').start_time\n",
    "p.asfreq('M', how='end').end_time"
   ]
  },
  {
   "cell_type": "markdown",
   "metadata": {},
   "source": [
    "빈도가 상위단계에서 하위 단계로 변화되는 경우 상위 기간은 하위 기간이 어디에 속했는지에 따라 결정된다.\n",
    "\n",
    "❓❓❓❓❓ 상위단계, 하위단계가 무엇일까요? 상위단계가 A-DEC 같은 연간 단위, 하위 단계가 M/W/D 같은 좁은 범위의 시간이라고 생각했는데 코드 상에는 반대인 것 같네요 ㅠㅠ"
   ]
  },
  {
   "cell_type": "code",
   "execution_count": 39,
   "metadata": {
    "ExecuteTime": {
     "end_time": "2021-08-20T11:42:13.204440Z",
     "start_time": "2021-08-20T11:42:13.185490Z"
    }
   },
   "outputs": [
    {
     "name": "stdout",
     "output_type": "stream",
     "text": [
      "p=Period('Aug-2007', 'M') : Period('2007-08', 'M')\n",
      "start : 2007-08-01 00:00:00\n",
      "end : 2007-08-31 23:59:59.999999999\n",
      "\n",
      "p.asfreq('A-JUN') : Period('2008', 'A-JUN')\n",
      "start : 2007-07-01 00:00:00\n",
      "end : 2008-06-30 23:59:59.999999999\n",
      "\n",
      "Period('2008', 'A-JUN') : Period('2008', 'A-JUN')\n",
      "start : 2007-07-01 00:00:00\n",
      "end : 2008-06-30 23:59:59.999999999\n"
     ]
    }
   ],
   "source": [
    "# 2007년 8월\n",
    "p = pd.Period('Aug-2007', 'M')\n",
    "print(f\"p=Period('Aug-2007', 'M') : {p.__repr__()}\\nstart : {p.start_time}\\nend : {p.end_time}\\n\")\n",
    "\n",
    "# A-JUN 빈도일 경우 2007년 8월은 실제로 2008년 기간에 속하게 된다.\n",
    "m_to_a_jun = p.asfreq('A-JUN')\n",
    "print(f\"p.asfreq('A-JUN') : {m_to_a_jun.__repr__()}\\nstart : {m_to_a_jun.start_time}\\nend : {m_to_a_jun.end_time}\\n\")\n",
    "\n",
    "a_jun = pd.Period('2008', 'A-JUN')\n",
    "print(f\"Period('2008', 'A-JUN') : {a_jun.__repr__()}\\nstart : {a_jun.start_time}\\nend : {a_jun.end_time}\")"
   ]
  },
  {
   "cell_type": "markdown",
   "metadata": {},
   "source": [
    "모든 `PeriodIndex` 객체나 시계열은 지금까지 살펴본 내용과 같은 방식으로 변환할 수 있다."
   ]
  },
  {
   "cell_type": "code",
   "execution_count": 40,
   "metadata": {
    "ExecuteTime": {
     "end_time": "2021-08-20T11:42:13.280237Z",
     "start_time": "2021-08-20T11:42:13.242339Z"
    }
   },
   "outputs": [
    {
     "data": {
      "text/plain": [
       "2006    3.248944\n",
       "2007   -1.021228\n",
       "2008   -0.577087\n",
       "2009    0.124121\n",
       "Freq: A-DEC, dtype: float64"
      ]
     },
     "execution_count": 40,
     "metadata": {},
     "output_type": "execute_result"
    },
    {
     "name": "stdout",
     "output_type": "stream",
     "text": [
      "2006-01-01 00:00:00 ~ 2006-12-31 23:59:59.999999999\n",
      "2007-01-01 00:00:00 ~ 2007-12-31 23:59:59.999999999\n",
      "2008-01-01 00:00:00 ~ 2008-12-31 23:59:59.999999999\n",
      "2009-01-01 00:00:00 ~ 2009-12-31 23:59:59.999999999\n"
     ]
    }
   ],
   "source": [
    "rng = pd.period_range('2006', '2009', freq='A-DEC')\n",
    "ts = pd.Series(np.random.randn(len(rng)), index=rng)\n",
    "ts\n",
    "\n",
    "for i in ts.index:\n",
    "    print(f'{i.start_time} ~ {i.end_time}')"
   ]
  },
  {
   "cell_type": "code",
   "execution_count": 41,
   "metadata": {
    "ExecuteTime": {
     "end_time": "2021-08-20T11:42:13.311154Z",
     "start_time": "2021-08-20T11:42:13.285224Z"
    }
   },
   "outputs": [
    {
     "data": {
      "text/plain": [
       "2006-01    3.248944\n",
       "2007-01   -1.021228\n",
       "2008-01   -0.577087\n",
       "2009-01    0.124121\n",
       "Freq: M, dtype: float64"
      ]
     },
     "execution_count": 41,
     "metadata": {},
     "output_type": "execute_result"
    },
    {
     "name": "stdout",
     "output_type": "stream",
     "text": [
      "2006-01-01 00:00:00 ~ 2006-01-31 23:59:59.999999999\n",
      "2007-01-01 00:00:00 ~ 2007-01-31 23:59:59.999999999\n",
      "2008-01-01 00:00:00 ~ 2008-01-31 23:59:59.999999999\n",
      "2009-01-01 00:00:00 ~ 2009-01-31 23:59:59.999999999\n"
     ]
    }
   ],
   "source": [
    "# 연 빈도 -> 해당 빈도의 시작 월부터 시작하는 월 빈도\n",
    "ts_m = ts.asfreq('M', how='start')\n",
    "ts_m\n",
    "\n",
    "for i in ts_m.index:\n",
    "    print(f'{i.start_time} ~ {i.end_time}')"
   ]
  },
  {
   "cell_type": "code",
   "execution_count": 42,
   "metadata": {
    "ExecuteTime": {
     "end_time": "2021-08-20T11:42:13.341074Z",
     "start_time": "2021-08-20T11:42:13.316143Z"
    }
   },
   "outputs": [
    {
     "data": {
      "text/plain": [
       "2006-12-29    3.248944\n",
       "2007-12-31   -1.021228\n",
       "2008-12-31   -0.577087\n",
       "2009-12-31    0.124121\n",
       "Freq: B, dtype: float64"
      ]
     },
     "execution_count": 42,
     "metadata": {},
     "output_type": "execute_result"
    },
    {
     "name": "stdout",
     "output_type": "stream",
     "text": [
      "2006-12-29 00:00:00 ~ 2006-12-29 23:59:59.999999999\n",
      "2007-12-31 00:00:00 ~ 2007-12-31 23:59:59.999999999\n",
      "2008-12-31 00:00:00 ~ 2008-12-31 23:59:59.999999999\n",
      "2009-12-31 00:00:00 ~ 2009-12-31 23:59:59.999999999\n"
     ]
    }
   ],
   "source": [
    "# 연 빈도 -> 매 해 마지막 영업일\n",
    "ts_b = ts.asfreq('B', how='end')\n",
    "ts_b\n",
    "\n",
    "for i in ts_b.index:\n",
    "    print(f'{i.start_time} ~ {i.end_time}')"
   ]
  },
  {
   "cell_type": "markdown",
   "metadata": {},
   "source": [
    "### 11.5.2 분기 빈도\n",
    "- 분기 데이터는 재정/금융 및 다른 분야에서 표준으로 사용된다.\n",
    "- 많은 분기 데이터는 일반적으로 **회계연도의 끝**인 12월의 마지막 날이나 마지막 업무일을 기준으로 보고한다.\n",
    "    - `2014Q4`는 회계연도의 끝이 어디인가에 따라 의미가 달라진다.\n",
    "    - pandas는 12가지(1월~12월) 모든 경우의 수를 지원한다. 👉 Q-JAN, Q-FAB, ... , Q-JAN\n",
    "    - ![image](https://user-images.githubusercontent.com/16831323/130054596-f5ba40eb-2492-48c8-ab72-5e85d38a1df9.png)\n"
   ]
  },
  {
   "cell_type": "code",
   "execution_count": 43,
   "metadata": {
    "ExecuteTime": {
     "end_time": "2021-08-20T11:42:13.417870Z",
     "start_time": "2021-08-20T11:42:13.397923Z"
    }
   },
   "outputs": [
    {
     "data": {
      "text/plain": [
       "Period('2012Q4', 'Q-JAN')"
      ]
     },
     "execution_count": 43,
     "metadata": {},
     "output_type": "execute_result"
    },
    {
     "data": {
      "text/plain": [
       "Period('2011-11-01', 'D')"
      ]
     },
     "execution_count": 43,
     "metadata": {},
     "output_type": "execute_result"
    },
    {
     "data": {
      "text/plain": [
       "Period('2012-01-31', 'D')"
      ]
     },
     "execution_count": 43,
     "metadata": {},
     "output_type": "execute_result"
    }
   ],
   "source": [
    "p = pd.Period('2012Q4', freq='Q-JAN')\n",
    "p\n",
    "p.asfreq('D', 'start')\n",
    "p.asfreq('D', 'end')\n",
    "# p의 시작일은 2011-11-01, 말일은 2012-01-31"
   ]
  },
  {
   "cell_type": "markdown",
   "metadata": {},
   "source": [
    "- 기간 연산 예시\n",
    "    - 분기 영업마감일의 오후 4시를 가리키는 타임스탬프를 구해보자\n",
    "    - ![image](https://user-images.githubusercontent.com/16831323/130056594-2fce977e-65e0-46fa-af01-9fecbcea05f9.png)"
   ]
  },
  {
   "cell_type": "code",
   "execution_count": 44,
   "metadata": {
    "ExecuteTime": {
     "end_time": "2021-08-20T11:42:13.539545Z",
     "start_time": "2021-08-20T11:42:13.515609Z"
    }
   },
   "outputs": [
    {
     "data": {
      "text/plain": [
       "Period('2012-01-30 16:00', 'T')"
      ]
     },
     "execution_count": 44,
     "metadata": {},
     "output_type": "execute_result"
    },
    {
     "data": {
      "text/plain": [
       "Timestamp('2012-01-30 16:00:00')"
      ]
     },
     "execution_count": 44,
     "metadata": {},
     "output_type": "execute_result"
    }
   ],
   "source": [
    "p4pm = (p.asfreq('B', 'e') - 1).asfreq('T', 's') + 16 * 60\n",
    "# p.asfreq('B', 'e') : 분기 영업 마감일 - 1, 종료 날짜 기준 ⇒ 2012-01-31 00:00:00 ~ 2012-01-31 23:59:59\n",
    "# asfreq('T', 's') : 주기변경 ⇒ 분기 → 분, 시작 시간 기준 ⇒   2012-01-31 00:00:00 ~ 2012-01-31 00:00:59\n",
    "# 16 * 60 : 60분 * 16시간 ⇒ 오후 4시 ⇒                        2012-01-30 16:00:00 ~ 2012-01-30 16:00:59\n",
    "p4pm\n",
    "p4pm.to_timestamp()"
   ]
  },
  {
   "cell_type": "markdown",
   "metadata": {},
   "source": [
    "- `period_range`를 사용한 분기 범위"
   ]
  },
  {
   "cell_type": "code",
   "execution_count": 45,
   "metadata": {
    "ExecuteTime": {
     "end_time": "2021-08-20T11:42:13.692138Z",
     "start_time": "2021-08-20T11:42:13.640276Z"
    }
   },
   "outputs": [
    {
     "data": {
      "text/plain": [
       "2011Q3    0\n",
       "2011Q4    1\n",
       "2012Q1    2\n",
       "2012Q2    3\n",
       "2012Q3    4\n",
       "2012Q4    5\n",
       "Freq: Q-JAN, dtype: int32"
      ]
     },
     "execution_count": 45,
     "metadata": {},
     "output_type": "execute_result"
    },
    {
     "data": {
      "text/plain": [
       "2010-10-28 16:00:00    0\n",
       "2011-01-28 16:00:00    1\n",
       "2011-04-28 16:00:00    2\n",
       "2011-07-28 16:00:00    3\n",
       "2011-10-28 16:00:00    4\n",
       "2012-01-30 16:00:00    5\n",
       "dtype: int32"
      ]
     },
     "execution_count": 45,
     "metadata": {},
     "output_type": "execute_result"
    }
   ],
   "source": [
    "rng = pd.period_range('2011Q3', '2012Q4', freq='Q-JAN')\n",
    "ts = pd.Series(np.arange(len(rng)), index=rng)\n",
    "ts\n",
    "\n",
    "# 연산도 위와 동일한 방법으로 수행할 수 있다.\n",
    "new_rng = (rng.asfreq('B', 'e') - 1).asfreq('T', 's') + 16 * 60\n",
    "ts.index = new_rng.to_timestamp()\n",
    "ts"
   ]
  },
  {
   "cell_type": "markdown",
   "metadata": {},
   "source": [
    "### 11.5.3 타임스탬프와 기간 서로 변환하기\n",
    "`timestamp`로 색인된 Series와 DataFrame 객체는 `to_period` 메서드를 사용해서 기간(period)로 변환 가능하다. \n",
    "- 이때, 기간은 <u>겹치지 않는 시간상의 간격</u>이다 👉 주어진 빈도에서 타임스탬프는 하나의 기간에만 속한다.\n",
    "- 타임스탬프로부터 생성된 `PeriodIndex`는 타임스탬프 값을 통해 **추론**되고 직접 빈도를 지정할수도 있다."
   ]
  },
  {
   "cell_type": "code",
   "execution_count": 46,
   "metadata": {
    "ExecuteTime": {
     "end_time": "2021-08-20T11:42:13.785887Z",
     "start_time": "2021-08-20T11:42:13.755966Z"
    }
   },
   "outputs": [
    {
     "data": {
      "text/plain": [
       "2000-01-31    0.302614\n",
       "2000-02-29    0.523772\n",
       "2000-03-31    0.000940\n",
       "Freq: M, dtype: float64"
      ]
     },
     "execution_count": 46,
     "metadata": {},
     "output_type": "execute_result"
    }
   ],
   "source": [
    "# 타임스탬프 생성\n",
    "rng = pd.date_range('2000-01-01', periods=3, freq='M')\n",
    "ts = pd.Series(np.random.randn(3), index=rng)\n",
    "ts"
   ]
  },
  {
   "cell_type": "code",
   "execution_count": 47,
   "metadata": {
    "ExecuteTime": {
     "end_time": "2021-08-20T11:42:13.816802Z",
     "start_time": "2021-08-20T11:42:13.799858Z"
    }
   },
   "outputs": [
    {
     "data": {
      "text/plain": [
       "pandas._libs.tslibs.timestamps.Timestamp"
      ]
     },
     "execution_count": 47,
     "metadata": {},
     "output_type": "execute_result"
    }
   ],
   "source": [
    "type(ts.index[0])"
   ]
  },
  {
   "cell_type": "code",
   "execution_count": 48,
   "metadata": {
    "ExecuteTime": {
     "end_time": "2021-08-20T11:42:13.862685Z",
     "start_time": "2021-08-20T11:42:13.821790Z"
    }
   },
   "outputs": [
    {
     "data": {
      "text/plain": [
       "2000-01    0.302614\n",
       "2000-02    0.523772\n",
       "2000-03    0.000940\n",
       "Freq: M, dtype: float64"
      ]
     },
     "execution_count": 48,
     "metadata": {},
     "output_type": "execute_result"
    },
    {
     "data": {
      "text/plain": [
       "pandas._libs.tslibs.period.Period"
      ]
     },
     "execution_count": 48,
     "metadata": {},
     "output_type": "execute_result"
    }
   ],
   "source": [
    "# 타임스탬프 → period\n",
    "pts = ts.to_period()\n",
    "pts # 추론된 period\n",
    "type(pts.index[0])"
   ]
  },
  {
   "cell_type": "code",
   "execution_count": 49,
   "metadata": {
    "ExecuteTime": {
     "end_time": "2021-08-20T11:42:14.012294Z",
     "start_time": "2021-08-20T11:42:13.869663Z"
    }
   },
   "outputs": [
    {
     "data": {
      "text/plain": [
       "2000-01-29    1.343810\n",
       "2000-01-30   -0.713544\n",
       "2000-01-31   -0.831154\n",
       "2000-02-01   -2.370232\n",
       "2000-02-02   -1.860761\n",
       "2000-02-03   -0.860757\n",
       "Freq: D, dtype: float64"
      ]
     },
     "execution_count": 49,
     "metadata": {},
     "output_type": "execute_result"
    },
    {
     "data": {
      "text/plain": [
       "2000-01    1.343810\n",
       "2000-01   -0.713544\n",
       "2000-01   -0.831154\n",
       "2000-02   -2.370232\n",
       "2000-02   -1.860761\n",
       "2000-02   -0.860757\n",
       "Freq: M, dtype: float64"
      ]
     },
     "execution_count": 49,
     "metadata": {},
     "output_type": "execute_result"
    }
   ],
   "source": [
    "rng = pd.date_range('1/29/2000', periods=6, freq='D')\n",
    "ts2 = pd.Series(np.random.randn(6), index=rng)\n",
    "ts2 # 직접 빈도 지정\n",
    "ts2.to_period('M')"
   ]
  },
  {
   "cell_type": "markdown",
   "metadata": {},
   "source": [
    "- period to timestamp : `to_timestamp`"
   ]
  },
  {
   "cell_type": "code",
   "execution_count": 50,
   "metadata": {
    "ExecuteTime": {
     "end_time": "2021-08-20T11:42:14.106029Z",
     "start_time": "2021-08-20T11:42:14.054168Z"
    }
   },
   "outputs": [
    {
     "data": {
      "text/plain": [
       "2000-01-29    1.343810\n",
       "2000-01-30   -0.713544\n",
       "2000-01-31   -0.831154\n",
       "2000-02-01   -2.370232\n",
       "2000-02-02   -1.860761\n",
       "2000-02-03   -0.860757\n",
       "Freq: D, dtype: float64"
      ]
     },
     "execution_count": 50,
     "metadata": {},
     "output_type": "execute_result"
    },
    {
     "data": {
      "text/plain": [
       "2000-01-29 23:59:59.999999999    1.343810\n",
       "2000-01-30 23:59:59.999999999   -0.713544\n",
       "2000-01-31 23:59:59.999999999   -0.831154\n",
       "2000-02-01 23:59:59.999999999   -2.370232\n",
       "2000-02-02 23:59:59.999999999   -1.860761\n",
       "2000-02-03 23:59:59.999999999   -0.860757\n",
       "Freq: D, dtype: float64"
      ]
     },
     "execution_count": 50,
     "metadata": {},
     "output_type": "execute_result"
    }
   ],
   "source": [
    "pts = ts2.to_period()\n",
    "pts\n",
    "pts.to_timestamp(how='end')"
   ]
  },
  {
   "cell_type": "markdown",
   "metadata": {},
   "source": [
    "### 11.5.4 배열로 PeriodIndex 생성하기\n",
    "고정 빈도를 가지는 데이터는 종종 여러 컬럼에 걸쳐 기간에 대한 정보를 함께 저장하기도 한다."
   ]
  },
  {
   "cell_type": "code",
   "execution_count": 51,
   "metadata": {
    "ExecuteTime": {
     "end_time": "2021-08-20T11:42:14.336414Z",
     "start_time": "2021-08-20T11:42:14.209755Z"
    }
   },
   "outputs": [
    {
     "data": {
      "text/html": [
       "<div>\n",
       "<style scoped>\n",
       "    .dataframe tbody tr th:only-of-type {\n",
       "        vertical-align: middle;\n",
       "    }\n",
       "\n",
       "    .dataframe tbody tr th {\n",
       "        vertical-align: top;\n",
       "    }\n",
       "\n",
       "    .dataframe thead th {\n",
       "        text-align: right;\n",
       "    }\n",
       "</style>\n",
       "<table border=\"1\" class=\"dataframe\">\n",
       "  <thead>\n",
       "    <tr style=\"text-align: right;\">\n",
       "      <th></th>\n",
       "      <th>year</th>\n",
       "      <th>quarter</th>\n",
       "      <th>realgdp</th>\n",
       "      <th>realcons</th>\n",
       "      <th>realinv</th>\n",
       "      <th>realgovt</th>\n",
       "      <th>realdpi</th>\n",
       "      <th>cpi</th>\n",
       "      <th>m1</th>\n",
       "      <th>tbilrate</th>\n",
       "      <th>unemp</th>\n",
       "      <th>pop</th>\n",
       "      <th>infl</th>\n",
       "      <th>realint</th>\n",
       "    </tr>\n",
       "  </thead>\n",
       "  <tbody>\n",
       "    <tr>\n",
       "      <th>0</th>\n",
       "      <td>1959.0</td>\n",
       "      <td>1.0</td>\n",
       "      <td>2710.349</td>\n",
       "      <td>1707.4</td>\n",
       "      <td>286.898</td>\n",
       "      <td>470.045</td>\n",
       "      <td>1886.9</td>\n",
       "      <td>28.98</td>\n",
       "      <td>139.7</td>\n",
       "      <td>2.82</td>\n",
       "      <td>5.8</td>\n",
       "      <td>177.146</td>\n",
       "      <td>0.00</td>\n",
       "      <td>0.00</td>\n",
       "    </tr>\n",
       "    <tr>\n",
       "      <th>1</th>\n",
       "      <td>1959.0</td>\n",
       "      <td>2.0</td>\n",
       "      <td>2778.801</td>\n",
       "      <td>1733.7</td>\n",
       "      <td>310.859</td>\n",
       "      <td>481.301</td>\n",
       "      <td>1919.7</td>\n",
       "      <td>29.15</td>\n",
       "      <td>141.7</td>\n",
       "      <td>3.08</td>\n",
       "      <td>5.1</td>\n",
       "      <td>177.830</td>\n",
       "      <td>2.34</td>\n",
       "      <td>0.74</td>\n",
       "    </tr>\n",
       "    <tr>\n",
       "      <th>2</th>\n",
       "      <td>1959.0</td>\n",
       "      <td>3.0</td>\n",
       "      <td>2775.488</td>\n",
       "      <td>1751.8</td>\n",
       "      <td>289.226</td>\n",
       "      <td>491.260</td>\n",
       "      <td>1916.4</td>\n",
       "      <td>29.35</td>\n",
       "      <td>140.5</td>\n",
       "      <td>3.82</td>\n",
       "      <td>5.3</td>\n",
       "      <td>178.657</td>\n",
       "      <td>2.74</td>\n",
       "      <td>1.09</td>\n",
       "    </tr>\n",
       "    <tr>\n",
       "      <th>3</th>\n",
       "      <td>1959.0</td>\n",
       "      <td>4.0</td>\n",
       "      <td>2785.204</td>\n",
       "      <td>1753.7</td>\n",
       "      <td>299.356</td>\n",
       "      <td>484.052</td>\n",
       "      <td>1931.3</td>\n",
       "      <td>29.37</td>\n",
       "      <td>140.0</td>\n",
       "      <td>4.33</td>\n",
       "      <td>5.6</td>\n",
       "      <td>179.386</td>\n",
       "      <td>0.27</td>\n",
       "      <td>4.06</td>\n",
       "    </tr>\n",
       "    <tr>\n",
       "      <th>4</th>\n",
       "      <td>1960.0</td>\n",
       "      <td>1.0</td>\n",
       "      <td>2847.699</td>\n",
       "      <td>1770.5</td>\n",
       "      <td>331.722</td>\n",
       "      <td>462.199</td>\n",
       "      <td>1955.5</td>\n",
       "      <td>29.54</td>\n",
       "      <td>139.6</td>\n",
       "      <td>3.50</td>\n",
       "      <td>5.2</td>\n",
       "      <td>180.007</td>\n",
       "      <td>2.31</td>\n",
       "      <td>1.19</td>\n",
       "    </tr>\n",
       "  </tbody>\n",
       "</table>\n",
       "</div>"
      ],
      "text/plain": [
       "     year  quarter   realgdp  realcons  realinv  realgovt  realdpi    cpi  \\\n",
       "0  1959.0      1.0  2710.349    1707.4  286.898   470.045   1886.9  28.98   \n",
       "1  1959.0      2.0  2778.801    1733.7  310.859   481.301   1919.7  29.15   \n",
       "2  1959.0      3.0  2775.488    1751.8  289.226   491.260   1916.4  29.35   \n",
       "3  1959.0      4.0  2785.204    1753.7  299.356   484.052   1931.3  29.37   \n",
       "4  1960.0      1.0  2847.699    1770.5  331.722   462.199   1955.5  29.54   \n",
       "\n",
       "      m1  tbilrate  unemp      pop  infl  realint  \n",
       "0  139.7      2.82    5.8  177.146  0.00     0.00  \n",
       "1  141.7      3.08    5.1  177.830  2.34     0.74  \n",
       "2  140.5      3.82    5.3  178.657  2.74     1.09  \n",
       "3  140.0      4.33    5.6  179.386  0.27     4.06  \n",
       "4  139.6      3.50    5.2  180.007  2.31     1.19  "
      ]
     },
     "execution_count": 51,
     "metadata": {},
     "output_type": "execute_result"
    }
   ],
   "source": [
    "# 연도와 분기가 구분되 컬럼이 존재\n",
    "# year, quarter\n",
    "data = pd.read_csv('examples/macrodata.csv')\n",
    "data.head(5)"
   ]
  },
  {
   "cell_type": "code",
   "execution_count": 52,
   "metadata": {
    "ExecuteTime": {
     "end_time": "2021-08-20T11:42:14.382292Z",
     "start_time": "2021-08-20T11:42:14.351374Z"
    }
   },
   "outputs": [
    {
     "data": {
      "text/plain": [
       "0      1959.0\n",
       "1      1959.0\n",
       "2      1959.0\n",
       "3      1959.0\n",
       "4      1960.0\n",
       "        ...  \n",
       "198    2008.0\n",
       "199    2008.0\n",
       "200    2009.0\n",
       "201    2009.0\n",
       "202    2009.0\n",
       "Name: year, Length: 203, dtype: float64"
      ]
     },
     "execution_count": 52,
     "metadata": {},
     "output_type": "execute_result"
    }
   ],
   "source": [
    "data.year"
   ]
  },
  {
   "cell_type": "code",
   "execution_count": 53,
   "metadata": {
    "ExecuteTime": {
     "end_time": "2021-08-20T11:42:14.413207Z",
     "start_time": "2021-08-20T11:42:14.386281Z"
    }
   },
   "outputs": [
    {
     "data": {
      "text/plain": [
       "0      1.0\n",
       "1      2.0\n",
       "2      3.0\n",
       "3      4.0\n",
       "4      1.0\n",
       "      ... \n",
       "198    3.0\n",
       "199    4.0\n",
       "200    1.0\n",
       "201    2.0\n",
       "202    3.0\n",
       "Name: quarter, Length: 203, dtype: float64"
      ]
     },
     "execution_count": 53,
     "metadata": {},
     "output_type": "execute_result"
    }
   ],
   "source": [
    "data.quarter"
   ]
  },
  {
   "cell_type": "markdown",
   "metadata": {},
   "source": [
    "- `PeriodIndex`에 빈도값과 함께 위의 컬럼을 전달하면 DataFrame에서 사용할 수 있는 색인을 만들어 낼 수 있다."
   ]
  },
  {
   "cell_type": "code",
   "execution_count": 54,
   "metadata": {
    "ExecuteTime": {
     "end_time": "2021-08-20T11:42:14.443131Z",
     "start_time": "2021-08-20T11:42:14.421187Z"
    }
   },
   "outputs": [
    {
     "data": {
      "text/plain": [
       "PeriodIndex(['1959Q1', '1959Q2', '1959Q3', '1959Q4', '1960Q1', '1960Q2',\n",
       "             '1960Q3', '1960Q4', '1961Q1', '1961Q2',\n",
       "             ...\n",
       "             '2007Q2', '2007Q3', '2007Q4', '2008Q1', '2008Q2', '2008Q3',\n",
       "             '2008Q4', '2009Q1', '2009Q2', '2009Q3'],\n",
       "            dtype='period[Q-DEC]', length=203, freq='Q-DEC')"
      ]
     },
     "execution_count": 54,
     "metadata": {},
     "output_type": "execute_result"
    }
   ],
   "source": [
    "index = pd.PeriodIndex(year=data.year, quarter=data.quarter,\n",
    "                       freq='Q-DEC')\n",
    "index"
   ]
  },
  {
   "cell_type": "code",
   "execution_count": 55,
   "metadata": {
    "ExecuteTime": {
     "end_time": "2021-08-20T11:42:14.518927Z",
     "start_time": "2021-08-20T11:42:14.449116Z"
    }
   },
   "outputs": [
    {
     "data": {
      "text/html": [
       "<div>\n",
       "<style scoped>\n",
       "    .dataframe tbody tr th:only-of-type {\n",
       "        vertical-align: middle;\n",
       "    }\n",
       "\n",
       "    .dataframe tbody tr th {\n",
       "        vertical-align: top;\n",
       "    }\n",
       "\n",
       "    .dataframe thead th {\n",
       "        text-align: right;\n",
       "    }\n",
       "</style>\n",
       "<table border=\"1\" class=\"dataframe\">\n",
       "  <thead>\n",
       "    <tr style=\"text-align: right;\">\n",
       "      <th></th>\n",
       "      <th>year</th>\n",
       "      <th>quarter</th>\n",
       "      <th>realgdp</th>\n",
       "      <th>realcons</th>\n",
       "      <th>realinv</th>\n",
       "      <th>realgovt</th>\n",
       "      <th>realdpi</th>\n",
       "      <th>cpi</th>\n",
       "      <th>m1</th>\n",
       "      <th>tbilrate</th>\n",
       "      <th>unemp</th>\n",
       "      <th>pop</th>\n",
       "      <th>infl</th>\n",
       "      <th>realint</th>\n",
       "    </tr>\n",
       "  </thead>\n",
       "  <tbody>\n",
       "    <tr>\n",
       "      <th>1959Q1</th>\n",
       "      <td>1959.0</td>\n",
       "      <td>1.0</td>\n",
       "      <td>2710.349</td>\n",
       "      <td>1707.4</td>\n",
       "      <td>286.898</td>\n",
       "      <td>470.045</td>\n",
       "      <td>1886.9</td>\n",
       "      <td>28.980</td>\n",
       "      <td>139.7</td>\n",
       "      <td>2.82</td>\n",
       "      <td>5.8</td>\n",
       "      <td>177.146</td>\n",
       "      <td>0.00</td>\n",
       "      <td>0.00</td>\n",
       "    </tr>\n",
       "    <tr>\n",
       "      <th>1959Q2</th>\n",
       "      <td>1959.0</td>\n",
       "      <td>2.0</td>\n",
       "      <td>2778.801</td>\n",
       "      <td>1733.7</td>\n",
       "      <td>310.859</td>\n",
       "      <td>481.301</td>\n",
       "      <td>1919.7</td>\n",
       "      <td>29.150</td>\n",
       "      <td>141.7</td>\n",
       "      <td>3.08</td>\n",
       "      <td>5.1</td>\n",
       "      <td>177.830</td>\n",
       "      <td>2.34</td>\n",
       "      <td>0.74</td>\n",
       "    </tr>\n",
       "    <tr>\n",
       "      <th>1959Q3</th>\n",
       "      <td>1959.0</td>\n",
       "      <td>3.0</td>\n",
       "      <td>2775.488</td>\n",
       "      <td>1751.8</td>\n",
       "      <td>289.226</td>\n",
       "      <td>491.260</td>\n",
       "      <td>1916.4</td>\n",
       "      <td>29.350</td>\n",
       "      <td>140.5</td>\n",
       "      <td>3.82</td>\n",
       "      <td>5.3</td>\n",
       "      <td>178.657</td>\n",
       "      <td>2.74</td>\n",
       "      <td>1.09</td>\n",
       "    </tr>\n",
       "    <tr>\n",
       "      <th>1959Q4</th>\n",
       "      <td>1959.0</td>\n",
       "      <td>4.0</td>\n",
       "      <td>2785.204</td>\n",
       "      <td>1753.7</td>\n",
       "      <td>299.356</td>\n",
       "      <td>484.052</td>\n",
       "      <td>1931.3</td>\n",
       "      <td>29.370</td>\n",
       "      <td>140.0</td>\n",
       "      <td>4.33</td>\n",
       "      <td>5.6</td>\n",
       "      <td>179.386</td>\n",
       "      <td>0.27</td>\n",
       "      <td>4.06</td>\n",
       "    </tr>\n",
       "    <tr>\n",
       "      <th>1960Q1</th>\n",
       "      <td>1960.0</td>\n",
       "      <td>1.0</td>\n",
       "      <td>2847.699</td>\n",
       "      <td>1770.5</td>\n",
       "      <td>331.722</td>\n",
       "      <td>462.199</td>\n",
       "      <td>1955.5</td>\n",
       "      <td>29.540</td>\n",
       "      <td>139.6</td>\n",
       "      <td>3.50</td>\n",
       "      <td>5.2</td>\n",
       "      <td>180.007</td>\n",
       "      <td>2.31</td>\n",
       "      <td>1.19</td>\n",
       "    </tr>\n",
       "    <tr>\n",
       "      <th>...</th>\n",
       "      <td>...</td>\n",
       "      <td>...</td>\n",
       "      <td>...</td>\n",
       "      <td>...</td>\n",
       "      <td>...</td>\n",
       "      <td>...</td>\n",
       "      <td>...</td>\n",
       "      <td>...</td>\n",
       "      <td>...</td>\n",
       "      <td>...</td>\n",
       "      <td>...</td>\n",
       "      <td>...</td>\n",
       "      <td>...</td>\n",
       "      <td>...</td>\n",
       "    </tr>\n",
       "    <tr>\n",
       "      <th>2008Q3</th>\n",
       "      <td>2008.0</td>\n",
       "      <td>3.0</td>\n",
       "      <td>13324.600</td>\n",
       "      <td>9267.7</td>\n",
       "      <td>1990.693</td>\n",
       "      <td>991.551</td>\n",
       "      <td>9838.3</td>\n",
       "      <td>216.889</td>\n",
       "      <td>1474.7</td>\n",
       "      <td>1.17</td>\n",
       "      <td>6.0</td>\n",
       "      <td>305.270</td>\n",
       "      <td>-3.16</td>\n",
       "      <td>4.33</td>\n",
       "    </tr>\n",
       "    <tr>\n",
       "      <th>2008Q4</th>\n",
       "      <td>2008.0</td>\n",
       "      <td>4.0</td>\n",
       "      <td>13141.920</td>\n",
       "      <td>9195.3</td>\n",
       "      <td>1857.661</td>\n",
       "      <td>1007.273</td>\n",
       "      <td>9920.4</td>\n",
       "      <td>212.174</td>\n",
       "      <td>1576.5</td>\n",
       "      <td>0.12</td>\n",
       "      <td>6.9</td>\n",
       "      <td>305.952</td>\n",
       "      <td>-8.79</td>\n",
       "      <td>8.91</td>\n",
       "    </tr>\n",
       "    <tr>\n",
       "      <th>2009Q1</th>\n",
       "      <td>2009.0</td>\n",
       "      <td>1.0</td>\n",
       "      <td>12925.410</td>\n",
       "      <td>9209.2</td>\n",
       "      <td>1558.494</td>\n",
       "      <td>996.287</td>\n",
       "      <td>9926.4</td>\n",
       "      <td>212.671</td>\n",
       "      <td>1592.8</td>\n",
       "      <td>0.22</td>\n",
       "      <td>8.1</td>\n",
       "      <td>306.547</td>\n",
       "      <td>0.94</td>\n",
       "      <td>-0.71</td>\n",
       "    </tr>\n",
       "    <tr>\n",
       "      <th>2009Q2</th>\n",
       "      <td>2009.0</td>\n",
       "      <td>2.0</td>\n",
       "      <td>12901.504</td>\n",
       "      <td>9189.0</td>\n",
       "      <td>1456.678</td>\n",
       "      <td>1023.528</td>\n",
       "      <td>10077.5</td>\n",
       "      <td>214.469</td>\n",
       "      <td>1653.6</td>\n",
       "      <td>0.18</td>\n",
       "      <td>9.2</td>\n",
       "      <td>307.226</td>\n",
       "      <td>3.37</td>\n",
       "      <td>-3.19</td>\n",
       "    </tr>\n",
       "    <tr>\n",
       "      <th>2009Q3</th>\n",
       "      <td>2009.0</td>\n",
       "      <td>3.0</td>\n",
       "      <td>12990.341</td>\n",
       "      <td>9256.0</td>\n",
       "      <td>1486.398</td>\n",
       "      <td>1044.088</td>\n",
       "      <td>10040.6</td>\n",
       "      <td>216.385</td>\n",
       "      <td>1673.9</td>\n",
       "      <td>0.12</td>\n",
       "      <td>9.6</td>\n",
       "      <td>308.013</td>\n",
       "      <td>3.56</td>\n",
       "      <td>-3.44</td>\n",
       "    </tr>\n",
       "  </tbody>\n",
       "</table>\n",
       "<p>203 rows × 14 columns</p>\n",
       "</div>"
      ],
      "text/plain": [
       "          year  quarter    realgdp  realcons   realinv  realgovt  realdpi  \\\n",
       "1959Q1  1959.0      1.0   2710.349    1707.4   286.898   470.045   1886.9   \n",
       "1959Q2  1959.0      2.0   2778.801    1733.7   310.859   481.301   1919.7   \n",
       "1959Q3  1959.0      3.0   2775.488    1751.8   289.226   491.260   1916.4   \n",
       "1959Q4  1959.0      4.0   2785.204    1753.7   299.356   484.052   1931.3   \n",
       "1960Q1  1960.0      1.0   2847.699    1770.5   331.722   462.199   1955.5   \n",
       "...        ...      ...        ...       ...       ...       ...      ...   \n",
       "2008Q3  2008.0      3.0  13324.600    9267.7  1990.693   991.551   9838.3   \n",
       "2008Q4  2008.0      4.0  13141.920    9195.3  1857.661  1007.273   9920.4   \n",
       "2009Q1  2009.0      1.0  12925.410    9209.2  1558.494   996.287   9926.4   \n",
       "2009Q2  2009.0      2.0  12901.504    9189.0  1456.678  1023.528  10077.5   \n",
       "2009Q3  2009.0      3.0  12990.341    9256.0  1486.398  1044.088  10040.6   \n",
       "\n",
       "            cpi      m1  tbilrate  unemp      pop  infl  realint  \n",
       "1959Q1   28.980   139.7      2.82    5.8  177.146  0.00     0.00  \n",
       "1959Q2   29.150   141.7      3.08    5.1  177.830  2.34     0.74  \n",
       "1959Q3   29.350   140.5      3.82    5.3  178.657  2.74     1.09  \n",
       "1959Q4   29.370   140.0      4.33    5.6  179.386  0.27     4.06  \n",
       "1960Q1   29.540   139.6      3.50    5.2  180.007  2.31     1.19  \n",
       "...         ...     ...       ...    ...      ...   ...      ...  \n",
       "2008Q3  216.889  1474.7      1.17    6.0  305.270 -3.16     4.33  \n",
       "2008Q4  212.174  1576.5      0.12    6.9  305.952 -8.79     8.91  \n",
       "2009Q1  212.671  1592.8      0.22    8.1  306.547  0.94    -0.71  \n",
       "2009Q2  214.469  1653.6      0.18    9.2  307.226  3.37    -3.19  \n",
       "2009Q3  216.385  1673.9      0.12    9.6  308.013  3.56    -3.44  \n",
       "\n",
       "[203 rows x 14 columns]"
      ]
     },
     "execution_count": 55,
     "metadata": {},
     "output_type": "execute_result"
    }
   ],
   "source": [
    "data.index = index\n",
    "data"
   ]
  }
 ],
 "metadata": {
  "kernelspec": {
   "display_name": "Python 3",
   "language": "python",
   "name": "python3"
  },
  "language_info": {
   "codemirror_mode": {
    "name": "ipython",
    "version": 3
   },
   "file_extension": ".py",
   "mimetype": "text/x-python",
   "name": "python",
   "nbconvert_exporter": "python",
   "pygments_lexer": "ipython3",
   "version": "3.7.10"
  },
  "latex_envs": {
   "LaTeX_envs_menu_present": true,
   "autoclose": false,
   "autocomplete": true,
   "bibliofile": "biblio.bib",
   "cite_by": "apalike",
   "current_citInitial": 1,
   "eqLabelWithNumbers": true,
   "eqNumInitial": 1,
   "hotkeys": {
    "equation": "Ctrl-E",
    "itemize": "Ctrl-I"
   },
   "labels_anchors": false,
   "latex_user_defs": false,
   "report_style_numbering": false,
   "user_envs_cfg": false
  },
  "toc": {
   "base_numbering": 1,
   "nav_menu": {},
   "number_sections": true,
   "sideBar": true,
   "skip_h1_title": false,
   "title_cell": "Table of Contents",
   "title_sidebar": "Contents",
   "toc_cell": false,
   "toc_position": {},
   "toc_section_display": true,
   "toc_window_display": false
  }
 },
 "nbformat": 4,
 "nbformat_minor": 1
}
