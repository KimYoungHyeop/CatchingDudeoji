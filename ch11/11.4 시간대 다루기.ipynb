{
 "cells": [
  {
   "cell_type": "code",
   "execution_count": 18,
   "metadata": {
    "ExecuteTime": {
     "end_time": "2021-08-14T17:52:20.883300Z",
     "start_time": "2021-08-14T17:52:20.863320Z"
    }
   },
   "outputs": [],
   "source": [
    "import numpy as np\n",
    "import pandas as pd\n",
    "np.random.seed(12345)\n",
    "import matplotlib.pyplot as plt\n",
    "plt.rc('figure', figsize=(10, 6))\n",
    "PREVIOUS_MAX_ROWS = pd.options.display.max_rows\n",
    "pd.options.display.max_rows = 20\n",
    "np.set_printoptions(precision=4, suppress=True)\n",
    "\n",
    "from IPython.core.interactiveshell import InteractiveShell\n",
    "InteractiveShell.ast_node_interactivity = \"all\""
   ]
  },
  {
   "cell_type": "markdown",
   "metadata": {},
   "source": [
    "## 11.4 시간대 다루기\n",
    "\n",
    "📌 파이썬의 시간대에 대해 알아보기(datetime.timezone) : [link](https://spoqa.github.io/2019/02/15/python-timezone.html)\n",
    "\n",
    "![utc](https://upload.wikimedia.org/wikipedia/commons/8/88/World_Time_Zones_Map.png)\n",
    "\n",
    "- 파이썬에서 시간대 정보는 전 세계 시간대 정보를 모아둔 [올슨 데이터베이스](https://en.wikipedia.org/wiki/Tz_database)를 담고 있는 서드파티 라이브러리인 `pytz`에서 얻어 온다.\n",
    "- `pandas`는 `pytz`의 기능을 사용하고 있으므로 시간대 이름 외에 API의 다른 부분은 무시해도 상관없다. [시간대 이름](https://gist.github.com/heyalexej/8bf688fd67d7199be4a1682b3eec7568)은 문서와 파이썬 셀에서 직접 확인할 수 있다.\n",
    "- `pandas`의 메서드에서는 시간대 이름이나 시간대 객체를 모두 사용할 수 있지만 <u>시간대 이름을 사용하기를 권장</u>한다."
   ]
  },
  {
   "cell_type": "code",
   "execution_count": 2,
   "metadata": {
    "ExecuteTime": {
     "end_time": "2021-08-14T11:46:55.388909Z",
     "start_time": "2021-08-14T11:46:54.094952Z"
    }
   },
   "outputs": [
    {
     "data": {
      "text/plain": [
       "['US/Eastern', 'US/Hawaii', 'US/Mountain', 'US/Pacific', 'UTC']"
      ]
     },
     "execution_count": 2,
     "metadata": {},
     "output_type": "execute_result"
    }
   ],
   "source": [
    "import pytz\n",
    "pytz.common_timezones[-5:]"
   ]
  },
  {
   "cell_type": "code",
   "execution_count": 8,
   "metadata": {
    "ExecuteTime": {
     "end_time": "2021-08-14T17:43:14.064691Z",
     "start_time": "2021-08-14T17:43:14.054721Z"
    }
   },
   "outputs": [
    {
     "data": {
      "text/plain": [
       "['Africa/Abidjan',\n",
       " 'Africa/Accra',\n",
       " 'Africa/Addis_Ababa',\n",
       " 'Africa/Algiers',\n",
       " 'Africa/Asmara']"
      ]
     },
     "execution_count": 8,
     "metadata": {},
     "output_type": "execute_result"
    }
   ],
   "source": [
    "# 모든 시간대 이름\n",
    "pytz.all_timezones[:5]"
   ]
  },
  {
   "cell_type": "code",
   "execution_count": 3,
   "metadata": {
    "ExecuteTime": {
     "end_time": "2021-08-14T11:46:55.558151Z",
     "start_time": "2021-08-14T11:46:55.543189Z"
    }
   },
   "outputs": [
    {
     "data": {
      "text/plain": [
       "<DstTzInfo 'America/New_York' LMT-1 day, 19:04:00 STD>"
      ]
     },
     "execution_count": 3,
     "metadata": {},
     "output_type": "execute_result"
    }
   ],
   "source": [
    "# 시간대 객체를 얻으려면 pytz.timezon을 사용하면 된다.\n",
    "tz = pytz.timezone('America/New_York')\n",
    "tz"
   ]
  },
  {
   "cell_type": "markdown",
   "metadata": {},
   "source": [
    "### 11.4.1 시간대 지역화와 변환"
   ]
  },
  {
   "cell_type": "markdown",
   "metadata": {},
   "source": [
    "기본적으로 `pandas`에서 시계열은 **시간대를 엄격히 다루지 않는다.**"
   ]
  },
  {
   "cell_type": "markdown",
   "metadata": {},
   "source": [
    "#### pandas와 timezone\n",
    "\n",
    "✨ remind : date_range<br>\n",
    "\n",
    "`pandas.date_range`를 사용하여 특정 빈도에 따라 지정한 길이만큼의 `DatetimeIndex`를 생성한다. 교재에서는 436 페이지에 등장!\n",
    "\n",
    "```python\n",
    "pd.date_range(start=None, end=None, periods=None, freq=None, tz=None, normalize=False, name=None, closed=None, **kwargs)\n",
    "```"
   ]
  },
  {
   "cell_type": "code",
   "execution_count": 9,
   "metadata": {
    "ExecuteTime": {
     "end_time": "2021-08-14T17:43:51.108732Z",
     "start_time": "2021-08-14T17:43:51.030942Z"
    }
   },
   "outputs": [
    {
     "data": {
      "text/plain": [
       "2012-03-09 09:30:00   -0.204708\n",
       "2012-03-10 09:30:00    0.478943\n",
       "2012-03-11 09:30:00   -0.519439\n",
       "2012-03-12 09:30:00   -0.555730\n",
       "2012-03-13 09:30:00    1.965781\n",
       "2012-03-14 09:30:00    1.393406\n",
       "Freq: D, dtype: float64"
      ]
     },
     "execution_count": 9,
     "metadata": {},
     "output_type": "execute_result"
    }
   ],
   "source": [
    "rng = pd.date_range('3/9/2012 9:30', periods=6, freq='D')\n",
    "ts = pd.Series(np.random.randn(len(rng)), index=rng)\n",
    "ts"
   ]
  },
  {
   "cell_type": "code",
   "execution_count": 11,
   "metadata": {
    "ExecuteTime": {
     "end_time": "2021-08-14T17:49:15.746326Z",
     "start_time": "2021-08-14T17:49:15.729367Z"
    }
   },
   "outputs": [
    {
     "name": "stdout",
     "output_type": "stream",
     "text": [
      "None\n"
     ]
    }
   ],
   "source": [
    "# 색인의 tz 필드는 None이다.\n",
    "print(ts.index.tz)"
   ]
  },
  {
   "cell_type": "markdown",
   "metadata": {
    "ExecuteTime": {
     "end_time": "2021-08-14T17:49:44.010804Z",
     "start_time": "2021-08-14T17:49:43.999794Z"
    }
   },
   "source": [
    "`tz` 파라미터를 이용하여 시간대를 지정해서 날짜 범위를 생성할 수 있다."
   ]
  },
  {
   "cell_type": "code",
   "execution_count": 14,
   "metadata": {
    "ExecuteTime": {
     "end_time": "2021-08-14T17:49:47.536223Z",
     "start_time": "2021-08-14T17:49:47.526267Z"
    }
   },
   "outputs": [
    {
     "data": {
      "text/plain": [
       "DatetimeIndex(['2012-03-09 09:30:00+00:00', '2012-03-10 09:30:00+00:00',\n",
       "               '2012-03-11 09:30:00+00:00', '2012-03-12 09:30:00+00:00',\n",
       "               '2012-03-13 09:30:00+00:00', '2012-03-14 09:30:00+00:00',\n",
       "               '2012-03-15 09:30:00+00:00', '2012-03-16 09:30:00+00:00',\n",
       "               '2012-03-17 09:30:00+00:00', '2012-03-18 09:30:00+00:00'],\n",
       "              dtype='datetime64[ns, UTC]', freq='D')"
      ]
     },
     "execution_count": 14,
     "metadata": {},
     "output_type": "execute_result"
    }
   ],
   "source": [
    "pd.date_range('3/9/2012 9:30', periods=10, freq='D', tz='UTC')"
   ]
  },
  {
   "cell_type": "markdown",
   "metadata": {},
   "source": [
    "#### 지역화\n",
    "**지역화** 시간으로의 변환은 `tz_localize` 메서드로 처리할 수 있다."
   ]
  },
  {
   "cell_type": "code",
   "execution_count": 21,
   "metadata": {
    "ExecuteTime": {
     "end_time": "2021-08-14T17:53:49.268556Z",
     "start_time": "2021-08-14T17:53:49.247580Z"
    }
   },
   "outputs": [
    {
     "data": {
      "text/plain": [
       "2012-03-09 09:30:00   -0.204708\n",
       "2012-03-10 09:30:00    0.478943\n",
       "2012-03-11 09:30:00   -0.519439\n",
       "2012-03-12 09:30:00   -0.555730\n",
       "2012-03-13 09:30:00    1.965781\n",
       "2012-03-14 09:30:00    1.393406\n",
       "Freq: D, dtype: float64"
      ]
     },
     "execution_count": 21,
     "metadata": {},
     "output_type": "execute_result"
    },
    {
     "data": {
      "text/plain": [
       "2012-03-09 09:30:00+00:00   -0.204708\n",
       "2012-03-10 09:30:00+00:00    0.478943\n",
       "2012-03-11 09:30:00+00:00   -0.519439\n",
       "2012-03-12 09:30:00+00:00   -0.555730\n",
       "2012-03-13 09:30:00+00:00    1.965781\n",
       "2012-03-14 09:30:00+00:00    1.393406\n",
       "Freq: D, dtype: float64"
      ]
     },
     "execution_count": 21,
     "metadata": {},
     "output_type": "execute_result"
    }
   ],
   "source": [
    "ts\n",
    "ts_utc = ts.tz_localize('UTC')\n",
    "ts_utc"
   ]
  },
  {
   "cell_type": "code",
   "execution_count": 22,
   "metadata": {
    "ExecuteTime": {
     "end_time": "2021-08-14T17:53:56.644754Z",
     "start_time": "2021-08-14T17:53:56.630756Z"
    }
   },
   "outputs": [
    {
     "data": {
      "text/plain": [
       "DatetimeIndex(['2012-03-09 09:30:00', '2012-03-10 09:30:00',\n",
       "               '2012-03-11 09:30:00', '2012-03-12 09:30:00',\n",
       "               '2012-03-13 09:30:00', '2012-03-14 09:30:00'],\n",
       "              dtype='datetime64[ns]', freq='D')"
      ]
     },
     "execution_count": 22,
     "metadata": {},
     "output_type": "execute_result"
    },
    {
     "data": {
      "text/plain": [
       "DatetimeIndex(['2012-03-09 09:30:00+00:00', '2012-03-10 09:30:00+00:00',\n",
       "               '2012-03-11 09:30:00+00:00', '2012-03-12 09:30:00+00:00',\n",
       "               '2012-03-13 09:30:00+00:00', '2012-03-14 09:30:00+00:00'],\n",
       "              dtype='datetime64[ns, UTC]', freq='D')"
      ]
     },
     "execution_count": 22,
     "metadata": {},
     "output_type": "execute_result"
    }
   ],
   "source": [
    "ts.index\n",
    "ts_utc.index"
   ]
  },
  {
   "cell_type": "markdown",
   "metadata": {},
   "source": [
    "#### 시간대 변환\n",
    "시계열이 특정 시간대로 지역화되고 나면 `tz_convert`를 이용해서 다른 시간대로 변환 가능하다."
   ]
  },
  {
   "cell_type": "code",
   "execution_count": 23,
   "metadata": {
    "ExecuteTime": {
     "end_time": "2021-08-14T17:59:15.839890Z",
     "start_time": "2021-08-14T17:59:15.823933Z"
    }
   },
   "outputs": [
    {
     "data": {
      "text/plain": [
       "2012-03-09 04:30:00-05:00   -0.204708\n",
       "2012-03-10 04:30:00-05:00    0.478943\n",
       "2012-03-11 05:30:00-04:00   -0.519439\n",
       "2012-03-12 05:30:00-04:00   -0.555730\n",
       "2012-03-13 05:30:00-04:00    1.965781\n",
       "2012-03-14 05:30:00-04:00    1.393406\n",
       "Freq: D, dtype: float64"
      ]
     },
     "execution_count": 23,
     "metadata": {},
     "output_type": "execute_result"
    }
   ],
   "source": [
    "# America/New_York은 서머 타임이 적용되고 있다.\n",
    "ts_utc.tz_convert('America/New_York')"
   ]
  },
  {
   "cell_type": "code",
   "execution_count": 33,
   "metadata": {
    "ExecuteTime": {
     "end_time": "2021-08-14T18:15:59.695366Z",
     "start_time": "2021-08-14T18:15:59.664448Z"
    }
   },
   "outputs": [
    {
     "data": {
      "text/plain": [
       "DatetimeIndex(['2012-03-09 09:30:00-05:00', '2012-03-10 09:30:00-05:00',\n",
       "               '2012-03-11 09:30:00-04:00', '2012-03-12 09:30:00-04:00',\n",
       "               '2012-03-13 09:30:00-04:00', '2012-03-14 09:30:00-04:00'],\n",
       "              dtype='datetime64[ns, America/New_York]', freq=None)"
      ]
     },
     "execution_count": 33,
     "metadata": {},
     "output_type": "execute_result"
    },
    {
     "data": {
      "text/plain": [
       "DatetimeIndex(['2012-03-09 09:30:00-05:00', '2012-03-10 09:30:00-05:00',\n",
       "               '2012-03-11 08:30:00-05:00', '2012-03-12 08:30:00-05:00',\n",
       "               '2012-03-13 08:30:00-05:00', '2012-03-14 08:30:00-05:00'],\n",
       "              dtype='datetime64[ns, EST]', freq=None)"
      ]
     },
     "execution_count": 33,
     "metadata": {},
     "output_type": "execute_result"
    },
    {
     "data": {
      "text/plain": [
       "DatetimeIndex(['2012-03-09 14:30:00+00:00', '2012-03-10 14:30:00+00:00',\n",
       "               '2012-03-11 13:30:00+00:00', '2012-03-12 13:30:00+00:00',\n",
       "               '2012-03-13 13:30:00+00:00', '2012-03-14 13:30:00+00:00'],\n",
       "              dtype='datetime64[ns, UTC]', freq=None)"
      ]
     },
     "execution_count": 33,
     "metadata": {},
     "output_type": "execute_result"
    },
    {
     "data": {
      "text/plain": [
       "DatetimeIndex(['2012-03-09 15:30:00+01:00', '2012-03-10 15:30:00+01:00',\n",
       "               '2012-03-11 14:30:00+01:00', '2012-03-12 14:30:00+01:00',\n",
       "               '2012-03-13 14:30:00+01:00', '2012-03-14 14:30:00+01:00'],\n",
       "              dtype='datetime64[ns, Europe/Berlin]', freq=None)"
      ]
     },
     "execution_count": 33,
     "metadata": {},
     "output_type": "execute_result"
    }
   ],
   "source": [
    "# America/New_York → EST → UTC 또는 Europe/Berlin\n",
    "ts_newyork = ts.tz_localize('America/New_York')\n",
    "ts_newyork.index\n",
    "ts_newyork.tz_convert('EST').index\n",
    "ts_newyork.tz_convert('EST').tz_convert('UTC').index\n",
    "ts_newyork.tz_convert('EST').tz_convert('Europe/Berlin').index"
   ]
  },
  {
   "cell_type": "markdown",
   "metadata": {},
   "source": [
    "`tz_localize`와 `tz_convert`는 모두 `DatetimeIndex`의 인스터스 메서드이다."
   ]
  },
  {
   "cell_type": "code",
   "execution_count": 34,
   "metadata": {
    "ExecuteTime": {
     "end_time": "2021-08-14T18:17:27.508159Z",
     "start_time": "2021-08-14T18:17:27.486217Z"
    }
   },
   "outputs": [
    {
     "data": {
      "text/plain": [
       "DatetimeIndex(['2012-03-09 09:30:00+08:00', '2012-03-10 09:30:00+08:00',\n",
       "               '2012-03-11 09:30:00+08:00', '2012-03-12 09:30:00+08:00',\n",
       "               '2012-03-13 09:30:00+08:00', '2012-03-14 09:30:00+08:00'],\n",
       "              dtype='datetime64[ns, Asia/Shanghai]', freq=None)"
      ]
     },
     "execution_count": 34,
     "metadata": {},
     "output_type": "execute_result"
    }
   ],
   "source": [
    "ts.index.tz_localize('Asia/Shanghai')"
   ]
  },
  {
   "cell_type": "markdown",
   "metadata": {},
   "source": [
    "### 11.4.2 시간대를 고려해서 Timestamp 객체 다루기\n",
    "시계열이나 날짜 범위와 비슷하게 개별 timestamp 객체도 시간대를 고려한 형태로 변환이 가능하다."
   ]
  },
  {
   "cell_type": "code",
   "execution_count": 37,
   "metadata": {
    "ExecuteTime": {
     "end_time": "2021-08-14T18:18:36.041151Z",
     "start_time": "2021-08-14T18:18:36.022236Z"
    }
   },
   "outputs": [
    {
     "data": {
      "text/plain": [
       "Timestamp('2011-03-12 04:00:00')"
      ]
     },
     "execution_count": 37,
     "metadata": {},
     "output_type": "execute_result"
    },
    {
     "data": {
      "text/plain": [
       "Timestamp('2011-03-12 04:00:00+0000', tz='UTC')"
      ]
     },
     "execution_count": 37,
     "metadata": {},
     "output_type": "execute_result"
    },
    {
     "data": {
      "text/plain": [
       "Timestamp('2011-03-11 23:00:00-0500', tz='America/New_York')"
      ]
     },
     "execution_count": 37,
     "metadata": {},
     "output_type": "execute_result"
    }
   ],
   "source": [
    "stamp = pd.Timestamp('2011-03-12 04:00')\n",
    "stamp\n",
    "\n",
    "stamp_utc = stamp.tz_localize('utc')\n",
    "stamp_utc\n",
    "\n",
    "stamp_utc.tz_convert('America/New_York')"
   ]
  },
  {
   "cell_type": "markdown",
   "metadata": {},
   "source": [
    "Timestamp 객체를 생성할 때 시간대를 `tz` 파라미터를 사용하여 시간대를 직접 넘겨주는 것도 가능하다."
   ]
  },
  {
   "cell_type": "code",
   "execution_count": 38,
   "metadata": {
    "ExecuteTime": {
     "end_time": "2021-08-14T18:20:00.320241Z",
     "start_time": "2021-08-14T18:20:00.304144Z"
    }
   },
   "outputs": [
    {
     "data": {
      "text/plain": [
       "Timestamp('2011-03-12 04:00:00+0300', tz='Europe/Moscow')"
      ]
     },
     "execution_count": 38,
     "metadata": {},
     "output_type": "execute_result"
    }
   ],
   "source": [
    "stamp_moscow = pd.Timestamp('2011-03-12 04:00', tz='Europe/Moscow')\n",
    "stamp_moscow"
   ]
  },
  {
   "cell_type": "markdown",
   "metadata": {},
   "source": [
    "시간대를 고려한 Timestamp 객체는 내부적으로 UTC 타임스탬프 값을 유닉스 에포스(Unix epoch, 1970년 1월 1일)부터 현재까지의 나노초로 저장하고 있다. 이 UTF 값은 시간대 변환 과정에서 변하지 않고 유지된다."
   ]
  },
  {
   "cell_type": "code",
   "execution_count": 39,
   "metadata": {
    "ExecuteTime": {
     "end_time": "2021-08-14T18:20:38.750380Z",
     "start_time": "2021-08-14T18:20:38.733300Z"
    }
   },
   "outputs": [
    {
     "data": {
      "text/plain": [
       "1299902400000000000"
      ]
     },
     "execution_count": 39,
     "metadata": {},
     "output_type": "execute_result"
    },
    {
     "data": {
      "text/plain": [
       "1299902400000000000"
      ]
     },
     "execution_count": 39,
     "metadata": {},
     "output_type": "execute_result"
    }
   ],
   "source": [
    "stamp_utc.value\n",
    "stamp_utc.tz_convert('America/New_York').value"
   ]
  },
  {
   "cell_type": "markdown",
   "metadata": {},
   "source": [
    "`pandas`의 `DateOffset` 객체를 이용해서 시간 연산을 수행할 때는 가능하다면 서머타임을 고려한다."
   ]
  },
  {
   "cell_type": "code",
   "execution_count": 56,
   "metadata": {
    "ExecuteTime": {
     "end_time": "2021-08-14T18:42:02.036334Z",
     "start_time": "2021-08-14T18:42:02.023372Z"
    }
   },
   "outputs": [
    {
     "data": {
      "text/plain": [
       "Timestamp('2018-03-11 01:30:00-0500', tz='US/Eastern')"
      ]
     },
     "execution_count": 56,
     "metadata": {},
     "output_type": "execute_result"
    },
    {
     "data": {
      "text/plain": [
       "Timestamp('2018-03-11 03:30:00-0400', tz='US/Eastern')"
      ]
     },
     "execution_count": 56,
     "metadata": {},
     "output_type": "execute_result"
    }
   ],
   "source": [
    "from pandas.tseries.offsets import Hour\n",
    "\n",
    "# 2012년도 서머타임 시작일 : 3월 11일\n",
    "# 2012년도 서머타임 종료일 : 11월 4일\n",
    "\n",
    "# DST로 전환되기 직전(30분 전)의 Timestamp 생성\n",
    "stamp = pd.Timestamp('2018-03-11 01:30', tz='US/Eastern')\n",
    "stamp\n",
    "stamp + Hour()"
   ]
  },
  {
   "cell_type": "code",
   "execution_count": 57,
   "metadata": {
    "ExecuteTime": {
     "end_time": "2021-08-14T18:42:26.469544Z",
     "start_time": "2021-08-14T18:42:26.453689Z"
    }
   },
   "outputs": [
    {
     "data": {
      "text/plain": [
       "Timestamp('2012-11-04 00:30:00-0400', tz='US/Eastern')"
      ]
     },
     "execution_count": 57,
     "metadata": {},
     "output_type": "execute_result"
    },
    {
     "data": {
      "text/plain": [
       "Timestamp('2012-11-04 01:30:00-0500', tz='US/Eastern')"
      ]
     },
     "execution_count": 57,
     "metadata": {},
     "output_type": "execute_result"
    }
   ],
   "source": [
    "# DST로 전환되기 90분 전의 Timestamp 생성\n",
    "stamp = pd.Timestamp('2012-11-04 00:30', tz='US/Eastern')\n",
    "stamp\n",
    "stamp + 2 * Hour()"
   ]
  },
  {
   "cell_type": "markdown",
   "metadata": {},
   "source": [
    "### 11.4.3 다른 시간대 간의 연산\n",
    "서로 다른 시간대를 갖는 두 시계열이 하나로 합쳐지면 결과는 UTC가 된다.<br>\n",
    "타임스탬프를 내부적으로 UTC로 저장되므로 추가적인 변환이 불필요한 명료한 연산이다."
   ]
  },
  {
   "cell_type": "code",
   "execution_count": 59,
   "metadata": {
    "ExecuteTime": {
     "end_time": "2021-08-14T18:43:47.251785Z",
     "start_time": "2021-08-14T18:43:47.228847Z"
    }
   },
   "outputs": [
    {
     "data": {
      "text/plain": [
       "2012-03-07 09:30:00    1.007189\n",
       "2012-03-08 09:30:00   -1.296221\n",
       "2012-03-09 09:30:00    0.274992\n",
       "2012-03-12 09:30:00    0.228913\n",
       "2012-03-13 09:30:00    1.352917\n",
       "2012-03-14 09:30:00    0.886429\n",
       "2012-03-15 09:30:00   -2.001637\n",
       "2012-03-16 09:30:00   -0.371843\n",
       "2012-03-19 09:30:00    1.669025\n",
       "2012-03-20 09:30:00   -0.438570\n",
       "Freq: B, dtype: float64"
      ]
     },
     "execution_count": 59,
     "metadata": {},
     "output_type": "execute_result"
    }
   ],
   "source": [
    "rng = pd.date_range('3/7/2012 9:30', periods=10, freq='B')\n",
    "ts = pd.Series(np.random.randn(len(rng)), index=rng)\n",
    "ts"
   ]
  },
  {
   "cell_type": "code",
   "execution_count": 62,
   "metadata": {
    "ExecuteTime": {
     "end_time": "2021-08-14T18:44:43.662843Z",
     "start_time": "2021-08-14T18:44:43.648880Z"
    }
   },
   "outputs": [
    {
     "data": {
      "text/plain": [
       "DatetimeIndex(['2012-03-07 09:30:00+00:00', '2012-03-08 09:30:00+00:00',\n",
       "               '2012-03-09 09:30:00+00:00', '2012-03-12 09:30:00+00:00',\n",
       "               '2012-03-13 09:30:00+00:00', '2012-03-14 09:30:00+00:00',\n",
       "               '2012-03-15 09:30:00+00:00'],\n",
       "              dtype='datetime64[ns, UTC]', freq=None)"
      ]
     },
     "execution_count": 62,
     "metadata": {},
     "output_type": "execute_result"
    }
   ],
   "source": [
    "ts1 = ts[:7].tz_localize('Europe/London')\n",
    "ts2 = ts1[2:].tz_convert('Europe/Moscow')\n",
    "result = ts1 + ts2\n",
    "result.index"
   ]
  }
 ],
 "metadata": {
  "kernelspec": {
   "display_name": "Python 3",
   "language": "python",
   "name": "python3"
  },
  "language_info": {
   "codemirror_mode": {
    "name": "ipython",
    "version": 3
   },
   "file_extension": ".py",
   "mimetype": "text/x-python",
   "name": "python",
   "nbconvert_exporter": "python",
   "pygments_lexer": "ipython3",
   "version": "3.7.10"
  },
  "latex_envs": {
   "LaTeX_envs_menu_present": true,
   "autoclose": false,
   "autocomplete": true,
   "bibliofile": "biblio.bib",
   "cite_by": "apalike",
   "current_citInitial": 1,
   "eqLabelWithNumbers": true,
   "eqNumInitial": 1,
   "hotkeys": {
    "equation": "Ctrl-E",
    "itemize": "Ctrl-I"
   },
   "labels_anchors": false,
   "latex_user_defs": false,
   "report_style_numbering": false,
   "user_envs_cfg": false
  },
  "toc": {
   "base_numbering": 1,
   "nav_menu": {},
   "number_sections": true,
   "sideBar": true,
   "skip_h1_title": false,
   "title_cell": "Table of Contents",
   "title_sidebar": "Contents",
   "toc_cell": false,
   "toc_position": {},
   "toc_section_display": true,
   "toc_window_display": false
  }
 },
 "nbformat": 4,
 "nbformat_minor": 1
}
